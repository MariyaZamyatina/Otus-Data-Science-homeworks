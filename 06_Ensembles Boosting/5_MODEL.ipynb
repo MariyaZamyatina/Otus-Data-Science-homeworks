{
 "cells": [
  {
   "cell_type": "markdown",
   "metadata": {},
   "source": [
    "## Home Credit Default Risk\n",
    "\n",
    "## PART 5: Подбор гиперпараметров\n",
    "\n",
    "В этом ноутбуке будет подбор гиперпараметров модели бустинга lightgbm. Я попробую воспользоваться библиотекой hyperopt и алгоритмом оптимизации Tree-Structured Parzen Estimators (TPE). Признаки возьму те, которые были подобраны в прошлом ноутбуке с Boruta. "
   ]
  },
  {
   "cell_type": "code",
   "execution_count": 147,
   "metadata": {},
   "outputs": [],
   "source": [
    "import numpy as np\n",
    "import pandas as pd\n",
    "import csv\n",
    "\n",
    "from cross_validation_module import *\n",
    "from submission_module import *\n",
    "\n",
    "import pickle\n",
    "from tqdm import tqdm_notebook\n",
    "import colorama \n",
    "from time import time\n",
    "import lightgbm as lgb\n",
    "import hyperopt\n",
    "from hyperopt import fmin, tpe, hp, STATUS_OK, Trials\n",
    "from sklearn.model_selection import train_test_split\n",
    "\n",
    "import seaborn as sns\n",
    "sns.set_style('whitegrid')\n",
    "from matplotlib import pyplot as plt\n",
    "%matplotlib inline\n",
    "\n",
    "import warnings\n",
    "warnings.filterwarnings('ignore')\n",
    "\n",
    "pd.set_option('display.max_rows', 500)\n",
    "pd.set_option('display.max_columns', 500)\n",
    "pd.set_option('display.max_info_columns', 250)"
   ]
  },
  {
   "cell_type": "code",
   "execution_count": 148,
   "metadata": {},
   "outputs": [
    {
     "data": {
      "text/plain": [
       "dict_keys(['column_id', 'column_target', 'columns_binary', 'columns_category', 'columns_float', 'columns_float_avg', 'columns_float_mode', 'columns_float_medi', 'columns_float_social_circle', 'new_features', 'columns_category_ohe', 'columns_float_log', 'columns_social_circle_log', 'boruta_110'])"
      ]
     },
     "execution_count": 148,
     "metadata": {},
     "output_type": "execute_result"
    }
   ],
   "source": [
    "with open('columns_vocab.pkl', 'rb') as f: \n",
    "    columns_vocab = pickle.load(f)\n",
    "    \n",
    "APPL_ID = 0\n",
    "columns_vocab[APPL_ID].keys()"
   ]
  },
  {
   "cell_type": "code",
   "execution_count": 149,
   "metadata": {},
   "outputs": [],
   "source": [
    "with open('df_application_train_upd.pkl', 'rb') as f: \n",
    "    df_application_train = pickle.load(f)\n",
    "    \n",
    "with open('df_application_test_upd.pkl', 'rb') as f: \n",
    "    df_application_test = pickle.load(f)\n",
    "#----------------------------------------------------#\n",
    "with open('df_train_log_features.pkl', 'rb') as f: \n",
    "    df_train_log_features = pickle.load(f)\n",
    "    \n",
    "with open('df_test_log_features.pkl', 'rb') as f: \n",
    "    df_test_log_features = pickle.load(f)\n",
    "#----------------------------------------------------#\n",
    "with open('df_train_new_features.pkl', 'rb') as f: \n",
    "    df_train_new_features = pickle.load(f)\n",
    "    \n",
    "with open('df_test_new_features.pkl', 'rb') as f: \n",
    "    df_test_new_features = pickle.load(f)"
   ]
  },
  {
   "cell_type": "code",
   "execution_count": 150,
   "metadata": {},
   "outputs": [
    {
     "name": "stdout",
     "output_type": "stream",
     "text": [
      "application train: (307511, 374)\n",
      "application test: (48744, 373)\n"
     ]
    }
   ],
   "source": [
    "df_application_train = pd.concat([df_application_train, df_train_log_features, df_train_new_features], axis=1)\n",
    "df_application_test = pd.concat([df_application_test, df_test_log_features, df_test_new_features], axis=1)\n",
    "\n",
    "print('application train:', df_application_train.shape)\n",
    "print('application test:', df_application_test.shape)"
   ]
  },
  {
   "cell_type": "code",
   "execution_count": 151,
   "metadata": {},
   "outputs": [],
   "source": [
    "column_id = columns_vocab[APPL_ID]['column_id']\n",
    "column_target = columns_vocab[APPL_ID]['column_target']\n",
    "columns = columns_vocab[APPL_ID]['boruta_110']"
   ]
  },
  {
   "cell_type": "code",
   "execution_count": 152,
   "metadata": {},
   "outputs": [],
   "source": [
    "X_train, X_holdout, y_train, y_holdout = train_test_split(df_application_train[columns], \n",
    "                                                          df_application_train[column_target].values, \n",
    "                                                          shuffle=True, \n",
    "                                                          stratify=df_application_train[column_target].values, \n",
    "                                                          test_size=0.2, \n",
    "                                                          random_state=42)\n",
    "\n",
    "dtrain = lgb.Dataset(X_train, label=y_train)"
   ]
  },
  {
   "cell_type": "code",
   "execution_count": 153,
   "metadata": {},
   "outputs": [],
   "source": [
    "ITERATION = 0\n",
    "current_best_score = 0.0\n",
    "\n",
    "N_FOLDS = 5\n",
    "NUM_ROUNDS = 200\n",
    "EARLY_STOPPING_ROUNDS = 10\n",
    "\n",
    "N_HYPEROPT_PROBES = 400\n",
    "HYPEROPT_ALGO = tpe.suggest  \n",
    "\n",
    "out_file = 'lgbm_trials.csv'\n",
    "\n",
    "def get_params(space):\n",
    "    px = dict()\n",
    "\n",
    "    # Core parameters\n",
    "    #px['boosting_type']='gbdt'\n",
    "    px['objective'] ='binary'\n",
    "    px['learning_rate'] = space['learning_rate']\n",
    "    px['num_leaves'] = int(space['num_leaves'])\n",
    "    px['num_threads'] = 4\n",
    "    px['seed'] = 0\n",
    "    \n",
    "    # Learning Control Parameters\n",
    "    px['max_depth'] = int(space['max_depth'])\n",
    "    px['min_data_in_leaf'] = int(space['min_data_in_leaf'])\n",
    "    px['bagging_fraction'] = space['bagging_fraction']\n",
    "    px['bagging_freq'] = 5\n",
    "    px['feature_fraction'] = space['feature_fraction']\n",
    "    px['lambda_l1'] = space['lambda_l1'],\n",
    "    px['lambda_l2'] = space['lambda_l2'],\n",
    "        \n",
    "    # Objective Parameters\n",
    "    px['scale_pos_weight'] = 11\n",
    "    \n",
    "    # Metric Parameters\n",
    "    px['metric'] = 'auc'\n",
    "\n",
    "    return px"
   ]
  },
  {
   "cell_type": "code",
   "execution_count": 154,
   "metadata": {},
   "outputs": [],
   "source": [
    "def objective(space):\n",
    "    global ITERATION, current_best_score, dtrain, X_train, y_train, X_holdout, y_holdout\n",
    "\n",
    "    ITERATION += 1\n",
    "    print('\\nLightGBM ITERATION #{} current_best_score={:7.5f}'.format(ITERATION, current_best_score) )\n",
    "\n",
    "    lgb_params = get_params(space)\n",
    "    print('Params: ', lgb_params)\n",
    "    \n",
    "    start_time = time()\n",
    "    cv_results = lgb.cv(params = lgb_params, \n",
    "                       train_set = dtrain, \n",
    "                       num_boost_round = NUM_ROUNDS, \n",
    "                       nfold = N_FOLDS, \n",
    "                       stratified=True, \n",
    "                       shuffle=True, \n",
    "                       early_stopping_rounds = EARLY_STOPPING_ROUNDS, \n",
    "                       verbose_eval = False, \n",
    "                       show_stdv = False, \n",
    "                       seed = 0, \n",
    "                       )\n",
    "    \n",
    "    cv_score = np.max(cv_results['auc-mean'])\n",
    "    n_estimators = int(np.argmax(cv_results['auc-mean']) + 1)\n",
    "    \n",
    "    print('CV finished: n_estimators={}, cv_score={:7.6f}'.format(n_estimators, cv_score))\n",
    "    \n",
    "    model = lgb.train(lgb_params,\n",
    "                      dtrain,\n",
    "                      num_boost_round=n_estimators,\n",
    "                      verbose_eval=False)\n",
    "    \n",
    "    preds = model.predict(X_holdout, num_iteration=n_estimators)\n",
    "    holdout_score = roc_auc_score(y_holdout, preds)\n",
    "    print('holdout_score={}'.format(holdout_score))\n",
    "    \n",
    "    run_rime = (time() - start_time)/60\n",
    "    \n",
    "    if holdout_score > current_best_score:\n",
    "        current_best_score = holdout_score\n",
    "        print(colorama.Fore.GREEN + 'NEW BEST SCORE={}'.format(current_best_score) + colorama.Fore.RESET)\n",
    "    \n",
    "    # Loss must be minimized\n",
    "    loss = 1 - holdout_score\n",
    "    \n",
    "    with open(out_file, 'a') as f: \n",
    "        writer = csv.writer(f)\n",
    "        writer.writerow([cv_score, holdout_score, lgb_params, ITERATION, n_estimators, run_rime])\n",
    "    \n",
    "    return {'loss': loss, 'params': lgb_params, 'status': STATUS_OK}"
   ]
  },
  {
   "cell_type": "code",
   "execution_count": 155,
   "metadata": {},
   "outputs": [],
   "source": [
    "space ={\n",
    "        'max_depth': hp.quniform(\"max_depth\", 3, 10, 1),\n",
    "        'learning_rate': hp.loguniform('learning_rate', np.log(0.005), np.log(0.2)),\n",
    "        'num_leaves': hp.quniform('num_leaves', 20, 128, 1),\n",
    "        'min_data_in_leaf':  hp.quniform ('min_data_in_leaf', 20, 100, 1),\n",
    "        'bagging_fraction': hp.uniform('bagging_fraction', 0.7, 1.0),\n",
    "        'feature_fraction': hp.uniform('feature_fraction', 0.75, 1.0),\n",
    "        'lambda_l1': hp.uniform('lambda_l1', 0.0, 1.0),\n",
    "        'lambda_l2': hp.uniform('lambda_l2', 0.0, 1.0),\n",
    "        'min_split_gain': hp.uniform('min_split_gain', 0, 0.03)\n",
    "       }"
   ]
  },
  {
   "cell_type": "markdown",
   "metadata": {},
   "source": [
    "В этот файл будут записываться результаты подбора параметров по мере окончания итераций, чтобы можно было посмотреть хоть какие-нибудь результаты, если что-то пойдет не так. "
   ]
  },
  {
   "cell_type": "code",
   "execution_count": null,
   "metadata": {},
   "outputs": [],
   "source": [
    "# with open(out_file, 'w') as f:\n",
    "#     writer = csv.writer(f))\n",
    "#     writer.writerow(['cv_score', 'holdout_score', 'params', 'iteration', 'estimators', 'time']"
   ]
  },
  {
   "cell_type": "markdown",
   "metadata": {},
   "source": [
    "Здесь были долгие вычисления (ячейку очистила):"
   ]
  },
  {
   "cell_type": "code",
   "execution_count": null,
   "metadata": {
    "scrolled": true
   },
   "outputs": [],
   "source": [
    "%%time\n",
    "trials = Trials()\n",
    "best = hyperopt.fmin(fn=objective,\n",
    "                     space=space,\n",
    "                     algo = HYPEROPT_ALGO,\n",
    "                     max_evals=N_HYPEROPT_PROBES,\n",
    "                     trials=trials,\n",
    "                     verbose=1)"
   ]
  },
  {
   "cell_type": "code",
   "execution_count": 156,
   "metadata": {},
   "outputs": [
    {
     "data": {
      "text/html": [
       "<div>\n",
       "<style scoped>\n",
       "    .dataframe tbody tr th:only-of-type {\n",
       "        vertical-align: middle;\n",
       "    }\n",
       "\n",
       "    .dataframe tbody tr th {\n",
       "        vertical-align: top;\n",
       "    }\n",
       "\n",
       "    .dataframe thead th {\n",
       "        text-align: right;\n",
       "    }\n",
       "</style>\n",
       "<table border=\"1\" class=\"dataframe\">\n",
       "  <thead>\n",
       "    <tr style=\"text-align: right;\">\n",
       "      <th></th>\n",
       "      <th>cv_score</th>\n",
       "      <th>holdout_score</th>\n",
       "      <th>params</th>\n",
       "      <th>iteration</th>\n",
       "      <th>estimators</th>\n",
       "      <th>time</th>\n",
       "    </tr>\n",
       "  </thead>\n",
       "  <tbody>\n",
       "    <tr>\n",
       "      <th>0</th>\n",
       "      <td>0.755218</td>\n",
       "      <td>0.760220</td>\n",
       "      <td>{'objective': 'binary', 'learning_rate': 0.037...</td>\n",
       "      <td>363</td>\n",
       "      <td>200</td>\n",
       "      <td>2.413047</td>\n",
       "    </tr>\n",
       "    <tr>\n",
       "      <th>1</th>\n",
       "      <td>0.754230</td>\n",
       "      <td>0.760124</td>\n",
       "      <td>{'objective': 'binary', 'learning_rate': 0.040...</td>\n",
       "      <td>374</td>\n",
       "      <td>178</td>\n",
       "      <td>2.358654</td>\n",
       "    </tr>\n",
       "    <tr>\n",
       "      <th>2</th>\n",
       "      <td>0.754921</td>\n",
       "      <td>0.759999</td>\n",
       "      <td>{'objective': 'binary', 'learning_rate': 0.034...</td>\n",
       "      <td>388</td>\n",
       "      <td>200</td>\n",
       "      <td>2.427199</td>\n",
       "    </tr>\n",
       "    <tr>\n",
       "      <th>3</th>\n",
       "      <td>0.755111</td>\n",
       "      <td>0.759925</td>\n",
       "      <td>{'objective': 'binary', 'learning_rate': 0.033...</td>\n",
       "      <td>390</td>\n",
       "      <td>200</td>\n",
       "      <td>2.461243</td>\n",
       "    </tr>\n",
       "    <tr>\n",
       "      <th>4</th>\n",
       "      <td>0.754766</td>\n",
       "      <td>0.759914</td>\n",
       "      <td>{'objective': 'binary', 'learning_rate': 0.038...</td>\n",
       "      <td>400</td>\n",
       "      <td>198</td>\n",
       "      <td>2.191405</td>\n",
       "    </tr>\n",
       "  </tbody>\n",
       "</table>\n",
       "</div>"
      ],
      "text/plain": [
       "   cv_score  holdout_score                                             params  \\\n",
       "0  0.755218       0.760220  {'objective': 'binary', 'learning_rate': 0.037...   \n",
       "1  0.754230       0.760124  {'objective': 'binary', 'learning_rate': 0.040...   \n",
       "2  0.754921       0.759999  {'objective': 'binary', 'learning_rate': 0.034...   \n",
       "3  0.755111       0.759925  {'objective': 'binary', 'learning_rate': 0.033...   \n",
       "4  0.754766       0.759914  {'objective': 'binary', 'learning_rate': 0.038...   \n",
       "\n",
       "   iteration  estimators      time  \n",
       "0        363         200  2.413047  \n",
       "1        374         178  2.358654  \n",
       "2        388         200  2.427199  \n",
       "3        390         200  2.461243  \n",
       "4        400         198  2.191405  "
      ]
     },
     "execution_count": 156,
     "metadata": {},
     "output_type": "execute_result"
    }
   ],
   "source": [
    "results = pd.read_csv(out_file)\n",
    "\n",
    "results.sort_values('holdout_score', ascending = False, inplace = True)\n",
    "results.reset_index(inplace=True, drop=True)\n",
    "results.head()"
   ]
  },
  {
   "cell_type": "markdown",
   "metadata": {},
   "source": [
    "Посмотрим, как менялся ROC-AUC на каждой итерации. Он должен расти, поскольку алгоритм подбора параметров адаптивный и использует информацию с предыдущих итераций."
   ]
  },
  {
   "cell_type": "code",
   "execution_count": 157,
   "metadata": {},
   "outputs": [
    {
     "data": {
      "image/png": "[encoded data removed]",
      "text/plain": [
       "<Figure size 576x576 with 1 Axes>"
      ]
     },
     "metadata": {
      "needs_background": "light"
     },
     "output_type": "display_data"
    }
   ],
   "source": [
    "sns.lmplot('iteration', 'holdout_score', data = results, size = 8);"
   ]
  },
  {
   "cell_type": "markdown",
   "metadata": {},
   "source": [
    "Лучшие параметры: "
   ]
  },
  {
   "cell_type": "code",
   "execution_count": 158,
   "metadata": {},
   "outputs": [
    {
     "data": {
      "text/plain": [
       "{'objective': 'binary',\n",
       " 'learning_rate': 0.037760618278259224,\n",
       " 'num_leaves': 52,\n",
       " 'num_threads': 4,\n",
       " 'seed': 0,\n",
       " 'max_depth': 9,\n",
       " 'min_data_in_leaf': 89,\n",
       " 'bagging_fraction': 0.8057957690608358,\n",
       " 'bagging_freq': 5,\n",
       " 'feature_fraction': 0.9661173606302474,\n",
       " 'lambda_l1': 0.9390325824715245,\n",
       " 'lambda_l2': 0.026451288409226184,\n",
       " 'scale_pos_weight': 11,\n",
       " 'metric': 'auc'}"
      ]
     },
     "execution_count": 158,
     "metadata": {},
     "output_type": "execute_result"
    }
   ],
   "source": [
    "import ast\n",
    "\n",
    "# Convert from a string to a dictionary\n",
    "best_params = ast.literal_eval(results.loc[0, 'params'])\n",
    "# fix little error\n",
    "best_params['lambda_l1'] = best_params['lambda_l1'][0]\n",
    "best_params['lambda_l2'] = best_params['lambda_l2'][0]\n",
    "best_params"
   ]
  },
  {
   "cell_type": "markdown",
   "metadata": {},
   "source": [
    "Проверим результат подбора на той кросс-валидации, которую использовали в предыдущих ноутбуках:"
   ]
  },
  {
   "cell_type": "code",
   "execution_count": 159,
   "metadata": {},
   "outputs": [],
   "source": [
    "folds = get_cv_folds(df_application_train, column_target, n_splits=5)"
   ]
  },
  {
   "cell_type": "code",
   "execution_count": 162,
   "metadata": {
    "scrolled": true
   },
   "outputs": [
    {
     "name": "stdout",
     "output_type": "stream",
     "text": [
      "mean train score: 0.8210276651909446\n",
      "mean valid score: 0.7555668743975794\n",
      "CPU times: user 10min 38s, sys: 7.9 s, total: 10min 45s\n",
      "Wall time: 3min 33s\n"
     ]
    }
   ],
   "source": [
    "%%time\n",
    "train_roc_auc, valid_roc_auc = cross_validation_lightgbm(df_application_train, columns, column_target, folds, \\\n",
    "                                    params=best_params, num_rounds=200, metric=roc_auc_score, \n",
    "                                    early_stopping_rounds=None, verbose_eval=False)\n",
    "\n",
    "print('mean train score:', np.mean(train_roc_auc))\n",
    "print('mean valid score:', np.mean(valid_roc_auc))"
   ]
  },
  {
   "cell_type": "markdown",
   "metadata": {},
   "source": [
    "С параметрами по умолчанию результаты были следующие: train score = 0.80687, test score = 0.75390. Таким образом, получилось улучшить модель. Кроме того, я проверила, что после примерно 400 итераций бустинга (параметр num_rounds) модель начинает переобучаться. Подберем количество деревьем в узком диапазоне от 200 до 400 деревьев. "
   ]
  },
  {
   "cell_type": "code",
   "execution_count": null,
   "metadata": {
    "scrolled": true
   },
   "outputs": [],
   "source": [
    "train_scores = []\n",
    "valid_scores = []\n",
    "n_estimators = np.arange(200, 440, step=20)\n",
    "\n",
    "for num_rounds in tqdm_notebook(n_estimators):\n",
    "    train_roc_auc, valid_roc_auc = cross_validation_lightgbm(df_application_train, columns, column_target, folds, \\\n",
    "                                    params=best_params, num_rounds=num_rounds, metric=roc_auc_score, \n",
    "                                    early_stopping_rounds=None, verbose_eval=False)\n",
    "    \n",
    "    mean_train_score = np.mean(train_roc_auc)\n",
    "    mean_valid_score = np.mean(valid_roc_auc)\n",
    "    \n",
    "    train_scores.append(mean_train_score)\n",
    "    valid_scores.append(mean_valid_score)\n",
    "    \n",
    "    print('n_estimators:', num_rounds)\n",
    "    print('train score:', mean_train_score)\n",
    "    print('valid score:', mean_valid_score)\n",
    "    print('-----------------------------------------------------------')"
   ]
  },
  {
   "cell_type": "code",
   "execution_count": 163,
   "metadata": {},
   "outputs": [
    {
     "data": {
      "image/png": "[encoded data removed]",
      "text/plain": [
       "<Figure size 720x720 with 2 Axes>"
      ]
     },
     "metadata": {
      "needs_background": "light"
     },
     "output_type": "display_data"
    }
   ],
   "source": [
    "fig, axes = plt.subplots(nrows=2, figsize=(10, 10))\n",
    "axes[0].plot(n_estimators, train_scores)\n",
    "axes[1].plot(n_estimators, valid_scores)\n",
    "\n",
    "axes[0].set_title('TRAIN')\n",
    "axes[1].set_title('TEST')\n",
    "axes[0].set_xlabel('n_estimators')\n",
    "axes[1].set_xlabel('n_estimators')\n",
    "axes[0].set_ylabel('ROC-AUC')\n",
    "axes[1].set_ylabel('ROC-AUC')\n",
    "plt.show()"
   ]
  },
  {
   "cell_type": "code",
   "execution_count": null,
   "metadata": {},
   "outputs": [],
   "source": [
    "# boruta, rank <= 110\n",
    "# local train score = 0.8342454641982247\n",
    "# local test score = 0.7557594422303531\n",
    "\n",
    "# private score = 0.74480\n",
    "# public score = 0.74397\n",
    "predict_submission_lightgbm(df_application_train, df_application_test, \n",
    "                            columns, column_target, best_params, 260, \n",
    "                            'boruta110_tuned_lgbm', '260est')"
   ]
  },
  {
   "cell_type": "markdown",
   "metadata": {},
   "source": [
    "Итоговый результат на kaggle: public **0.74397**, private **0.74480**. Это лучший из всех моих сабмитов и на публичной таблице, и на приватной. Таким образом это пока все, что я смогла выжать из данных **application_{train|test}.csv**. Если бы я участвовала в этом соревновании, то я бы остановилась на этом наборе признаков и продолжила бы смотреть другие файлы с данными. \n",
    "\n",
    "<img src='kaggle.png' />"
   ]
  }
 ],
 "metadata": {
  "kernelspec": {
   "display_name": "Python 3",
   "language": "python",
   "name": "python3"
  },
  "language_info": {
   "codemirror_mode": {
    "name": "ipython",
    "version": 3
   },
   "file_extension": ".py",
   "mimetype": "text/x-python",
   "name": "python",
   "nbconvert_exporter": "python",
   "pygments_lexer": "ipython3",
   "version": "3.6.3"
  },
  "varInspector": {
   "cols": {
    "lenName": 16,
    "lenType": 16,
    "lenVar": 40
   },
   "kernels_config": {
    "python": {
     "delete_cmd_postfix": "",
     "delete_cmd_prefix": "del ",
     "library": "var_list.py",
     "varRefreshCmd": "print(var_dic_list())"
    },
    "r": {
     "delete_cmd_postfix": ") ",
     "delete_cmd_prefix": "rm(",
     "library": "var_list.r",
     "varRefreshCmd": "cat(var_dic_list()) "
    }
   },
   "types_to_exclude": [
    "module",
    "function",
    "builtin_function_or_method",
    "instance",
    "_Feature"
   ],
   "window_display": false
  }
 },
 "nbformat": 4,
 "nbformat_minor": 2
}
