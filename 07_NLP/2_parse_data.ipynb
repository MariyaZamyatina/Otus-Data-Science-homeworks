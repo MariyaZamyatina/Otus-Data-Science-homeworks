{
 "cells": [
  {
   "cell_type": "markdown",
   "metadata": {},
   "source": [
    "## Часть 2: обработка и объединение данных\n",
    "\n",
    "В этом ноутбуке парсинг собранных на предыдущем шаге данных и их объединение в одну таблицу."
   ]
  },
  {
   "cell_type": "code",
   "execution_count": 1,
   "metadata": {},
   "outputs": [],
   "source": [
    "from vk_storage import VKStorage\n",
    "from vk_parser import VKParser\n",
    "import pandas as pd\n",
    "import pickle\n",
    "pd.set_option('display.max_columns', 500)\n",
    "\n",
    "import logging\n",
    "logging.basicConfig(format='%(asctime)s - %(name)s - %(levelname)s - %(message)s', level=logging.INFO)"
   ]
  },
  {
   "cell_type": "code",
   "execution_count": 28,
   "metadata": {},
   "outputs": [],
   "source": [
    "folders = ['data_1974-1978', 'data_1979-1983', 'data_1984-1985', 'data_1986-1988', \n",
    "           'data_1989-1993', 'data_1994-1998', 'data_1999-2003', 'data_2004-2006']\n",
    "\n",
    "new_folders = ['data_2004-2005_additional']"
   ]
  },
  {
   "cell_type": "markdown",
   "metadata": {},
   "source": [
    "Парсинг данных после основного цикла сбора:"
   ]
  },
  {
   "cell_type": "code",
   "execution_count": 4,
   "metadata": {
    "scrolled": true
   },
   "outputs": [
    {
     "name": "stderr",
     "output_type": "stream",
     "text": [
      "2018-12-29 19:13:18,856 - vk_parser - INFO - users_id, shape (4570, 3)\n",
      "2018-12-29 19:13:18,857 - vk_parser - INFO - Transformed data users_id saved to the df_data_1974-1978/users_id.pkl file\n",
      "2018-12-29 19:13:26,374 - vk_parser - INFO - users_age, shape (4570, 2)\n",
      "2018-12-29 19:13:26,375 - vk_parser - INFO - Transformed data users_age saved to the df_data_1974-1978/users_age.pkl file\n",
      "2018-12-29 19:14:44,706 - vk_parser - INFO - users_info, shape (4570, 37)\n",
      "2018-12-29 19:14:44,707 - vk_parser - INFO - Transformed data users_info saved to the df_data_1974-1978/users_info.pkl file\n",
      "2018-12-29 19:16:06,179 - vk_parser - INFO - users_posts, shape (4229, 2)\n",
      "2018-12-29 19:16:06,180 - vk_parser - INFO - Transformed data users_posts saved to the df_data_1974-1978/users_posts.pkl file\n",
      "2018-12-29 19:16:06,507 - vk_parser - INFO - Saved full data to the df_data_1974-1978/raw_data.pkl file\n"
     ]
    },
    {
     "name": "stdout",
     "output_type": "stream",
     "text": [
      "----------------------------------------------------------------------------------------------------\n"
     ]
    },
    {
     "name": "stderr",
     "output_type": "stream",
     "text": [
      "2018-12-29 19:16:21,879 - vk_parser - INFO - users_id, shape (4565, 3)\n",
      "2018-12-29 19:16:21,880 - vk_parser - INFO - Transformed data users_id saved to the df_data_1979-1983/users_id.pkl file\n",
      "2018-12-29 19:16:28,973 - vk_parser - INFO - users_age, shape (4565, 2)\n",
      "2018-12-29 19:16:28,974 - vk_parser - INFO - Transformed data users_age saved to the df_data_1979-1983/users_age.pkl file\n",
      "2018-12-29 19:17:35,650 - vk_parser - INFO - users_info, shape (4565, 37)\n",
      "2018-12-29 19:17:35,651 - vk_parser - INFO - Transformed data users_info saved to the df_data_1979-1983/users_info.pkl file\n",
      "2018-12-29 19:17:50,897 - vk_parser - INFO - users_posts, shape (4210, 2)\n",
      "2018-12-29 19:17:50,898 - vk_parser - INFO - Transformed data users_posts saved to the df_data_1979-1983/users_posts.pkl file\n",
      "2018-12-29 19:17:51,079 - vk_parser - INFO - Saved full data to the df_data_1979-1983/raw_data.pkl file\n"
     ]
    },
    {
     "name": "stdout",
     "output_type": "stream",
     "text": [
      "----------------------------------------------------------------------------------------------------\n"
     ]
    },
    {
     "name": "stderr",
     "output_type": "stream",
     "text": [
      "2018-12-29 19:17:56,983 - vk_parser - INFO - users_id, shape (1810, 3)\n",
      "2018-12-29 19:17:56,984 - vk_parser - INFO - Transformed data users_id saved to the df_data_1984-1985/users_id.pkl file\n",
      "2018-12-29 19:17:59,650 - vk_parser - INFO - users_age, shape (1810, 2)\n",
      "2018-12-29 19:17:59,651 - vk_parser - INFO - Transformed data users_age saved to the df_data_1984-1985/users_age.pkl file\n",
      "2018-12-29 19:18:20,180 - vk_parser - INFO - users_info, shape (1810, 37)\n",
      "2018-12-29 19:18:20,181 - vk_parser - INFO - Transformed data users_info saved to the df_data_1984-1985/users_info.pkl file\n",
      "2018-12-29 19:18:27,562 - vk_parser - INFO - users_posts, shape (1684, 2)\n",
      "2018-12-29 19:18:27,563 - vk_parser - INFO - Transformed data users_posts saved to the df_data_1984-1985/users_posts.pkl file\n",
      "2018-12-29 19:18:27,646 - vk_parser - INFO - Saved full data to the df_data_1984-1985/raw_data.pkl file\n"
     ]
    },
    {
     "name": "stdout",
     "output_type": "stream",
     "text": [
      "----------------------------------------------------------------------------------------------------\n"
     ]
    },
    {
     "name": "stderr",
     "output_type": "stream",
     "text": [
      "2018-12-29 19:18:36,119 - vk_parser - INFO - users_id, shape (2716, 3)\n",
      "2018-12-29 19:18:36,120 - vk_parser - INFO - Transformed data users_id saved to the df_data_1986-1988/users_id.pkl file\n",
      "2018-12-29 19:18:40,098 - vk_parser - INFO - users_age, shape (2716, 2)\n",
      "2018-12-29 19:18:40,098 - vk_parser - INFO - Transformed data users_age saved to the df_data_1986-1988/users_age.pkl file\n",
      "2018-12-29 19:19:12,335 - vk_parser - INFO - users_info, shape (2716, 37)\n",
      "2018-12-29 19:19:12,336 - vk_parser - INFO - Transformed data users_info saved to the df_data_1986-1988/users_info.pkl file\n",
      "2018-12-29 19:19:20,381 - vk_parser - INFO - users_posts, shape (2521, 2)\n",
      "2018-12-29 19:19:20,382 - vk_parser - INFO - Transformed data users_posts saved to the df_data_1986-1988/users_posts.pkl file\n",
      "2018-12-29 19:19:20,487 - vk_parser - INFO - Saved full data to the df_data_1986-1988/raw_data.pkl file\n"
     ]
    },
    {
     "name": "stdout",
     "output_type": "stream",
     "text": [
      "----------------------------------------------------------------------------------------------------\n"
     ]
    },
    {
     "name": "stderr",
     "output_type": "stream",
     "text": [
      "2018-12-29 19:19:35,171 - vk_parser - INFO - users_id, shape (4554, 3)\n",
      "2018-12-29 19:19:35,172 - vk_parser - INFO - Transformed data users_id saved to the df_data_1989-1993/users_id.pkl file\n",
      "2018-12-29 19:19:42,515 - vk_parser - INFO - users_age, shape (4554, 2)\n",
      "2018-12-29 19:19:42,515 - vk_parser - INFO - Transformed data users_age saved to the df_data_1989-1993/users_age.pkl file\n",
      "2018-12-29 19:20:57,028 - vk_parser - INFO - users_info, shape (4554, 37)\n",
      "2018-12-29 19:20:57,028 - vk_parser - INFO - Transformed data users_info saved to the df_data_1989-1993/users_info.pkl file\n",
      "2018-12-29 19:21:09,894 - vk_parser - INFO - users_posts, shape (4128, 2)\n",
      "2018-12-29 19:21:09,895 - vk_parser - INFO - Transformed data users_posts saved to the df_data_1989-1993/users_posts.pkl file\n",
      "2018-12-29 19:21:10,156 - vk_parser - INFO - Saved full data to the df_data_1989-1993/raw_data.pkl file\n"
     ]
    },
    {
     "name": "stdout",
     "output_type": "stream",
     "text": [
      "----------------------------------------------------------------------------------------------------\n"
     ]
    },
    {
     "name": "stderr",
     "output_type": "stream",
     "text": [
      "2018-12-29 19:21:33,041 - vk_parser - INFO - users_id, shape (4633, 3)\n",
      "2018-12-29 19:21:33,042 - vk_parser - INFO - Transformed data users_id saved to the df_data_1994-1998/users_id.pkl file\n",
      "2018-12-29 19:21:40,517 - vk_parser - INFO - users_age, shape (4633, 2)\n",
      "2018-12-29 19:21:40,518 - vk_parser - INFO - Transformed data users_age saved to the df_data_1994-1998/users_age.pkl file\n",
      "2018-12-29 19:22:51,597 - vk_parser - INFO - users_info, shape (4633, 37)\n",
      "2018-12-29 19:22:51,597 - vk_parser - INFO - Transformed data users_info saved to the df_data_1994-1998/users_info.pkl file\n",
      "2018-12-29 19:23:06,598 - vk_parser - INFO - users_posts, shape (4015, 2)\n",
      "2018-12-29 19:23:06,603 - vk_parser - INFO - Transformed data users_posts saved to the df_data_1994-1998/users_posts.pkl file\n",
      "2018-12-29 19:23:06,808 - vk_parser - INFO - Saved full data to the df_data_1994-1998/raw_data.pkl file\n"
     ]
    },
    {
     "name": "stdout",
     "output_type": "stream",
     "text": [
      "----------------------------------------------------------------------------------------------------\n"
     ]
    },
    {
     "name": "stderr",
     "output_type": "stream",
     "text": [
      "2018-12-29 19:23:33,252 - vk_parser - INFO - users_id, shape (4629, 3)\n",
      "2018-12-29 19:23:33,253 - vk_parser - INFO - Transformed data users_id saved to the df_data_1999-2003/users_id.pkl file\n",
      "2018-12-29 19:23:41,878 - vk_parser - INFO - users_age, shape (4629, 2)\n",
      "2018-12-29 19:23:41,878 - vk_parser - INFO - Transformed data users_age saved to the df_data_1999-2003/users_age.pkl file\n",
      "2018-12-29 19:25:10,371 - vk_parser - INFO - users_info, shape (4629, 37)\n",
      "2018-12-29 19:25:10,372 - vk_parser - INFO - Transformed data users_info saved to the df_data_1999-2003/users_info.pkl file\n",
      "2018-12-29 19:25:21,086 - vk_parser - INFO - users_posts, shape (3651, 2)\n",
      "2018-12-29 19:25:21,088 - vk_parser - INFO - Transformed data users_posts saved to the df_data_1999-2003/users_posts.pkl file\n",
      "2018-12-29 19:25:21,169 - vk_parser - INFO - Saved full data to the df_data_1999-2003/raw_data.pkl file\n"
     ]
    },
    {
     "name": "stdout",
     "output_type": "stream",
     "text": [
      "----------------------------------------------------------------------------------------------------\n"
     ]
    },
    {
     "name": "stderr",
     "output_type": "stream",
     "text": [
      "2018-12-29 19:25:29,457 - vk_parser - INFO - users_id, shape (1834, 3)\n",
      "2018-12-29 19:25:29,459 - vk_parser - INFO - Transformed data users_id saved to the df_data_2004-2006/users_id.pkl file\n",
      "2018-12-29 19:25:32,767 - vk_parser - INFO - users_age, shape (1834, 2)\n",
      "2018-12-29 19:25:32,768 - vk_parser - INFO - Transformed data users_age saved to the df_data_2004-2006/users_age.pkl file\n",
      "2018-12-29 19:26:04,557 - vk_parser - INFO - users_info, shape (1834, 37)\n",
      "2018-12-29 19:26:04,558 - vk_parser - INFO - Transformed data users_info saved to the df_data_2004-2006/users_info.pkl file\n",
      "2018-12-29 19:26:07,851 - vk_parser - INFO - users_posts, shape (1165, 2)\n",
      "2018-12-29 19:26:07,853 - vk_parser - INFO - Transformed data users_posts saved to the df_data_2004-2006/users_posts.pkl file\n",
      "2018-12-29 19:26:07,940 - vk_parser - INFO - Saved full data to the df_data_2004-2006/raw_data.pkl file\n"
     ]
    },
    {
     "name": "stdout",
     "output_type": "stream",
     "text": [
      "----------------------------------------------------------------------------------------------------\n",
      "CPU times: user 11min 43s, sys: 6.9 s, total: 11min 50s\n",
      "Wall time: 13min 7s\n"
     ]
    }
   ],
   "source": [
    "%%time\n",
    "df = pd.DataFrame()\n",
    "\n",
    "for folder in folders: \n",
    "    parser = VKParser(VKStorage(folder))\n",
    "    parser.start()\n",
    "    \n",
    "    with open('df_{}/raw_data.pkl'.format(folder), 'rb') as f:\n",
    "        df_part = pickle.load(f)\n",
    "        df = pd.concat([df, df_part], axis=0)\n",
    "        \n",
    "    print('-'*100)"
   ]
  },
  {
   "cell_type": "code",
   "execution_count": 5,
   "metadata": {},
   "outputs": [
    {
     "data": {
      "text/plain": [
       "(29311, 41)"
      ]
     },
     "execution_count": 5,
     "metadata": {},
     "output_type": "execute_result"
    }
   ],
   "source": [
    "df.shape"
   ]
  },
  {
   "cell_type": "markdown",
   "metadata": {},
   "source": [
    "В целом получилось собрать почти по 1000 пользователей на каждый возраст, кроме 12 и 13 летних. У них реже что-то бывает на стене. "
   ]
  },
  {
   "cell_type": "code",
   "execution_count": 4,
   "metadata": {},
   "outputs": [
    {
     "data": {
      "text/plain": [
       "20    943\n",
       "17    937\n",
       "21    932\n",
       "19    930\n",
       "28    929\n",
       "44    927\n",
       "25    925\n",
       "32    924\n",
       "39    923\n",
       "24    922\n",
       "16    922\n",
       "15    920\n",
       "18    920\n",
       "23    918\n",
       "22    918\n",
       "43    916\n",
       "37    916\n",
       "34    914\n",
       "36    914\n",
       "41    912\n",
       "40    910\n",
       "35    909\n",
       "42    905\n",
       "14    904\n",
       "27    903\n",
       "38    903\n",
       "29    900\n",
       "31    898\n",
       "26    897\n",
       "33    896\n",
       "30    894\n",
       "13    748\n",
       "12    182\n",
       "Name: age, dtype: int64"
      ]
     },
     "execution_count": 4,
     "metadata": {},
     "output_type": "execute_result"
    }
   ],
   "source": [
    "df['age'].value_counts()"
   ]
  },
  {
   "cell_type": "code",
   "execution_count": 9,
   "metadata": {},
   "outputs": [],
   "source": [
    "with open('data.pkl', 'wb') as f: \n",
    "    pickle.dump(df, f)"
   ]
  }
 ],
 "metadata": {
  "kernelspec": {
   "display_name": "Python 3",
   "language": "python",
   "name": "python3"
  },
  "language_info": {
   "codemirror_mode": {
    "name": "ipython",
    "version": 3
   },
   "file_extension": ".py",
   "mimetype": "text/x-python",
   "name": "python",
   "nbconvert_exporter": "python",
   "pygments_lexer": "ipython3",
   "version": "3.6.7"
  },
  "varInspector": {
   "cols": {
    "lenName": 16,
    "lenType": 16,
    "lenVar": 40
   },
   "kernels_config": {
    "python": {
     "delete_cmd_postfix": "",
     "delete_cmd_prefix": "del ",
     "library": "var_list.py",
     "varRefreshCmd": "print(var_dic_list())"
    },
    "r": {
     "delete_cmd_postfix": ") ",
     "delete_cmd_prefix": "rm(",
     "library": "var_list.r",
     "varRefreshCmd": "cat(var_dic_list()) "
    }
   },
   "types_to_exclude": [
    "module",
    "function",
    "builtin_function_or_method",
    "instance",
    "_Feature"
   ],
   "window_display": false
  }
 },
 "nbformat": 4,
 "nbformat_minor": 2
}
