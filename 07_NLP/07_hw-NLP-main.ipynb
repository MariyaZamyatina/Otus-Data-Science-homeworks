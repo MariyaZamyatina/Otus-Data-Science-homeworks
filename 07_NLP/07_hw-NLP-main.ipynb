{
 "cells": [
  {
   "cell_type": "markdown",
   "metadata": {
    "_uuid": "87fd1f50ce3f9d4f2d0db6ab6807162276029b7b"
   },
   "source": [
    "## Часть 3: модель\n",
    "\n",
    "Используя собранные и распарсенные данные из vk.com будем пытаться предсказать возрастную категорию пользователей: \n",
    "до 18 лет, от 18 до 24, от 25 до 34, от 35 до 44. "
   ]
  },
  {
   "cell_type": "code",
   "execution_count": 1,
   "metadata": {
    "_uuid": "d04ffaed990fbeb1313cb06ea04277fa5f62c49b"
   },
   "outputs": [],
   "source": [
    "import pandas as pd\n",
    "import numpy as np\n",
    "import re\n",
    "import regex\n",
    "\n",
    "import itertools\n",
    "from sklearn.naive_bayes import MultinomialNB\n",
    "from sklearn.linear_model import LogisticRegression\n",
    "from sklearn.preprocessing import StandardScaler, MinMaxScaler, label_binarize\n",
    "from sklearn.feature_extraction.text import TfidfVectorizer\n",
    "from sklearn.model_selection import train_test_split\n",
    "from scipy import sparse\n",
    "from scipy.sparse import hstack, vstack\n",
    "from sklearn.metrics import accuracy_score, precision_score, \\\n",
    "classification_report, confusion_matrix, roc_curve, roc_auc_score, auc\n",
    "from scipy import interp\n",
    "from itertools import cycle\n",
    "\n",
    "import pickle\n",
    "from time import time\n",
    "from tqdm import tqdm_notebook, tqdm\n",
    "import matplotlib.pyplot as plt\n",
    "import seaborn as sns\n",
    "\n",
    "%matplotlib inline\n",
    "pd.set_option('display.max_columns', 500)"
   ]
  },
  {
   "cell_type": "markdown",
   "metadata": {
    "_uuid": "100e9bdf08ab95797f4846150d2b19458d5f76bc"
   },
   "source": [
    "### Предобработка и очистка данных"
   ]
  },
  {
   "cell_type": "code",
   "execution_count": 2,
   "metadata": {
    "_uuid": "4f4aac71d680492586ffc9b30f8e515989db6262"
   },
   "outputs": [],
   "source": [
    "with open('raw_data.pkl', 'rb') as f: \n",
    "    data = pickle.load(f)\n",
    "    \n",
    "# есть несколько дубликатов\n",
    "data.drop_duplicates('id', inplace=True)\n",
    "data.index = np.arange(0, len(data))"
   ]
  },
  {
   "cell_type": "code",
   "execution_count": 3,
   "metadata": {
    "_uuid": "aff44867aa70d7636edba60113894b026ce47dec",
    "scrolled": true
   },
   "outputs": [
    {
     "name": "stdout",
     "output_type": "stream",
     "text": [
      "<class 'pandas.core.frame.DataFrame'>\n",
      "Int64Index: 29307 entries, 0 to 29306\n",
      "Data columns (total 41 columns):\n",
      "first_name              29307 non-null object\n",
      "id                      29307 non-null int64\n",
      "last_name               29307 non-null object\n",
      "age                     29307 non-null int64\n",
      "about                   29307 non-null object\n",
      "activities              29307 non-null object\n",
      "bdate                   23450 non-null object\n",
      "books                   29307 non-null object\n",
      "city                    25472 non-null object\n",
      "country                 27378 non-null object\n",
      "education_form          3414 non-null object\n",
      "education_status        2941 non-null object\n",
      "faculty                 14810 non-null object\n",
      "faculty_name            14810 non-null object\n",
      "followers_count         29307 non-null float64\n",
      "games                   29307 non-null object\n",
      "graduation              14810 non-null object\n",
      "has_mobile              29307 non-null float64\n",
      "has_photo               29307 non-null float64\n",
      "interests               29307 non-null object\n",
      "movies                  29307 non-null object\n",
      "music                   29307 non-null object\n",
      "personal_alcohol        9374 non-null object\n",
      "personal_inspired_by    3394 non-null object\n",
      "personal_langs          10327 non-null object\n",
      "personal_life_main      9407 non-null object\n",
      "personal_people_main    9421 non-null object\n",
      "personal_political      4223 non-null object\n",
      "personal_religion       4925 non-null object\n",
      "personal_smoking        9398 non-null object\n",
      "quotes                  29307 non-null object\n",
      "relation                14810 non-null object\n",
      "schools                 14810 non-null object\n",
      "sex                     29307 non-null float64\n",
      "status                  29307 non-null object\n",
      "tv                      29307 non-null object\n",
      "universities            14810 non-null object\n",
      "university              14810 non-null object\n",
      "university_name         14810 non-null object\n",
      "verified                29307 non-null float64\n",
      "posts                   25599 non-null object\n",
      "dtypes: float64(5), int64(2), object(34)\n",
      "memory usage: 9.4+ MB\n"
     ]
    }
   ],
   "source": [
    "data.info()"
   ]
  },
  {
   "cell_type": "markdown",
   "metadata": {},
   "source": [
    "Практически по всем возрастам достаточно данных для анализа. Только у 12-ти летних мало данных. "
   ]
  },
  {
   "cell_type": "code",
   "execution_count": 4,
   "metadata": {
    "_uuid": "cef0c6b216edd9dc1b43dc19367a68e71eb6d48b"
   },
   "outputs": [
    {
     "data": {
      "image/png": "[encoded data removed]",
      "text/plain": [
       "<Figure size 720x432 with 1 Axes>"
      ]
     },
     "metadata": {
      "needs_background": "light"
     },
     "output_type": "display_data"
    }
   ],
   "source": [
    "ax, fig = plt.subplots(figsize=(10, 6))\n",
    "sns.barplot(x=data['age'].value_counts().index, y=data['age'].value_counts().values);"
   ]
  },
  {
   "cell_type": "code",
   "execution_count": 5,
   "metadata": {
    "_uuid": "15bf3ff1d06fc5ef666d5a8158f1357abc8cc5f7"
   },
   "outputs": [],
   "source": [
    "df = pd.DataFrame(data=data['id'].values, columns=['id'])\n",
    "df.index = np.arange(0, len(data))"
   ]
  },
  {
   "cell_type": "markdown",
   "metadata": {
    "_uuid": "2d7d9644661e660307ee5da8e1fec7c357a87186"
   },
   "source": [
    "#### Таргет\n",
    "\n",
    "Формирование колонки с целевой переменной для решения задачи мультиклассовой классификации:"
   ]
  },
  {
   "cell_type": "code",
   "execution_count": 6,
   "metadata": {
    "_uuid": "a162caaa79d545fa93a91526a733e5314d95b4a4"
   },
   "outputs": [],
   "source": [
    "def age_group(value):\n",
    "    if value < 18:\n",
    "        return 0\n",
    "    elif 18 <= value <= 24:\n",
    "        return 1\n",
    "    elif 25 <= value <= 34:\n",
    "        return 2\n",
    "    elif 35 <= value <= 44: \n",
    "        return 3\n",
    "    \n",
    "    return -1\n",
    "    \n",
    "df['age_group'] = data['age'].apply(age_group)"
   ]
  },
  {
   "cell_type": "code",
   "execution_count": 7,
   "metadata": {
    "_uuid": "d25e089a1cddb262727cfeb06dacaa8f7487a670"
   },
   "outputs": [
    {
     "data": {
      "text/plain": [
       "3    9135\n",
       "2    9080\n",
       "1    6481\n",
       "0    4611\n",
       "Name: age_group, dtype: int64"
      ]
     },
     "execution_count": 7,
     "metadata": {},
     "output_type": "execute_result"
    }
   ],
   "source": [
    "df['age_group'].value_counts()"
   ]
  },
  {
   "cell_type": "markdown",
   "metadata": {},
   "source": [
    "Как видим, большого дисбаланса классов нет."
   ]
  },
  {
   "cell_type": "markdown",
   "metadata": {
    "_uuid": "2a3293640930ba0596e0d4efa8b2849526842e01"
   },
   "source": [
    "#### Признаки\n",
    "\n",
    "Здесь обработка многочисленных пропусков, формирование некоторых новых признаков."
   ]
  },
  {
   "cell_type": "code",
   "execution_count": 8,
   "metadata": {
    "_uuid": "2d972896b96003f9a4d7108caf97fd94bb908a48",
    "scrolled": true
   },
   "outputs": [],
   "source": [
    "df['age'] = data['age']\n",
    "df['sex'] = data['sex'].astype(int)\n",
    "#df['country'] = data['country'].apply(lambda x: '-' if x is None else x)\n",
    "df['has_photo'] = data['has_photo'].astype(int)\n",
    "df['has_mobile'] = data['has_mobile'].astype(int)\n",
    "df['status'] = data['status']\n",
    "df['verified'] = data['verified'].astype(int)\n",
    "df['followers_count'] = data['followers_count'].astype(int)\n",
    "\n",
    "# школа: извлечение максимального года выпуска\n",
    "def school_year_graduated(schools):\n",
    "    if schools is None or len(schools) == 0:\n",
    "        return 0\n",
    "    \n",
    "    years_graduated = [0]\n",
    "    for school in schools: \n",
    "        if 'year_graduated' in school: \n",
    "            years_graduated.append(school['year_graduated'])\n",
    "    return max(years_graduated)\n",
    "    \n",
    "df['school_year_graduated'] = data['schools'].apply(school_year_graduated)\n",
    "\n",
    "# id высшего уч.заведения; если 0 или None - то вуз не указан\n",
    "#df['university'] = data['university'].apply(lambda x: -1 if pd.isnull(x) else int(x))\n",
    "\n",
    "# наличие информации о ВУЗе\n",
    "df['has_university'] = data['university'].apply(lambda x: 0 if pd.isnull(x) or x==0 else 1)\n",
    "\n",
    "# год выпуска из вуза; если 0 или None - то либо год не указан, либо вуз\n",
    "df['graduation'] = data['graduation'].apply(lambda x: -1 if pd.isnull(x) else int(x))\n",
    "\n",
    "# форма обучения: очное, заочное и т.д.\n",
    "df['education_form'] = data['education_form'].apply(lambda x: '-' if pd.isnull(x) else x)\n",
    "\n",
    "# статус: студент, выпускник и т.д.\n",
    "def get_education_status(value):\n",
    "    if pd.isnull(value):\n",
    "        return '-'\n",
    "\n",
    "    if value == 'Выпускница (специалист)' or value == 'Выпускник (специалист)':\n",
    "        return 'Выпускник-специалист'\n",
    "    if value == 'Студентка (специалист)' or value == 'Студент (специалист)':\n",
    "        return 'Студент-специалист'\n",
    "    if value == 'Выпускница (магистр)' or value == 'Выпускник (магистр)':\n",
    "        return 'Выпускник-магистр'\n",
    "    if value == 'Выпускница (бакалавр)' or value == 'Выпускник (бакалавр)':\n",
    "        return 'Выпускник-бакалавр'\n",
    "    if value == 'Студентка (бакалавр)' or value == 'Студент (бакалавр)':\n",
    "        return 'Студент-бакалавр'\n",
    "    if value == 'Студентка (магистр)' or value == 'Студент (магистр)':\n",
    "        return 'Студент-магистр'\n",
    "    if value == 'Абитуриентка' or value == 'Абитуриент':\n",
    "        return 'Абитуриент'\n",
    "    if value == 'Аспирантка' or value == 'Аспирант':\n",
    "        return 'Аспирант'\n",
    "    return value\n",
    "    \n",
    "df['education_status'] = data['education_status'].apply(get_education_status)\n",
    "\n",
    "# приблизительный возраст исходя из информации о годах выпуска из школы и университета\n",
    "def get_age_approximate(value):\n",
    "    year_school, year_university = value[0], value[1]\n",
    "    years = []\n",
    "    if year_school > 0:\n",
    "        for year in range(17, 20):\n",
    "            years.append(year + 2018 - year_school)\n",
    "        \n",
    "    if year_university > 0: \n",
    "        for year in range(21, 27):\n",
    "            years.append(year + 2018 - year_university)\n",
    "            \n",
    "    if len(years) != 0:\n",
    "        return np.mean(years)\n",
    "    else:\n",
    "        return 0\n",
    "    \n",
    "df['age_approx'] = df[['school_year_graduated', 'graduation']].apply(get_age_approximate, axis=1)\n",
    "\n",
    "# cat: семейное положение\n",
    "df['relation'] = data['relation'].apply(lambda x: -1 if pd.isnull(x) else int(x))\n",
    "\n",
    "# text\n",
    "df['interests'] = data['interests']\n",
    "df['music'] = data['music']\n",
    "df['activities'] = data['activities']\n",
    "df['movies'] = data['movies']\n",
    "df['tv'] = data['tv']\n",
    "df['books'] = data['books']\n",
    "df['games'] = data['games']\n",
    "df['about'] = data['about']\n",
    "df['quotes'] = data['quotes']\n",
    "\n",
    "# политические предпочтения\n",
    "df['personal_political'] = data['personal_political'].apply(lambda x: -1 if x is None else x)\n",
    "# text: языки\n",
    "df['personal_langs'] = data['personal_langs'].apply(lambda x: '' if x is None else ' '.join(x))\n",
    "# text: мировоззрение\n",
    "df['personal_religion'] = data['personal_religion'].apply(lambda x: '' if x is None else x)\n",
    "# text: источники вдохновения\n",
    "df['personal_inspired_by'] = data['personal_inspired_by'].apply(lambda x: '' if x is None else x)\n",
    "# cat: главное в людях\n",
    "df['personal_people_main'] = data['personal_people_main'].apply(lambda x: -1 if x is None else int(x))\n",
    "# cat: главное в жизни\n",
    "df['personal_life_main'] = data['personal_life_main'].apply(lambda x: -1 if x is None else int(x))\n",
    "# cat: отношение к курению\n",
    "df['personal_smoking'] = data['personal_smoking'].apply(lambda x: -1 if x is None else int(x))\n",
    "# cat: отношение к алкоголю\n",
    "df['personal_alcohol'] = data['personal_alcohol'].apply(lambda x: -1 if x is None else int(x))\n",
    "\n",
    "# посты\n",
    "df['posts'] = data['posts'].apply(lambda x: '' if pd.isna(x) else x)"
   ]
  },
  {
   "cell_type": "code",
   "execution_count": 9,
   "metadata": {
    "_uuid": "c431700493ac2bb02fdeccdef89c06c9584df54d"
   },
   "outputs": [
    {
     "name": "stdout",
     "output_type": "stream",
     "text": [
      "(29307, 34)\n"
     ]
    },
    {
     "data": {
      "text/html": [
       "<div>\n",
       "<style scoped>\n",
       "    .dataframe tbody tr th:only-of-type {\n",
       "        vertical-align: middle;\n",
       "    }\n",
       "\n",
       "    .dataframe tbody tr th {\n",
       "        vertical-align: top;\n",
       "    }\n",
       "\n",
       "    .dataframe thead th {\n",
       "        text-align: right;\n",
       "    }\n",
       "</style>\n",
       "<table border=\"1\" class=\"dataframe\">\n",
       "  <thead>\n",
       "    <tr style=\"text-align: right;\">\n",
       "      <th></th>\n",
       "      <th>id</th>\n",
       "      <th>age_group</th>\n",
       "      <th>age</th>\n",
       "      <th>sex</th>\n",
       "      <th>has_photo</th>\n",
       "      <th>has_mobile</th>\n",
       "      <th>status</th>\n",
       "      <th>verified</th>\n",
       "      <th>followers_count</th>\n",
       "      <th>school_year_graduated</th>\n",
       "      <th>has_university</th>\n",
       "      <th>graduation</th>\n",
       "      <th>education_form</th>\n",
       "      <th>education_status</th>\n",
       "      <th>age_approx</th>\n",
       "      <th>relation</th>\n",
       "      <th>interests</th>\n",
       "      <th>music</th>\n",
       "      <th>activities</th>\n",
       "      <th>movies</th>\n",
       "      <th>tv</th>\n",
       "      <th>books</th>\n",
       "      <th>games</th>\n",
       "      <th>about</th>\n",
       "      <th>quotes</th>\n",
       "      <th>personal_political</th>\n",
       "      <th>personal_langs</th>\n",
       "      <th>personal_religion</th>\n",
       "      <th>personal_inspired_by</th>\n",
       "      <th>personal_people_main</th>\n",
       "      <th>personal_life_main</th>\n",
       "      <th>personal_smoking</th>\n",
       "      <th>personal_alcohol</th>\n",
       "      <th>posts</th>\n",
       "    </tr>\n",
       "  </thead>\n",
       "  <tbody>\n",
       "    <tr>\n",
       "      <th>0</th>\n",
       "      <td>290697449</td>\n",
       "      <td>3</td>\n",
       "      <td>44</td>\n",
       "      <td>1</td>\n",
       "      <td>1</td>\n",
       "      <td>1</td>\n",
       "      <td></td>\n",
       "      <td>1</td>\n",
       "      <td>31071</td>\n",
       "      <td>0</td>\n",
       "      <td>1</td>\n",
       "      <td>0</td>\n",
       "      <td>-</td>\n",
       "      <td>-</td>\n",
       "      <td>0.000000</td>\n",
       "      <td>0</td>\n",
       "      <td></td>\n",
       "      <td></td>\n",
       "      <td></td>\n",
       "      <td></td>\n",
       "      <td></td>\n",
       "      <td></td>\n",
       "      <td></td>\n",
       "      <td></td>\n",
       "      <td></td>\n",
       "      <td>-1</td>\n",
       "      <td>Русский</td>\n",
       "      <td></td>\n",
       "      <td></td>\n",
       "      <td>0</td>\n",
       "      <td>0</td>\n",
       "      <td>0</td>\n",
       "      <td>0</td>\n",
       "      <td>Мы наконец сделали это!\\nИ за первый день вышл...</td>\n",
       "    </tr>\n",
       "    <tr>\n",
       "      <th>1</th>\n",
       "      <td>4364436</td>\n",
       "      <td>3</td>\n",
       "      <td>44</td>\n",
       "      <td>1</td>\n",
       "      <td>1</td>\n",
       "      <td>1</td>\n",
       "      <td>Это Мир прекрасен уже тем, что каждый год обяз...</td>\n",
       "      <td>1</td>\n",
       "      <td>27106</td>\n",
       "      <td>1990</td>\n",
       "      <td>1</td>\n",
       "      <td>1999</td>\n",
       "      <td>Очное отделение</td>\n",
       "      <td>Выпускник-специалист</td>\n",
       "      <td>43.666667</td>\n",
       "      <td>4</td>\n",
       "      <td></td>\n",
       "      <td></td>\n",
       "      <td></td>\n",
       "      <td></td>\n",
       "      <td></td>\n",
       "      <td></td>\n",
       "      <td></td>\n",
       "      <td></td>\n",
       "      <td></td>\n",
       "      <td>-1</td>\n",
       "      <td></td>\n",
       "      <td></td>\n",
       "      <td></td>\n",
       "      <td>-1</td>\n",
       "      <td>-1</td>\n",
       "      <td>-1</td>\n",
       "      <td>-1</td>\n",
       "      <td>Афиша. Январь. \\n2- \"Будни Любви или у каждого...</td>\n",
       "    </tr>\n",
       "  </tbody>\n",
       "</table>\n",
       "</div>"
      ],
      "text/plain": [
       "          id  age_group  age  sex  has_photo  has_mobile  \\\n",
       "0  290697449          3   44    1          1           1   \n",
       "1    4364436          3   44    1          1           1   \n",
       "\n",
       "                                              status  verified  \\\n",
       "0                                                            1   \n",
       "1  Это Мир прекрасен уже тем, что каждый год обяз...         1   \n",
       "\n",
       "   followers_count  school_year_graduated  has_university  graduation  \\\n",
       "0            31071                      0               1           0   \n",
       "1            27106                   1990               1        1999   \n",
       "\n",
       "    education_form      education_status  age_approx  relation interests  \\\n",
       "0                -                     -    0.000000         0             \n",
       "1  Очное отделение  Выпускник-специалист   43.666667         4             \n",
       "\n",
       "  music activities movies tv books games about quotes  personal_political  \\\n",
       "0                                                                      -1   \n",
       "1                                                                      -1   \n",
       "\n",
       "  personal_langs personal_religion personal_inspired_by  personal_people_main  \\\n",
       "0        Русский                                                            0   \n",
       "1                                                                          -1   \n",
       "\n",
       "   personal_life_main  personal_smoking  personal_alcohol  \\\n",
       "0                   0                 0                 0   \n",
       "1                  -1                -1                -1   \n",
       "\n",
       "                                               posts  \n",
       "0  Мы наконец сделали это!\\nИ за первый день вышл...  \n",
       "1  Афиша. Январь. \\n2- \"Будни Любви или у каждого...  "
      ]
     },
     "execution_count": 9,
     "metadata": {},
     "output_type": "execute_result"
    }
   ],
   "source": [
    "print(df.shape)\n",
    "df.head(2)"
   ]
  },
  {
   "cell_type": "markdown",
   "metadata": {},
   "source": [
    "Извлечение из текста постов дополнительной информации: количество символов (предположение: у людей постарше посты длиннее), количество эмоджи (предположение: скорее всего смайлики активно используют подростки и молодые люди), количество тегов и количество слов (далее после \"чистки\" текста)."
   ]
  },
  {
   "cell_type": "code",
   "execution_count": 10,
   "metadata": {
    "_uuid": "943562bc53d76d080897802ec9c000cfeb5d8af6",
    "scrolled": true
   },
   "outputs": [
    {
     "name": "stdout",
     "output_type": "stream",
     "text": [
      "CPU times: user 3min 59s, sys: 14.2 s, total: 4min 14s\n",
      "Wall time: 4min 14s\n"
     ]
    }
   ],
   "source": [
    "%%time\n",
    "# общее число символов в постах\n",
    "df['symbols_number'] = df['posts'].apply(lambda text: len(text))\n",
    "\n",
    "# общее число тэгов в постах\n",
    "def count_tags(text):\n",
    "    return len(regex.findall('#', text))\n",
    "\n",
    "df['tags_number'] = df['posts'].apply(count_tags)\n",
    "\n",
    "# общее число эмоджи в постах\n",
    "import emoji\n",
    "\n",
    "def count_emoji(text):\n",
    "    emoji_list = []\n",
    "    data = regex.findall(r'\\X', text)\n",
    "    for word in data:\n",
    "        if any(char in emoji.UNICODE_EMOJI for char in word):\n",
    "            emoji_list.append(word)\n",
    "\n",
    "    return len(emoji_list)\n",
    "\n",
    "df['emoji_number'] = df['posts'].apply(count_emoji)"
   ]
  },
  {
   "cell_type": "code",
   "execution_count": 11,
   "metadata": {
    "_uuid": "8a4fa9159fe1a815f026587ddced547e5ba0ea00"
   },
   "outputs": [],
   "source": [
    "with open('data.pkl', 'wb') as f: \n",
    "    pickle.dump(df, f)"
   ]
  },
  {
   "cell_type": "markdown",
   "metadata": {},
   "source": [
    "В итоге имеем несколько бинарных признаков, некоторое количество категориальных и численных и признаки, содержащие текстовую информацию:"
   ]
  },
  {
   "cell_type": "code",
   "execution_count": 12,
   "metadata": {
    "_uuid": "03f0f4c23777790bc1f94294c294fab5687f2455"
   },
   "outputs": [],
   "source": [
    "features_binary = ['sex', 'has_photo', 'has_mobile', 'verified', 'has_university']\n",
    "features_cat = ['education_form', 'education_status', 'relation', \\\n",
    "                'personal_political', 'personal_people_main', \n",
    "                'personal_life_main', 'personal_smoking', 'personal_alcohol']\n",
    "\n",
    "features_float = ['followers_count', 'age_approx']\n",
    "features_float += ['symbols_number', 'tags_number', 'emoji_number', 'words_number']\n",
    "\n",
    "features_text = ['status', 'interests', 'music', 'activities', 'movies', \\\n",
    "                 'tv', 'books', 'games', 'about', 'quotes', \n",
    "                 'personal_langs', 'personal_religion', \\\n",
    "                 'personal_inspired_by', 'posts']\n",
    "target = 'age_group'"
   ]
  },
  {
   "cell_type": "markdown",
   "metadata": {
    "_uuid": "0d87c207d5d27d9253a468e502ca21b78b2f4373"
   },
   "source": [
    "#### Обработка текстовых признаков\n",
    "\n",
    "Чтобы сэкономить время и не делать повторные операции при настройке TfidfVectorizer, я решила обработать текстовые признаки отдельно 3 способами и сохранить полученные данные в разные файлы. \n",
    "\n",
    "**Первый вариант**: из текста удаляются все символы, кроме букв, текст разделяется на слова, также удаляются слова, в которых меньше 3 символов. \n",
    "\n",
    "**Второй вариант**: дополнительная чистка от стоп-слов.\n",
    "\n",
    "**Третий вариант**: дополнительная лемматизация слов. "
   ]
  },
  {
   "cell_type": "code",
   "execution_count": null,
   "metadata": {
    "_uuid": "c58c943d0def03d7e36eefe7442808b29620635b"
   },
   "outputs": [],
   "source": [
    "from nltk.corpus import stopwords\n",
    "\n",
    "stop_words_en = stopwords.words('english')\n",
    "stop_words_ru = stopwords.words('russian')\n",
    "\n",
    "stop_words = ['www', 'http', 'https', 'ru', 'com', 'su', 'gmail', 'mail', 'yandex', \\\n",
    "              'это', 'этот', 'свой', 'твой', 'мой', 'ваш', 'наш', \\\n",
    "              'самый', 'который']\n",
    "\n",
    "stop_words_all = set(stop_words_en + stop_words_ru + stop_words)"
   ]
  },
  {
   "cell_type": "code",
   "execution_count": null,
   "metadata": {
    "_uuid": "9ff7a7b88139af8556d2a22f57b4e1f95de55f15"
   },
   "outputs": [],
   "source": [
    "import pymorphy2\n",
    "morph = pymorphy2.MorphAnalyzer()\n",
    "\n",
    "def lemmatization(text):\n",
    "    try:\n",
    "        normal_form = morph.parse(text)[0].normal_form\n",
    "    except ValueError:\n",
    "        normal_form = None\n",
    "    return normal_form"
   ]
  },
  {
   "cell_type": "code",
   "execution_count": null,
   "metadata": {
    "_uuid": "35c5c215f2d218b0d215c44533af73c89eda8349"
   },
   "outputs": [],
   "source": [
    "def extract_words(text, delete_stop_words=False, use_lemmatization=False):\n",
    "    text = text.lower()\n",
    "    # оставить буквы и цифры\n",
    "    text = re.sub(r'[\\W]+', ' ', text)\n",
    "    # удалить цифры\n",
    "    text = re.sub(r'\\d+', '', text)\n",
    "    # удалить подчёркивания\n",
    "    text = re.sub(r'[_]+', '', text)\n",
    "    # удалить два или более пробелов\n",
    "    text = re.sub(r'[ ]{2,}', ' ', text)\n",
    "    text = text.strip()\n",
    "    # разбиение на слова по пробелам\n",
    "    words = [word for word in text.split()]\n",
    "    # удаление слов, в которых меньше 3 символов\n",
    "    words = [word for word in words if len(word) > 2]\n",
    "    \n",
    "    if delete_stop_words:\n",
    "        words = [word for word in words if word not in stop_words_all]\n",
    "        \n",
    "    if use_lemmatization: \n",
    "        words = [lemmatization(word) for word in words]\n",
    "        words = list(filter(lambda v: v is not None, words))\n",
    "        # удаление стоп-слов после лемматизации\n",
    "        words = [word for word in words if word not in stop_words_all]\n",
    "        \n",
    "    return words"
   ]
  },
  {
   "cell_type": "code",
   "execution_count": null,
   "metadata": {
    "_uuid": "95d7cdf07e3cfc0e1c4a1ddfe1b7c9f188d2943d"
   },
   "outputs": [],
   "source": [
    "def prepare_text(df, features_text, delete_stop_words=False, use_lemmatization=False):\n",
    "    for text_feat in features_text:\n",
    "        df[text_feat] = df[text_feat].\\\n",
    "            apply(lambda text: extract_words(text, delete_stop_words, use_lemmatization))\n",
    "\n",
    "    # объединение слов обратно в текст\n",
    "    for text_feat in features_text:\n",
    "        df[text_feat] = df[text_feat].apply(lambda words: ' '.join(words))\n",
    "        \n",
    "    return df"
   ]
  },
  {
   "cell_type": "markdown",
   "metadata": {
    "_uuid": "aab7c4ea26cc705f623f8d782a453e78d82f9963"
   },
   "source": [
    "#### 1 вариант"
   ]
  },
  {
   "cell_type": "code",
   "execution_count": null,
   "metadata": {
    "_uuid": "bd7b18a42cdf4207df54ca1bed7e14b51fd0fa8e"
   },
   "outputs": [],
   "source": [
    "with open('data.pkl', 'rb') as f: \n",
    "    df = pickle.load(f)"
   ]
  },
  {
   "cell_type": "code",
   "execution_count": null,
   "metadata": {
    "_uuid": "1ff03bcf7a057b0ac898ec0805c318df29f264e9"
   },
   "outputs": [],
   "source": [
    "%%time\n",
    "df = prepare_text(df, features_text, False, False)"
   ]
  },
  {
   "cell_type": "code",
   "execution_count": null,
   "metadata": {
    "_uuid": "363b971b1e94c33429e6d86a3c4e6a1c884b1f86"
   },
   "outputs": [],
   "source": [
    "# общее число слов в постах\n",
    "df['words_number'] = df['posts'].apply(lambda words: len(words))"
   ]
  },
  {
   "cell_type": "code",
   "execution_count": null,
   "metadata": {
    "_uuid": "b79d8c872ff1c1441ebaf689bc24488504abcb35"
   },
   "outputs": [],
   "source": [
    "with open('data__text_simple.pkl', 'wb') as f: \n",
    "    pickle.dump(df, f)"
   ]
  },
  {
   "cell_type": "markdown",
   "metadata": {
    "_uuid": "ea28e1e950d5c40f31325c5c916338310d8f1ba6"
   },
   "source": [
    "#### 2 вариант: с удалением стоп-слов"
   ]
  },
  {
   "cell_type": "code",
   "execution_count": null,
   "metadata": {
    "_uuid": "074ac6c99bf0f35aa9d0822677edf92bd72c5959"
   },
   "outputs": [],
   "source": [
    "with open('data.pkl', 'rb') as f: \n",
    "    df = pickle.load(f)"
   ]
  },
  {
   "cell_type": "code",
   "execution_count": null,
   "metadata": {
    "_uuid": "03763aa67a4b73de7f9d5469893778f9886d3593"
   },
   "outputs": [],
   "source": [
    "%%time\n",
    "df = prepare_text(df, features_text, True, False)"
   ]
  },
  {
   "cell_type": "code",
   "execution_count": null,
   "metadata": {
    "_uuid": "f6a8f382e5b304d422884ea8b408b2d2a0fa1de4"
   },
   "outputs": [],
   "source": [
    "# общее число слов в постах\n",
    "df['words_number'] = df['posts'].apply(lambda words: len(words))"
   ]
  },
  {
   "cell_type": "code",
   "execution_count": null,
   "metadata": {
    "_uuid": "7cf70d8d2c33da6157a5251096647b919f6c38e1"
   },
   "outputs": [],
   "source": [
    "with open('data__text_stop_words.pkl', 'wb') as f: \n",
    "    pickle.dump(df, f)"
   ]
  },
  {
   "cell_type": "markdown",
   "metadata": {
    "_uuid": "07d0225502532ae11528dd8b1dbc5e8de04bdea5"
   },
   "source": [
    "#### 3 вариант: с лемматизацией"
   ]
  },
  {
   "cell_type": "code",
   "execution_count": null,
   "metadata": {
    "_uuid": "fea39039512dc25b59be7d261c0706a140cb869f"
   },
   "outputs": [],
   "source": [
    "with open('data.pkl', 'rb') as f: \n",
    "    df = pickle.load(f)"
   ]
  },
  {
   "cell_type": "code",
   "execution_count": null,
   "metadata": {
    "_uuid": "d4e87c9412b41bba1af03fbfa84fa96f11f9be9c"
   },
   "outputs": [],
   "source": [
    "%%time\n",
    "# обработка около часа\n",
    "df = prepare_text(df, features_text, True, True)"
   ]
  },
  {
   "cell_type": "code",
   "execution_count": null,
   "metadata": {
    "_uuid": "01f9045c3c42586c0d9f7af534fc750df9572a41"
   },
   "outputs": [],
   "source": [
    "# общее число слов в постах\n",
    "df['words_number'] = df['posts'].apply(lambda words: len(words))"
   ]
  },
  {
   "cell_type": "code",
   "execution_count": null,
   "metadata": {
    "_uuid": "fb4980365c0b6c4636c40920e578caa4d6ace771"
   },
   "outputs": [],
   "source": [
    "with open('data__text_lemmatization.pkl', 'wb') as f: \n",
    "    pickle.dump(df, f)"
   ]
  },
  {
   "cell_type": "markdown",
   "metadata": {
    "_uuid": "b86fef39c8e334e393ecedce788986f7a48d8f3d"
   },
   "source": [
    "Далее методы для формирования итоговой матрицы признаков:"
   ]
  },
  {
   "cell_type": "code",
   "execution_count": 3,
   "metadata": {
    "_uuid": "5e2ac46d6c24d62e6a9d46f2af837cc3a6613569"
   },
   "outputs": [],
   "source": [
    "def encoding_binary_features(df, features):\n",
    "    # get_dummies не кодирует числовые значения\n",
    "    for column in features:\n",
    "        if df[column].dtype != 'object':\n",
    "            df[column] = df[column].apply(lambda x: str(x))\n",
    "            \n",
    "    df_bin = pd.get_dummies(df[features], drop_first=True)\n",
    "    df_bin.columns = features\n",
    "    return df_bin\n",
    "\n",
    "# Возвращает DataFrame с категориальными признаками OneHotEncode\n",
    "def encoding_category_features(df, features, verbose=1):\n",
    "    if verbose:\n",
    "        print('Number of category features:', len(features))\n",
    "    \n",
    "    # get_dummies не кодирует числовые значения\n",
    "    for column in features:\n",
    "        if df[column].dtype != 'object':\n",
    "            df[column] = df[column].apply(lambda x: str(x))\n",
    "        \n",
    "    df_cat = pd.get_dummies(df[features], dummy_na=True)\n",
    "    \n",
    "    # удаление пустых колонок, которые могли появиться с пред.операции\n",
    "    empty_columns = df_cat.loc[:, df_cat.sum(axis=0) == 0].columns\n",
    "    df_cat.drop(empty_columns, axis=1, inplace=True)\n",
    "    \n",
    "    if verbose:\n",
    "        print('Number of encoded category features:', len(df_cat.columns))\n",
    "        \n",
    "    return df_cat\n",
    "\n",
    "# Некоторые значения признаков есть в тесте, но нет в трейне и наоборот\n",
    "def intersect_features(train, test, target=None):\n",
    "    common_feat = list( set(train.keys()) & set(test.keys()))\n",
    "    \n",
    "    if target: \n",
    "        train_feat = [target] + common_feat\n",
    "    else:\n",
    "        train_feat = common_feat\n",
    "    \n",
    "    test_feat = common_feat\n",
    "    \n",
    "    return train[train_feat], test[test_feat]"
   ]
  },
  {
   "cell_type": "code",
   "execution_count": 4,
   "metadata": {
    "_uuid": "9bb01cafb436409cef792e15b25c6f6343c70a3b"
   },
   "outputs": [],
   "source": [
    "# Необходимые преобразования и объединение всех признаков в одну матрицу\n",
    "def prepare_X(df_train, df_test, features_binary, features_float, features_cat, \\\n",
    "              X_tfidf_train, X_tfidf_test, scaler=None, verbose=1):\n",
    "    \n",
    "    # бинарные признаки\n",
    "    df_train_bin = encoding_binary_features(df_train, features_binary)\n",
    "    df_test_bin = encoding_binary_features(df_test, features_binary)\n",
    "\n",
    "    # float или int признаки\n",
    "    if scaler is not None:\n",
    "        df_train_float = pd.DataFrame(data=scaler.fit_transform(df_train[features_float].values), \n",
    "                                     index=df_train.index, \n",
    "                                     columns=features_float)\n",
    "\n",
    "        df_test_float = pd.DataFrame(data=scaler.transform(df_test[features_float].values), \n",
    "                                     index=df_test.index, \n",
    "                                     columns=features_float)\n",
    "    else:\n",
    "        df_train_float = df_train[features_float]\n",
    "        df_test_float = df_test[features_float]\n",
    "\n",
    "    # category признаки\n",
    "    df_train_cat = encoding_category_features(df_train, features_cat, verbose)\n",
    "    df_test_cat = encoding_category_features(df_test, features_cat, verbose)\n",
    "    df_train_cat, df_test_cat = intersect_features(df_train_cat, df_test_cat)\n",
    "\n",
    "    # объединение binary, float, category признаков в одну матрицу\n",
    "    df_train_nontext = pd.concat([df_train_bin, df_train_float, df_train_cat], axis=1)\n",
    "    df_test_nontext = pd.concat([df_test_bin, df_test_float, df_test_cat], axis=1)\n",
    "\n",
    "    # -> sparse matrix\n",
    "    X_train_nontext = sparse.csr_matrix(df_train_nontext)\n",
    "    X_test_nontext = sparse.csr_matrix(df_test_nontext)\n",
    "\n",
    "    # добавление к полученной матрице текстовых признаков\n",
    "    X_train = hstack([X_train_nontext, X_tfidf_train])\n",
    "    X_test = hstack([X_test_nontext, X_tfidf_test])\n",
    "    \n",
    "    if verbose:\n",
    "        print('train, bin:', df_train_bin.shape)\n",
    "        print('test, bin:', df_test_bin.shape)\n",
    "        \n",
    "        print('train, float:', df_train_float.shape)\n",
    "        print('test, float:', df_test_float.shape)\n",
    "        \n",
    "        print('train, cat:', df_train_cat.shape)\n",
    "        print('test, cat:', df_test_cat.shape)\n",
    "        \n",
    "        print('train, non text:', df_train_nontext.shape)\n",
    "        print('test, non text:', df_test_nontext.shape)\n",
    "\n",
    "        print('train, text:', X_tfidf_train.shape)\n",
    "        print('test, text:', X_tfidf_test.shape)\n",
    "        \n",
    "        print('full train:', X_train.shape)\n",
    "        print('full test:', X_test.shape)\n",
    "    \n",
    "    return X_train, X_test"
   ]
  },
  {
   "cell_type": "code",
   "execution_count": 5,
   "metadata": {
    "_uuid": "cf559862dc8a4c90291b9cc54744efae6b519188"
   },
   "outputs": [],
   "source": [
    "def prepare_text_features(df_train, df_valid, features_text, params):\n",
    "    vectorizers = {}\n",
    "    X_tfidf_trains = {}\n",
    "    X_tfidf_valids = {}\n",
    "    \n",
    "    for feature_text in tqdm_notebook(features_text, desc='features'):\n",
    "        vect = TfidfVectorizer()\n",
    "        \n",
    "        if feature_text == 'posts':\n",
    "            vect.set_params(**params['posts'])\n",
    "        else: \n",
    "            vect.set_params(**params['other'])\n",
    "\n",
    "        # train\n",
    "        X_tfidf_train = vect.fit_transform(df_train[feature_text])\n",
    "        X_tfidf_valid = vect.transform(df_valid[feature_text])\n",
    "\n",
    "        # save to dict\n",
    "        vectorizers[feature_text] = vect\n",
    "        X_tfidf_trains[feature_text] = X_tfidf_train\n",
    "        X_tfidf_valids[feature_text] = X_tfidf_valid\n",
    "        \n",
    "    # матрицы Tf-idf\n",
    "    X_tfidf_train = hstack(list(X_tfidf_trains.values()))\n",
    "    X_tfidf_valid = hstack(list(X_tfidf_valids.values()))\n",
    "        \n",
    "    return X_tfidf_train, X_tfidf_valid"
   ]
  },
  {
   "cell_type": "markdown",
   "metadata": {},
   "source": [
    "Методы для вывода или отрисовки метрик:"
   ]
  },
  {
   "cell_type": "code",
   "execution_count": 6,
   "metadata": {
    "_uuid": "038bbeafe81cad53d5fbf3f364c0e5eab08af0f8"
   },
   "outputs": [],
   "source": [
    "def plot_confusion_matrix(cm, classes,\n",
    "                          normalize=False,\n",
    "                          title='Confusion matrix',\n",
    "                          cmap=plt.cm.Blues):\n",
    "    \"\"\"\n",
    "    This function prints and plots the confusion matrix.\n",
    "    Normalization can be applied by setting `normalize=True`.\n",
    "    \"\"\"\n",
    "    plt.imshow(cm, interpolation='nearest', cmap=cmap)\n",
    "    plt.title(title)\n",
    "    plt.colorbar()\n",
    "    tick_marks = np.arange(len(classes))\n",
    "    plt.xticks(tick_marks, classes, rotation=45)\n",
    "    plt.yticks(tick_marks, classes)\n",
    "\n",
    "    if normalize:\n",
    "        cm = cm/np.sum(cm)\n",
    "        cm = np.around(cm, decimals=3)\n",
    "        \n",
    "    thresh = cm.max() / 2.\n",
    "    for i, j in itertools.product(range(cm.shape[0]), range(cm.shape[1])):\n",
    "        plt.text(j, i, cm[i, j],\n",
    "                 horizontalalignment=\"center\",\n",
    "                 color=\"white\" if cm[i, j] > thresh else \"black\")\n",
    "\n",
    "    plt.tight_layout()\n",
    "    plt.ylabel('True label')\n",
    "    plt.xlabel('Predicted label')"
   ]
  },
  {
   "cell_type": "code",
   "execution_count": 7,
   "metadata": {
    "_uuid": "0373809e65399bdb0355bd2b254b58e0a5f295a9"
   },
   "outputs": [],
   "source": [
    "def get_accuracy_metric(y_true, y_pred, verbose=1):\n",
    "    accuracy = accuracy_score(y_true, y_pred)\n",
    "    if verbose:\n",
    "        print('Accuracy: {}'.format(accuracy))\n",
    "    return accuracy\n",
    "    \n",
    "def get_classification_report(y_true, y_pred, verbose=1):\n",
    "    cr = classification_report(y_true, y_pred)\n",
    "    if verbose:\n",
    "        print('\\nClassification report:\\n{}'.format(cr))\n",
    "    return cr\n",
    "    \n",
    "def get_confusion_matrix(y_true, y_pred, normalize=True, verbose=1):\n",
    "    cm = confusion_matrix(y_true, y_pred)\n",
    "    \n",
    "    if verbose:\n",
    "        plt.figure(figsize=(6, 5))\n",
    "        plot_confusion_matrix(cm, normalize=normalize,\n",
    "                          classes=['0', '1', '2', '3'], title='Confusion matrix')\n",
    "        plt.show()\n",
    "    return cm"
   ]
  },
  {
   "cell_type": "code",
   "execution_count": 8,
   "metadata": {
    "_uuid": "d9a1309e8ea780cc2b9d1f98c12c1eeff9197c94"
   },
   "outputs": [],
   "source": [
    "def get_roc_auc(y_true, y_pred, n_classes, verbose=1):\n",
    "    # Compute ROC curve and ROC area for each class\n",
    "    y_true_binarize = label_binarize(y_true, classes=np.arange(n_classes))\n",
    "    y_pred_binarize = label_binarize(y_pred, classes=np.arange(n_classes))\n",
    "    \n",
    "    fpr = dict()\n",
    "    tpr = dict()\n",
    "    roc_auc = dict()\n",
    "    for i in range(n_classes):\n",
    "        fpr[i], tpr[i], _ = roc_curve(y_true_binarize[:, i], y_pred_binarize[:, i])\n",
    "        roc_auc[i] = auc(fpr[i], tpr[i])\n",
    "\n",
    "    # Compute micro-average ROC curve and ROC area\n",
    "    fpr[\"micro\"], tpr[\"micro\"], _ = roc_curve(y_true_binarize.ravel(), y_pred_binarize.ravel())\n",
    "    roc_auc[\"micro\"] = auc(fpr[\"micro\"], tpr[\"micro\"])\n",
    "    \n",
    "    # Compute macro-average ROC curve and ROC area\n",
    "\n",
    "    # First aggregate all false positive rates\n",
    "    all_fpr = np.unique(np.concatenate([fpr[i] for i in range(n_classes)]))\n",
    "\n",
    "    # Then interpolate all ROC curves at this points\n",
    "    mean_tpr = np.zeros_like(all_fpr)\n",
    "    for i in range(n_classes):\n",
    "        mean_tpr += interp(all_fpr, fpr[i], tpr[i])\n",
    "\n",
    "    # Finally average it and compute AUC\n",
    "    mean_tpr /= n_classes\n",
    "\n",
    "    fpr[\"macro\"] = all_fpr\n",
    "    tpr[\"macro\"] = mean_tpr\n",
    "    roc_auc[\"macro\"] = auc(fpr[\"macro\"], tpr[\"macro\"])\n",
    "    \n",
    "    if verbose:\n",
    "        for i in range(n_classes):\n",
    "            print('ROC-AUC, class = {}: {}'.format(str(i), np.round(roc_auc[i], decimals=3)))\n",
    "\n",
    "        print('\\nROC-AUC, micro: {}'.format(np.round(roc_auc['micro'], decimals=3)))    \n",
    "        print('ROC-AUC, macro: {}'.format(np.round(roc_auc['macro'], decimals=3)))\n",
    "        \n",
    "    return roc_auc"
   ]
  },
  {
   "cell_type": "code",
   "execution_count": 9,
   "metadata": {
    "_uuid": "05fcb8d4e9cd8e91a155ecdaf8e735696026dc6e"
   },
   "outputs": [],
   "source": [
    "def get_metrics(model, X, y, verbose=1):\n",
    "    preds = model.predict(X)\n",
    "    \n",
    "    accuracy = get_accuracy_metric(y, preds, verbose)\n",
    "    #get_classification_report(y, preds, verbose)\n",
    "    #get_confusion_matrix(y, preds, normalize=True, verbose)\n",
    "    roc_auc = get_roc_auc(y, preds, n_classes=4, verbose=verbose)\n",
    "    return accuracy, roc_auc"
   ]
  },
  {
   "cell_type": "markdown",
   "metadata": {},
   "source": [
    "Основной метрикой качества будет ROC-AUC с микро-усреднением по всем классам, также ради интереса посчитаем и точность. \n",
    "\n",
    "Посчитаем 9 различных вариантов с NaiveBayes: данные без удаления стоп-слов и лемматизации, данные с удалением стоп-слов, данные с лемматизацией и униграммы, биграммы, триграммы.  \n",
    "\n",
    "Результат будет по ходу записываться в таблицу: "
   ]
  },
  {
   "cell_type": "code",
   "execution_count": 10,
   "metadata": {
    "_uuid": "43ad3e4219d13bef2092c075116a05b8b29db9ab"
   },
   "outputs": [],
   "source": [
    "table_results = pd.DataFrame(columns=['model-data', 'ROC-AUC(micro), train', 'ROC-AUC(micro), test', \n",
    "                                     'Accuracy, train', 'Accuracy, test'])"
   ]
  },
  {
   "cell_type": "markdown",
   "metadata": {
    "_uuid": "a22f118496399c60d180e48b691f2486d87e4d03"
   },
   "source": [
    "### 1. Naive Bayes, без удаления стоп-слов и лемматизации:"
   ]
  },
  {
   "cell_type": "code",
   "execution_count": 11,
   "metadata": {
    "_uuid": "77909a7460d073608700ed4203cf69fc02d698af"
   },
   "outputs": [
    {
     "name": "stdout",
     "output_type": "stream",
     "text": [
      "train, shape: (23445, 33)\n",
      "test, shape: (5862, 33)\n",
      "train:\n",
      "3    0.311708\n",
      "2    0.309832\n",
      "1    0.221113\n",
      "0    0.157347\n",
      "Name: age_group, dtype: float64\n",
      "test:\n",
      "3    0.311668\n",
      "2    0.309792\n",
      "1    0.221256\n",
      "0    0.157284\n",
      "Name: age_group, dtype: float64\n"
     ]
    }
   ],
   "source": [
    "with open('../input/data__text_simple.pkl', 'rb') as f: \n",
    "    df = pickle.load(f)\n",
    "    \n",
    "target = df['age_group']\n",
    "df = df[features_binary+features_cat+features_float+features_text].copy()\n",
    "\n",
    "#выбросы\n",
    "df['age_approx'] = df['age_approx'].apply(lambda x: 0.0 if x < 0 else x)\n",
    "\n",
    "df_train, df_test, y_train, y_test = train_test_split(df, target, test_size=0.2, \n",
    "                                                      shuffle=True, stratify=target.values, random_state=42)\n",
    "\n",
    "print('train, shape:', df_train.shape)\n",
    "print('test, shape:', df_test.shape)\n",
    "\n",
    "print('train:')\n",
    "print(y_train.value_counts(normalize=True))\n",
    "print('test:')\n",
    "print(y_test.value_counts(normalize=True))"
   ]
  },
  {
   "cell_type": "markdown",
   "metadata": {},
   "source": [
    "### 1.1 Naive Bayes, ngram_range=(1,1)"
   ]
  },
  {
   "cell_type": "code",
   "execution_count": 13,
   "metadata": {
    "_uuid": "6e74a4eee59433d4cd557a8ee7793781be5244b5",
    "scrolled": false
   },
   "outputs": [
    {
     "data": {
      "application/vnd.jupyter.widget-view+json": {
       "model_id": "6dd1108afded49c4bf4a8731a74f6c50",
       "version_major": 2,
       "version_minor": 0
      },
      "text/plain": [
       "HBox(children=(IntProgress(value=0, description='features', max=14, style=ProgressStyle(description_width='ini…"
      ]
     },
     "metadata": {},
     "output_type": "display_data"
    },
    {
     "name": "stdout",
     "output_type": "stream",
     "text": [
      "\n",
      "CPU times: user 34.8 s, sys: 716 ms, total: 35.5 s\n",
      "Wall time: 35.5 s\n"
     ]
    }
   ],
   "source": [
    "%%time\n",
    "# Обучение TfidfVectorizer для текстовых признаков\n",
    "params = {\n",
    "    'posts': {'ngram_range':(1,1), 'analyzer':'word', 'max_features':10000},\n",
    "    'other': {'ngram_range':(1,1), 'analyzer':'word', 'max_features':2000}\n",
    "}\n",
    "\n",
    "X_tfidf_train, X_tfidf_test = prepare_text_features(df_train, df_test, features_text, params)\n",
    "\n",
    "X_train, X_test = prepare_X(df_train, df_test, \n",
    "                             features_binary, features_float, features_cat, \n",
    "                             X_tfidf_train, X_tfidf_test, \n",
    "                             scaler=MinMaxScaler(), verbose=0)"
   ]
  },
  {
   "cell_type": "code",
   "execution_count": 14,
   "metadata": {
    "_uuid": "ff135c15c8f4d5d18005a66f777a5eaa0f9ea215"
   },
   "outputs": [
    {
     "name": "stdout",
     "output_type": "stream",
     "text": [
      "TRAIN:\n",
      "Accuracy: 0.5894220516101514\n",
      "ROC-AUC, class = 0: 0.75\n",
      "ROC-AUC, class = 1: 0.707\n",
      "ROC-AUC, class = 2: 0.709\n",
      "ROC-AUC, class = 3: 0.742\n",
      "\n",
      "ROC-AUC, micro: 0.726\n",
      "ROC-AUC, macro: 0.727\n",
      "\n",
      "TEST:\n",
      "Accuracy: 0.4767997270556124\n",
      "ROC-AUC, class = 0: 0.671\n",
      "ROC-AUC, class = 1: 0.629\n",
      "ROC-AUC, class = 2: 0.617\n",
      "ROC-AUC, class = 3: 0.682\n",
      "\n",
      "ROC-AUC, micro: 0.651\n",
      "ROC-AUC, macro: 0.65\n",
      "CPU times: user 1.28 s, sys: 52 ms, total: 1.34 s\n",
      "Wall time: 1.33 s\n"
     ]
    }
   ],
   "source": [
    "%%time\n",
    "model = MultinomialNB()\n",
    "model.fit(X_train, y_train.values)\n",
    "\n",
    "print('TRAIN:')\n",
    "train_results = get_metrics(model, X_train, y_train.values)\n",
    "\n",
    "print('\\nTEST:')\n",
    "test_results = get_metrics(model, X_test, y_test.values)\n",
    "\n",
    "table_results = table_results.append({'model-data': 'MN, simple data, ngram=(1,1)', \n",
    "                                      'ROC-AUC(micro), train':train_results[1]['micro'], \n",
    "                                      'ROC-AUC(micro), test':test_results[1]['micro'], \n",
    "                                      'Accuracy, train': train_results[0], \n",
    "                                      'Accuracy, test': test_results[0]}, ignore_index=True)"
   ]
  },
  {
   "cell_type": "markdown",
   "metadata": {
    "_uuid": "1d71f5de650ec5c9fb50239f65f88ad2c24f0ca5"
   },
   "source": [
    "### 1.2 Naive Bayes, ngram_range=(1,2)"
   ]
  },
  {
   "cell_type": "code",
   "execution_count": 15,
   "metadata": {
    "_uuid": "9e187ecc789992c015709d4635e5bc07df159c21",
    "scrolled": true
   },
   "outputs": [
    {
     "data": {
      "application/vnd.jupyter.widget-view+json": {
       "model_id": "5a838ab1871e45038cf7e781c1d67c0b",
       "version_major": 2,
       "version_minor": 0
      },
      "text/plain": [
       "HBox(children=(IntProgress(value=0, description='features', max=14, style=ProgressStyle(description_width='ini…"
      ]
     },
     "metadata": {},
     "output_type": "display_data"
    },
    {
     "name": "stdout",
     "output_type": "stream",
     "text": [
      "\n",
      "CPU times: user 2min 29s, sys: 4.91 s, total: 2min 33s\n",
      "Wall time: 2min 33s\n"
     ]
    }
   ],
   "source": [
    "%%time\n",
    "# Обучение TfidfVectorizer для текстовых признаков\n",
    "params = {\n",
    "    'posts': {'ngram_range':(1,2), 'analyzer':'word', 'max_features':20000},\n",
    "    'other': {'ngram_range':(1,1), 'analyzer':'word', 'max_features':2000}\n",
    "}\n",
    "\n",
    "X_tfidf_train, X_tfidf_test = prepare_text_features(df_train, df_test, features_text, params)\n",
    "\n",
    "X_train, X_test = prepare_X(df_train, df_test, \n",
    "                             features_binary, features_float, features_cat, \n",
    "                             X_tfidf_train, X_tfidf_test, \n",
    "                             scaler=MinMaxScaler(), verbose=0)"
   ]
  },
  {
   "cell_type": "code",
   "execution_count": 16,
   "metadata": {
    "_uuid": "86185c3c0f206206c60885e5a5fe7b5cd95339ce"
   },
   "outputs": [
    {
     "name": "stdout",
     "output_type": "stream",
     "text": [
      "TRAIN:\n",
      "Accuracy: 0.6072510130091704\n",
      "ROC-AUC, class = 0: 0.729\n",
      "ROC-AUC, class = 1: 0.738\n",
      "ROC-AUC, class = 2: 0.719\n",
      "ROC-AUC, class = 3: 0.75\n",
      "\n",
      "ROC-AUC, micro: 0.738\n",
      "ROC-AUC, macro: 0.734\n",
      "\n",
      "TEST:\n",
      "Accuracy: 0.48498805868304334\n",
      "ROC-AUC, class = 0: 0.647\n",
      "ROC-AUC, class = 1: 0.646\n",
      "ROC-AUC, class = 2: 0.621\n",
      "ROC-AUC, class = 3: 0.686\n",
      "\n",
      "ROC-AUC, micro: 0.657\n",
      "ROC-AUC, macro: 0.65\n",
      "CPU times: user 1.72 s, sys: 0 ns, total: 1.72 s\n",
      "Wall time: 1.71 s\n"
     ]
    }
   ],
   "source": [
    "%%time\n",
    "model = MultinomialNB()\n",
    "model.fit(X_train, y_train.values)\n",
    "\n",
    "print('TRAIN:')\n",
    "train_results = get_metrics(model, X_train, y_train.values)\n",
    "\n",
    "print('\\nTEST:')\n",
    "test_results = get_metrics(model, X_test, y_test.values)\n",
    "\n",
    "table_results = table_results.append({'model-data': 'MN, simple data, ngram=(1,2)', \n",
    "                                      'ROC-AUC(micro), train':train_results[1]['micro'], \n",
    "                                      'ROC-AUC(micro), test':test_results[1]['micro'], \n",
    "                                      'Accuracy, train': train_results[0], \n",
    "                                      'Accuracy, test': test_results[0]}, ignore_index=True)"
   ]
  },
  {
   "cell_type": "markdown",
   "metadata": {
    "_uuid": "5032513ada124d1256edbbfc62eec7fd66b7f7fe"
   },
   "source": [
    "### 1.3 Naive Bayes, ngram_range=(1,3)"
   ]
  },
  {
   "cell_type": "code",
   "execution_count": 17,
   "metadata": {
    "_uuid": "9071d04b2715854021907c3099cb0d574a773e46",
    "scrolled": true
   },
   "outputs": [
    {
     "data": {
      "application/vnd.jupyter.widget-view+json": {
       "model_id": "b26dab9cb87d4a1dbe8d46b2ea353f6a",
       "version_major": 2,
       "version_minor": 0
      },
      "text/plain": [
       "HBox(children=(IntProgress(value=0, description='features', max=14, style=ProgressStyle(description_width='ini…"
      ]
     },
     "metadata": {},
     "output_type": "display_data"
    },
    {
     "name": "stdout",
     "output_type": "stream",
     "text": [
      "\n",
      "CPU times: user 5min 42s, sys: 11.9 s, total: 5min 54s\n",
      "Wall time: 5min 53s\n"
     ]
    }
   ],
   "source": [
    "%%time\n",
    "# Обучение TfidfVectorizer для текстовых признаков\n",
    "params = {\n",
    "    'posts': {'ngram_range':(1,3), 'analyzer':'word', 'max_features':20000},\n",
    "    'other': {'ngram_range':(1,1), 'analyzer':'word', 'max_features':2000}\n",
    "}\n",
    "\n",
    "X_tfidf_train, X_tfidf_test = prepare_text_features(df_train, df_test, features_text, params)\n",
    "\n",
    "X_train, X_test = prepare_X(df_train, df_test, \n",
    "                             features_binary, features_float, features_cat, \n",
    "                             X_tfidf_train, X_tfidf_test, \n",
    "                             scaler=MinMaxScaler(), verbose=0)"
   ]
  },
  {
   "cell_type": "code",
   "execution_count": 18,
   "metadata": {
    "_uuid": "50e439f4d691e8552a1e39af7aab900d7fe8c0fb"
   },
   "outputs": [
    {
     "name": "stdout",
     "output_type": "stream",
     "text": [
      "TRAIN:\n",
      "Accuracy: 0.601578161654937\n",
      "ROC-AUC, class = 0: 0.725\n",
      "ROC-AUC, class = 1: 0.733\n",
      "ROC-AUC, class = 2: 0.717\n",
      "ROC-AUC, class = 3: 0.746\n",
      "\n",
      "ROC-AUC, micro: 0.734\n",
      "ROC-AUC, macro: 0.73\n",
      "\n",
      "TEST:\n",
      "Accuracy: 0.4805527123848516\n",
      "ROC-AUC, class = 0: 0.644\n",
      "ROC-AUC, class = 1: 0.642\n",
      "ROC-AUC, class = 2: 0.619\n",
      "ROC-AUC, class = 3: 0.684\n",
      "\n",
      "ROC-AUC, micro: 0.654\n",
      "ROC-AUC, macro: 0.647\n",
      "CPU times: user 1.77 s, sys: 48 ms, total: 1.82 s\n",
      "Wall time: 1.81 s\n"
     ]
    }
   ],
   "source": [
    "%%time\n",
    "model = MultinomialNB()\n",
    "model.fit(X_train, y_train.values)\n",
    "\n",
    "print('TRAIN:')\n",
    "train_results = get_metrics(model, X_train, y_train.values)\n",
    "\n",
    "print('\\nTEST:')\n",
    "test_results = get_metrics(model, X_test, y_test.values)\n",
    "\n",
    "table_results = table_results.append({'model-data': 'MN, simple data, ngram=(1,3)', \n",
    "                                      'ROC-AUC(micro), train':train_results[1]['micro'], \n",
    "                                      'ROC-AUC(micro), test':test_results[1]['micro'], \n",
    "                                      'Accuracy, train': train_results[0], \n",
    "                                      'Accuracy, test': test_results[0]}, ignore_index=True)"
   ]
  },
  {
   "cell_type": "code",
   "execution_count": 19,
   "metadata": {
    "_uuid": "3444ae6e78bed40f1b8858713969d63af3cd338c"
   },
   "outputs": [
    {
     "data": {
      "text/html": [
       "<div>\n",
       "<style scoped>\n",
       "    .dataframe tbody tr th:only-of-type {\n",
       "        vertical-align: middle;\n",
       "    }\n",
       "\n",
       "    .dataframe tbody tr th {\n",
       "        vertical-align: top;\n",
       "    }\n",
       "\n",
       "    .dataframe thead th {\n",
       "        text-align: right;\n",
       "    }\n",
       "</style>\n",
       "<table border=\"1\" class=\"dataframe\">\n",
       "  <thead>\n",
       "    <tr style=\"text-align: right;\">\n",
       "      <th></th>\n",
       "      <th>model-data</th>\n",
       "      <th>ROC-AUC(micro), train</th>\n",
       "      <th>ROC-AUC(micro), test</th>\n",
       "      <th>Accuracy, train</th>\n",
       "      <th>Accuracy, test</th>\n",
       "    </tr>\n",
       "  </thead>\n",
       "  <tbody>\n",
       "    <tr>\n",
       "      <th>0</th>\n",
       "      <td>MN, simple data, ngram=(1,1)</td>\n",
       "      <td>0.726281</td>\n",
       "      <td>0.651200</td>\n",
       "      <td>0.589422</td>\n",
       "      <td>0.476800</td>\n",
       "    </tr>\n",
       "    <tr>\n",
       "      <th>1</th>\n",
       "      <td>MN, simple data, ngram=(1,2)</td>\n",
       "      <td>0.738167</td>\n",
       "      <td>0.656659</td>\n",
       "      <td>0.607251</td>\n",
       "      <td>0.484988</td>\n",
       "    </tr>\n",
       "    <tr>\n",
       "      <th>2</th>\n",
       "      <td>MN, simple data, ngram=(1,3)</td>\n",
       "      <td>0.734385</td>\n",
       "      <td>0.653702</td>\n",
       "      <td>0.601578</td>\n",
       "      <td>0.480553</td>\n",
       "    </tr>\n",
       "  </tbody>\n",
       "</table>\n",
       "</div>"
      ],
      "text/plain": [
       "                     model-data  ROC-AUC(micro), train  ROC-AUC(micro), test  \\\n",
       "0  MN, simple data, ngram=(1,1)               0.726281              0.651200   \n",
       "1  MN, simple data, ngram=(1,2)               0.738167              0.656659   \n",
       "2  MN, simple data, ngram=(1,3)               0.734385              0.653702   \n",
       "\n",
       "   Accuracy, train  Accuracy, test  \n",
       "0         0.589422        0.476800  \n",
       "1         0.607251        0.484988  \n",
       "2         0.601578        0.480553  "
      ]
     },
     "execution_count": 19,
     "metadata": {},
     "output_type": "execute_result"
    }
   ],
   "source": [
    "table_results"
   ]
  },
  {
   "cell_type": "markdown",
   "metadata": {
    "_uuid": "dc83f73d70ad29a29192ab5e9b413a504ae2b410"
   },
   "source": [
    "### 2. Naive Bayes, с удалением стоп-слов:"
   ]
  },
  {
   "cell_type": "code",
   "execution_count": 21,
   "metadata": {
    "_uuid": "3bc0a3fb86364bac2dd94ca36897298bb16b26ad"
   },
   "outputs": [
    {
     "name": "stdout",
     "output_type": "stream",
     "text": [
      "train, shape: (23445, 33)\n",
      "test, shape: (5862, 33)\n",
      "train:\n",
      "3    0.311708\n",
      "2    0.309832\n",
      "1    0.221113\n",
      "0    0.157347\n",
      "Name: age_group, dtype: float64\n",
      "test:\n",
      "3    0.311668\n",
      "2    0.309792\n",
      "1    0.221256\n",
      "0    0.157284\n",
      "Name: age_group, dtype: float64\n"
     ]
    }
   ],
   "source": [
    "with open('../input/data__text_stop_words.pkl', 'rb') as f: \n",
    "    df = pickle.load(f)\n",
    "    \n",
    "target = df['age_group']\n",
    "df = df[features_binary+features_cat+features_float+features_text]\n",
    "\n",
    "#выбросы\n",
    "df['age_approx'] = df['age_approx'].apply(lambda x: 0.0 if x < 0 else x)\n",
    "\n",
    "df_train, df_test, y_train, y_test = train_test_split(df, target, test_size=0.2, \n",
    "                                                      shuffle=True, stratify=target.values, random_state=42)\n",
    "\n",
    "print('train, shape:', df_train.shape)\n",
    "print('test, shape:', df_test.shape)\n",
    "\n",
    "print('train:')\n",
    "print(y_train.value_counts(normalize=True))\n",
    "print('test:')\n",
    "print(y_test.value_counts(normalize=True))"
   ]
  },
  {
   "cell_type": "markdown",
   "metadata": {},
   "source": [
    "### 2.1 Naive Bayes, ngram_range=(1,1)"
   ]
  },
  {
   "cell_type": "code",
   "execution_count": 23,
   "metadata": {
    "_uuid": "6597476932dcb6178d7e922c6ad3408391dd8db4"
   },
   "outputs": [
    {
     "data": {
      "application/vnd.jupyter.widget-view+json": {
       "model_id": "8fcf8c4fe6784e00bec69dcf7958a702",
       "version_major": 2,
       "version_minor": 0
      },
      "text/plain": [
       "HBox(children=(IntProgress(value=0, description='features', max=14, style=ProgressStyle(description_width='ini…"
      ]
     },
     "metadata": {},
     "output_type": "display_data"
    },
    {
     "name": "stdout",
     "output_type": "stream",
     "text": [
      "\n",
      "CPU times: user 31.7 s, sys: 176 ms, total: 31.9 s\n",
      "Wall time: 31.9 s\n"
     ]
    }
   ],
   "source": [
    "%%time\n",
    "# Обучение TfidfVectorizer для текстовых признаков\n",
    "params = {\n",
    "    'posts': {'ngram_range':(1,1), 'analyzer':'word', 'max_features':10000},\n",
    "    'other': {'ngram_range':(1,1), 'analyzer':'word', 'max_features':2000}\n",
    "}\n",
    "\n",
    "X_tfidf_train, X_tfidf_test = prepare_text_features(df_train, df_test, features_text, params)\n",
    "\n",
    "X_train, X_test = prepare_X(df_train, df_test, \n",
    "                             features_binary, features_float, features_cat, \n",
    "                             X_tfidf_train, X_tfidf_test, \n",
    "                             scaler=MinMaxScaler(), verbose=0)"
   ]
  },
  {
   "cell_type": "code",
   "execution_count": 24,
   "metadata": {
    "_uuid": "4040d14cd30377dfd356bf2225d150d4031eefb4"
   },
   "outputs": [
    {
     "name": "stdout",
     "output_type": "stream",
     "text": [
      "TRAIN:\n",
      "Accuracy: 0.6037534655576882\n",
      "ROC-AUC, class = 0: 0.761\n",
      "ROC-AUC, class = 1: 0.726\n",
      "ROC-AUC, class = 2: 0.715\n",
      "ROC-AUC, class = 3: 0.748\n",
      "\n",
      "ROC-AUC, micro: 0.736\n",
      "ROC-AUC, macro: 0.737\n",
      "\n",
      "TEST:\n",
      "Accuracy: 0.48004094165813715\n",
      "ROC-AUC, class = 0: 0.678\n",
      "ROC-AUC, class = 1: 0.631\n",
      "ROC-AUC, class = 2: 0.616\n",
      "ROC-AUC, class = 3: 0.686\n",
      "\n",
      "ROC-AUC, micro: 0.653\n",
      "ROC-AUC, macro: 0.653\n",
      "CPU times: user 1.12 s, sys: 4 ms, total: 1.12 s\n",
      "Wall time: 1.12 s\n"
     ]
    }
   ],
   "source": [
    "%%time\n",
    "model = MultinomialNB()\n",
    "model.fit(X_train, y_train.values)\n",
    "\n",
    "print('TRAIN:')\n",
    "train_results = get_metrics(model, X_train, y_train.values)\n",
    "\n",
    "print('\\nTEST:')\n",
    "test_results = get_metrics(model, X_test, y_test.values)\n",
    "\n",
    "table_results = table_results.append({'model-data': 'MN, stop-words, ngram=(1,1)', \n",
    "                                      'ROC-AUC(micro), train':train_results[1]['micro'], \n",
    "                                      'ROC-AUC(micro), test':test_results[1]['micro'], \n",
    "                                      'Accuracy, train': train_results[0], \n",
    "                                      'Accuracy, test': test_results[0]}, ignore_index=True)"
   ]
  },
  {
   "cell_type": "markdown",
   "metadata": {},
   "source": [
    "### 2.2 Naive Bayes, ngram_range=(1,2)"
   ]
  },
  {
   "cell_type": "code",
   "execution_count": 25,
   "metadata": {
    "_uuid": "8016493ef534068e7d38d378bedaf03809168b9d"
   },
   "outputs": [
    {
     "data": {
      "application/vnd.jupyter.widget-view+json": {
       "model_id": "48488acd81634cc0a24be272363b80f7",
       "version_major": 2,
       "version_minor": 0
      },
      "text/plain": [
       "HBox(children=(IntProgress(value=0, description='features', max=14, style=ProgressStyle(description_width='ini…"
      ]
     },
     "metadata": {},
     "output_type": "display_data"
    },
    {
     "name": "stdout",
     "output_type": "stream",
     "text": [
      "\n",
      "CPU times: user 2min 27s, sys: 3.5 s, total: 2min 30s\n",
      "Wall time: 2min 30s\n"
     ]
    }
   ],
   "source": [
    "%%time\n",
    "# Обучение TfidfVectorizer для текстовых признаков\n",
    "params = {\n",
    "    'posts': {'ngram_range':(1,2), 'analyzer':'word', 'max_features':20000},\n",
    "    'other': {'ngram_range':(1,1), 'analyzer':'word', 'max_features':2000}\n",
    "}\n",
    "\n",
    "X_tfidf_train, X_tfidf_test = prepare_text_features(df_train, df_test, features_text, params)\n",
    "\n",
    "X_train, X_test = prepare_X(df_train, df_test, \n",
    "                             features_binary, features_float, features_cat, \n",
    "                             X_tfidf_train, X_tfidf_test, \n",
    "                             scaler=MinMaxScaler(), verbose=0)"
   ]
  },
  {
   "cell_type": "code",
   "execution_count": 26,
   "metadata": {
    "_uuid": "0784bf32d2056ecc713da8253eac8c0eddb6d544"
   },
   "outputs": [
    {
     "name": "stdout",
     "output_type": "stream",
     "text": [
      "TRAIN:\n",
      "Accuracy: 0.617359778204308\n",
      "ROC-AUC, class = 0: 0.725\n",
      "ROC-AUC, class = 1: 0.75\n",
      "ROC-AUC, class = 2: 0.73\n",
      "ROC-AUC, class = 3: 0.757\n",
      "\n",
      "ROC-AUC, micro: 0.745\n",
      "ROC-AUC, macro: 0.74\n",
      "\n",
      "TEST:\n",
      "Accuracy: 0.48430569771409077\n",
      "ROC-AUC, class = 0: 0.639\n",
      "ROC-AUC, class = 1: 0.645\n",
      "ROC-AUC, class = 2: 0.621\n",
      "ROC-AUC, class = 3: 0.692\n",
      "\n",
      "ROC-AUC, micro: 0.656\n",
      "ROC-AUC, macro: 0.649\n",
      "CPU times: user 1.41 s, sys: 4 ms, total: 1.41 s\n",
      "Wall time: 1.41 s\n"
     ]
    }
   ],
   "source": [
    "%%time\n",
    "model = MultinomialNB()\n",
    "model.fit(X_train, y_train.values)\n",
    "\n",
    "print('TRAIN:')\n",
    "train_results = get_metrics(model, X_train, y_train.values)\n",
    "\n",
    "print('\\nTEST:')\n",
    "test_results = get_metrics(model, X_test, y_test.values)\n",
    "\n",
    "table_results = table_results.append({'model-data': 'MN, stop-words, ngram=(1,2)', \n",
    "                                      'ROC-AUC(micro), train':train_results[1]['micro'], \n",
    "                                      'ROC-AUC(micro), test':test_results[1]['micro'], \n",
    "                                      'Accuracy, train': train_results[0], \n",
    "                                      'Accuracy, test': test_results[0]}, ignore_index=True)"
   ]
  },
  {
   "cell_type": "markdown",
   "metadata": {},
   "source": [
    "### 2.3 Naive Bayes, ngram_range=(1,3)"
   ]
  },
  {
   "cell_type": "code",
   "execution_count": 27,
   "metadata": {
    "_uuid": "80edfb421282078c43d00b2366c361b1a19ef1fb"
   },
   "outputs": [
    {
     "data": {
      "application/vnd.jupyter.widget-view+json": {
       "model_id": "f750c8b7b162497c8f8ba19914d83788",
       "version_major": 2,
       "version_minor": 0
      },
      "text/plain": [
       "HBox(children=(IntProgress(value=0, description='features', max=14, style=ProgressStyle(description_width='ini…"
      ]
     },
     "metadata": {},
     "output_type": "display_data"
    },
    {
     "name": "stdout",
     "output_type": "stream",
     "text": [
      "\n",
      "CPU times: user 5min 9s, sys: 9.07 s, total: 5min 18s\n",
      "Wall time: 5min 17s\n"
     ]
    }
   ],
   "source": [
    "%%time\n",
    "# Обучение TfidfVectorizer для текстовых признаков\n",
    "params = {\n",
    "    'posts': {'ngram_range':(1,3), 'analyzer':'word', 'max_features':20000},\n",
    "    'other': {'ngram_range':(1,1), 'analyzer':'word', 'max_features':2000}\n",
    "}\n",
    "\n",
    "X_tfidf_train, X_tfidf_test = prepare_text_features(df_train, df_test, features_text, params)\n",
    "\n",
    "X_train, X_test = prepare_X(df_train, df_test, \n",
    "                             features_binary, features_float, features_cat, \n",
    "                             X_tfidf_train, X_tfidf_test, \n",
    "                             scaler=MinMaxScaler(), verbose=0)"
   ]
  },
  {
   "cell_type": "code",
   "execution_count": 28,
   "metadata": {
    "_uuid": "7e041c59a3b20e431be3b9aaf55c91f7b234a010"
   },
   "outputs": [
    {
     "name": "stdout",
     "output_type": "stream",
     "text": [
      "TRAIN:\n",
      "Accuracy: 0.6132224354873107\n",
      "ROC-AUC, class = 0: 0.721\n",
      "ROC-AUC, class = 1: 0.745\n",
      "ROC-AUC, class = 2: 0.728\n",
      "ROC-AUC, class = 3: 0.754\n",
      "\n",
      "ROC-AUC, micro: 0.742\n",
      "ROC-AUC, macro: 0.737\n",
      "\n",
      "TEST:\n",
      "Accuracy: 0.48225861480723303\n",
      "ROC-AUC, class = 0: 0.636\n",
      "ROC-AUC, class = 1: 0.645\n",
      "ROC-AUC, class = 2: 0.621\n",
      "ROC-AUC, class = 3: 0.688\n",
      "\n",
      "ROC-AUC, micro: 0.655\n",
      "ROC-AUC, macro: 0.647\n",
      "CPU times: user 1.43 s, sys: 8 ms, total: 1.44 s\n",
      "Wall time: 1.43 s\n"
     ]
    }
   ],
   "source": [
    "%%time\n",
    "model = MultinomialNB()\n",
    "model.fit(X_train, y_train.values)\n",
    "\n",
    "print('TRAIN:')\n",
    "train_results = get_metrics(model, X_train, y_train.values)\n",
    "\n",
    "print('\\nTEST:')\n",
    "test_results = get_metrics(model, X_test, y_test.values)\n",
    "\n",
    "table_results = table_results.append({'model-data': 'MN, stop-words, ngram=(1,3)', \n",
    "                                      'ROC-AUC(micro), train':train_results[1]['micro'], \n",
    "                                      'ROC-AUC(micro), test':test_results[1]['micro'], \n",
    "                                      'Accuracy, train': train_results[0], \n",
    "                                      'Accuracy, test': test_results[0]}, ignore_index=True)"
   ]
  },
  {
   "cell_type": "code",
   "execution_count": 29,
   "metadata": {
    "_uuid": "37441e612c51819d061352493957486429ee57e6"
   },
   "outputs": [
    {
     "data": {
      "text/html": [
       "<div>\n",
       "<style scoped>\n",
       "    .dataframe tbody tr th:only-of-type {\n",
       "        vertical-align: middle;\n",
       "    }\n",
       "\n",
       "    .dataframe tbody tr th {\n",
       "        vertical-align: top;\n",
       "    }\n",
       "\n",
       "    .dataframe thead th {\n",
       "        text-align: right;\n",
       "    }\n",
       "</style>\n",
       "<table border=\"1\" class=\"dataframe\">\n",
       "  <thead>\n",
       "    <tr style=\"text-align: right;\">\n",
       "      <th></th>\n",
       "      <th>model-data</th>\n",
       "      <th>ROC-AUC(micro), train</th>\n",
       "      <th>ROC-AUC(micro), test</th>\n",
       "      <th>Accuracy, train</th>\n",
       "      <th>Accuracy, test</th>\n",
       "    </tr>\n",
       "  </thead>\n",
       "  <tbody>\n",
       "    <tr>\n",
       "      <th>0</th>\n",
       "      <td>MN, simple data, ngram=(1,1)</td>\n",
       "      <td>0.726281</td>\n",
       "      <td>0.651200</td>\n",
       "      <td>0.589422</td>\n",
       "      <td>0.476800</td>\n",
       "    </tr>\n",
       "    <tr>\n",
       "      <th>1</th>\n",
       "      <td>MN, simple data, ngram=(1,2)</td>\n",
       "      <td>0.738167</td>\n",
       "      <td>0.656659</td>\n",
       "      <td>0.607251</td>\n",
       "      <td>0.484988</td>\n",
       "    </tr>\n",
       "    <tr>\n",
       "      <th>2</th>\n",
       "      <td>MN, simple data, ngram=(1,3)</td>\n",
       "      <td>0.734385</td>\n",
       "      <td>0.653702</td>\n",
       "      <td>0.601578</td>\n",
       "      <td>0.480553</td>\n",
       "    </tr>\n",
       "    <tr>\n",
       "      <th>3</th>\n",
       "      <td>MN, stop-words, ngram=(1,1)</td>\n",
       "      <td>0.735836</td>\n",
       "      <td>0.653361</td>\n",
       "      <td>0.603753</td>\n",
       "      <td>0.480041</td>\n",
       "    </tr>\n",
       "    <tr>\n",
       "      <th>4</th>\n",
       "      <td>MN, stop-words, ngram=(1,2)</td>\n",
       "      <td>0.744907</td>\n",
       "      <td>0.656204</td>\n",
       "      <td>0.617360</td>\n",
       "      <td>0.484306</td>\n",
       "    </tr>\n",
       "    <tr>\n",
       "      <th>5</th>\n",
       "      <td>MN, stop-words, ngram=(1,3)</td>\n",
       "      <td>0.742148</td>\n",
       "      <td>0.654839</td>\n",
       "      <td>0.613222</td>\n",
       "      <td>0.482259</td>\n",
       "    </tr>\n",
       "  </tbody>\n",
       "</table>\n",
       "</div>"
      ],
      "text/plain": [
       "                     model-data  ROC-AUC(micro), train  ROC-AUC(micro), test  \\\n",
       "0  MN, simple data, ngram=(1,1)               0.726281              0.651200   \n",
       "1  MN, simple data, ngram=(1,2)               0.738167              0.656659   \n",
       "2  MN, simple data, ngram=(1,3)               0.734385              0.653702   \n",
       "3   MN, stop-words, ngram=(1,1)               0.735836              0.653361   \n",
       "4   MN, stop-words, ngram=(1,2)               0.744907              0.656204   \n",
       "5   MN, stop-words, ngram=(1,3)               0.742148              0.654839   \n",
       "\n",
       "   Accuracy, train  Accuracy, test  \n",
       "0         0.589422        0.476800  \n",
       "1         0.607251        0.484988  \n",
       "2         0.601578        0.480553  \n",
       "3         0.603753        0.480041  \n",
       "4         0.617360        0.484306  \n",
       "5         0.613222        0.482259  "
      ]
     },
     "execution_count": 29,
     "metadata": {},
     "output_type": "execute_result"
    }
   ],
   "source": [
    "table_results"
   ]
  },
  {
   "cell_type": "markdown",
   "metadata": {
    "_uuid": "2bc6115b75270929a2b278e52b2593469e39a171"
   },
   "source": [
    "### 3. Naive Bayes, с удалением стоп-слов и лемматизацией:"
   ]
  },
  {
   "cell_type": "code",
   "execution_count": 31,
   "metadata": {
    "_uuid": "3c75afa1a7622e41929f7bd495b5e8341f63a4f9"
   },
   "outputs": [
    {
     "name": "stdout",
     "output_type": "stream",
     "text": [
      "train, shape: (23445, 33)\n",
      "test, shape: (5862, 33)\n",
      "train:\n",
      "3    0.311708\n",
      "2    0.309832\n",
      "1    0.221113\n",
      "0    0.157347\n",
      "Name: age_group, dtype: float64\n",
      "test:\n",
      "3    0.311668\n",
      "2    0.309792\n",
      "1    0.221256\n",
      "0    0.157284\n",
      "Name: age_group, dtype: float64\n"
     ]
    }
   ],
   "source": [
    "with open('../input/data__text_lemmatization.pkl', 'rb') as f: \n",
    "    df = pickle.load(f)\n",
    "    \n",
    "target = df['age_group']\n",
    "df = df[features_binary+features_cat+features_float+features_text]\n",
    "\n",
    "#выбросы\n",
    "df['age_approx'] = df['age_approx'].apply(lambda x: 0.0 if x < 0 else x)\n",
    "\n",
    "df_train, df_test, y_train, y_test = train_test_split(df, target, test_size=0.2, \n",
    "                                                      shuffle=True, stratify=target.values, random_state=42)\n",
    "\n",
    "print('train, shape:', df_train.shape)\n",
    "print('test, shape:', df_test.shape)\n",
    "\n",
    "print('train:')\n",
    "print(y_train.value_counts(normalize=True))\n",
    "print('test:')\n",
    "print(y_test.value_counts(normalize=True))"
   ]
  },
  {
   "cell_type": "markdown",
   "metadata": {},
   "source": [
    "### 3.1 Naive Bayes, ngram_range=(1,1)"
   ]
  },
  {
   "cell_type": "code",
   "execution_count": 33,
   "metadata": {
    "_uuid": "1d30cb6c034747aaa0ca47ee1948a58f807fac05"
   },
   "outputs": [
    {
     "data": {
      "application/vnd.jupyter.widget-view+json": {
       "model_id": "ad72c129a0b543f1b18ee06d2a2d73fd",
       "version_major": 2,
       "version_minor": 0
      },
      "text/plain": [
       "HBox(children=(IntProgress(value=0, description='features', max=14, style=ProgressStyle(description_width='ini…"
      ]
     },
     "metadata": {},
     "output_type": "display_data"
    },
    {
     "name": "stdout",
     "output_type": "stream",
     "text": [
      "\n",
      "CPU times: user 24.9 s, sys: 168 ms, total: 25 s\n",
      "Wall time: 25 s\n"
     ]
    }
   ],
   "source": [
    "%%time\n",
    "# Обучение TfidfVectorizer для текстовых признаков\n",
    "params = {\n",
    "    'posts': {'ngram_range':(1,1), 'analyzer':'word', 'max_features':10000},\n",
    "    'other': {'ngram_range':(1,1), 'analyzer':'word', 'max_features':2000}\n",
    "}\n",
    "\n",
    "X_tfidf_train, X_tfidf_test = prepare_text_features(df_train, df_test, features_text, params)\n",
    "\n",
    "X_train, X_test = prepare_X(df_train, df_test, \n",
    "                             features_binary, features_float, features_cat, \n",
    "                             X_tfidf_train, X_tfidf_test, \n",
    "                             scaler=MinMaxScaler(), verbose=0)"
   ]
  },
  {
   "cell_type": "code",
   "execution_count": 34,
   "metadata": {
    "_uuid": "5330baed26e76cac570bb6ae62772ee3ebf96e4d"
   },
   "outputs": [
    {
     "name": "stdout",
     "output_type": "stream",
     "text": [
      "TRAIN:\n",
      "Accuracy: 0.5989336745574749\n",
      "ROC-AUC, class = 0: 0.757\n",
      "ROC-AUC, class = 1: 0.719\n",
      "ROC-AUC, class = 2: 0.711\n",
      "ROC-AUC, class = 3: 0.747\n",
      "\n",
      "ROC-AUC, micro: 0.733\n",
      "ROC-AUC, macro: 0.733\n",
      "\n",
      "TEST:\n",
      "Accuracy: 0.48430569771409077\n",
      "ROC-AUC, class = 0: 0.677\n",
      "ROC-AUC, class = 1: 0.63\n",
      "ROC-AUC, class = 2: 0.62\n",
      "ROC-AUC, class = 3: 0.692\n",
      "\n",
      "ROC-AUC, micro: 0.656\n",
      "ROC-AUC, macro: 0.655\n",
      "CPU times: user 1.19 s, sys: 0 ns, total: 1.19 s\n",
      "Wall time: 1.18 s\n"
     ]
    }
   ],
   "source": [
    "%%time\n",
    "model = MultinomialNB()\n",
    "model.fit(X_train, y_train.values)\n",
    "\n",
    "print('TRAIN:')\n",
    "train_results = get_metrics(model, X_train, y_train.values)\n",
    "\n",
    "print('\\nTEST:')\n",
    "test_results = get_metrics(model, X_test, y_test.values)\n",
    "\n",
    "table_results = table_results.append({'model-data': 'MN, lemmatization, ngram=(1,1)', \n",
    "                                      'ROC-AUC(micro), train':train_results[1]['micro'], \n",
    "                                      'ROC-AUC(micro), test':test_results[1]['micro'], \n",
    "                                      'Accuracy, train': train_results[0], \n",
    "                                      'Accuracy, test': test_results[0]}, ignore_index=True)"
   ]
  },
  {
   "cell_type": "markdown",
   "metadata": {},
   "source": [
    "### 3.2 Naive Bayes, ngram_range=(1,2)"
   ]
  },
  {
   "cell_type": "code",
   "execution_count": 35,
   "metadata": {
    "_uuid": "ab572c134ad62e487ac9e50bbf9b74440dad253c"
   },
   "outputs": [
    {
     "data": {
      "application/vnd.jupyter.widget-view+json": {
       "model_id": "ec091d80570749399f552ef495ebc1ce",
       "version_major": 2,
       "version_minor": 0
      },
      "text/plain": [
       "HBox(children=(IntProgress(value=0, description='features', max=14, style=ProgressStyle(description_width='ini…"
      ]
     },
     "metadata": {},
     "output_type": "display_data"
    },
    {
     "name": "stdout",
     "output_type": "stream",
     "text": [
      "\n",
      "CPU times: user 2min 2s, sys: 3.31 s, total: 2min 6s\n",
      "Wall time: 2min 5s\n"
     ]
    }
   ],
   "source": [
    "%%time\n",
    "# Обучение TfidfVectorizer для текстовых признаков\n",
    "params = {\n",
    "    'posts': {'ngram_range':(1,2), 'analyzer':'word', 'max_features':20000},\n",
    "    'other': {'ngram_range':(1,1), 'analyzer':'word', 'max_features':2000}\n",
    "}\n",
    "\n",
    "X_tfidf_train, X_tfidf_test = prepare_text_features(df_train, df_test, features_text, params)\n",
    "\n",
    "X_train, X_test = prepare_X(df_train, df_test, \n",
    "                             features_binary, features_float, features_cat, \n",
    "                             X_tfidf_train, X_tfidf_test, \n",
    "                             scaler=MinMaxScaler(), verbose=0)"
   ]
  },
  {
   "cell_type": "code",
   "execution_count": 36,
   "metadata": {
    "_uuid": "3e8dc504d7e91cda9c3d7db54d1c77e6c2133293"
   },
   "outputs": [
    {
     "name": "stdout",
     "output_type": "stream",
     "text": [
      "TRAIN:\n",
      "Accuracy: 0.6107485604606526\n",
      "ROC-AUC, class = 0: 0.72\n",
      "ROC-AUC, class = 1: 0.741\n",
      "ROC-AUC, class = 2: 0.722\n",
      "ROC-AUC, class = 3: 0.755\n",
      "\n",
      "ROC-AUC, micro: 0.74\n",
      "ROC-AUC, macro: 0.735\n",
      "\n",
      "TEST:\n",
      "Accuracy: 0.48618219037871035\n",
      "ROC-AUC, class = 0: 0.639\n",
      "ROC-AUC, class = 1: 0.65\n",
      "ROC-AUC, class = 2: 0.617\n",
      "ROC-AUC, class = 3: 0.693\n",
      "\n",
      "ROC-AUC, micro: 0.657\n",
      "ROC-AUC, macro: 0.65\n",
      "CPU times: user 1.43 s, sys: 0 ns, total: 1.43 s\n",
      "Wall time: 1.43 s\n"
     ]
    }
   ],
   "source": [
    "%%time\n",
    "model = MultinomialNB()\n",
    "model.fit(X_train, y_train.values)\n",
    "\n",
    "print('TRAIN:')\n",
    "train_results = get_metrics(model, X_train, y_train.values)\n",
    "\n",
    "print('\\nTEST:')\n",
    "test_results = get_metrics(model, X_test, y_test.values)\n",
    "\n",
    "table_results = table_results.append({'model-data': 'MN, lemmatization, ngram=(1,2)', \n",
    "                                      'ROC-AUC(micro), train':train_results[1]['micro'], \n",
    "                                      'ROC-AUC(micro), test':test_results[1]['micro'], \n",
    "                                      'Accuracy, train': train_results[0], \n",
    "                                      'Accuracy, test': test_results[0]}, ignore_index=True)"
   ]
  },
  {
   "cell_type": "markdown",
   "metadata": {},
   "source": [
    "### 3.3 Naive Bayes, ngram_range=(1,3)"
   ]
  },
  {
   "cell_type": "code",
   "execution_count": 37,
   "metadata": {
    "_uuid": "86face47213b3142a8192eb44747342a9f016d2e"
   },
   "outputs": [
    {
     "data": {
      "application/vnd.jupyter.widget-view+json": {
       "model_id": "6ca4dbdb04994d2cb1f5af1ed4a75b13",
       "version_major": 2,
       "version_minor": 0
      },
      "text/plain": [
       "HBox(children=(IntProgress(value=0, description='features', max=14, style=ProgressStyle(description_width='ini…"
      ]
     },
     "metadata": {},
     "output_type": "display_data"
    },
    {
     "name": "stdout",
     "output_type": "stream",
     "text": [
      "\n",
      "CPU times: user 4min 18s, sys: 7.67 s, total: 4min 26s\n",
      "Wall time: 4min 25s\n"
     ]
    }
   ],
   "source": [
    "%%time\n",
    "# Обучение TfidfVectorizer для текстовых признаков\n",
    "params = {\n",
    "    'posts': {'ngram_range':(1,3), 'analyzer':'word', 'max_features':20000},\n",
    "    'other': {'ngram_range':(1,1), 'analyzer':'word', 'max_features':2000}\n",
    "}\n",
    "\n",
    "X_tfidf_train, X_tfidf_test = prepare_text_features(df_train, df_test, features_text, params)\n",
    "\n",
    "X_train, X_test = prepare_X(df_train, df_test, \n",
    "                             features_binary, features_float, features_cat, \n",
    "                             X_tfidf_train, X_tfidf_test, \n",
    "                             scaler=MinMaxScaler(), verbose=0)"
   ]
  },
  {
   "cell_type": "code",
   "execution_count": 38,
   "metadata": {
    "_uuid": "25f476797aae5bfe165b5d2b7bbaf19b887528e4"
   },
   "outputs": [
    {
     "name": "stdout",
     "output_type": "stream",
     "text": [
      "TRAIN:\n",
      "Accuracy: 0.6075922371507784\n",
      "ROC-AUC, class = 0: 0.717\n",
      "ROC-AUC, class = 1: 0.738\n",
      "ROC-AUC, class = 2: 0.721\n",
      "ROC-AUC, class = 3: 0.752\n",
      "\n",
      "ROC-AUC, micro: 0.738\n",
      "ROC-AUC, macro: 0.732\n",
      "\n",
      "TEST:\n",
      "Accuracy: 0.48430569771409077\n",
      "ROC-AUC, class = 0: 0.638\n",
      "ROC-AUC, class = 1: 0.65\n",
      "ROC-AUC, class = 2: 0.616\n",
      "ROC-AUC, class = 3: 0.689\n",
      "\n",
      "ROC-AUC, micro: 0.656\n",
      "ROC-AUC, macro: 0.648\n",
      "CPU times: user 1.43 s, sys: 0 ns, total: 1.43 s\n",
      "Wall time: 1.43 s\n"
     ]
    }
   ],
   "source": [
    "%%time\n",
    "model = MultinomialNB()\n",
    "model.fit(X_train, y_train.values)\n",
    "\n",
    "print('TRAIN:')\n",
    "train_results = get_metrics(model, X_train, y_train.values)\n",
    "\n",
    "print('\\nTEST:')\n",
    "test_results = get_metrics(model, X_test, y_test.values)\n",
    "\n",
    "table_results = table_results.append({'model-data': 'MN, lemmatization, ngram=(1,3)', \n",
    "                                      'ROC-AUC(micro), train':train_results[1]['micro'], \n",
    "                                      'ROC-AUC(micro), test':test_results[1]['micro'], \n",
    "                                      'Accuracy, train': train_results[0], \n",
    "                                      'Accuracy, test': test_results[0]}, ignore_index=True)"
   ]
  },
  {
   "cell_type": "code",
   "execution_count": null,
   "metadata": {},
   "outputs": [],
   "source": []
  },
  {
   "cell_type": "markdown",
   "metadata": {},
   "source": [
    "Как видно из таблицы, лучшие результаты получились при построении биграмм с удалением стоп-слов и лемматизацией. В целом, разница для тестовой выборки в roc-auc заметна только в третьем знаке. Точность около 0.5. Это лучше случайного гадания из 4-х классов примерно в 2 раза. "
   ]
  },
  {
   "cell_type": "code",
   "execution_count": 41,
   "metadata": {
    "_uuid": "8dc3e5abada5e68c5dd7aa8874558644f7233197"
   },
   "outputs": [
    {
     "data": {
      "text/html": [
       "<div>\n",
       "<style scoped>\n",
       "    .dataframe tbody tr th:only-of-type {\n",
       "        vertical-align: middle;\n",
       "    }\n",
       "\n",
       "    .dataframe tbody tr th {\n",
       "        vertical-align: top;\n",
       "    }\n",
       "\n",
       "    .dataframe thead th {\n",
       "        text-align: right;\n",
       "    }\n",
       "</style>\n",
       "<table border=\"1\" class=\"dataframe\">\n",
       "  <thead>\n",
       "    <tr style=\"text-align: right;\">\n",
       "      <th></th>\n",
       "      <th>model-data</th>\n",
       "      <th>ROC-AUC(micro), train</th>\n",
       "      <th>ROC-AUC(micro), test</th>\n",
       "      <th>Accuracy, train</th>\n",
       "      <th>Accuracy, test</th>\n",
       "    </tr>\n",
       "  </thead>\n",
       "  <tbody>\n",
       "    <tr>\n",
       "      <th>7</th>\n",
       "      <td>MN, lemmatization, ngram=(1,2)</td>\n",
       "      <td>0.740499</td>\n",
       "      <td>0.657455</td>\n",
       "      <td>0.610749</td>\n",
       "      <td>0.486182</td>\n",
       "    </tr>\n",
       "    <tr>\n",
       "      <th>1</th>\n",
       "      <td>MN, simple data, ngram=(1,2)</td>\n",
       "      <td>0.738167</td>\n",
       "      <td>0.656659</td>\n",
       "      <td>0.607251</td>\n",
       "      <td>0.484988</td>\n",
       "    </tr>\n",
       "    <tr>\n",
       "      <th>4</th>\n",
       "      <td>MN, stop-words, ngram=(1,2)</td>\n",
       "      <td>0.744907</td>\n",
       "      <td>0.656204</td>\n",
       "      <td>0.617360</td>\n",
       "      <td>0.484306</td>\n",
       "    </tr>\n",
       "    <tr>\n",
       "      <th>6</th>\n",
       "      <td>MN, lemmatization, ngram=(1,1)</td>\n",
       "      <td>0.732622</td>\n",
       "      <td>0.656204</td>\n",
       "      <td>0.598934</td>\n",
       "      <td>0.484306</td>\n",
       "    </tr>\n",
       "    <tr>\n",
       "      <th>8</th>\n",
       "      <td>MN, lemmatization, ngram=(1,3)</td>\n",
       "      <td>0.738395</td>\n",
       "      <td>0.656204</td>\n",
       "      <td>0.607592</td>\n",
       "      <td>0.484306</td>\n",
       "    </tr>\n",
       "    <tr>\n",
       "      <th>5</th>\n",
       "      <td>MN, stop-words, ngram=(1,3)</td>\n",
       "      <td>0.742148</td>\n",
       "      <td>0.654839</td>\n",
       "      <td>0.613222</td>\n",
       "      <td>0.482259</td>\n",
       "    </tr>\n",
       "    <tr>\n",
       "      <th>2</th>\n",
       "      <td>MN, simple data, ngram=(1,3)</td>\n",
       "      <td>0.734385</td>\n",
       "      <td>0.653702</td>\n",
       "      <td>0.601578</td>\n",
       "      <td>0.480553</td>\n",
       "    </tr>\n",
       "    <tr>\n",
       "      <th>3</th>\n",
       "      <td>MN, stop-words, ngram=(1,1)</td>\n",
       "      <td>0.735836</td>\n",
       "      <td>0.653361</td>\n",
       "      <td>0.603753</td>\n",
       "      <td>0.480041</td>\n",
       "    </tr>\n",
       "    <tr>\n",
       "      <th>0</th>\n",
       "      <td>MN, simple data, ngram=(1,1)</td>\n",
       "      <td>0.726281</td>\n",
       "      <td>0.651200</td>\n",
       "      <td>0.589422</td>\n",
       "      <td>0.476800</td>\n",
       "    </tr>\n",
       "  </tbody>\n",
       "</table>\n",
       "</div>"
      ],
      "text/plain": [
       "                       model-data  ROC-AUC(micro), train  \\\n",
       "7  MN, lemmatization, ngram=(1,2)               0.740499   \n",
       "1    MN, simple data, ngram=(1,2)               0.738167   \n",
       "4     MN, stop-words, ngram=(1,2)               0.744907   \n",
       "6  MN, lemmatization, ngram=(1,1)               0.732622   \n",
       "8  MN, lemmatization, ngram=(1,3)               0.738395   \n",
       "5     MN, stop-words, ngram=(1,3)               0.742148   \n",
       "2    MN, simple data, ngram=(1,3)               0.734385   \n",
       "3     MN, stop-words, ngram=(1,1)               0.735836   \n",
       "0    MN, simple data, ngram=(1,1)               0.726281   \n",
       "\n",
       "   ROC-AUC(micro), test  Accuracy, train  Accuracy, test  \n",
       "7              0.657455         0.610749        0.486182  \n",
       "1              0.656659         0.607251        0.484988  \n",
       "4              0.656204         0.617360        0.484306  \n",
       "6              0.656204         0.598934        0.484306  \n",
       "8              0.656204         0.607592        0.484306  \n",
       "5              0.654839         0.613222        0.482259  \n",
       "2              0.653702         0.601578        0.480553  \n",
       "3              0.653361         0.603753        0.480041  \n",
       "0              0.651200         0.589422        0.476800  "
      ]
     },
     "execution_count": 41,
     "metadata": {},
     "output_type": "execute_result"
    }
   ],
   "source": [
    "table_results.sort_values(by='ROC-AUC(micro), test', ascending=False)"
   ]
  },
  {
   "cell_type": "markdown",
   "metadata": {},
   "source": [
    "Попробуем улучшить результаты модели подбором параметра alpha: "
   ]
  },
  {
   "cell_type": "markdown",
   "metadata": {
    "_uuid": "2ea8b55f22f97b438a15f96240870a20adc0faa0"
   },
   "source": [
    "### Naive Bayes, лучшая модель: "
   ]
  },
  {
   "cell_type": "code",
   "execution_count": 57,
   "metadata": {
    "_uuid": "7abcaa0b31c417106532d0107e7ef071bb71eb86"
   },
   "outputs": [
    {
     "data": {
      "application/vnd.jupyter.widget-view+json": {
       "model_id": "83d39b1ec8894b478b9b147f9660fb32",
       "version_major": 2,
       "version_minor": 0
      },
      "text/plain": [
       "HBox(children=(IntProgress(value=0, description='features', max=14, style=ProgressStyle(description_width='ini…"
      ]
     },
     "metadata": {},
     "output_type": "display_data"
    },
    {
     "name": "stdout",
     "output_type": "stream",
     "text": [
      "\n"
     ]
    }
   ],
   "source": [
    "params = {\n",
    "    'posts': {'ngram_range':(1,2), 'analyzer':'word', 'max_features':20000},\n",
    "    'other': {'ngram_range':(1,1), 'analyzer':'word', 'max_features':2000}\n",
    "}\n",
    "\n",
    "X_tfidf_train, X_tfidf_test = prepare_text_features(df_train, df_test, features_text, params)\n",
    "\n",
    "X_train, X_test = prepare_X(df_train, df_test, \n",
    "                             features_binary, features_float, features_cat, \n",
    "                             X_tfidf_train, X_tfidf_test, \n",
    "                             scaler=MinMaxScaler(), verbose=0)"
   ]
  },
  {
   "cell_type": "markdown",
   "metadata": {
    "_uuid": "ec4ccb235627dfbd94b38ed3168a1a9f198c0443"
   },
   "source": [
    "#### Подбор параметра alpha:"
   ]
  },
  {
   "cell_type": "code",
   "execution_count": 58,
   "metadata": {
    "_kg_hide-output": false,
    "_uuid": "d4f05def325252f036e8f0d4b1234b73fa4e398d",
    "scrolled": true
   },
   "outputs": [
    {
     "name": "stdout",
     "output_type": "stream",
     "text": [
      "Parameter, alpha = 0.1\n",
      "TRAIN:\n",
      "Accuracy: 0.6128812113457027\n",
      "ROC-AUC, class = 0: 0.835\n",
      "ROC-AUC, class = 1: 0.724\n",
      "ROC-AUC, class = 2: 0.722\n",
      "ROC-AUC, class = 3: 0.755\n",
      "\n",
      "ROC-AUC, micro: 0.742\n",
      "ROC-AUC, macro: 0.759\n",
      "TEST:\n",
      "Accuracy: 0.4643466393722279\n",
      "ROC-AUC, class = 0: 0.727\n",
      "ROC-AUC, class = 1: 0.605\n",
      "ROC-AUC, class = 2: 0.611\n",
      "ROC-AUC, class = 3: 0.684\n",
      "\n",
      "ROC-AUC, micro: 0.643\n",
      "ROC-AUC, macro: 0.657\n",
      "----------------------------------------------------------------------------------------------------\n",
      "Parameter, alpha = 0.2\n",
      "TRAIN:\n",
      "Accuracy: 0.6086159095756025\n",
      "ROC-AUC, class = 0: 0.828\n",
      "ROC-AUC, class = 1: 0.724\n",
      "ROC-AUC, class = 2: 0.718\n",
      "ROC-AUC, class = 3: 0.751\n",
      "\n",
      "ROC-AUC, micro: 0.739\n",
      "ROC-AUC, macro: 0.755\n",
      "TEST:\n",
      "Accuracy: 0.46673490276356194\n",
      "ROC-AUC, class = 0: 0.727\n",
      "ROC-AUC, class = 1: 0.609\n",
      "ROC-AUC, class = 2: 0.611\n",
      "ROC-AUC, class = 3: 0.685\n",
      "\n",
      "ROC-AUC, micro: 0.644\n",
      "ROC-AUC, macro: 0.658\n",
      "----------------------------------------------------------------------------------------------------\n",
      "Parameter, alpha = 0.30000000000000004\n",
      "TRAIN:\n",
      "Accuracy: 0.6102793772659416\n",
      "ROC-AUC, class = 0: 0.823\n",
      "ROC-AUC, class = 1: 0.73\n",
      "ROC-AUC, class = 2: 0.717\n",
      "ROC-AUC, class = 3: 0.751\n",
      "\n",
      "ROC-AUC, micro: 0.74\n",
      "ROC-AUC, macro: 0.755\n",
      "TEST:\n",
      "Accuracy: 0.4657113613101331\n",
      "ROC-AUC, class = 0: 0.719\n",
      "ROC-AUC, class = 1: 0.607\n",
      "ROC-AUC, class = 2: 0.61\n",
      "ROC-AUC, class = 3: 0.686\n",
      "\n",
      "ROC-AUC, micro: 0.644\n",
      "ROC-AUC, macro: 0.656\n",
      "----------------------------------------------------------------------------------------------------\n",
      "Parameter, alpha = 0.4\n",
      "TRAIN:\n",
      "Accuracy: 0.6121561100447857\n",
      "ROC-AUC, class = 0: 0.818\n",
      "ROC-AUC, class = 1: 0.734\n",
      "ROC-AUC, class = 2: 0.716\n",
      "ROC-AUC, class = 3: 0.751\n",
      "\n",
      "ROC-AUC, micro: 0.741\n",
      "ROC-AUC, macro: 0.755\n",
      "TEST:\n",
      "Accuracy: 0.46792903445922895\n",
      "ROC-AUC, class = 0: 0.713\n",
      "ROC-AUC, class = 1: 0.61\n",
      "ROC-AUC, class = 2: 0.611\n",
      "ROC-AUC, class = 3: 0.687\n",
      "\n",
      "ROC-AUC, micro: 0.645\n",
      "ROC-AUC, macro: 0.655\n",
      "----------------------------------------------------------------------------------------------------\n",
      "Parameter, alpha = 0.5\n",
      "TRAIN:\n",
      "Accuracy: 0.6147579441245468\n",
      "ROC-AUC, class = 0: 0.813\n",
      "ROC-AUC, class = 1: 0.737\n",
      "ROC-AUC, class = 2: 0.718\n",
      "ROC-AUC, class = 3: 0.751\n",
      "\n",
      "ROC-AUC, micro: 0.743\n",
      "ROC-AUC, macro: 0.755\n",
      "TEST:\n",
      "Accuracy: 0.47082906857727735\n",
      "ROC-AUC, class = 0: 0.702\n",
      "ROC-AUC, class = 1: 0.617\n",
      "ROC-AUC, class = 2: 0.613\n",
      "ROC-AUC, class = 3: 0.688\n",
      "\n",
      "ROC-AUC, micro: 0.647\n",
      "ROC-AUC, macro: 0.655\n",
      "----------------------------------------------------------------------------------------------------\n",
      "Parameter, alpha = 0.6\n",
      "TRAIN:\n",
      "Accuracy: 0.61744508423971\n",
      "ROC-AUC, class = 0: 0.805\n",
      "ROC-AUC, class = 1: 0.74\n",
      "ROC-AUC, class = 2: 0.72\n",
      "ROC-AUC, class = 3: 0.753\n",
      "\n",
      "ROC-AUC, micro: 0.745\n",
      "ROC-AUC, macro: 0.754\n",
      "TEST:\n",
      "Accuracy: 0.4756055953599454\n",
      "ROC-AUC, class = 0: 0.698\n",
      "ROC-AUC, class = 1: 0.623\n",
      "ROC-AUC, class = 2: 0.614\n",
      "ROC-AUC, class = 3: 0.689\n",
      "\n",
      "ROC-AUC, micro: 0.65\n",
      "ROC-AUC, macro: 0.656\n",
      "----------------------------------------------------------------------------------------------------\n",
      "Parameter, alpha = 0.7000000000000001\n",
      "TRAIN:\n",
      "Accuracy: 0.6165067178502879\n",
      "ROC-AUC, class = 0: 0.791\n",
      "ROC-AUC, class = 1: 0.738\n",
      "ROC-AUC, class = 2: 0.722\n",
      "ROC-AUC, class = 3: 0.753\n",
      "\n",
      "ROC-AUC, micro: 0.744\n",
      "ROC-AUC, macro: 0.751\n",
      "TEST:\n",
      "Accuracy: 0.4767997270556124\n",
      "ROC-AUC, class = 0: 0.688\n",
      "ROC-AUC, class = 1: 0.626\n",
      "ROC-AUC, class = 2: 0.614\n",
      "ROC-AUC, class = 3: 0.689\n",
      "\n",
      "ROC-AUC, micro: 0.651\n",
      "ROC-AUC, macro: 0.654\n",
      "----------------------------------------------------------------------------------------------------\n",
      "Parameter, alpha = 0.8\n",
      "TRAIN:\n",
      "Accuracy: 0.6159948816378759\n",
      "ROC-AUC, class = 0: 0.778\n",
      "ROC-AUC, class = 1: 0.737\n",
      "ROC-AUC, class = 2: 0.723\n",
      "ROC-AUC, class = 3: 0.754\n",
      "\n",
      "ROC-AUC, micro: 0.744\n",
      "ROC-AUC, macro: 0.748\n",
      "TEST:\n",
      "Accuracy: 0.47884680996247014\n",
      "ROC-AUC, class = 0: 0.677\n",
      "ROC-AUC, class = 1: 0.628\n",
      "ROC-AUC, class = 2: 0.615\n",
      "ROC-AUC, class = 3: 0.691\n",
      "\n",
      "ROC-AUC, micro: 0.653\n",
      "ROC-AUC, macro: 0.653\n",
      "----------------------------------------------------------------------------------------------------\n",
      "Parameter, alpha = 0.9\n",
      "TRAIN:\n",
      "Accuracy: 0.6166346769033909\n",
      "ROC-AUC, class = 0: 0.748\n",
      "ROC-AUC, class = 1: 0.746\n",
      "ROC-AUC, class = 2: 0.722\n",
      "ROC-AUC, class = 3: 0.755\n",
      "\n",
      "ROC-AUC, micro: 0.744\n",
      "ROC-AUC, macro: 0.742\n",
      "TEST:\n",
      "Accuracy: 0.4860116001364722\n",
      "ROC-AUC, class = 0: 0.65\n",
      "ROC-AUC, class = 1: 0.648\n",
      "ROC-AUC, class = 2: 0.615\n",
      "ROC-AUC, class = 3: 0.694\n",
      "\n",
      "ROC-AUC, micro: 0.657\n",
      "ROC-AUC, macro: 0.652\n",
      "----------------------------------------------------------------------------------------------------\n",
      "Parameter, alpha = 1.0\n",
      "TRAIN:\n",
      "Accuracy: 0.6107485604606526\n",
      "ROC-AUC, class = 0: 0.72\n",
      "ROC-AUC, class = 1: 0.741\n",
      "ROC-AUC, class = 2: 0.722\n",
      "ROC-AUC, class = 3: 0.755\n",
      "\n",
      "ROC-AUC, micro: 0.74\n",
      "ROC-AUC, macro: 0.735\n",
      "TEST:\n",
      "Accuracy: 0.48618219037871035\n",
      "ROC-AUC, class = 0: 0.639\n",
      "ROC-AUC, class = 1: 0.65\n",
      "ROC-AUC, class = 2: 0.617\n",
      "ROC-AUC, class = 3: 0.693\n",
      "\n",
      "ROC-AUC, micro: 0.657\n",
      "ROC-AUC, macro: 0.65\n",
      "----------------------------------------------------------------------------------------------------\n",
      "Parameter, alpha = 1.1\n",
      "TRAIN:\n",
      "Accuracy: 0.6060993815312433\n",
      "ROC-AUC, class = 0: 0.702\n",
      "ROC-AUC, class = 1: 0.734\n",
      "ROC-AUC, class = 2: 0.721\n",
      "ROC-AUC, class = 3: 0.756\n",
      "\n",
      "ROC-AUC, micro: 0.737\n",
      "ROC-AUC, macro: 0.728\n",
      "TEST:\n",
      "Accuracy: 0.48891163425452067\n",
      "ROC-AUC, class = 0: 0.631\n",
      "ROC-AUC, class = 1: 0.654\n",
      "ROC-AUC, class = 2: 0.619\n",
      "ROC-AUC, class = 3: 0.692\n",
      "\n",
      "ROC-AUC, micro: 0.659\n",
      "ROC-AUC, macro: 0.649\n",
      "----------------------------------------------------------------------------------------------------\n",
      "Parameter, alpha = 1.2000000000000002\n",
      "TRAIN:\n",
      "Accuracy: 0.601535508637236\n",
      "ROC-AUC, class = 0: 0.688\n",
      "ROC-AUC, class = 1: 0.727\n",
      "ROC-AUC, class = 2: 0.72\n",
      "ROC-AUC, class = 3: 0.756\n",
      "\n",
      "ROC-AUC, micro: 0.734\n",
      "ROC-AUC, macro: 0.723\n",
      "TEST:\n",
      "Accuracy: 0.48464687819856705\n",
      "ROC-AUC, class = 0: 0.62\n",
      "ROC-AUC, class = 1: 0.647\n",
      "ROC-AUC, class = 2: 0.616\n",
      "ROC-AUC, class = 3: 0.692\n",
      "\n",
      "ROC-AUC, micro: 0.656\n",
      "ROC-AUC, macro: 0.644\n",
      "----------------------------------------------------------------------------------------------------\n",
      "Parameter, alpha = 1.3000000000000003\n",
      "TRAIN:\n",
      "Accuracy: 0.5971849008317338\n",
      "ROC-AUC, class = 0: 0.676\n",
      "ROC-AUC, class = 1: 0.721\n",
      "ROC-AUC, class = 2: 0.716\n",
      "ROC-AUC, class = 3: 0.756\n",
      "\n",
      "ROC-AUC, micro: 0.731\n",
      "ROC-AUC, macro: 0.717\n",
      "TEST:\n",
      "Accuracy: 0.48584100989423407\n",
      "ROC-AUC, class = 0: 0.614\n",
      "ROC-AUC, class = 1: 0.645\n",
      "ROC-AUC, class = 2: 0.616\n",
      "ROC-AUC, class = 3: 0.693\n",
      "\n",
      "ROC-AUC, micro: 0.657\n",
      "ROC-AUC, macro: 0.642\n",
      "----------------------------------------------------------------------------------------------------\n",
      "Parameter, alpha = 1.4000000000000001\n",
      "TRAIN:\n",
      "Accuracy: 0.5900191938579654\n",
      "ROC-AUC, class = 0: 0.662\n",
      "ROC-AUC, class = 1: 0.713\n",
      "ROC-AUC, class = 2: 0.71\n",
      "ROC-AUC, class = 3: 0.756\n",
      "\n",
      "ROC-AUC, micro: 0.727\n",
      "ROC-AUC, macro: 0.71\n",
      "TEST:\n",
      "Accuracy: 0.48379392698737633\n",
      "ROC-AUC, class = 0: 0.604\n",
      "ROC-AUC, class = 1: 0.642\n",
      "ROC-AUC, class = 2: 0.614\n",
      "ROC-AUC, class = 3: 0.694\n",
      "\n",
      "ROC-AUC, micro: 0.656\n",
      "ROC-AUC, macro: 0.639\n",
      "----------------------------------------------------------------------------------------------------\n",
      "Parameter, alpha = 1.5000000000000002\n",
      "TRAIN:\n",
      "Accuracy: 0.5838771593090211\n",
      "ROC-AUC, class = 0: 0.651\n",
      "ROC-AUC, class = 1: 0.704\n",
      "ROC-AUC, class = 2: 0.706\n",
      "ROC-AUC, class = 3: 0.755\n",
      "\n",
      "ROC-AUC, micro: 0.723\n",
      "ROC-AUC, macro: 0.704\n",
      "TEST:\n",
      "Accuracy: 0.4802115319003753\n",
      "ROC-AUC, class = 0: 0.6\n",
      "ROC-AUC, class = 1: 0.634\n",
      "ROC-AUC, class = 2: 0.611\n",
      "ROC-AUC, class = 3: 0.693\n",
      "\n",
      "ROC-AUC, micro: 0.653\n",
      "ROC-AUC, macro: 0.635\n",
      "----------------------------------------------------------------------------------------------------\n",
      "Parameter, alpha = 2\n",
      "TRAIN:\n",
      "Accuracy: 0.5344423117935594\n",
      "ROC-AUC, class = 0: 0.557\n",
      "ROC-AUC, class = 1: 0.647\n",
      "ROC-AUC, class = 2: 0.664\n",
      "ROC-AUC, class = 3: 0.749\n",
      "\n",
      "ROC-AUC, micro: 0.69\n",
      "ROC-AUC, macro: 0.654\n",
      "TEST:\n",
      "Accuracy: 0.44967587853974755\n",
      "ROC-AUC, class = 0: 0.53\n",
      "ROC-AUC, class = 1: 0.599\n",
      "ROC-AUC, class = 2: 0.58\n",
      "ROC-AUC, class = 3: 0.691\n",
      "\n",
      "ROC-AUC, micro: 0.633\n",
      "ROC-AUC, macro: 0.6\n",
      "----------------------------------------------------------------------------------------------------\n",
      "Parameter, alpha = 3\n",
      "TRAIN:\n",
      "Accuracy: 0.4946470462785242\n",
      "ROC-AUC, class = 0: 0.519\n",
      "ROC-AUC, class = 1: 0.587\n",
      "ROC-AUC, class = 2: 0.633\n",
      "ROC-AUC, class = 3: 0.741\n",
      "\n",
      "ROC-AUC, micro: 0.663\n",
      "ROC-AUC, macro: 0.62\n",
      "TEST:\n",
      "Accuracy: 0.436028659160696\n",
      "ROC-AUC, class = 0: 0.513\n",
      "ROC-AUC, class = 1: 0.574\n",
      "ROC-AUC, class = 2: 0.565\n",
      "ROC-AUC, class = 3: 0.686\n",
      "\n",
      "ROC-AUC, micro: 0.624\n",
      "ROC-AUC, macro: 0.585\n",
      "----------------------------------------------------------------------------------------------------\n"
     ]
    }
   ],
   "source": [
    "alphas = list(np.arange(0.1, 1.6, step=0.1))+[2, 3]\n",
    "\n",
    "train_metrics = []\n",
    "test_metrics = []\n",
    "\n",
    "for alpha in alphas:\n",
    "    print('Parameter, alpha =', alpha)\n",
    "\n",
    "    model = MultinomialNB(alpha=alpha)\n",
    "    model.fit(X_train, y_train.values)\n",
    "    \n",
    "    print('TRAIN:')\n",
    "    train_metrics.append(get_metrics(model, X_train, y_train.values))\n",
    "    print('TEST:')\n",
    "    test_metrics.append(get_metrics(model, X_test, y_test.values))\n",
    "    print('-'*100)"
   ]
  },
  {
   "cell_type": "code",
   "execution_count": 44,
   "metadata": {
    "_uuid": "0676c4421e8e9d76486b5382e47fdd9afb9f0ae0"
   },
   "outputs": [
    {
     "data": {
      "image/png": "[encoded data removed]",
      "text/plain": [
       "<Figure size 576x432 with 1 Axes>"
      ]
     },
     "metadata": {},
     "output_type": "display_data"
    }
   ],
   "source": [
    "fig, ax = plt.subplots(figsize=(8, 6))\n",
    "plt.plot(alphas, [tm[1]['micro'] for tm in train_metrics], label='train roc-auc')\n",
    "plt.plot(alphas, [tm[1]['micro'] for tm in test_metrics], label='test roc-auc')\n",
    "plt.legend()\n",
    "plt.show()"
   ]
  },
  {
   "cell_type": "code",
   "execution_count": 66,
   "metadata": {
    "_uuid": "1e0ba93e43b80cb0d4404016c29d01c8c3bdcb2f"
   },
   "outputs": [
    {
     "name": "stdout",
     "output_type": "stream",
     "text": [
      "Best results with MultinomialNB, alpha =  1.1\n",
      "roc-auc(micro), train: 0.7373995876874956\n",
      "roc-auc(micro), test: 0.6592744228363472\n",
      "accuracy, train: 0.6060993815312433\n",
      "accuracy, test: 0.48891163425452067\n"
     ]
    }
   ],
   "source": [
    "train_roc_auc = np.array([tm[1]['micro'] for tm in train_metrics])\n",
    "test_roc_auc = np.array([tm[1]['micro'] for tm in test_metrics])\n",
    "\n",
    "alpha = alphas[test_roc_auc.argmax()]\n",
    "\n",
    "model = MultinomialNB(alpha=alphas[test_roc_auc.argmax()])\n",
    "model.fit(X_train, y_train)\n",
    "train_preds = model.predict(X_train)\n",
    "test_preds = model.predict(X_test)\n",
    "    \n",
    "print('Best results with MultinomialNB, alpha = ', alpha)\n",
    "print('roc-auc(micro), train:', get_roc_auc(y_train, train_preds, n_classes=4, verbose=0)['micro'])\n",
    "print('roc-auc(micro), test:', get_roc_auc(y_test, test_preds, n_classes=4, verbose=0)['micro'])\n",
    "print('accuracy, train:',  accuracy_score(y_train, train_preds))\n",
    "print('accuracy, test:',  accuracy_score(y_test, test_preds))"
   ]
  },
  {
   "cell_type": "markdown",
   "metadata": {},
   "source": [
    "Итак, с наивным байесом мы получили значение roc-auc равным 0.659, точность 0.49.\n",
    "\n",
    "Посмотрим на матрицу ошибок: видно, что модель больше всего путает соседние по возрасту классы."
   ]
  },
  {
   "cell_type": "code",
   "execution_count": 69,
   "metadata": {
    "_uuid": "5d3fc2094d5e85a261a96a025e06dbe2360dc7cd"
   },
   "outputs": [
    {
     "data": {
      "image/png": "[encoded data removed]",
      "text/plain": [
       "<Figure size 432x360 with 2 Axes>"
      ]
     },
     "metadata": {},
     "output_type": "display_data"
    },
    {
     "data": {
      "text/plain": [
       "array([[292, 467, 122,  41],\n",
       "       [129, 721, 381,  66],\n",
       "       [ 68, 415, 914, 419],\n",
       "       [ 70, 250, 568, 939]])"
      ]
     },
     "execution_count": 69,
     "metadata": {},
     "output_type": "execute_result"
    }
   ],
   "source": [
    "get_confusion_matrix(y_test, test_preds, normalize=True)"
   ]
  },
  {
   "cell_type": "markdown",
   "metadata": {},
   "source": [
    "Также я решила попробовать для этой задачи регрессию. Возьмем данные, на которых наивный байес показал себя лучше всего и сравним две модели. "
   ]
  },
  {
   "cell_type": "markdown",
   "metadata": {
    "_uuid": "b0d997759838842750d6853a425bcfa7aad82fe8"
   },
   "source": [
    "### Logistic Regression, ngram_range=(1,2)"
   ]
  },
  {
   "cell_type": "code",
   "execution_count": 70,
   "metadata": {
    "_uuid": "6400ddb2739852cb953ad998122e0588fb270a86"
   },
   "outputs": [
    {
     "name": "stdout",
     "output_type": "stream",
     "text": [
      "CPU times: user 42.3 s, sys: 0 ns, total: 42.3 s\n",
      "Wall time: 42.3 s\n"
     ]
    }
   ],
   "source": [
    "%%time\n",
    "model = LogisticRegression(C=1.0, random_state=42, solver='liblinear', multi_class='ovr')\n",
    "model.fit(X_train, y_train.values)"
   ]
  },
  {
   "cell_type": "code",
   "execution_count": 71,
   "metadata": {
    "_uuid": "3249d392b042e5406bfce2326b3d30e98035445e"
   },
   "outputs": [
    {
     "name": "stdout",
     "output_type": "stream",
     "text": [
      "TRAIN:\n",
      "Accuracy: 0.7746214544679036\n",
      "ROC-AUC, class = 0: 0.839\n",
      "ROC-AUC, class = 1: 0.821\n",
      "ROC-AUC, class = 2: 0.839\n",
      "ROC-AUC, class = 3: 0.88\n",
      "\n",
      "ROC-AUC, micro: 0.85\n",
      "ROC-AUC, macro: 0.845\n",
      "\n",
      "TEST:\n",
      "Accuracy: 0.5211531900375298\n",
      "ROC-AUC, class = 0: 0.704\n",
      "ROC-AUC, class = 1: 0.645\n",
      "ROC-AUC, class = 2: 0.627\n",
      "ROC-AUC, class = 3: 0.724\n",
      "\n",
      "ROC-AUC, micro: 0.681\n",
      "ROC-AUC, macro: 0.675\n"
     ]
    }
   ],
   "source": [
    "print('TRAIN:')\n",
    "train_results = get_metrics(model, X_train, y_train.values)\n",
    "\n",
    "print('\\nTEST:')\n",
    "test_results = get_metrics(model, X_test, y_test.values)"
   ]
  },
  {
   "cell_type": "markdown",
   "metadata": {
    "_uuid": "2185d17902d434c7de515ee6e0fb310fcf338822"
   },
   "source": [
    "### Подбор коэффициента регуляризации:"
   ]
  },
  {
   "cell_type": "code",
   "execution_count": 72,
   "metadata": {
    "_uuid": "94aac7f6a5cf61fe625a4aa43c6b333a1d237012",
    "scrolled": true
   },
   "outputs": [
    {
     "name": "stdout",
     "output_type": "stream",
     "text": [
      "Parameter, C = 0.1\n",
      "TRAIN:\n",
      "Accuracy: 0.5926636809554277\n",
      "ROC-AUC, class = 0: 0.709\n",
      "ROC-AUC, class = 1: 0.662\n",
      "ROC-AUC, class = 2: 0.695\n",
      "ROC-AUC, class = 3: 0.782\n",
      "\n",
      "ROC-AUC, micro: 0.728\n",
      "ROC-AUC, macro: 0.712\n",
      "TEST:\n",
      "Accuracy: 0.49744114636642783\n",
      "ROC-AUC, class = 0: 0.667\n",
      "ROC-AUC, class = 1: 0.609\n",
      "ROC-AUC, class = 2: 0.608\n",
      "ROC-AUC, class = 3: 0.717\n",
      "\n",
      "ROC-AUC, micro: 0.665\n",
      "ROC-AUC, macro: 0.65\n",
      "----------------------------------------------------------------------------------------------------\n",
      "Parameter, C = 0.5\n",
      "TRAIN:\n",
      "Accuracy: 0.7185327361910855\n",
      "ROC-AUC, class = 0: 0.794\n",
      "ROC-AUC, class = 1: 0.771\n",
      "ROC-AUC, class = 2: 0.796\n",
      "ROC-AUC, class = 3: 0.85\n",
      "\n",
      "ROC-AUC, micro: 0.812\n",
      "ROC-AUC, macro: 0.803\n",
      "TEST:\n",
      "Accuracy: 0.5226885022176732\n",
      "ROC-AUC, class = 0: 0.693\n",
      "ROC-AUC, class = 1: 0.647\n",
      "ROC-AUC, class = 2: 0.627\n",
      "ROC-AUC, class = 3: 0.724\n",
      "\n",
      "ROC-AUC, micro: 0.682\n",
      "ROC-AUC, macro: 0.673\n",
      "----------------------------------------------------------------------------------------------------\n",
      "Parameter, C = 1\n",
      "TRAIN:\n",
      "Accuracy: 0.7746214544679036\n",
      "ROC-AUC, class = 0: 0.839\n",
      "ROC-AUC, class = 1: 0.821\n",
      "ROC-AUC, class = 2: 0.839\n",
      "ROC-AUC, class = 3: 0.88\n",
      "\n",
      "ROC-AUC, micro: 0.85\n",
      "ROC-AUC, macro: 0.845\n",
      "TEST:\n",
      "Accuracy: 0.5211531900375298\n",
      "ROC-AUC, class = 0: 0.704\n",
      "ROC-AUC, class = 1: 0.645\n",
      "ROC-AUC, class = 2: 0.627\n",
      "ROC-AUC, class = 3: 0.724\n",
      "\n",
      "ROC-AUC, micro: 0.681\n",
      "ROC-AUC, macro: 0.675\n",
      "----------------------------------------------------------------------------------------------------\n",
      "Parameter, C = 2\n",
      "TRAIN:\n",
      "Accuracy: 0.8248667093196844\n",
      "ROC-AUC, class = 0: 0.873\n",
      "ROC-AUC, class = 1: 0.861\n",
      "ROC-AUC, class = 2: 0.877\n",
      "ROC-AUC, class = 3: 0.909\n",
      "\n",
      "ROC-AUC, micro: 0.883\n",
      "ROC-AUC, macro: 0.88\n",
      "TEST:\n",
      "Accuracy: 0.5143295803480041\n",
      "ROC-AUC, class = 0: 0.703\n",
      "ROC-AUC, class = 1: 0.642\n",
      "ROC-AUC, class = 2: 0.623\n",
      "ROC-AUC, class = 3: 0.717\n",
      "\n",
      "ROC-AUC, micro: 0.676\n",
      "ROC-AUC, macro: 0.671\n",
      "----------------------------------------------------------------------------------------------------\n",
      "Parameter, C = 3\n",
      "TRAIN:\n",
      "Accuracy: 0.8510983152058008\n",
      "ROC-AUC, class = 0: 0.892\n",
      "ROC-AUC, class = 1: 0.88\n",
      "ROC-AUC, class = 2: 0.896\n",
      "ROC-AUC, class = 3: 0.924\n",
      "\n",
      "ROC-AUC, micro: 0.901\n",
      "ROC-AUC, macro: 0.898\n",
      "TEST:\n",
      "Accuracy: 0.5134766291368134\n",
      "ROC-AUC, class = 0: 0.706\n",
      "ROC-AUC, class = 1: 0.643\n",
      "ROC-AUC, class = 2: 0.62\n",
      "ROC-AUC, class = 3: 0.715\n",
      "\n",
      "ROC-AUC, micro: 0.676\n",
      "ROC-AUC, macro: 0.671\n",
      "----------------------------------------------------------------------------------------------------\n",
      "CPU times: user 3min 34s, sys: 0 ns, total: 3min 34s\n",
      "Wall time: 3min 34s\n"
     ]
    }
   ],
   "source": [
    "%%time\n",
    "Cs = [0.1, 0.5, 1, 2, 3]\n",
    "# np.arange(1, 3.1, step=0.1)\n",
    "\n",
    "train_metrics = []\n",
    "test_metrics = []\n",
    "\n",
    "for C in Cs:\n",
    "    print('Parameter, C =', C)\n",
    "\n",
    "    model = LogisticRegression(C=C, random_state=42, solver='liblinear', multi_class='ovr')\n",
    "    model.fit(X_train, y_train.values)\n",
    "    \n",
    "    print('TRAIN:')\n",
    "    train_metrics.append(get_metrics(model, X_train, y_train.values))\n",
    "    print('TEST:')\n",
    "    test_metrics.append(get_metrics(model, X_test, y_test.values))\n",
    "    print('-'*100)"
   ]
  },
  {
   "cell_type": "code",
   "execution_count": 74,
   "metadata": {
    "_uuid": "e1890bb2066b1eda7d6784867405b0679b5b4b0b"
   },
   "outputs": [
    {
     "data": {
      "image/png": "[encoded data removed]",
      "text/plain": [
       "<Figure size 576x432 with 1 Axes>"
      ]
     },
     "metadata": {},
     "output_type": "display_data"
    }
   ],
   "source": [
    "fig, ax = plt.subplots(figsize=(8, 6))\n",
    "plt.plot(Cs, [tm[1]['micro'] for tm in train_metrics], label='train micro')\n",
    "plt.plot(Cs, [tm[1]['micro'] for tm in test_metrics], label='test micro')\n",
    "plt.legend()\n",
    "plt.show()"
   ]
  },
  {
   "cell_type": "markdown",
   "metadata": {},
   "source": [
    "Уточние коэффициента: "
   ]
  },
  {
   "cell_type": "code",
   "execution_count": 80,
   "metadata": {
    "_uuid": "d48ebbd9873ec63ee58c193619c3004d0b031900",
    "scrolled": true
   },
   "outputs": [
    {
     "name": "stdout",
     "output_type": "stream",
     "text": [
      "Parameter, C = 0.5\n",
      "TRAIN:\n",
      "Accuracy: 0.7185327361910855\n",
      "ROC-AUC, class = 0: 0.794\n",
      "ROC-AUC, class = 1: 0.771\n",
      "ROC-AUC, class = 2: 0.796\n",
      "ROC-AUC, class = 3: 0.85\n",
      "\n",
      "ROC-AUC, micro: 0.812\n",
      "ROC-AUC, macro: 0.803\n",
      "TEST:\n",
      "Accuracy: 0.5226885022176732\n",
      "ROC-AUC, class = 0: 0.693\n",
      "ROC-AUC, class = 1: 0.647\n",
      "ROC-AUC, class = 2: 0.627\n",
      "ROC-AUC, class = 3: 0.724\n",
      "\n",
      "ROC-AUC, micro: 0.682\n",
      "ROC-AUC, macro: 0.673\n",
      "----------------------------------------------------------------------------------------------------\n",
      "Parameter, C = 0.55\n",
      "TRAIN:\n",
      "Accuracy: 0.727105992748987\n",
      "ROC-AUC, class = 0: 0.799\n",
      "ROC-AUC, class = 1: 0.784\n",
      "ROC-AUC, class = 2: 0.805\n",
      "ROC-AUC, class = 3: 0.854\n",
      "\n",
      "ROC-AUC, micro: 0.818\n",
      "ROC-AUC, macro: 0.81\n",
      "TEST:\n",
      "Accuracy: 0.5209825997952917\n",
      "ROC-AUC, class = 0: 0.694\n",
      "ROC-AUC, class = 1: 0.647\n",
      "ROC-AUC, class = 2: 0.629\n",
      "ROC-AUC, class = 3: 0.724\n",
      "\n",
      "ROC-AUC, micro: 0.681\n",
      "ROC-AUC, macro: 0.673\n",
      "----------------------------------------------------------------------------------------------------\n",
      "Parameter, C = 0.6000000000000001\n",
      "TRAIN:\n",
      "Accuracy: 0.7338451695457454\n",
      "ROC-AUC, class = 0: 0.804\n",
      "ROC-AUC, class = 1: 0.789\n",
      "ROC-AUC, class = 2: 0.81\n",
      "ROC-AUC, class = 3: 0.857\n",
      "\n",
      "ROC-AUC, micro: 0.823\n",
      "ROC-AUC, macro: 0.815\n",
      "TEST:\n",
      "Accuracy: 0.5240532241555783\n",
      "ROC-AUC, class = 0: 0.697\n",
      "ROC-AUC, class = 1: 0.649\n",
      "ROC-AUC, class = 2: 0.631\n",
      "ROC-AUC, class = 3: 0.726\n",
      "\n",
      "ROC-AUC, micro: 0.683\n",
      "ROC-AUC, macro: 0.676\n",
      "----------------------------------------------------------------------------------------------------\n",
      "Parameter, C = 0.6500000000000001\n",
      "TRAIN:\n",
      "Accuracy: 0.7399445510769886\n",
      "ROC-AUC, class = 0: 0.809\n",
      "ROC-AUC, class = 1: 0.794\n",
      "ROC-AUC, class = 2: 0.814\n",
      "ROC-AUC, class = 3: 0.861\n",
      "\n",
      "ROC-AUC, micro: 0.827\n",
      "ROC-AUC, macro: 0.82\n",
      "TEST:\n",
      "Accuracy: 0.5221767314909587\n",
      "ROC-AUC, class = 0: 0.699\n",
      "ROC-AUC, class = 1: 0.646\n",
      "ROC-AUC, class = 2: 0.628\n",
      "ROC-AUC, class = 3: 0.726\n",
      "\n",
      "ROC-AUC, micro: 0.681\n",
      "ROC-AUC, macro: 0.675\n",
      "----------------------------------------------------------------------------------------------------\n",
      "Parameter, C = 0.7000000000000002\n",
      "TRAIN:\n",
      "Accuracy: 0.746086585625933\n",
      "ROC-AUC, class = 0: 0.814\n",
      "ROC-AUC, class = 1: 0.799\n",
      "ROC-AUC, class = 2: 0.819\n",
      "ROC-AUC, class = 3: 0.864\n",
      "\n",
      "ROC-AUC, micro: 0.831\n",
      "ROC-AUC, macro: 0.824\n",
      "TEST:\n",
      "Accuracy: 0.5218355510064824\n",
      "ROC-AUC, class = 0: 0.7\n",
      "ROC-AUC, class = 1: 0.646\n",
      "ROC-AUC, class = 2: 0.628\n",
      "ROC-AUC, class = 3: 0.726\n",
      "\n",
      "ROC-AUC, micro: 0.681\n",
      "ROC-AUC, macro: 0.675\n",
      "----------------------------------------------------------------------------------------------------\n",
      "Parameter, C = 0.7500000000000002\n",
      "TRAIN:\n",
      "Accuracy: 0.7520153550863724\n",
      "ROC-AUC, class = 0: 0.819\n",
      "ROC-AUC, class = 1: 0.804\n",
      "ROC-AUC, class = 2: 0.823\n",
      "ROC-AUC, class = 3: 0.867\n",
      "\n",
      "ROC-AUC, micro: 0.835\n",
      "ROC-AUC, macro: 0.828\n",
      "TEST:\n",
      "Accuracy: 0.5211531900375298\n",
      "ROC-AUC, class = 0: 0.7\n",
      "ROC-AUC, class = 1: 0.647\n",
      "ROC-AUC, class = 2: 0.627\n",
      "ROC-AUC, class = 3: 0.725\n",
      "\n",
      "ROC-AUC, micro: 0.681\n",
      "ROC-AUC, macro: 0.675\n",
      "----------------------------------------------------------------------------------------------------\n",
      "Parameter, C = 0.8000000000000003\n",
      "TRAIN:\n",
      "Accuracy: 0.7574749413521007\n",
      "ROC-AUC, class = 0: 0.823\n",
      "ROC-AUC, class = 1: 0.808\n",
      "ROC-AUC, class = 2: 0.827\n",
      "ROC-AUC, class = 3: 0.87\n",
      "\n",
      "ROC-AUC, micro: 0.838\n",
      "ROC-AUC, macro: 0.832\n",
      "TEST:\n",
      "Accuracy: 0.5203002388263391\n",
      "ROC-AUC, class = 0: 0.7\n",
      "ROC-AUC, class = 1: 0.646\n",
      "ROC-AUC, class = 2: 0.626\n",
      "ROC-AUC, class = 3: 0.723\n",
      "\n",
      "ROC-AUC, micro: 0.68\n",
      "ROC-AUC, macro: 0.674\n",
      "----------------------------------------------------------------------------------------------------\n",
      "Parameter, C = 0.8500000000000003\n",
      "TRAIN:\n",
      "Accuracy: 0.7623373853700149\n",
      "ROC-AUC, class = 0: 0.827\n",
      "ROC-AUC, class = 1: 0.812\n",
      "ROC-AUC, class = 2: 0.831\n",
      "ROC-AUC, class = 3: 0.873\n",
      "\n",
      "ROC-AUC, micro: 0.842\n",
      "ROC-AUC, macro: 0.836\n",
      "TEST:\n",
      "Accuracy: 0.5209825997952917\n",
      "ROC-AUC, class = 0: 0.702\n",
      "ROC-AUC, class = 1: 0.645\n",
      "ROC-AUC, class = 2: 0.627\n",
      "ROC-AUC, class = 3: 0.724\n",
      "\n",
      "ROC-AUC, micro: 0.681\n",
      "ROC-AUC, macro: 0.675\n",
      "----------------------------------------------------------------------------------------------------\n",
      "Parameter, C = 0.9000000000000004\n",
      "TRAIN:\n",
      "Accuracy: 0.7672424824056302\n",
      "ROC-AUC, class = 0: 0.832\n",
      "ROC-AUC, class = 1: 0.815\n",
      "ROC-AUC, class = 2: 0.834\n",
      "ROC-AUC, class = 3: 0.876\n",
      "\n",
      "ROC-AUC, micro: 0.845\n",
      "ROC-AUC, macro: 0.839\n",
      "TEST:\n",
      "Accuracy: 0.5203002388263391\n",
      "ROC-AUC, class = 0: 0.702\n",
      "ROC-AUC, class = 1: 0.645\n",
      "ROC-AUC, class = 2: 0.626\n",
      "ROC-AUC, class = 3: 0.724\n",
      "\n",
      "ROC-AUC, micro: 0.68\n",
      "ROC-AUC, macro: 0.674\n",
      "----------------------------------------------------------------------------------------------------\n",
      "Parameter, C = 0.9500000000000004\n",
      "TRAIN:\n",
      "Accuracy: 0.7708253358925143\n",
      "ROC-AUC, class = 0: 0.835\n",
      "ROC-AUC, class = 1: 0.818\n",
      "ROC-AUC, class = 2: 0.836\n",
      "ROC-AUC, class = 3: 0.878\n",
      "\n",
      "ROC-AUC, micro: 0.847\n",
      "ROC-AUC, macro: 0.842\n",
      "TEST:\n",
      "Accuracy: 0.5209825997952917\n",
      "ROC-AUC, class = 0: 0.702\n",
      "ROC-AUC, class = 1: 0.645\n",
      "ROC-AUC, class = 2: 0.627\n",
      "ROC-AUC, class = 3: 0.724\n",
      "\n",
      "ROC-AUC, micro: 0.681\n",
      "ROC-AUC, macro: 0.675\n",
      "----------------------------------------------------------------------------------------------------\n",
      "Parameter, C = 1.0000000000000004\n",
      "TRAIN:\n",
      "Accuracy: 0.7747067605033056\n",
      "ROC-AUC, class = 0: 0.839\n",
      "ROC-AUC, class = 1: 0.821\n",
      "ROC-AUC, class = 2: 0.839\n",
      "ROC-AUC, class = 3: 0.88\n",
      "\n",
      "ROC-AUC, micro: 0.85\n",
      "ROC-AUC, macro: 0.845\n",
      "TEST:\n",
      "Accuracy: 0.5211531900375298\n",
      "ROC-AUC, class = 0: 0.704\n",
      "ROC-AUC, class = 1: 0.645\n",
      "ROC-AUC, class = 2: 0.627\n",
      "ROC-AUC, class = 3: 0.724\n",
      "\n",
      "ROC-AUC, micro: 0.681\n",
      "ROC-AUC, macro: 0.675\n",
      "----------------------------------------------------------------------------------------------------\n",
      "CPU times: user 6min 55s, sys: 28 ms, total: 6min 55s\n",
      "Wall time: 6min 55s\n"
     ]
    }
   ],
   "source": [
    "%%time\n",
    "Cs = np.arange(0.5, 1.05, step=0.05)\n",
    "\n",
    "train_metrics = []\n",
    "test_metrics = []\n",
    "\n",
    "for C in Cs:\n",
    "    print('Parameter, C =', C)\n",
    "    model = LogisticRegression(C=C, random_state=42, solver='liblinear', multi_class='ovr')\n",
    "    model.fit(X_train, y_train.values)\n",
    "    \n",
    "    print('TRAIN:')\n",
    "    train_metrics.append(get_metrics(model, X_train, y_train.values))\n",
    "    print('TEST:')\n",
    "    test_metrics.append(get_metrics(model, X_test, y_test.values))\n",
    "    print('-'*100)"
   ]
  },
  {
   "cell_type": "code",
   "execution_count": 81,
   "metadata": {
    "_uuid": "eb900603b78acb4b88bc956ba62422c5c1b24ec4",
    "scrolled": true
   },
   "outputs": [
    {
     "data": {
      "image/png": "[encoded data removed]",
      "text/plain": [
       "<Figure size 576x432 with 1 Axes>"
      ]
     },
     "metadata": {},
     "output_type": "display_data"
    }
   ],
   "source": [
    "fig, ax = plt.subplots(figsize=(8, 6))\n",
    "#plt.plot(Cs, [tm[1]['micro'] for tm in train_metrics], label='train micro')\n",
    "plt.plot(Cs, [tm[1]['micro'] for tm in test_metrics], label='test micro')\n",
    "plt.legend()\n",
    "plt.show()"
   ]
  },
  {
   "cell_type": "code",
   "execution_count": 82,
   "metadata": {
    "_uuid": "30bb3b7bf979c86f2be6743d1b4c60d1c6fa1c35"
   },
   "outputs": [
    {
     "name": "stdout",
     "output_type": "stream",
     "text": [
      "Best results with LogisticRegression, C =  0.6000000000000001\n",
      "roc-auc(micro), train: 0.8225634463638303\n",
      "roc-auc(micro), test: 0.6827021494370522\n",
      "accuracy, train: 0.7338451695457454\n",
      "accuracy, test: 0.5240532241555783\n"
     ]
    }
   ],
   "source": [
    "train_roc_auc = np.array([tm[1]['micro'] for tm in train_metrics])\n",
    "test_roc_auc = np.array([tm[1]['micro'] for tm in test_metrics])\n",
    "\n",
    "C = Cs[test_roc_auc.argmax()]\n",
    "\n",
    "model = LogisticRegression(C=C, random_state=42, solver='liblinear', multi_class='ovr')\n",
    "model.fit(X_train, y_train)\n",
    "train_preds = model.predict(X_train)\n",
    "test_preds = model.predict(X_test)\n",
    "    \n",
    "print('Best results with LogisticRegression, C = ', C)\n",
    "print('roc-auc(micro), train:', get_roc_auc(y_train, train_preds, n_classes=4, verbose=0)['micro'])\n",
    "print('roc-auc(micro), test:', get_roc_auc(y_test, test_preds, n_classes=4, verbose=0)['micro'])\n",
    "print('accuracy, train:',  accuracy_score(y_train, train_preds))\n",
    "print('accuracy, test:',  accuracy_score(y_test, test_preds))"
   ]
  },
  {
   "cell_type": "markdown",
   "metadata": {},
   "source": [
    "С регрессией результаты чуть поинтереснее: roc-auc 0.683, точность 0.524. Также явно третий класс выделяется моделью лучше."
   ]
  },
  {
   "cell_type": "code",
   "execution_count": 83,
   "metadata": {
    "_uuid": "731dea0c3f33a8daadc80523cc0ca6468ae0c0b4"
   },
   "outputs": [
    {
     "data": {
      "image/png": "[encoded data removed]",
      "text/plain": [
       "<Figure size 432x360 with 2 Axes>"
      ]
     },
     "metadata": {},
     "output_type": "display_data"
    },
    {
     "data": {
      "text/plain": [
       "array([[ 437,  302,  102,   81],\n",
       "       [ 209,  610,  350,  128],\n",
       "       [ 101,  324,  870,  521],\n",
       "       [  87,  162,  423, 1155]])"
      ]
     },
     "execution_count": 83,
     "metadata": {},
     "output_type": "execute_result"
    }
   ],
   "source": [
    "get_confusion_matrix(y_test, test_preds, normalize=True)"
   ]
  },
  {
   "cell_type": "markdown",
   "metadata": {
    "_uuid": "45bf9cc948ad66814e079f05dd2888280ba8808c"
   },
   "source": [
    "В целом, определять возраст только по тексту затруднительно. У нас были признаки, например, учитывающие год окончания вуза или школы, но эти поля редко заполняются пользователями, кроме того нет гарантии, что пользователь пишет достоверную информацию о себе. Также не очень понятно, как vk.com определяет возраст и соответственно непонятно какого качества данные мы получаем при запросе по API. Для дальнейшего улучшения алгоритма, я бы попробовала собрать еще данных. Особенно для пользователей старше 25 лет, на них модель ошибалась больше всего. Другим вариантом улучшения я вижу собирать информацию о друзьях пользователя. Наверняка, там в подавляющем большинстве будут ровесники. Кроме того следует как-то научиться выделять аккаунты-магазины, аккаунты, предлагающие различные услуги и т.д. Также возможно какое-нибудь улучшение было бы при выделении слов из тегов #ЛюбителейПисатьВесьТекстБезПробелов :) "
   ]
  }
 ],
 "metadata": {
  "kernelspec": {
   "display_name": "Python 3",
   "language": "python",
   "name": "python3"
  },
  "language_info": {
   "codemirror_mode": {
    "name": "ipython",
    "version": 3
   },
   "file_extension": ".py",
   "mimetype": "text/x-python",
   "name": "python",
   "nbconvert_exporter": "python",
   "pygments_lexer": "ipython3",
   "version": "3.6.7"
  },
  "varInspector": {
   "cols": {
    "lenName": 16,
    "lenType": 16,
    "lenVar": 40
   },
   "kernels_config": {
    "python": {
     "delete_cmd_postfix": "",
     "delete_cmd_prefix": "del ",
     "library": "var_list.py",
     "varRefreshCmd": "print(var_dic_list())"
    },
    "r": {
     "delete_cmd_postfix": ") ",
     "delete_cmd_prefix": "rm(",
     "library": "var_list.r",
     "varRefreshCmd": "cat(var_dic_list()) "
    }
   },
   "types_to_exclude": [
    "module",
    "function",
    "builtin_function_or_method",
    "instance",
    "_Feature"
   ],
   "window_display": false
  }
 },
 "nbformat": 4,
 "nbformat_minor": 1
}
