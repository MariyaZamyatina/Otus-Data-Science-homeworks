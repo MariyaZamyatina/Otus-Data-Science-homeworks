{
 "cells": [
  {
   "cell_type": "markdown",
   "metadata": {},
   "source": [
    "##  Часть 1: сбор данных\n",
    "\n",
    "В этом ноутбуке запуск скриптов для сбора данных с сайта vk.com. Поскольку предсказывать я планирую возрастную группу пользователей, то буду пытаться скачать данные 1000 пользователей для каждого из возрастов от 12 до 44 лет. Это позволит сделать более менее равномерную выборку по целевой переменной. \n",
    "\n",
    "Кроме того я столкнулась с ограничением API сайта: в сутки можно было делать 5000 запросов к стенам пользователей. Пришлось завести несколько аккаунтов. "
   ]
  },
  {
   "cell_type": "code",
   "execution_count": null,
   "metadata": {},
   "outputs": [],
   "source": [
    "from vk_storage import VKStorage\n",
    "from vk_scrapper import VKScrapper"
   ]
  },
  {
   "cell_type": "code",
   "execution_count": null,
   "metadata": {},
   "outputs": [],
   "source": [
    "import logging\n",
    "logging.basicConfig(format='%(asctime)s - %(name)s - %(levelname)s - %(message)s', level=logging.INFO)"
   ]
  },
  {
   "cell_type": "code",
   "execution_count": null,
   "metadata": {
    "scrolled": true
   },
   "outputs": [],
   "source": [
    "%%time\n",
    "# 1974-1978, age 40-44\n",
    "scrapper = VKScrapper(filename_config='vkstat.cfg', folder_data='data_1974-1978')\n",
    "scrapper.read_config()\n",
    "scrapper.prepare_storage()\n",
    "scrapper.scrap_users_process(list(range(1974, 1979))"
   ]
  },
  {
   "cell_type": "code",
   "execution_count": null,
   "metadata": {
    "scrolled": true
   },
   "outputs": [],
   "source": [
    "%%time\n",
    "# 1979-1983, age 35-39\n",
    "scrapper = VKScrapper(filename_config='vkstat2.cfg', folder_data='data_1979-1983')\n",
    "scrapper.read_config()\n",
    "scrapper.prepare_storage()\n",
    "scrapper.scrap_users_process(list(range(1979, 1984)))"
   ]
  },
  {
   "cell_type": "code",
   "execution_count": null,
   "metadata": {
    "scrolled": true
   },
   "outputs": [],
   "source": [
    "# 1984, 1985\n",
    "# age 33-34\n",
    "scrapper = VKScrapper(filename_config='vkstat3.cfg', folder_data='data_1984-1985')\n",
    "scrapper.read_config()\n",
    "scrapper.prepare_storage()\n",
    "scrapper.scrap_users_process(list(range(1984, 1986)))"
   ]
  },
  {
   "cell_type": "code",
   "execution_count": null,
   "metadata": {
    "scrolled": true
   },
   "outputs": [],
   "source": [
    "# 1986, 1987, 1988\n",
    "# age 30, 31, 32\n",
    "scrapper = VKScrapper(filename_config='vkstat3.cfg', folder_data='data_1986-1988')\n",
    "scrapper.read_config()\n",
    "scrapper.prepare_storage()\n",
    "scrapper.scrap_users_process(list(range(1986, 1989)))"
   ]
  },
  {
   "cell_type": "code",
   "execution_count": null,
   "metadata": {
    "scrolled": true
   },
   "outputs": [],
   "source": [
    "# 1989, 1990, 1991, 1992, 1993\n",
    "# age 25-29\n",
    "scrapper = VKScrapper(filename_config='vkstat.cfg', folder_data='data_1989-1993')\n",
    "scrapper.read_config()\n",
    "scrapper.prepare_storage()\n",
    "scrapper.scrap_users_process(list(range(1989, 1994)))"
   ]
  },
  {
   "cell_type": "code",
   "execution_count": null,
   "metadata": {
    "scrolled": true
   },
   "outputs": [],
   "source": [
    "# 1994, 1995, 1996, 1997, 1998\n",
    "# age 20-24\n",
    "scrapper = VKScrapper(filename_config='vkstat2.cfg', folder_data='data_1994-1998')\n",
    "scrapper.read_config()\n",
    "scrapper.prepare_storage()\n",
    "scrapper.scrap_users_process(list(range(1994, 1999)))"
   ]
  },
  {
   "cell_type": "code",
   "execution_count": null,
   "metadata": {
    "scrolled": true
   },
   "outputs": [],
   "source": [
    "# 1999, 2000, 2001, 2002, 2003\n",
    "# age 15-19\n",
    "scrapper = VKScrapper(filename_config='vkstat.cfg', folder_data='data_1999-2003')\n",
    "scrapper.read_config()\n",
    "scrapper.prepare_storage()\n",
    "scrapper.scrap_users_process(list(range(1999, 2004)))"
   ]
  },
  {
   "cell_type": "code",
   "execution_count": null,
   "metadata": {},
   "outputs": [],
   "source": [
    "# 2004, 2005, 2006\n",
    "# age 12-14\n",
    "scrapper = VKScrapper(filename_config='vkstat.cfg', folder_data='data_2004-2006')\n",
    "scrapper.read_config()\n",
    "scrapper.prepare_storage()\n",
    "scrapper.scrap_users_process(list(range(2004, 2007)))"
   ]
  }
 ],
 "metadata": {
  "kernelspec": {
   "display_name": "Python 3",
   "language": "python",
   "name": "python3"
  },
  "language_info": {
   "codemirror_mode": {
    "name": "ipython",
    "version": 3
   },
   "file_extension": ".py",
   "mimetype": "text/x-python",
   "name": "python",
   "nbconvert_exporter": "python",
   "pygments_lexer": "ipython3",
   "version": "3.6.7"
  },
  "varInspector": {
   "cols": {
    "lenName": 16,
    "lenType": 16,
    "lenVar": 40
   },
   "kernels_config": {
    "python": {
     "delete_cmd_postfix": "",
     "delete_cmd_prefix": "del ",
     "library": "var_list.py",
     "varRefreshCmd": "print(var_dic_list())"
    },
    "r": {
     "delete_cmd_postfix": ") ",
     "delete_cmd_prefix": "rm(",
     "library": "var_list.r",
     "varRefreshCmd": "cat(var_dic_list()) "
    }
   },
   "types_to_exclude": [
    "module",
    "function",
    "builtin_function_or_method",
    "instance",
    "_Feature"
   ],
   "window_display": false
  }
 },
 "nbformat": 4,
 "nbformat_minor": 2
}
