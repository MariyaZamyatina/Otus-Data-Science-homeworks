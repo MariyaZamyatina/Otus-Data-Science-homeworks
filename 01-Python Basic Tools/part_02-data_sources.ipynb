{
 "cells": [
  {
   "cell_type": "markdown",
   "metadata": {},
   "source": [
    "### 1. last.fm"
   ]
  },
  {
   "cell_type": "markdown",
   "metadata": {},
   "source": [
    "Сервис предоставляет отличное API https://www.last.fm/api\n",
    "\n",
    "Можно получать информацию по альбомам, исполнителям, чартам, тегам, трекам, пользователям. \n",
    "\n",
    "Пример запроса топ-треков по тегу Disco: "
   ]
  },
  {
   "cell_type": "raw",
   "metadata": {},
   "source": [
    "http://ws.audioscrobbler.com/2.0/?method=tag.gettoptracks&tag=disco&api_key=YOUR_API_KEY"
   ]
  },
  {
   "cell_type": "markdown",
   "metadata": {},
   "source": [
    "Дополнительные параметры: \n",
    "\n",
    " - limit (Optional) : количество треков на странице\n",
    " - page (Optional) : номер страницы\n",
    "\n",
    "Ответ приходит в формате XML: "
   ]
  },
  {
   "cell_type": "raw",
   "metadata": {},
   "source": [
    "<toptracks tag=\"Disco\">\n",
    "  <track rank=\"\">\n",
    "    <name>Stayin' Alive</name>\n",
    "    <mbid/>\n",
    "    <url>\n",
    "      http://www.last.fm/music/Bee+Gees/_/Stayin'+Alive\n",
    "    </url>\n",
    "    <streamable fulltrack=\"0\">1</streamable>\n",
    "    <artist>\n",
    "      <name>Bee Gees</name>\n",
    "      <mbid>bf0f7e29-dfe1-416c-b5c6-f9ebc19ea810</mbid>\n",
    "      <url>http://www.last.fm/music/Bee+Gees</url>\n",
    "    </artist>\n",
    "    <image size=\"small\">...</image>\n",
    "    <image size=\"medium\">...</image>\n",
    "    <image size=\"large\">...</image>\n",
    "  </track>\n",
    "  ...\n",
    "</toptracks>"
   ]
  },
  {
   "cell_type": "markdown",
   "metadata": {},
   "source": [
    "### 2. Центральный банк России cbr.ru\n",
    "\n",
    "Описание API: http://cbr.ru/development/SXML/\n",
    "\n",
    "Пример запроса получения котировок на заданный день"
   ]
  },
  {
   "cell_type": "raw",
   "metadata": {},
   "source": [
    "http://www.cbr.ru/scripts/XML_daily.asp?date_req=02/03/2002"
   ]
  },
  {
   "cell_type": "markdown",
   "metadata": {},
   "source": [
    "Ответ приходит в формате XML: "
   ]
  },
  {
   "cell_type": "raw",
   "metadata": {},
   "source": [
    "<ValCurs Date=\"02.03.2002\" name=\"Foreign Currency Market\">\n",
    "    <Valute ID=\"R01235\">\n",
    "        <NumCode>840</NumCode>\n",
    "        <CharCode>USD</CharCode>\n",
    "        <Nominal>1</Nominal>\n",
    "        <Name>Доллар США</Name>\n",
    "        <Value>30,9436</Value>\n",
    "    </Valute>\n",
    "    ...\n",
    "</ValCurs>"
   ]
  },
  {
   "cell_type": "markdown",
   "metadata": {},
   "source": [
    "### 3. Medium\n",
    "\n",
    "Например, можно запросить статьи по определенному тегу: "
   ]
  },
  {
   "cell_type": "raw",
   "metadata": {},
   "source": [
    "https://medium.com/tag/data-science?limit=10'"
   ]
  },
  {
   "cell_type": "markdown",
   "metadata": {},
   "source": [
    "Получим список статей, извлечем id для них и скачаем все статьи полностью. "
   ]
  },
  {
   "cell_type": "raw",
   "metadata": {},
   "source": [
    "https://medium.com/post/<post_id>\n",
    "\n",
    "В HTTP-заголовке можно указать параметр \"Accept\": \"application/json\" и тогда в полученном ответе останется пропустить первые символы ])}while(1);</x> и работать дальше с JSON-объектом. "
   ]
  },
  {
   "cell_type": "markdown",
   "metadata": {},
   "source": [
    "### 4. imdb.com"
   ]
  },
  {
   "cell_type": "markdown",
   "metadata": {},
   "source": [
    "Официальное API не нашлось. Можно пойти на страницу расширенного поиска https://www.imdb.com/search/title , выставить там все необходимые фильтры и подсмотреть URL страницы с результатами. \n",
    "\n",
    "Если распарсить эту страницу, то получится извлечь короткую информацию о найденных фильмах: ссылка, заголовок, год, жанр, рейтинг, краткое описание, актеры. \n",
    "\n",
    "При необходимости можно использовать ссылку на фильм для извлечения более детальной информации. \n",
    "\n",
    "А еще на сайте есть готовые датасеты: https://www.imdb.com/interfaces/ :) "
   ]
  },
  {
   "cell_type": "markdown",
   "metadata": {},
   "source": [
    "### 5. Tumblr\n",
    "\n",
    "Есть отличное API https://www.tumblr.com/docs/en/api/v2\n",
    "\n",
    "Также есть готовые клиенты на разных языках, в том числе на Python https://github.com/tumblr/pytumblr\n",
    "\n",
    "GET-запросы делятся на несколько типов: blog methods, user methods, tagged method."
   ]
  },
  {
   "cell_type": "markdown",
   "metadata": {},
   "source": [
    "Рассмотрим запрос краткой информации о блоге (blog methods) по его названию (метод /info):"
   ]
  },
  {
   "cell_type": "raw",
   "metadata": {},
   "source": [
    "api.tumblr.com/v2/blog/{blog-identifier}/info?api_key={key}\t"
   ]
  },
  {
   "cell_type": "markdown",
   "metadata": {},
   "source": [
    "В ответе будет заголовок, количество постов, название блога, url, время последнего поста (сек), краткое описание, индикаторы возможности вопросов, число лайков. "
   ]
  },
  {
   "cell_type": "raw",
   "metadata": {},
   "source": [
    "{\n",
    "   \"meta\": {\n",
    "      \"status\": 200,\n",
    "      \"msg\": \"OK\"\n",
    "   },\n",
    "   \"response\": {\n",
    "      \"blog\": {\n",
    "         \"title\": \"David's Log\",\n",
    "         \"posts\": 3456,\n",
    "         \"name\": \"david\",\n",
    "         \"url\": \"http:\\/\\/david.tumblr.com\\/\",\n",
    "         \"updated\": 1308953007,\n",
    "         \"description\": \"<p><strong>Mr. Karp<\\/strong> is tall and skinny, with\n",
    "            unflinching blue eyes a mop of brown hair.\\r\\n\n",
    "            He speaks incredibly fast and in complete paragraphs.</p>\",\n",
    "         \"ask\": true,\n",
    "         \"ask_anon\": false,\n",
    "         \"likes\": 12345\n",
    "      }\n",
    "   }\n",
    "}"
   ]
  },
  {
   "cell_type": "markdown",
   "metadata": {},
   "source": [
    "Для блогов есть и другие методы, по которым можно получить более детальную информацию: /avatar, /likes, /following, /followers, /posts"
   ]
  },
  {
   "cell_type": "markdown",
   "metadata": {},
   "source": [
    "### 6. vk.com\n",
    "\n",
    "Богатое API с подробной документацией. \n",
    "\n",
    "- Список методов описан здесь https://vk.com/dev/methods\n",
    "\n",
    "- Список возвращаемых объектов https://vk.com/dev/objects\n",
    "\n",
    "Ответ на запрос приходит в формате JSON. \n",
    "\n",
    "Синтаксис запроса: "
   ]
  },
  {
   "cell_type": "raw",
   "metadata": {},
   "source": [
    "https://api.vk.com/method/METHOD_NAME?PARAMETERS&access_token=ACCESS_TOKEN&v=V "
   ]
  },
  {
   "cell_type": "markdown",
   "metadata": {},
   "source": [
    "**METHOD_NAME** (обязательно) — название метода API\n",
    "\n",
    "**PARAMETERS** (опционально) — входные параметры соответствующего метода API, последовательность пар name=value, разделенных амперсандом.\n",
    "\n",
    "**ACCESS_TOKEN** (обязательно) — ключ доступа\n",
    "\n",
    "**V** (обязательно) — используемая версия API"
   ]
  },
  {
   "cell_type": "markdown",
   "metadata": {},
   "source": [
    "### 7. Яндекс-Маркет\n",
    "\n",
    "https://tech.yandex.ru/market/content-data/\n",
    "\n",
    "Контентный API позволяет извлекать информацию о товарах на Яндекс.Маркете. Через API предоставляются данные из карточек моделей (включая цены, краткое описание, фотографии и отзывы), а также полная информация о магазинах и наличии товаров в них.\n",
    "\n",
    "Базовый доступ к API - 100 запросов в сутки. \n",
    "Расширенный оплачивается. \n",
    "\n",
    "Запрос задается в следующем формате:"
   ]
  },
  {
   "cell_type": "raw",
   "metadata": {},
   "source": [
    "<тип_метода> https://api.content.market.yandex.ru/v<версия_API>/<ресурс>?<параметры>"
   ]
  },
  {
   "cell_type": "markdown",
   "metadata": {},
   "source": [
    "где: \n",
    "\n",
    " - **<тип_метода>** ― HTTP метод.\n",
    "\n",
    " - **<версия_API>** ― номер текущей версии API.\n",
    "\n",
    " - **<ресурс>** ― URL ресурса, над которым выполняется действие. Названия ресурсов приведены в описании соответствующих методов. \n",
    "\n",
    "    Полный список здесь https://tech.yandex.ru/market/content-data/doc/dg-v2/reference/all-methods-docpage/\n",
    "\n",
    "\n",
    " - **<параметры>** ― обязательные и необязательные параметры запроса, которые не входят в состав URL ресурса.\n",
    "\n",
    "\n",
    "Входные данные и ответ могут быть в 2-х форматах: JSON и XML"
   ]
  },
  {
   "cell_type": "markdown",
   "metadata": {},
   "source": [
    "### 8. Twitter\n",
    "\n",
    "Документация по API https://developer.twitter.com/\n",
    "\n",
    "Для отправки запроса необходимо получить ключ и передавать в HTTP-заголовке.\n",
    "Есть ограничения на число запросов. \n",
    "\n",
    "Пример поискового get запроса: \n",
    "\n",
    "https://api.twitter.com/1.1/search/tweets.json?q=nasa&result_type=popular\n",
    "\n",
    "где:\n",
    "**q** - поисковая строка\n",
    "\n",
    "Другие параметры описаны здесь https://developer.twitter.com/en/docs/tweets/search/api-reference/get-search-tweets\n",
    "\n",
    "Ответ приходит в формате JSON. \n"
   ]
  },
  {
   "cell_type": "markdown",
   "metadata": {},
   "source": [
    "### 9. Товары на iherb.com\n",
    "\n",
    "Можно, например, скачать товары определенной категории. Здесь придется парсить html, чтобы достать информацию. \n",
    "\n",
    "Пример запроса: 'http://www.iherb.com/c/multivitamins?p=1'\n",
    "\n",
    "Получаем список товаров. В ответе ищем ссылки на товары, по которым скачиваем полную информацию."
   ]
  },
  {
   "cell_type": "markdown",
   "metadata": {},
   "source": [
    "### 10. ebay.com\n",
    " \n",
    "Есть большое API https://developer.ebay.com/docs\n",
    "\n",
    "\n",
    "Пример базового поискового запроса через API (Finding API):"
   ]
  },
  {
   "cell_type": "raw",
   "metadata": {},
   "source": [
    "http://svcs.ebay.com/services/search/FindingService/v1?OPERATION-NAME=findItemsByKeywords\n",
    "   &SERVICE-VERSION=1.0.0\n",
    "   &SECURITY-APPNAME=YourAppID\n",
    "   &RESPONSE-DATA-FORMAT=XML\n",
    "   &REST-PAYLOAD\n",
    "   &keywords=harry%20potter%20phoenix\n",
    "   &itemFilter(1).name=MinPrice\n",
    "   &itemFilter(1).value=10\n",
    "   &itemFilter(1).paramName=Currency\n",
    "   &itemFilter(1).paramValue=USD\n",
    "   ..."
   ]
  },
  {
   "cell_type": "markdown",
   "metadata": {},
   "source": [
    "Можно сделать HTTP POST запрос, передав те же самые параметры в формате JSON, XML, SOAP. \n",
    "\n",
    "Формат ответа на запрос также можно задать через параметр RESPONSE-DATA-FORMAT. Свое приложение необходимо регистрировать и передавать ID в параметре SECURITY-APPNAME."
   ]
  }
 ],
 "metadata": {
  "kernelspec": {
   "display_name": "Python 3",
   "language": "python",
   "name": "python3"
  },
  "language_info": {
   "codemirror_mode": {
    "name": "ipython",
    "version": 3
   },
   "file_extension": ".py",
   "mimetype": "text/x-python",
   "name": "python",
   "nbconvert_exporter": "python",
   "pygments_lexer": "ipython3",
   "version": "3.6.3"
  }
 },
 "nbformat": 4,
 "nbformat_minor": 2
}
