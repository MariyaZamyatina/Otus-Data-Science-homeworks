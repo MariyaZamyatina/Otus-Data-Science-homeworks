{
 "cells": [
  {
   "cell_type": "markdown",
   "metadata": {},
   "source": [
    "### Сбор данных с сайта hh.ru"
   ]
  },
  {
   "cell_type": "code",
   "execution_count": null,
   "metadata": {},
   "outputs": [],
   "source": [
    "#!pip install beautifulsoup4 lxml"
   ]
  },
  {
   "cell_type": "markdown",
   "metadata": {},
   "source": [
    "Загружались вакансии за последний месяц по ключенвым словам: data science, deep learning, big data и т.д.\n",
    "Из скачанных данных были отобраны наиболее интересные поля. "
   ]
  },
  {
   "cell_type": "code",
   "execution_count": 1,
   "metadata": {},
   "outputs": [
    {
     "name": "stdout",
     "output_type": "stream",
     "text": [
      "gathering.py  hh_data_gathering.ipynb  parsers\tscrappers  storages\r\n"
     ]
    }
   ],
   "source": [
    "!ls"
   ]
  },
  {
   "cell_type": "markdown",
   "metadata": {},
   "source": [
    "**1. Поиск и загрузка открытых вакансий**"
   ]
  },
  {
   "cell_type": "code",
   "execution_count": 5,
   "metadata": {
    "scrolled": true
   },
   "outputs": [
    {
     "name": "stdout",
     "output_type": "stream",
     "text": [
      "INFO:__main__:Work started\n",
      "INFO:__main__:Gather process\n",
      "INFO:scrappers.hh_scrapper:Getting data from hh.ru...\n",
      "INFO:scrappers.hh_scrapper:text: !\"data science\" OR !\"data scientist\" OR !\"machine learning\" OR !\"Deep Learning\" OR !\"Data Analysis\" OR !\"Big data\" OR Hadoop OR Spark \n",
      "INFO:scrappers.hh_scrapper:per_page: 100\n",
      "INFO:scrappers.hh_scrapper:pages: 10\n",
      "INFO:scrappers.hh_scrapper:Save 1000 vacancies from hh.ru to the hh_scrapped_data.txt file\n",
      "INFO:__main__:Work ended\n"
     ]
    }
   ],
   "source": [
    "!python3 -m gathering gather"
   ]
  },
  {
   "cell_type": "markdown",
   "metadata": {},
   "source": [
    "**2. Преобразование загруженных данных в табличный формат**"
   ]
  },
  {
   "cell_type": "code",
   "execution_count": 6,
   "metadata": {},
   "outputs": [
    {
     "name": "stdout",
     "output_type": "stream",
     "text": [
      "INFO:__main__:Work started\n",
      "INFO:__main__:transform\n",
      "INFO:parsers.hh_parser:Transformed data saved to the hh_data.csv file\n",
      "INFO:__main__:Work ended\n"
     ]
    }
   ],
   "source": [
    "!python3 -m gathering transform"
   ]
  },
  {
   "cell_type": "code",
   "execution_count": 7,
   "metadata": {},
   "outputs": [
    {
     "name": "stdout",
     "output_type": "stream",
     "text": [
      "total 34M\r\n",
      "-rw-rw-r-- 1 mariya mariya  926 сен  3 04:54 gathering.py\r\n",
      "-rw-rw-r-- 1 mariya mariya 3,3M сен 13 16:20 hh_data.csv\r\n",
      "-rw-rw-r-- 1 mariya mariya  23K сен 13 16:17 hh_data_gathering.ipynb\r\n",
      "-rw-rw-r-- 1 mariya mariya  30M сен 13 15:51 hh_scrapped_data.txt\r\n",
      "drwxrwxr-x 3 mariya mariya 4,0K сен  3 03:09 parsers\r\n",
      "drwxrwxr-x 2 mariya mariya 4,0K сен 13 15:21 __pycache__\r\n",
      "drwxrwxr-x 3 mariya mariya 4,0K сен  3 04:44 scrappers\r\n",
      "drwxrwxr-x 3 mariya mariya 4,0K сен  3 02:21 storages\r\n"
     ]
    }
   ],
   "source": [
    "!ls -lh"
   ]
  },
  {
   "cell_type": "markdown",
   "metadata": {},
   "source": [
    "**3. Краткий анализ загруженных данных**"
   ]
  },
  {
   "cell_type": "code",
   "execution_count": 8,
   "metadata": {},
   "outputs": [],
   "source": [
    "import pandas as pd\n",
    "import numpy as np"
   ]
  },
  {
   "cell_type": "code",
   "execution_count": 9,
   "metadata": {
    "scrolled": false
   },
   "outputs": [
    {
     "name": "stdout",
     "output_type": "stream",
     "text": [
      "(1000, 12)\n"
     ]
    },
    {
     "data": {
      "text/html": [
       "<div>\n",
       "<style scoped>\n",
       "    .dataframe tbody tr th:only-of-type {\n",
       "        vertical-align: middle;\n",
       "    }\n",
       "\n",
       "    .dataframe tbody tr th {\n",
       "        vertical-align: top;\n",
       "    }\n",
       "\n",
       "    .dataframe thead th {\n",
       "        text-align: right;\n",
       "    }\n",
       "</style>\n",
       "<table border=\"1\" class=\"dataframe\">\n",
       "  <thead>\n",
       "    <tr style=\"text-align: right;\">\n",
       "      <th></th>\n",
       "      <th>0</th>\n",
       "      <th>1</th>\n",
       "      <th>2</th>\n",
       "      <th>3</th>\n",
       "      <th>4</th>\n",
       "    </tr>\n",
       "  </thead>\n",
       "  <tbody>\n",
       "    <tr>\n",
       "      <th>address_city</th>\n",
       "      <td>Москва</td>\n",
       "      <td>Москва</td>\n",
       "      <td>Москва</td>\n",
       "      <td>NaN</td>\n",
       "      <td>NaN</td>\n",
       "    </tr>\n",
       "    <tr>\n",
       "      <th>description</th>\n",
       "      <td>Our team is building the Data platform to enab...</td>\n",
       "      <td>В Билайн мы гордимся нашим брендом, как одним ...</td>\n",
       "      <td>Mediascope осуществляет полный цикл работ в об...</td>\n",
       "      <td>Команда Wisebits ищет талантливого и опытного ...</td>\n",
       "      <td>Команда Wisebits ищет талантливого и опытного ...</td>\n",
       "    </tr>\n",
       "    <tr>\n",
       "      <th>employment</th>\n",
       "      <td>full</td>\n",
       "      <td>full</td>\n",
       "      <td>full</td>\n",
       "      <td>full</td>\n",
       "      <td>full</td>\n",
       "    </tr>\n",
       "    <tr>\n",
       "      <th>experience</th>\n",
       "      <td>between3And6</td>\n",
       "      <td>between1And3</td>\n",
       "      <td>between3And6</td>\n",
       "      <td>between1And3</td>\n",
       "      <td>between1And3</td>\n",
       "    </tr>\n",
       "    <tr>\n",
       "      <th>id</th>\n",
       "      <td>27452386</td>\n",
       "      <td>25217817</td>\n",
       "      <td>25214286</td>\n",
       "      <td>27286652</td>\n",
       "      <td>27286653</td>\n",
       "    </tr>\n",
       "    <tr>\n",
       "      <th>key_skills</th>\n",
       "      <td>NaN</td>\n",
       "      <td>NaN</td>\n",
       "      <td>NaN</td>\n",
       "      <td>Python, Big Data, Machine Learning, Математиче...</td>\n",
       "      <td>Python, Big Data, Machine Learning, Математиче...</td>\n",
       "    </tr>\n",
       "    <tr>\n",
       "      <th>name</th>\n",
       "      <td>Chief Data Scientist</td>\n",
       "      <td>Data Scientist</td>\n",
       "      <td>Data Scientist</td>\n",
       "      <td>Data Scientist</td>\n",
       "      <td>Data Scientist</td>\n",
       "    </tr>\n",
       "    <tr>\n",
       "      <th>published_at</th>\n",
       "      <td>2018-09-12T17:15:30+0300</td>\n",
       "      <td>2018-09-12T12:59:47+0300</td>\n",
       "      <td>2018-09-12T11:36:58+0300</td>\n",
       "      <td>2018-09-11T11:49:52+0300</td>\n",
       "      <td>2018-09-11T11:49:33+0300</td>\n",
       "    </tr>\n",
       "    <tr>\n",
       "      <th>salary_currency</th>\n",
       "      <td>NaN</td>\n",
       "      <td>NaN</td>\n",
       "      <td>NaN</td>\n",
       "      <td>NaN</td>\n",
       "      <td>NaN</td>\n",
       "    </tr>\n",
       "    <tr>\n",
       "      <th>salary_from</th>\n",
       "      <td>NaN</td>\n",
       "      <td>NaN</td>\n",
       "      <td>NaN</td>\n",
       "      <td>NaN</td>\n",
       "      <td>NaN</td>\n",
       "    </tr>\n",
       "    <tr>\n",
       "      <th>salary_to</th>\n",
       "      <td>NaN</td>\n",
       "      <td>NaN</td>\n",
       "      <td>NaN</td>\n",
       "      <td>NaN</td>\n",
       "      <td>NaN</td>\n",
       "    </tr>\n",
       "    <tr>\n",
       "      <th>schedule</th>\n",
       "      <td>fullDay</td>\n",
       "      <td>fullDay</td>\n",
       "      <td>fullDay</td>\n",
       "      <td>fullDay</td>\n",
       "      <td>fullDay</td>\n",
       "    </tr>\n",
       "  </tbody>\n",
       "</table>\n",
       "</div>"
      ],
      "text/plain": [
       "                                                                 0  \\\n",
       "address_city                                                Москва   \n",
       "description      Our team is building the Data platform to enab...   \n",
       "employment                                                    full   \n",
       "experience                                            between3And6   \n",
       "id                                                        27452386   \n",
       "key_skills                                                     NaN   \n",
       "name                                          Chief Data Scientist   \n",
       "published_at                              2018-09-12T17:15:30+0300   \n",
       "salary_currency                                                NaN   \n",
       "salary_from                                                    NaN   \n",
       "salary_to                                                      NaN   \n",
       "schedule                                                   fullDay   \n",
       "\n",
       "                                                                 1  \\\n",
       "address_city                                                Москва   \n",
       "description      В Билайн мы гордимся нашим брендом, как одним ...   \n",
       "employment                                                    full   \n",
       "experience                                            between1And3   \n",
       "id                                                        25217817   \n",
       "key_skills                                                     NaN   \n",
       "name                                                Data Scientist   \n",
       "published_at                              2018-09-12T12:59:47+0300   \n",
       "salary_currency                                                NaN   \n",
       "salary_from                                                    NaN   \n",
       "salary_to                                                      NaN   \n",
       "schedule                                                   fullDay   \n",
       "\n",
       "                                                                 2  \\\n",
       "address_city                                                Москва   \n",
       "description      Mediascope осуществляет полный цикл работ в об...   \n",
       "employment                                                    full   \n",
       "experience                                            between3And6   \n",
       "id                                                        25214286   \n",
       "key_skills                                                     NaN   \n",
       "name                                                Data Scientist   \n",
       "published_at                              2018-09-12T11:36:58+0300   \n",
       "salary_currency                                                NaN   \n",
       "salary_from                                                    NaN   \n",
       "salary_to                                                      NaN   \n",
       "schedule                                                   fullDay   \n",
       "\n",
       "                                                                 3  \\\n",
       "address_city                                                   NaN   \n",
       "description      Команда Wisebits ищет талантливого и опытного ...   \n",
       "employment                                                    full   \n",
       "experience                                            between1And3   \n",
       "id                                                        27286652   \n",
       "key_skills       Python, Big Data, Machine Learning, Математиче...   \n",
       "name                                                Data Scientist   \n",
       "published_at                              2018-09-11T11:49:52+0300   \n",
       "salary_currency                                                NaN   \n",
       "salary_from                                                    NaN   \n",
       "salary_to                                                      NaN   \n",
       "schedule                                                   fullDay   \n",
       "\n",
       "                                                                 4  \n",
       "address_city                                                   NaN  \n",
       "description      Команда Wisebits ищет талантливого и опытного ...  \n",
       "employment                                                    full  \n",
       "experience                                            between1And3  \n",
       "id                                                        27286653  \n",
       "key_skills       Python, Big Data, Machine Learning, Математиче...  \n",
       "name                                                Data Scientist  \n",
       "published_at                              2018-09-11T11:49:33+0300  \n",
       "salary_currency                                                NaN  \n",
       "salary_from                                                    NaN  \n",
       "salary_to                                                      NaN  \n",
       "schedule                                                   fullDay  "
      ]
     },
     "execution_count": 9,
     "metadata": {},
     "output_type": "execute_result"
    }
   ],
   "source": [
    "TABLE_FORMAT_FILE = 'hh_data.csv'\n",
    "\n",
    "df = pd.read_csv(TABLE_FORMAT_FILE, sep='\\t')\n",
    "print(df.shape)\n",
    "df.head().T"
   ]
  },
  {
   "cell_type": "markdown",
   "metadata": {},
   "source": [
    "Как часто работодатели указывают зарплатную \"вилку\"?"
   ]
  },
  {
   "cell_type": "code",
   "execution_count": 10,
   "metadata": {},
   "outputs": [
    {
     "name": "stdout",
     "output_type": "stream",
     "text": [
      "21.80 %\n"
     ]
    }
   ],
   "source": [
    "ans = (1 - len(df[np.isnan(df['salary_from']) & np.isnan(df['salary_to'])])/df.shape[0])*100\n",
    "print('{0:.2f} %'.format(ans))"
   ]
  },
  {
   "cell_type": "markdown",
   "metadata": {},
   "source": [
    "Конвертирование иностранной валюты в рубли:"
   ]
  },
  {
   "cell_type": "code",
   "execution_count": 11,
   "metadata": {},
   "outputs": [],
   "source": [
    "def convert_salary_from_usd(value):\n",
    "    return value*68\n",
    "\n",
    "def convert_salary_from_EUR(value):\n",
    "    return value*80\n",
    "\n",
    "df['salary_from_RUB'] = df['salary_from']\n",
    "df['salary_to_RUB'] = df['salary_to']\n",
    "\n",
    "filter_usd = df['salary_currency'] == 'USD'\n",
    "filter_eur = df['salary_currency'] == 'EUR'\n",
    "\n",
    "df.loc[filter_usd, 'salary_from_RUB'] = df[filter_usd]['salary_from'].apply(convert_salary_from_usd)\n",
    "df.loc[filter_usd, 'salary_to_RUB'] = df[filter_usd]['salary_to'].apply(convert_salary_from_usd)\n",
    "\n",
    "df.loc[filter_eur, 'salary_from_RUB'] = df[filter_eur]['salary_from'].apply(convert_salary_from_usd)\n",
    "df.loc[filter_eur, 'salary_to_RUB'] = df[filter_eur]['salary_to'].apply(convert_salary_from_usd)"
   ]
  },
  {
   "cell_type": "markdown",
   "metadata": {},
   "source": [
    "Средние нижней и верхней границ зарплаты:"
   ]
  },
  {
   "cell_type": "code",
   "execution_count": 12,
   "metadata": {},
   "outputs": [
    {
     "name": "stdout",
     "output_type": "stream",
     "text": [
      "Salary from, mean: 105857 RUB\n",
      "Salary to, mean: 175290 RUB\n"
     ]
    }
   ],
   "source": [
    "print('Salary from, mean: {} RUB'.format(int(df['salary_from_RUB'].mean())))\n",
    "print('Salary to, mean: {} RUB'.format(int(df['salary_to_RUB'].mean())))"
   ]
  },
  {
   "cell_type": "markdown",
   "metadata": {},
   "source": [
    "Какой опыт работы чаще всего требуется?"
   ]
  },
  {
   "cell_type": "code",
   "execution_count": 13,
   "metadata": {},
   "outputs": [
    {
     "data": {
      "text/plain": [
       "between1And3    495\n",
       "between3And6    388\n",
       "noExperience     66\n",
       "moreThan6        51\n",
       "Name: experience, dtype: int64"
      ]
     },
     "execution_count": 13,
     "metadata": {},
     "output_type": "execute_result"
    }
   ],
   "source": [
    "df['experience'].value_counts()"
   ]
  },
  {
   "cell_type": "markdown",
   "metadata": {},
   "source": [
    "Как меняется зарплата в среднем в зависимости от опыта работы?"
   ]
  },
  {
   "cell_type": "code",
   "execution_count": 14,
   "metadata": {},
   "outputs": [
    {
     "data": {
      "text/html": [
       "<div>\n",
       "<style scoped>\n",
       "    .dataframe tbody tr th:only-of-type {\n",
       "        vertical-align: middle;\n",
       "    }\n",
       "\n",
       "    .dataframe tbody tr th {\n",
       "        vertical-align: top;\n",
       "    }\n",
       "\n",
       "    .dataframe thead th {\n",
       "        text-align: right;\n",
       "    }\n",
       "</style>\n",
       "<table border=\"1\" class=\"dataframe\">\n",
       "  <thead>\n",
       "    <tr style=\"text-align: right;\">\n",
       "      <th></th>\n",
       "      <th>salary_from_RUB</th>\n",
       "      <th>salary_to_RUB</th>\n",
       "    </tr>\n",
       "    <tr>\n",
       "      <th>experience</th>\n",
       "      <th></th>\n",
       "      <th></th>\n",
       "    </tr>\n",
       "  </thead>\n",
       "  <tbody>\n",
       "    <tr>\n",
       "      <th>between1And3</th>\n",
       "      <td>100447.154472</td>\n",
       "      <td>167141.573034</td>\n",
       "    </tr>\n",
       "    <tr>\n",
       "      <th>between3And6</th>\n",
       "      <td>114784.000000</td>\n",
       "      <td>179009.756098</td>\n",
       "    </tr>\n",
       "    <tr>\n",
       "      <th>moreThan6</th>\n",
       "      <td>196000.000000</td>\n",
       "      <td>258200.000000</td>\n",
       "    </tr>\n",
       "    <tr>\n",
       "      <th>noExperience</th>\n",
       "      <td>50088.888889</td>\n",
       "      <td>143250.000000</td>\n",
       "    </tr>\n",
       "  </tbody>\n",
       "</table>\n",
       "</div>"
      ],
      "text/plain": [
       "              salary_from_RUB  salary_to_RUB\n",
       "experience                                  \n",
       "between1And3    100447.154472  167141.573034\n",
       "between3And6    114784.000000  179009.756098\n",
       "moreThan6       196000.000000  258200.000000\n",
       "noExperience     50088.888889  143250.000000"
      ]
     },
     "execution_count": 14,
     "metadata": {},
     "output_type": "execute_result"
    }
   ],
   "source": [
    "df.groupby(['experience'])[['salary_from_RUB', 'salary_to_RUB']].mean()"
   ]
  },
  {
   "cell_type": "markdown",
   "metadata": {},
   "source": [
    "В каких городах больше всего вакансий?"
   ]
  },
  {
   "cell_type": "code",
   "execution_count": 15,
   "metadata": {},
   "outputs": [
    {
     "data": {
      "text/plain": [
       "Москва             245\n",
       "Санкт-Петербург     83\n",
       "Минск               27\n",
       "Нижний Новгород     18\n",
       "Екатеринбург        10\n",
       "Name: address_city, dtype: int64"
      ]
     },
     "execution_count": 15,
     "metadata": {},
     "output_type": "execute_result"
    }
   ],
   "source": [
    "df['address_city'].value_counts()[:5]"
   ]
  },
  {
   "cell_type": "markdown",
   "metadata": {},
   "source": [
    "Какие ключевые навыки работодатели указывали в вакансии? (посмотрим на топ-20)"
   ]
  },
  {
   "cell_type": "code",
   "execution_count": 16,
   "metadata": {},
   "outputs": [],
   "source": [
    "import itertools\n",
    "\n",
    "def get_most_common_skills(skills, n=10):\n",
    "    key_skills = []\n",
    "\n",
    "    for i in range(0, len(skills)):\n",
    "        key_skills.append(skills[i].split(','))\n",
    "\n",
    "    key_skills = [skill.strip() for skill in list(itertools.chain(*key_skills))]\n",
    "    \n",
    "    skills, counts = np.unique(key_skills, return_counts=True)\n",
    "    return [skills[index] for index in counts.argsort()[::-1][:n]]"
   ]
  },
  {
   "cell_type": "code",
   "execution_count": 17,
   "metadata": {},
   "outputs": [
    {
     "data": {
      "text/plain": [
       "['Python',\n",
       " 'Big Data',\n",
       " 'SQL',\n",
       " 'Machine Learning',\n",
       " 'C++',\n",
       " 'Java',\n",
       " 'Linux',\n",
       " 'Spark',\n",
       " 'Hadoop',\n",
       " 'Data Analysis',\n",
       " 'Deep Learning',\n",
       " 'Английский язык',\n",
       " 'Data Mining',\n",
       " 'Computer Vision',\n",
       " 'Git',\n",
       " 'SCALA',\n",
       " 'JavaScript',\n",
       " 'Анализ данных',\n",
       " 'OpenCV',\n",
       " 'PostgreSQL']"
      ]
     },
     "execution_count": 17,
     "metadata": {},
     "output_type": "execute_result"
    }
   ],
   "source": [
    "get_most_common_skills(df['key_skills'].dropna().values, 20)"
   ]
  },
  {
   "cell_type": "markdown",
   "metadata": {},
   "source": [
    "Вывод: Python рулит! :) "
   ]
  }
 ],
 "metadata": {
  "kernelspec": {
   "display_name": "Python 3",
   "language": "python",
   "name": "python3"
  },
  "language_info": {
   "codemirror_mode": {
    "name": "ipython",
    "version": 3
   },
   "file_extension": ".py",
   "mimetype": "text/x-python",
   "name": "python",
   "nbconvert_exporter": "python",
   "pygments_lexer": "ipython3",
   "version": "3.6.3"
  }
 },
 "nbformat": 4,
 "nbformat_minor": 2
}
