{
 "cells": [
  {
   "cell_type": "markdown",
   "metadata": {},
   "source": [
    "## Numpy"
   ]
  },
  {
   "cell_type": "markdown",
   "metadata": {},
   "source": [
    "Импортировать NumPy под именем np"
   ]
  },
  {
   "cell_type": "code",
   "execution_count": 1,
   "metadata": {},
   "outputs": [],
   "source": [
    "import numpy as np"
   ]
  },
  {
   "cell_type": "markdown",
   "metadata": {},
   "source": [
    "Создать вектор (одномерный массив) размера 10, заполненный нулями"
   ]
  },
  {
   "cell_type": "code",
   "execution_count": 2,
   "metadata": {},
   "outputs": [
    {
     "data": {
      "text/plain": [
       "array([0., 0., 0., 0., 0., 0., 0., 0., 0., 0.])"
      ]
     },
     "execution_count": 2,
     "metadata": {},
     "output_type": "execute_result"
    }
   ],
   "source": [
    "np.zeros(10)"
   ]
  },
  {
   "cell_type": "markdown",
   "metadata": {},
   "source": [
    "Создать вектор размера 10, заполненный единицами"
   ]
  },
  {
   "cell_type": "code",
   "execution_count": 3,
   "metadata": {},
   "outputs": [
    {
     "data": {
      "text/plain": [
       "array([1., 1., 1., 1., 1., 1., 1., 1., 1., 1.])"
      ]
     },
     "execution_count": 3,
     "metadata": {},
     "output_type": "execute_result"
    }
   ],
   "source": [
    "np.ones(10)"
   ]
  },
  {
   "cell_type": "markdown",
   "metadata": {},
   "source": [
    "Создать вектор размера 10, заполненный числом 2.5"
   ]
  },
  {
   "cell_type": "code",
   "execution_count": 4,
   "metadata": {},
   "outputs": [
    {
     "data": {
      "text/plain": [
       "array([2.5, 2.5, 2.5, 2.5, 2.5, 2.5, 2.5, 2.5, 2.5, 2.5])"
      ]
     },
     "execution_count": 4,
     "metadata": {},
     "output_type": "execute_result"
    }
   ],
   "source": [
    "data = np.zeros(10)\n",
    "data[...] = 2.5\n",
    "data"
   ]
  },
  {
   "cell_type": "markdown",
   "metadata": {},
   "source": [
    "Создать вектор размера 10, заполненный нулями, но пятый элемент равен 1"
   ]
  },
  {
   "cell_type": "code",
   "execution_count": 5,
   "metadata": {},
   "outputs": [
    {
     "data": {
      "text/plain": [
       "array([0., 0., 0., 0., 1., 0., 0., 0., 0., 0.])"
      ]
     },
     "execution_count": 5,
     "metadata": {},
     "output_type": "execute_result"
    }
   ],
   "source": [
    "data = np.zeros(10)\n",
    "data[4] = 1\n",
    "data"
   ]
  },
  {
   "cell_type": "markdown",
   "metadata": {},
   "source": [
    "Развернуть вектор (первый становится последним)"
   ]
  },
  {
   "cell_type": "code",
   "execution_count": 6,
   "metadata": {},
   "outputs": [
    {
     "data": {
      "text/plain": [
       "array([9, 8, 7, 6, 5, 4, 3, 2, 1, 0])"
      ]
     },
     "execution_count": 6,
     "metadata": {},
     "output_type": "execute_result"
    }
   ],
   "source": [
    "data = np.arange(10)\n",
    "data[::-1]"
   ]
  },
  {
   "cell_type": "markdown",
   "metadata": {},
   "source": [
    "Создать матрицу (двумерный массив) 3x3 со значениями от 0 до 8"
   ]
  },
  {
   "cell_type": "code",
   "execution_count": 7,
   "metadata": {},
   "outputs": [
    {
     "data": {
      "text/plain": [
       "array([[0, 1, 2],\n",
       "       [3, 4, 5],\n",
       "       [6, 7, 8]])"
      ]
     },
     "execution_count": 7,
     "metadata": {},
     "output_type": "execute_result"
    }
   ],
   "source": [
    "data = np.arange(9).reshape((3,3))\n",
    "data"
   ]
  },
  {
   "cell_type": "markdown",
   "metadata": {},
   "source": [
    "Найти индексы ненулевых элементов в [1,2,0,0,4,0]"
   ]
  },
  {
   "cell_type": "code",
   "execution_count": 8,
   "metadata": {},
   "outputs": [
    {
     "data": {
      "text/plain": [
       "array([0, 1, 4])"
      ]
     },
     "execution_count": 8,
     "metadata": {},
     "output_type": "execute_result"
    }
   ],
   "source": [
    "data = np.array([1, 2, 0, 0, 4, 0])\n",
    "data.nonzero()[0]"
   ]
  },
  {
   "cell_type": "markdown",
   "metadata": {},
   "source": [
    "Создать 3x3 единичную матрицу"
   ]
  },
  {
   "cell_type": "code",
   "execution_count": 9,
   "metadata": {},
   "outputs": [
    {
     "data": {
      "text/plain": [
       "array([[1., 0., 0.],\n",
       "       [0., 1., 0.],\n",
       "       [0., 0., 1.]])"
      ]
     },
     "execution_count": 9,
     "metadata": {},
     "output_type": "execute_result"
    }
   ],
   "source": [
    "data = np.eye(3, 3)\n",
    "data"
   ]
  },
  {
   "cell_type": "markdown",
   "metadata": {},
   "source": [
    "Создать массив 3x3x3 со случайными значениями"
   ]
  },
  {
   "cell_type": "code",
   "execution_count": 10,
   "metadata": {},
   "outputs": [
    {
     "data": {
      "text/plain": [
       "array([[[8, 9, 3],\n",
       "        [8, 7, 7],\n",
       "        [2, 9, 0]],\n",
       "\n",
       "       [[6, 1, 4],\n",
       "        [2, 4, 9],\n",
       "        [1, 9, 2]],\n",
       "\n",
       "       [[8, 9, 0],\n",
       "        [0, 2, 9],\n",
       "        [3, 5, 9]]])"
      ]
     },
     "execution_count": 10,
     "metadata": {},
     "output_type": "execute_result"
    }
   ],
   "source": [
    "data = np.random.randint(0, 10, size=3*3*3).reshape((3,3,3))\n",
    "data"
   ]
  },
  {
   "cell_type": "markdown",
   "metadata": {},
   "source": [
    "Создать случайный вектор размера 30 и найти среднее значение всех элементов"
   ]
  },
  {
   "cell_type": "code",
   "execution_count": 11,
   "metadata": {},
   "outputs": [
    {
     "data": {
      "text/plain": [
       "0.5382531625093002"
      ]
     },
     "execution_count": 11,
     "metadata": {},
     "output_type": "execute_result"
    }
   ],
   "source": [
    "data = np.random.random(30)\n",
    "data.mean()"
   ]
  },
  {
   "cell_type": "markdown",
   "metadata": {},
   "source": [
    "Перемножить матрицы 5x3 и 3x2"
   ]
  },
  {
   "cell_type": "code",
   "execution_count": 12,
   "metadata": {},
   "outputs": [
    {
     "data": {
      "text/plain": [
       "array([[ 2, 18],\n",
       "       [ 4, 12],\n",
       "       [14, 32],\n",
       "       [ 4,  6],\n",
       "       [12, 30]])"
      ]
     },
     "execution_count": 12,
     "metadata": {},
     "output_type": "execute_result"
    }
   ],
   "source": [
    "matrix1 = np.random.randint(low=0, high=5, size=5*3).reshape((5,3))\n",
    "matrix2 = np.random.randint(low=0, high=5, size=3*2).reshape((3,2))\n",
    "np.dot(matrix1, matrix2)"
   ]
  },
  {
   "cell_type": "markdown",
   "metadata": {},
   "source": [
    "Создать вектор размера 10 со значениями от 0 до 1, не включая ни то, ни другое"
   ]
  },
  {
   "cell_type": "code",
   "execution_count": 13,
   "metadata": {},
   "outputs": [
    {
     "data": {
      "text/plain": [
       "array([0.09090909, 0.18181818, 0.27272727, 0.36363636, 0.45454545,\n",
       "       0.54545455, 0.63636364, 0.72727273, 0.81818182, 0.90909091])"
      ]
     },
     "execution_count": 13,
     "metadata": {},
     "output_type": "execute_result"
    }
   ],
   "source": [
    "# 1-ый вариант\n",
    "np.linspace(0, 1, num=12)[1:-1]"
   ]
  },
  {
   "cell_type": "code",
   "execution_count": 14,
   "metadata": {},
   "outputs": [
    {
     "data": {
      "text/plain": [
       "array([0.79402718, 0.60413371, 0.80919617, 0.19957055, 0.7024493 ,\n",
       "       0.35368298, 0.99805359, 0.68223415, 0.70079981, 0.5214417 ])"
      ]
     },
     "execution_count": 14,
     "metadata": {},
     "output_type": "execute_result"
    }
   ],
   "source": [
    "# 2-ой вариант\n",
    "np.random.uniform(low=1e-6, high=1, size=10)"
   ]
  },
  {
   "cell_type": "markdown",
   "metadata": {},
   "source": [
    "Заменить максимальный элемент на ноль"
   ]
  },
  {
   "cell_type": "code",
   "execution_count": 15,
   "metadata": {},
   "outputs": [
    {
     "data": {
      "text/plain": [
       "array([5, 4, 4, 3, 3, 3, 2, 2, 1, 0, 1, 2, 2, 3, 3, 3, 4, 4, 5])"
      ]
     },
     "execution_count": 15,
     "metadata": {},
     "output_type": "execute_result"
    }
   ],
   "source": [
    "data = np.array([5, 4, 4, 3, 3, 3, 2, 2, 1, 111, 1, 2, 2, 3, 3, 3, 4, 4, 5])\n",
    "data[data.argmax()] = 0\n",
    "data"
   ]
  },
  {
   "cell_type": "markdown",
   "metadata": {},
   "source": [
    "Преобразовать массив из float в int"
   ]
  },
  {
   "cell_type": "code",
   "execution_count": 16,
   "metadata": {},
   "outputs": [
    {
     "data": {
      "text/plain": [
       "array([0, 1, 2, 3, 4])"
      ]
     },
     "execution_count": 16,
     "metadata": {},
     "output_type": "execute_result"
    }
   ],
   "source": [
    "data = np.arange(5.).astype(int)\n",
    "data"
   ]
  },
  {
   "cell_type": "markdown",
   "metadata": {},
   "source": [
    "Дан массив (10,2) координат, найти расстояние от каждой точки до каждой"
   ]
  },
  {
   "cell_type": "code",
   "execution_count": 17,
   "metadata": {},
   "outputs": [],
   "source": [
    "# Евклидова метрика\n",
    "# Рассстояния представлены в виде матрицы\n",
    "from scipy.spatial.distance import pdist, squareform, cdist\n",
    "\n",
    "coordinates = np.random.randint(0, 10, size=10*2).reshape((10, 2))\n",
    "distance = cdist(coordinates, coordinates)"
   ]
  },
  {
   "cell_type": "markdown",
   "metadata": {},
   "source": [
    "Случайно расположить p элементов в 2D массив"
   ]
  },
  {
   "cell_type": "code",
   "execution_count": 18,
   "metadata": {},
   "outputs": [
    {
     "data": {
      "text/plain": [
       "array([[  1.,   1.,   1.,   1.,   1.],\n",
       "       [100.,   1.,   1., 100.,   1.],\n",
       "       [  1.,   1.,   1.,   1.,   1.],\n",
       "       [  1.,   1.,   1.,   1., 100.],\n",
       "       [  1.,   1.,   1.,   1.,   1.]])"
      ]
     },
     "execution_count": 18,
     "metadata": {},
     "output_type": "execute_result"
    }
   ],
   "source": [
    "n = 5\n",
    "p = 3\n",
    "data = np.ones((n,n))\n",
    "np.put(data, np.random.choice(n*n, p, replace=False), 100)\n",
    "data"
   ]
  },
  {
   "cell_type": "markdown",
   "metadata": {},
   "source": [
    "Дан вектор [1, 2, 3, 4, 5], построить новый вектор с тремя нулями между каждым значением"
   ]
  },
  {
   "cell_type": "code",
   "execution_count": 19,
   "metadata": {},
   "outputs": [
    {
     "name": "stdout",
     "output_type": "stream",
     "text": [
      "[1 2 3 4 5]\n",
      "[1 0 0 0 2 0 0 0 3 0 0 0 4 0 0 0 5 0 0 0]\n"
     ]
    }
   ],
   "source": [
    "data = np.arange(1, 6)\n",
    "print(data)\n",
    "\n",
    "new_data = np.array([[elem]+[0]*3 for elem in data]).ravel()\n",
    "print(new_data)"
   ]
  },
  {
   "cell_type": "markdown",
   "metadata": {},
   "source": [
    "Найти наиболее частое значение в массиве"
   ]
  },
  {
   "cell_type": "code",
   "execution_count": 20,
   "metadata": {},
   "outputs": [
    {
     "name": "stdout",
     "output_type": "stream",
     "text": [
      "Values: [0 1 2 5]\n",
      "Counts: [1 2 6 4]\n",
      "Most common value:  2\n"
     ]
    }
   ],
   "source": [
    "data = np.array([2, 2, 2, 5, 5, 1, 0, 1, 5, 5, 2, 2, 2])\n",
    "\n",
    "values, counts = np.unique(data, return_counts=True)\n",
    "print(\"Values:\", values)\n",
    "print(\"Counts:\", counts)\n",
    "\n",
    "index = counts.argmax()\n",
    "print(\"Most common value: \", values[index])"
   ]
  },
  {
   "cell_type": "markdown",
   "metadata": {},
   "source": [
    "Найти n наибольших значений в массиве"
   ]
  },
  {
   "cell_type": "code",
   "execution_count": 21,
   "metadata": {},
   "outputs": [
    {
     "name": "stdout",
     "output_type": "stream",
     "text": [
      "Most n common values: 2 5 1\n"
     ]
    }
   ],
   "source": [
    "n = 3\n",
    "print(\"Most n common values:\", ' '.join(str(values[index]) for index in counts.argsort()[::-1][:n]))"
   ]
  },
  {
   "cell_type": "markdown",
   "metadata": {},
   "source": [
    "## Pandas - изучение данных"
   ]
  },
  {
   "cell_type": "markdown",
   "metadata": {},
   "source": [
    "Перейти по ссылке [Kaggle]( https://www.kaggle.com/openfoodfacts/world-food-facts)"
   ]
  },
  {
   "cell_type": "markdown",
   "metadata": {},
   "source": [
    "Скачать датасет на свой компьютер и распаковать"
   ]
  },
  {
   "cell_type": "markdown",
   "metadata": {},
   "source": [
    "Считать csv файл в датафрейм food"
   ]
  },
  {
   "cell_type": "code",
   "execution_count": 22,
   "metadata": {},
   "outputs": [],
   "source": [
    "import pandas as pd"
   ]
  },
  {
   "cell_type": "code",
   "execution_count": 23,
   "metadata": {},
   "outputs": [],
   "source": [
    "food = pd.read_csv('data/en.openfoodfacts.org.products.tsv', sep='\\t', low_memory=False)"
   ]
  },
  {
   "cell_type": "markdown",
   "metadata": {},
   "source": [
    "Посмотреть первые 5 записей"
   ]
  },
  {
   "cell_type": "code",
   "execution_count": 24,
   "metadata": {
    "scrolled": true
   },
   "outputs": [
    {
     "data": {
      "text/html": [
       "<div>\n",
       "<style scoped>\n",
       "    .dataframe tbody tr th:only-of-type {\n",
       "        vertical-align: middle;\n",
       "    }\n",
       "\n",
       "    .dataframe tbody tr th {\n",
       "        vertical-align: top;\n",
       "    }\n",
       "\n",
       "    .dataframe thead th {\n",
       "        text-align: right;\n",
       "    }\n",
       "</style>\n",
       "<table border=\"1\" class=\"dataframe\">\n",
       "  <thead>\n",
       "    <tr style=\"text-align: right;\">\n",
       "      <th></th>\n",
       "      <th>0</th>\n",
       "      <th>1</th>\n",
       "      <th>2</th>\n",
       "      <th>3</th>\n",
       "      <th>4</th>\n",
       "    </tr>\n",
       "  </thead>\n",
       "  <tbody>\n",
       "    <tr>\n",
       "      <th>code</th>\n",
       "      <td>0000000003087</td>\n",
       "      <td>0000000004530</td>\n",
       "      <td>0000000004559</td>\n",
       "      <td>0000000016087</td>\n",
       "      <td>0000000016094</td>\n",
       "    </tr>\n",
       "    <tr>\n",
       "      <th>url</th>\n",
       "      <td>http://world-en.openfoodfacts.org/product/0000...</td>\n",
       "      <td>http://world-en.openfoodfacts.org/product/0000...</td>\n",
       "      <td>http://world-en.openfoodfacts.org/product/0000...</td>\n",
       "      <td>http://world-en.openfoodfacts.org/product/0000...</td>\n",
       "      <td>http://world-en.openfoodfacts.org/product/0000...</td>\n",
       "    </tr>\n",
       "    <tr>\n",
       "      <th>creator</th>\n",
       "      <td>openfoodfacts-contributors</td>\n",
       "      <td>usda-ndb-import</td>\n",
       "      <td>usda-ndb-import</td>\n",
       "      <td>usda-ndb-import</td>\n",
       "      <td>usda-ndb-import</td>\n",
       "    </tr>\n",
       "    <tr>\n",
       "      <th>created_t</th>\n",
       "      <td>1474103866</td>\n",
       "      <td>1489069957</td>\n",
       "      <td>1489069957</td>\n",
       "      <td>1489055731</td>\n",
       "      <td>1489055653</td>\n",
       "    </tr>\n",
       "    <tr>\n",
       "      <th>created_datetime</th>\n",
       "      <td>2016-09-17T09:17:46Z</td>\n",
       "      <td>2017-03-09T14:32:37Z</td>\n",
       "      <td>2017-03-09T14:32:37Z</td>\n",
       "      <td>2017-03-09T10:35:31Z</td>\n",
       "      <td>2017-03-09T10:34:13Z</td>\n",
       "    </tr>\n",
       "    <tr>\n",
       "      <th>last_modified_t</th>\n",
       "      <td>1474103893</td>\n",
       "      <td>1489069957</td>\n",
       "      <td>1489069957</td>\n",
       "      <td>1489055731</td>\n",
       "      <td>1489055653</td>\n",
       "    </tr>\n",
       "    <tr>\n",
       "      <th>last_modified_datetime</th>\n",
       "      <td>2016-09-17T09:18:13Z</td>\n",
       "      <td>2017-03-09T14:32:37Z</td>\n",
       "      <td>2017-03-09T14:32:37Z</td>\n",
       "      <td>2017-03-09T10:35:31Z</td>\n",
       "      <td>2017-03-09T10:34:13Z</td>\n",
       "    </tr>\n",
       "    <tr>\n",
       "      <th>product_name</th>\n",
       "      <td>Farine de blé noir</td>\n",
       "      <td>Banana Chips Sweetened (Whole)</td>\n",
       "      <td>Peanuts</td>\n",
       "      <td>Organic Salted Nut Mix</td>\n",
       "      <td>Organic Polenta</td>\n",
       "    </tr>\n",
       "    <tr>\n",
       "      <th>generic_name</th>\n",
       "      <td>NaN</td>\n",
       "      <td>NaN</td>\n",
       "      <td>NaN</td>\n",
       "      <td>NaN</td>\n",
       "      <td>NaN</td>\n",
       "    </tr>\n",
       "    <tr>\n",
       "      <th>quantity</th>\n",
       "      <td>1kg</td>\n",
       "      <td>NaN</td>\n",
       "      <td>NaN</td>\n",
       "      <td>NaN</td>\n",
       "      <td>NaN</td>\n",
       "    </tr>\n",
       "    <tr>\n",
       "      <th>packaging</th>\n",
       "      <td>NaN</td>\n",
       "      <td>NaN</td>\n",
       "      <td>NaN</td>\n",
       "      <td>NaN</td>\n",
       "      <td>NaN</td>\n",
       "    </tr>\n",
       "    <tr>\n",
       "      <th>packaging_tags</th>\n",
       "      <td>NaN</td>\n",
       "      <td>NaN</td>\n",
       "      <td>NaN</td>\n",
       "      <td>NaN</td>\n",
       "      <td>NaN</td>\n",
       "    </tr>\n",
       "    <tr>\n",
       "      <th>brands</th>\n",
       "      <td>Ferme t'y R'nao</td>\n",
       "      <td>NaN</td>\n",
       "      <td>Torn &amp; Glasser</td>\n",
       "      <td>Grizzlies</td>\n",
       "      <td>Bob's Red Mill</td>\n",
       "    </tr>\n",
       "    <tr>\n",
       "      <th>brands_tags</th>\n",
       "      <td>ferme-t-y-r-nao</td>\n",
       "      <td>NaN</td>\n",
       "      <td>torn-glasser</td>\n",
       "      <td>grizzlies</td>\n",
       "      <td>bob-s-red-mill</td>\n",
       "    </tr>\n",
       "    <tr>\n",
       "      <th>categories</th>\n",
       "      <td>NaN</td>\n",
       "      <td>NaN</td>\n",
       "      <td>NaN</td>\n",
       "      <td>NaN</td>\n",
       "      <td>NaN</td>\n",
       "    </tr>\n",
       "    <tr>\n",
       "      <th>categories_tags</th>\n",
       "      <td>NaN</td>\n",
       "      <td>NaN</td>\n",
       "      <td>NaN</td>\n",
       "      <td>NaN</td>\n",
       "      <td>NaN</td>\n",
       "    </tr>\n",
       "    <tr>\n",
       "      <th>categories_en</th>\n",
       "      <td>NaN</td>\n",
       "      <td>NaN</td>\n",
       "      <td>NaN</td>\n",
       "      <td>NaN</td>\n",
       "      <td>NaN</td>\n",
       "    </tr>\n",
       "    <tr>\n",
       "      <th>origins</th>\n",
       "      <td>NaN</td>\n",
       "      <td>NaN</td>\n",
       "      <td>NaN</td>\n",
       "      <td>NaN</td>\n",
       "      <td>NaN</td>\n",
       "    </tr>\n",
       "    <tr>\n",
       "      <th>origins_tags</th>\n",
       "      <td>NaN</td>\n",
       "      <td>NaN</td>\n",
       "      <td>NaN</td>\n",
       "      <td>NaN</td>\n",
       "      <td>NaN</td>\n",
       "    </tr>\n",
       "    <tr>\n",
       "      <th>manufacturing_places</th>\n",
       "      <td>NaN</td>\n",
       "      <td>NaN</td>\n",
       "      <td>NaN</td>\n",
       "      <td>NaN</td>\n",
       "      <td>NaN</td>\n",
       "    </tr>\n",
       "    <tr>\n",
       "      <th>manufacturing_places_tags</th>\n",
       "      <td>NaN</td>\n",
       "      <td>NaN</td>\n",
       "      <td>NaN</td>\n",
       "      <td>NaN</td>\n",
       "      <td>NaN</td>\n",
       "    </tr>\n",
       "    <tr>\n",
       "      <th>labels</th>\n",
       "      <td>NaN</td>\n",
       "      <td>NaN</td>\n",
       "      <td>NaN</td>\n",
       "      <td>NaN</td>\n",
       "      <td>NaN</td>\n",
       "    </tr>\n",
       "    <tr>\n",
       "      <th>labels_tags</th>\n",
       "      <td>NaN</td>\n",
       "      <td>NaN</td>\n",
       "      <td>NaN</td>\n",
       "      <td>NaN</td>\n",
       "      <td>NaN</td>\n",
       "    </tr>\n",
       "    <tr>\n",
       "      <th>labels_en</th>\n",
       "      <td>NaN</td>\n",
       "      <td>NaN</td>\n",
       "      <td>NaN</td>\n",
       "      <td>NaN</td>\n",
       "      <td>NaN</td>\n",
       "    </tr>\n",
       "    <tr>\n",
       "      <th>emb_codes</th>\n",
       "      <td>NaN</td>\n",
       "      <td>NaN</td>\n",
       "      <td>NaN</td>\n",
       "      <td>NaN</td>\n",
       "      <td>NaN</td>\n",
       "    </tr>\n",
       "    <tr>\n",
       "      <th>emb_codes_tags</th>\n",
       "      <td>NaN</td>\n",
       "      <td>NaN</td>\n",
       "      <td>NaN</td>\n",
       "      <td>NaN</td>\n",
       "      <td>NaN</td>\n",
       "    </tr>\n",
       "    <tr>\n",
       "      <th>first_packaging_code_geo</th>\n",
       "      <td>NaN</td>\n",
       "      <td>NaN</td>\n",
       "      <td>NaN</td>\n",
       "      <td>NaN</td>\n",
       "      <td>NaN</td>\n",
       "    </tr>\n",
       "    <tr>\n",
       "      <th>cities</th>\n",
       "      <td>NaN</td>\n",
       "      <td>NaN</td>\n",
       "      <td>NaN</td>\n",
       "      <td>NaN</td>\n",
       "      <td>NaN</td>\n",
       "    </tr>\n",
       "    <tr>\n",
       "      <th>cities_tags</th>\n",
       "      <td>NaN</td>\n",
       "      <td>NaN</td>\n",
       "      <td>NaN</td>\n",
       "      <td>NaN</td>\n",
       "      <td>NaN</td>\n",
       "    </tr>\n",
       "    <tr>\n",
       "      <th>purchase_places</th>\n",
       "      <td>NaN</td>\n",
       "      <td>NaN</td>\n",
       "      <td>NaN</td>\n",
       "      <td>NaN</td>\n",
       "      <td>NaN</td>\n",
       "    </tr>\n",
       "    <tr>\n",
       "      <th>...</th>\n",
       "      <td>...</td>\n",
       "      <td>...</td>\n",
       "      <td>...</td>\n",
       "      <td>...</td>\n",
       "      <td>...</td>\n",
       "    </tr>\n",
       "    <tr>\n",
       "      <th>pantothenic-acid_100g</th>\n",
       "      <td>NaN</td>\n",
       "      <td>NaN</td>\n",
       "      <td>NaN</td>\n",
       "      <td>NaN</td>\n",
       "      <td>NaN</td>\n",
       "    </tr>\n",
       "    <tr>\n",
       "      <th>silica_100g</th>\n",
       "      <td>NaN</td>\n",
       "      <td>NaN</td>\n",
       "      <td>NaN</td>\n",
       "      <td>NaN</td>\n",
       "      <td>NaN</td>\n",
       "    </tr>\n",
       "    <tr>\n",
       "      <th>bicarbonate_100g</th>\n",
       "      <td>NaN</td>\n",
       "      <td>NaN</td>\n",
       "      <td>NaN</td>\n",
       "      <td>NaN</td>\n",
       "      <td>NaN</td>\n",
       "    </tr>\n",
       "    <tr>\n",
       "      <th>potassium_100g</th>\n",
       "      <td>NaN</td>\n",
       "      <td>NaN</td>\n",
       "      <td>NaN</td>\n",
       "      <td>NaN</td>\n",
       "      <td>NaN</td>\n",
       "    </tr>\n",
       "    <tr>\n",
       "      <th>chloride_100g</th>\n",
       "      <td>NaN</td>\n",
       "      <td>NaN</td>\n",
       "      <td>NaN</td>\n",
       "      <td>NaN</td>\n",
       "      <td>NaN</td>\n",
       "    </tr>\n",
       "    <tr>\n",
       "      <th>calcium_100g</th>\n",
       "      <td>NaN</td>\n",
       "      <td>0</td>\n",
       "      <td>0.071</td>\n",
       "      <td>0.143</td>\n",
       "      <td>NaN</td>\n",
       "    </tr>\n",
       "    <tr>\n",
       "      <th>phosphorus_100g</th>\n",
       "      <td>NaN</td>\n",
       "      <td>NaN</td>\n",
       "      <td>NaN</td>\n",
       "      <td>NaN</td>\n",
       "      <td>NaN</td>\n",
       "    </tr>\n",
       "    <tr>\n",
       "      <th>iron_100g</th>\n",
       "      <td>NaN</td>\n",
       "      <td>0.00129</td>\n",
       "      <td>0.00129</td>\n",
       "      <td>0.00514</td>\n",
       "      <td>NaN</td>\n",
       "    </tr>\n",
       "    <tr>\n",
       "      <th>magnesium_100g</th>\n",
       "      <td>NaN</td>\n",
       "      <td>NaN</td>\n",
       "      <td>NaN</td>\n",
       "      <td>NaN</td>\n",
       "      <td>NaN</td>\n",
       "    </tr>\n",
       "    <tr>\n",
       "      <th>zinc_100g</th>\n",
       "      <td>NaN</td>\n",
       "      <td>NaN</td>\n",
       "      <td>NaN</td>\n",
       "      <td>NaN</td>\n",
       "      <td>NaN</td>\n",
       "    </tr>\n",
       "    <tr>\n",
       "      <th>copper_100g</th>\n",
       "      <td>NaN</td>\n",
       "      <td>NaN</td>\n",
       "      <td>NaN</td>\n",
       "      <td>NaN</td>\n",
       "      <td>NaN</td>\n",
       "    </tr>\n",
       "    <tr>\n",
       "      <th>manganese_100g</th>\n",
       "      <td>NaN</td>\n",
       "      <td>NaN</td>\n",
       "      <td>NaN</td>\n",
       "      <td>NaN</td>\n",
       "      <td>NaN</td>\n",
       "    </tr>\n",
       "    <tr>\n",
       "      <th>fluoride_100g</th>\n",
       "      <td>NaN</td>\n",
       "      <td>NaN</td>\n",
       "      <td>NaN</td>\n",
       "      <td>NaN</td>\n",
       "      <td>NaN</td>\n",
       "    </tr>\n",
       "    <tr>\n",
       "      <th>selenium_100g</th>\n",
       "      <td>NaN</td>\n",
       "      <td>NaN</td>\n",
       "      <td>NaN</td>\n",
       "      <td>NaN</td>\n",
       "      <td>NaN</td>\n",
       "    </tr>\n",
       "    <tr>\n",
       "      <th>chromium_100g</th>\n",
       "      <td>NaN</td>\n",
       "      <td>NaN</td>\n",
       "      <td>NaN</td>\n",
       "      <td>NaN</td>\n",
       "      <td>NaN</td>\n",
       "    </tr>\n",
       "    <tr>\n",
       "      <th>molybdenum_100g</th>\n",
       "      <td>NaN</td>\n",
       "      <td>NaN</td>\n",
       "      <td>NaN</td>\n",
       "      <td>NaN</td>\n",
       "      <td>NaN</td>\n",
       "    </tr>\n",
       "    <tr>\n",
       "      <th>iodine_100g</th>\n",
       "      <td>NaN</td>\n",
       "      <td>NaN</td>\n",
       "      <td>NaN</td>\n",
       "      <td>NaN</td>\n",
       "      <td>NaN</td>\n",
       "    </tr>\n",
       "    <tr>\n",
       "      <th>caffeine_100g</th>\n",
       "      <td>NaN</td>\n",
       "      <td>NaN</td>\n",
       "      <td>NaN</td>\n",
       "      <td>NaN</td>\n",
       "      <td>NaN</td>\n",
       "    </tr>\n",
       "    <tr>\n",
       "      <th>taurine_100g</th>\n",
       "      <td>NaN</td>\n",
       "      <td>NaN</td>\n",
       "      <td>NaN</td>\n",
       "      <td>NaN</td>\n",
       "      <td>NaN</td>\n",
       "    </tr>\n",
       "    <tr>\n",
       "      <th>ph_100g</th>\n",
       "      <td>NaN</td>\n",
       "      <td>NaN</td>\n",
       "      <td>NaN</td>\n",
       "      <td>NaN</td>\n",
       "      <td>NaN</td>\n",
       "    </tr>\n",
       "    <tr>\n",
       "      <th>fruits-vegetables-nuts_100g</th>\n",
       "      <td>NaN</td>\n",
       "      <td>NaN</td>\n",
       "      <td>NaN</td>\n",
       "      <td>NaN</td>\n",
       "      <td>NaN</td>\n",
       "    </tr>\n",
       "    <tr>\n",
       "      <th>fruits-vegetables-nuts-estimate_100g</th>\n",
       "      <td>NaN</td>\n",
       "      <td>NaN</td>\n",
       "      <td>NaN</td>\n",
       "      <td>NaN</td>\n",
       "      <td>NaN</td>\n",
       "    </tr>\n",
       "    <tr>\n",
       "      <th>collagen-meat-protein-ratio_100g</th>\n",
       "      <td>NaN</td>\n",
       "      <td>NaN</td>\n",
       "      <td>NaN</td>\n",
       "      <td>NaN</td>\n",
       "      <td>NaN</td>\n",
       "    </tr>\n",
       "    <tr>\n",
       "      <th>cocoa_100g</th>\n",
       "      <td>NaN</td>\n",
       "      <td>NaN</td>\n",
       "      <td>NaN</td>\n",
       "      <td>NaN</td>\n",
       "      <td>NaN</td>\n",
       "    </tr>\n",
       "    <tr>\n",
       "      <th>chlorophyl_100g</th>\n",
       "      <td>NaN</td>\n",
       "      <td>NaN</td>\n",
       "      <td>NaN</td>\n",
       "      <td>NaN</td>\n",
       "      <td>NaN</td>\n",
       "    </tr>\n",
       "    <tr>\n",
       "      <th>carbon-footprint_100g</th>\n",
       "      <td>NaN</td>\n",
       "      <td>NaN</td>\n",
       "      <td>NaN</td>\n",
       "      <td>NaN</td>\n",
       "      <td>NaN</td>\n",
       "    </tr>\n",
       "    <tr>\n",
       "      <th>nutrition-score-fr_100g</th>\n",
       "      <td>NaN</td>\n",
       "      <td>14</td>\n",
       "      <td>0</td>\n",
       "      <td>12</td>\n",
       "      <td>NaN</td>\n",
       "    </tr>\n",
       "    <tr>\n",
       "      <th>nutrition-score-uk_100g</th>\n",
       "      <td>NaN</td>\n",
       "      <td>14</td>\n",
       "      <td>0</td>\n",
       "      <td>12</td>\n",
       "      <td>NaN</td>\n",
       "    </tr>\n",
       "    <tr>\n",
       "      <th>glycemic-index_100g</th>\n",
       "      <td>NaN</td>\n",
       "      <td>NaN</td>\n",
       "      <td>NaN</td>\n",
       "      <td>NaN</td>\n",
       "      <td>NaN</td>\n",
       "    </tr>\n",
       "    <tr>\n",
       "      <th>water-hardness_100g</th>\n",
       "      <td>NaN</td>\n",
       "      <td>NaN</td>\n",
       "      <td>NaN</td>\n",
       "      <td>NaN</td>\n",
       "      <td>NaN</td>\n",
       "    </tr>\n",
       "  </tbody>\n",
       "</table>\n",
       "<p>163 rows × 5 columns</p>\n",
       "</div>"
      ],
      "text/plain": [
       "                                                                                      0  \\\n",
       "code                                                                      0000000003087   \n",
       "url                                   http://world-en.openfoodfacts.org/product/0000...   \n",
       "creator                                                      openfoodfacts-contributors   \n",
       "created_t                                                                    1474103866   \n",
       "created_datetime                                                   2016-09-17T09:17:46Z   \n",
       "last_modified_t                                                              1474103893   \n",
       "last_modified_datetime                                             2016-09-17T09:18:13Z   \n",
       "product_name                                                         Farine de blé noir   \n",
       "generic_name                                                                        NaN   \n",
       "quantity                                                                            1kg   \n",
       "packaging                                                                           NaN   \n",
       "packaging_tags                                                                      NaN   \n",
       "brands                                                                  Ferme t'y R'nao   \n",
       "brands_tags                                                             ferme-t-y-r-nao   \n",
       "categories                                                                          NaN   \n",
       "categories_tags                                                                     NaN   \n",
       "categories_en                                                                       NaN   \n",
       "origins                                                                             NaN   \n",
       "origins_tags                                                                        NaN   \n",
       "manufacturing_places                                                                NaN   \n",
       "manufacturing_places_tags                                                           NaN   \n",
       "labels                                                                              NaN   \n",
       "labels_tags                                                                         NaN   \n",
       "labels_en                                                                           NaN   \n",
       "emb_codes                                                                           NaN   \n",
       "emb_codes_tags                                                                      NaN   \n",
       "first_packaging_code_geo                                                            NaN   \n",
       "cities                                                                              NaN   \n",
       "cities_tags                                                                         NaN   \n",
       "purchase_places                                                                     NaN   \n",
       "...                                                                                 ...   \n",
       "pantothenic-acid_100g                                                               NaN   \n",
       "silica_100g                                                                         NaN   \n",
       "bicarbonate_100g                                                                    NaN   \n",
       "potassium_100g                                                                      NaN   \n",
       "chloride_100g                                                                       NaN   \n",
       "calcium_100g                                                                        NaN   \n",
       "phosphorus_100g                                                                     NaN   \n",
       "iron_100g                                                                           NaN   \n",
       "magnesium_100g                                                                      NaN   \n",
       "zinc_100g                                                                           NaN   \n",
       "copper_100g                                                                         NaN   \n",
       "manganese_100g                                                                      NaN   \n",
       "fluoride_100g                                                                       NaN   \n",
       "selenium_100g                                                                       NaN   \n",
       "chromium_100g                                                                       NaN   \n",
       "molybdenum_100g                                                                     NaN   \n",
       "iodine_100g                                                                         NaN   \n",
       "caffeine_100g                                                                       NaN   \n",
       "taurine_100g                                                                        NaN   \n",
       "ph_100g                                                                             NaN   \n",
       "fruits-vegetables-nuts_100g                                                         NaN   \n",
       "fruits-vegetables-nuts-estimate_100g                                                NaN   \n",
       "collagen-meat-protein-ratio_100g                                                    NaN   \n",
       "cocoa_100g                                                                          NaN   \n",
       "chlorophyl_100g                                                                     NaN   \n",
       "carbon-footprint_100g                                                               NaN   \n",
       "nutrition-score-fr_100g                                                             NaN   \n",
       "nutrition-score-uk_100g                                                             NaN   \n",
       "glycemic-index_100g                                                                 NaN   \n",
       "water-hardness_100g                                                                 NaN   \n",
       "\n",
       "                                                                                      1  \\\n",
       "code                                                                      0000000004530   \n",
       "url                                   http://world-en.openfoodfacts.org/product/0000...   \n",
       "creator                                                                 usda-ndb-import   \n",
       "created_t                                                                    1489069957   \n",
       "created_datetime                                                   2017-03-09T14:32:37Z   \n",
       "last_modified_t                                                              1489069957   \n",
       "last_modified_datetime                                             2017-03-09T14:32:37Z   \n",
       "product_name                                             Banana Chips Sweetened (Whole)   \n",
       "generic_name                                                                        NaN   \n",
       "quantity                                                                            NaN   \n",
       "packaging                                                                           NaN   \n",
       "packaging_tags                                                                      NaN   \n",
       "brands                                                                              NaN   \n",
       "brands_tags                                                                         NaN   \n",
       "categories                                                                          NaN   \n",
       "categories_tags                                                                     NaN   \n",
       "categories_en                                                                       NaN   \n",
       "origins                                                                             NaN   \n",
       "origins_tags                                                                        NaN   \n",
       "manufacturing_places                                                                NaN   \n",
       "manufacturing_places_tags                                                           NaN   \n",
       "labels                                                                              NaN   \n",
       "labels_tags                                                                         NaN   \n",
       "labels_en                                                                           NaN   \n",
       "emb_codes                                                                           NaN   \n",
       "emb_codes_tags                                                                      NaN   \n",
       "first_packaging_code_geo                                                            NaN   \n",
       "cities                                                                              NaN   \n",
       "cities_tags                                                                         NaN   \n",
       "purchase_places                                                                     NaN   \n",
       "...                                                                                 ...   \n",
       "pantothenic-acid_100g                                                               NaN   \n",
       "silica_100g                                                                         NaN   \n",
       "bicarbonate_100g                                                                    NaN   \n",
       "potassium_100g                                                                      NaN   \n",
       "chloride_100g                                                                       NaN   \n",
       "calcium_100g                                                                          0   \n",
       "phosphorus_100g                                                                     NaN   \n",
       "iron_100g                                                                       0.00129   \n",
       "magnesium_100g                                                                      NaN   \n",
       "zinc_100g                                                                           NaN   \n",
       "copper_100g                                                                         NaN   \n",
       "manganese_100g                                                                      NaN   \n",
       "fluoride_100g                                                                       NaN   \n",
       "selenium_100g                                                                       NaN   \n",
       "chromium_100g                                                                       NaN   \n",
       "molybdenum_100g                                                                     NaN   \n",
       "iodine_100g                                                                         NaN   \n",
       "caffeine_100g                                                                       NaN   \n",
       "taurine_100g                                                                        NaN   \n",
       "ph_100g                                                                             NaN   \n",
       "fruits-vegetables-nuts_100g                                                         NaN   \n",
       "fruits-vegetables-nuts-estimate_100g                                                NaN   \n",
       "collagen-meat-protein-ratio_100g                                                    NaN   \n",
       "cocoa_100g                                                                          NaN   \n",
       "chlorophyl_100g                                                                     NaN   \n",
       "carbon-footprint_100g                                                               NaN   \n",
       "nutrition-score-fr_100g                                                              14   \n",
       "nutrition-score-uk_100g                                                              14   \n",
       "glycemic-index_100g                                                                 NaN   \n",
       "water-hardness_100g                                                                 NaN   \n",
       "\n",
       "                                                                                      2  \\\n",
       "code                                                                      0000000004559   \n",
       "url                                   http://world-en.openfoodfacts.org/product/0000...   \n",
       "creator                                                                 usda-ndb-import   \n",
       "created_t                                                                    1489069957   \n",
       "created_datetime                                                   2017-03-09T14:32:37Z   \n",
       "last_modified_t                                                              1489069957   \n",
       "last_modified_datetime                                             2017-03-09T14:32:37Z   \n",
       "product_name                                                                    Peanuts   \n",
       "generic_name                                                                        NaN   \n",
       "quantity                                                                            NaN   \n",
       "packaging                                                                           NaN   \n",
       "packaging_tags                                                                      NaN   \n",
       "brands                                                                   Torn & Glasser   \n",
       "brands_tags                                                                torn-glasser   \n",
       "categories                                                                          NaN   \n",
       "categories_tags                                                                     NaN   \n",
       "categories_en                                                                       NaN   \n",
       "origins                                                                             NaN   \n",
       "origins_tags                                                                        NaN   \n",
       "manufacturing_places                                                                NaN   \n",
       "manufacturing_places_tags                                                           NaN   \n",
       "labels                                                                              NaN   \n",
       "labels_tags                                                                         NaN   \n",
       "labels_en                                                                           NaN   \n",
       "emb_codes                                                                           NaN   \n",
       "emb_codes_tags                                                                      NaN   \n",
       "first_packaging_code_geo                                                            NaN   \n",
       "cities                                                                              NaN   \n",
       "cities_tags                                                                         NaN   \n",
       "purchase_places                                                                     NaN   \n",
       "...                                                                                 ...   \n",
       "pantothenic-acid_100g                                                               NaN   \n",
       "silica_100g                                                                         NaN   \n",
       "bicarbonate_100g                                                                    NaN   \n",
       "potassium_100g                                                                      NaN   \n",
       "chloride_100g                                                                       NaN   \n",
       "calcium_100g                                                                      0.071   \n",
       "phosphorus_100g                                                                     NaN   \n",
       "iron_100g                                                                       0.00129   \n",
       "magnesium_100g                                                                      NaN   \n",
       "zinc_100g                                                                           NaN   \n",
       "copper_100g                                                                         NaN   \n",
       "manganese_100g                                                                      NaN   \n",
       "fluoride_100g                                                                       NaN   \n",
       "selenium_100g                                                                       NaN   \n",
       "chromium_100g                                                                       NaN   \n",
       "molybdenum_100g                                                                     NaN   \n",
       "iodine_100g                                                                         NaN   \n",
       "caffeine_100g                                                                       NaN   \n",
       "taurine_100g                                                                        NaN   \n",
       "ph_100g                                                                             NaN   \n",
       "fruits-vegetables-nuts_100g                                                         NaN   \n",
       "fruits-vegetables-nuts-estimate_100g                                                NaN   \n",
       "collagen-meat-protein-ratio_100g                                                    NaN   \n",
       "cocoa_100g                                                                          NaN   \n",
       "chlorophyl_100g                                                                     NaN   \n",
       "carbon-footprint_100g                                                               NaN   \n",
       "nutrition-score-fr_100g                                                               0   \n",
       "nutrition-score-uk_100g                                                               0   \n",
       "glycemic-index_100g                                                                 NaN   \n",
       "water-hardness_100g                                                                 NaN   \n",
       "\n",
       "                                                                                      3  \\\n",
       "code                                                                      0000000016087   \n",
       "url                                   http://world-en.openfoodfacts.org/product/0000...   \n",
       "creator                                                                 usda-ndb-import   \n",
       "created_t                                                                    1489055731   \n",
       "created_datetime                                                   2017-03-09T10:35:31Z   \n",
       "last_modified_t                                                              1489055731   \n",
       "last_modified_datetime                                             2017-03-09T10:35:31Z   \n",
       "product_name                                                     Organic Salted Nut Mix   \n",
       "generic_name                                                                        NaN   \n",
       "quantity                                                                            NaN   \n",
       "packaging                                                                           NaN   \n",
       "packaging_tags                                                                      NaN   \n",
       "brands                                                                        Grizzlies   \n",
       "brands_tags                                                                   grizzlies   \n",
       "categories                                                                          NaN   \n",
       "categories_tags                                                                     NaN   \n",
       "categories_en                                                                       NaN   \n",
       "origins                                                                             NaN   \n",
       "origins_tags                                                                        NaN   \n",
       "manufacturing_places                                                                NaN   \n",
       "manufacturing_places_tags                                                           NaN   \n",
       "labels                                                                              NaN   \n",
       "labels_tags                                                                         NaN   \n",
       "labels_en                                                                           NaN   \n",
       "emb_codes                                                                           NaN   \n",
       "emb_codes_tags                                                                      NaN   \n",
       "first_packaging_code_geo                                                            NaN   \n",
       "cities                                                                              NaN   \n",
       "cities_tags                                                                         NaN   \n",
       "purchase_places                                                                     NaN   \n",
       "...                                                                                 ...   \n",
       "pantothenic-acid_100g                                                               NaN   \n",
       "silica_100g                                                                         NaN   \n",
       "bicarbonate_100g                                                                    NaN   \n",
       "potassium_100g                                                                      NaN   \n",
       "chloride_100g                                                                       NaN   \n",
       "calcium_100g                                                                      0.143   \n",
       "phosphorus_100g                                                                     NaN   \n",
       "iron_100g                                                                       0.00514   \n",
       "magnesium_100g                                                                      NaN   \n",
       "zinc_100g                                                                           NaN   \n",
       "copper_100g                                                                         NaN   \n",
       "manganese_100g                                                                      NaN   \n",
       "fluoride_100g                                                                       NaN   \n",
       "selenium_100g                                                                       NaN   \n",
       "chromium_100g                                                                       NaN   \n",
       "molybdenum_100g                                                                     NaN   \n",
       "iodine_100g                                                                         NaN   \n",
       "caffeine_100g                                                                       NaN   \n",
       "taurine_100g                                                                        NaN   \n",
       "ph_100g                                                                             NaN   \n",
       "fruits-vegetables-nuts_100g                                                         NaN   \n",
       "fruits-vegetables-nuts-estimate_100g                                                NaN   \n",
       "collagen-meat-protein-ratio_100g                                                    NaN   \n",
       "cocoa_100g                                                                          NaN   \n",
       "chlorophyl_100g                                                                     NaN   \n",
       "carbon-footprint_100g                                                               NaN   \n",
       "nutrition-score-fr_100g                                                              12   \n",
       "nutrition-score-uk_100g                                                              12   \n",
       "glycemic-index_100g                                                                 NaN   \n",
       "water-hardness_100g                                                                 NaN   \n",
       "\n",
       "                                                                                      4  \n",
       "code                                                                      0000000016094  \n",
       "url                                   http://world-en.openfoodfacts.org/product/0000...  \n",
       "creator                                                                 usda-ndb-import  \n",
       "created_t                                                                    1489055653  \n",
       "created_datetime                                                   2017-03-09T10:34:13Z  \n",
       "last_modified_t                                                              1489055653  \n",
       "last_modified_datetime                                             2017-03-09T10:34:13Z  \n",
       "product_name                                                            Organic Polenta  \n",
       "generic_name                                                                        NaN  \n",
       "quantity                                                                            NaN  \n",
       "packaging                                                                           NaN  \n",
       "packaging_tags                                                                      NaN  \n",
       "brands                                                                   Bob's Red Mill  \n",
       "brands_tags                                                              bob-s-red-mill  \n",
       "categories                                                                          NaN  \n",
       "categories_tags                                                                     NaN  \n",
       "categories_en                                                                       NaN  \n",
       "origins                                                                             NaN  \n",
       "origins_tags                                                                        NaN  \n",
       "manufacturing_places                                                                NaN  \n",
       "manufacturing_places_tags                                                           NaN  \n",
       "labels                                                                              NaN  \n",
       "labels_tags                                                                         NaN  \n",
       "labels_en                                                                           NaN  \n",
       "emb_codes                                                                           NaN  \n",
       "emb_codes_tags                                                                      NaN  \n",
       "first_packaging_code_geo                                                            NaN  \n",
       "cities                                                                              NaN  \n",
       "cities_tags                                                                         NaN  \n",
       "purchase_places                                                                     NaN  \n",
       "...                                                                                 ...  \n",
       "pantothenic-acid_100g                                                               NaN  \n",
       "silica_100g                                                                         NaN  \n",
       "bicarbonate_100g                                                                    NaN  \n",
       "potassium_100g                                                                      NaN  \n",
       "chloride_100g                                                                       NaN  \n",
       "calcium_100g                                                                        NaN  \n",
       "phosphorus_100g                                                                     NaN  \n",
       "iron_100g                                                                           NaN  \n",
       "magnesium_100g                                                                      NaN  \n",
       "zinc_100g                                                                           NaN  \n",
       "copper_100g                                                                         NaN  \n",
       "manganese_100g                                                                      NaN  \n",
       "fluoride_100g                                                                       NaN  \n",
       "selenium_100g                                                                       NaN  \n",
       "chromium_100g                                                                       NaN  \n",
       "molybdenum_100g                                                                     NaN  \n",
       "iodine_100g                                                                         NaN  \n",
       "caffeine_100g                                                                       NaN  \n",
       "taurine_100g                                                                        NaN  \n",
       "ph_100g                                                                             NaN  \n",
       "fruits-vegetables-nuts_100g                                                         NaN  \n",
       "fruits-vegetables-nuts-estimate_100g                                                NaN  \n",
       "collagen-meat-protein-ratio_100g                                                    NaN  \n",
       "cocoa_100g                                                                          NaN  \n",
       "chlorophyl_100g                                                                     NaN  \n",
       "carbon-footprint_100g                                                               NaN  \n",
       "nutrition-score-fr_100g                                                             NaN  \n",
       "nutrition-score-uk_100g                                                             NaN  \n",
       "glycemic-index_100g                                                                 NaN  \n",
       "water-hardness_100g                                                                 NaN  \n",
       "\n",
       "[163 rows x 5 columns]"
      ]
     },
     "execution_count": 24,
     "metadata": {},
     "output_type": "execute_result"
    }
   ],
   "source": [
    "food.head(5).T"
   ]
  },
  {
   "cell_type": "markdown",
   "metadata": {},
   "source": [
    "Сколько наблюдений в наборе данных?\n"
   ]
  },
  {
   "cell_type": "code",
   "execution_count": 25,
   "metadata": {},
   "outputs": [
    {
     "data": {
      "text/plain": [
       "356027"
      ]
     },
     "execution_count": 25,
     "metadata": {},
     "output_type": "execute_result"
    }
   ],
   "source": [
    "food.shape[0]"
   ]
  },
  {
   "cell_type": "markdown",
   "metadata": {},
   "source": [
    "Сколько столбцов в наборе данных?"
   ]
  },
  {
   "cell_type": "code",
   "execution_count": 26,
   "metadata": {},
   "outputs": [
    {
     "data": {
      "text/plain": [
       "163"
      ]
     },
     "execution_count": 26,
     "metadata": {},
     "output_type": "execute_result"
    }
   ],
   "source": [
    "food.shape[1]"
   ]
  },
  {
   "cell_type": "markdown",
   "metadata": {},
   "source": [
    "Напечатайте все названия столбцов"
   ]
  },
  {
   "cell_type": "code",
   "execution_count": 27,
   "metadata": {
    "scrolled": true
   },
   "outputs": [
    {
     "name": "stdout",
     "output_type": "stream",
     "text": [
      "['code' 'url' 'creator' 'created_t' 'created_datetime' 'last_modified_t'\n",
      " 'last_modified_datetime' 'product_name' 'generic_name' 'quantity'\n",
      " 'packaging' 'packaging_tags' 'brands' 'brands_tags' 'categories'\n",
      " 'categories_tags' 'categories_en' 'origins' 'origins_tags'\n",
      " 'manufacturing_places' 'manufacturing_places_tags' 'labels' 'labels_tags'\n",
      " 'labels_en' 'emb_codes' 'emb_codes_tags' 'first_packaging_code_geo'\n",
      " 'cities' 'cities_tags' 'purchase_places' 'stores' 'countries'\n",
      " 'countries_tags' 'countries_en' 'ingredients_text' 'allergens'\n",
      " 'allergens_en' 'traces' 'traces_tags' 'traces_en' 'serving_size'\n",
      " 'no_nutriments' 'additives_n' 'additives' 'additives_tags' 'additives_en'\n",
      " 'ingredients_from_palm_oil_n' 'ingredients_from_palm_oil'\n",
      " 'ingredients_from_palm_oil_tags'\n",
      " 'ingredients_that_may_be_from_palm_oil_n'\n",
      " 'ingredients_that_may_be_from_palm_oil'\n",
      " 'ingredients_that_may_be_from_palm_oil_tags' 'nutrition_grade_uk'\n",
      " 'nutrition_grade_fr' 'pnns_groups_1' 'pnns_groups_2' 'states'\n",
      " 'states_tags' 'states_en' 'main_category' 'main_category_en' 'image_url'\n",
      " 'image_small_url' 'energy_100g' 'energy-from-fat_100g' 'fat_100g'\n",
      " 'saturated-fat_100g' '-butyric-acid_100g' '-caproic-acid_100g'\n",
      " '-caprylic-acid_100g' '-capric-acid_100g' '-lauric-acid_100g'\n",
      " '-myristic-acid_100g' '-palmitic-acid_100g' '-stearic-acid_100g'\n",
      " '-arachidic-acid_100g' '-behenic-acid_100g' '-lignoceric-acid_100g'\n",
      " '-cerotic-acid_100g' '-montanic-acid_100g' '-melissic-acid_100g'\n",
      " 'monounsaturated-fat_100g' 'polyunsaturated-fat_100g' 'omega-3-fat_100g'\n",
      " '-alpha-linolenic-acid_100g' '-eicosapentaenoic-acid_100g'\n",
      " '-docosahexaenoic-acid_100g' 'omega-6-fat_100g' '-linoleic-acid_100g'\n",
      " '-arachidonic-acid_100g' '-gamma-linolenic-acid_100g'\n",
      " '-dihomo-gamma-linolenic-acid_100g' 'omega-9-fat_100g' '-oleic-acid_100g'\n",
      " '-elaidic-acid_100g' '-gondoic-acid_100g' '-mead-acid_100g'\n",
      " '-erucic-acid_100g' '-nervonic-acid_100g' 'trans-fat_100g'\n",
      " 'cholesterol_100g' 'carbohydrates_100g' 'sugars_100g' '-sucrose_100g'\n",
      " '-glucose_100g' '-fructose_100g' '-lactose_100g' '-maltose_100g'\n",
      " '-maltodextrins_100g' 'starch_100g' 'polyols_100g' 'fiber_100g'\n",
      " 'proteins_100g' 'casein_100g' 'serum-proteins_100g' 'nucleotides_100g'\n",
      " 'salt_100g' 'sodium_100g' 'alcohol_100g' 'vitamin-a_100g'\n",
      " 'beta-carotene_100g' 'vitamin-d_100g' 'vitamin-e_100g' 'vitamin-k_100g'\n",
      " 'vitamin-c_100g' 'vitamin-b1_100g' 'vitamin-b2_100g' 'vitamin-pp_100g'\n",
      " 'vitamin-b6_100g' 'vitamin-b9_100g' 'folates_100g' 'vitamin-b12_100g'\n",
      " 'biotin_100g' 'pantothenic-acid_100g' 'silica_100g' 'bicarbonate_100g'\n",
      " 'potassium_100g' 'chloride_100g' 'calcium_100g' 'phosphorus_100g'\n",
      " 'iron_100g' 'magnesium_100g' 'zinc_100g' 'copper_100g' 'manganese_100g'\n",
      " 'fluoride_100g' 'selenium_100g' 'chromium_100g' 'molybdenum_100g'\n",
      " 'iodine_100g' 'caffeine_100g' 'taurine_100g' 'ph_100g'\n",
      " 'fruits-vegetables-nuts_100g' 'fruits-vegetables-nuts-estimate_100g'\n",
      " 'collagen-meat-protein-ratio_100g' 'cocoa_100g' 'chlorophyl_100g'\n",
      " 'carbon-footprint_100g' 'nutrition-score-fr_100g'\n",
      " 'nutrition-score-uk_100g' 'glycemic-index_100g' 'water-hardness_100g']\n"
     ]
    }
   ],
   "source": [
    "print(food.columns.values)"
   ]
  },
  {
   "cell_type": "markdown",
   "metadata": {},
   "source": [
    "Какое название у 105 столбца?"
   ]
  },
  {
   "cell_type": "code",
   "execution_count": 28,
   "metadata": {},
   "outputs": [
    {
     "data": {
      "text/plain": [
       "'-glucose_100g'"
      ]
     },
     "execution_count": 28,
     "metadata": {},
     "output_type": "execute_result"
    }
   ],
   "source": [
    "food.columns[104]"
   ]
  },
  {
   "cell_type": "markdown",
   "metadata": {},
   "source": [
    "Какой тип наблюдений в 105 столбце?"
   ]
  },
  {
   "cell_type": "code",
   "execution_count": 30,
   "metadata": {
    "scrolled": true
   },
   "outputs": [
    {
     "data": {
      "text/plain": [
       "dtype('float64')"
      ]
     },
     "execution_count": 30,
     "metadata": {},
     "output_type": "execute_result"
    }
   ],
   "source": [
    "food['-glucose_100g'].dtype"
   ]
  },
  {
   "cell_type": "markdown",
   "metadata": {},
   "source": [
    "Как проиндексирован набор данных?"
   ]
  },
  {
   "cell_type": "code",
   "execution_count": 31,
   "metadata": {},
   "outputs": [
    {
     "data": {
      "text/plain": [
       "RangeIndex(start=0, stop=356027, step=1)"
      ]
     },
     "execution_count": 31,
     "metadata": {},
     "output_type": "execute_result"
    }
   ],
   "source": [
    "food.index"
   ]
  },
  {
   "cell_type": "markdown",
   "metadata": {},
   "source": [
    "Каково значение имени продукта в 19-м наблюдении?"
   ]
  },
  {
   "cell_type": "code",
   "execution_count": 32,
   "metadata": {},
   "outputs": [
    {
     "data": {
      "text/plain": [
       "'Lotus Organic Brown Jasmine Rice'"
      ]
     },
     "execution_count": 32,
     "metadata": {},
     "output_type": "execute_result"
    }
   ],
   "source": [
    "food['product_name'][18]"
   ]
  },
  {
   "cell_type": "markdown",
   "metadata": {},
   "source": [
    "## Pandas - фильтрация данных"
   ]
  },
  {
   "cell_type": "markdown",
   "metadata": {},
   "source": [
    "Считать данные по  [адресу](https://raw.githubusercontent.com/justmarkham/DAT8/master/data/chipotle.tsv). \n",
    "Присвоить переменной chipo"
   ]
  },
  {
   "cell_type": "code",
   "execution_count": 12,
   "metadata": {},
   "outputs": [
    {
     "data": {
      "text/html": [
       "<div>\n",
       "<style scoped>\n",
       "    .dataframe tbody tr th:only-of-type {\n",
       "        vertical-align: middle;\n",
       "    }\n",
       "\n",
       "    .dataframe tbody tr th {\n",
       "        vertical-align: top;\n",
       "    }\n",
       "\n",
       "    .dataframe thead th {\n",
       "        text-align: right;\n",
       "    }\n",
       "</style>\n",
       "<table border=\"1\" class=\"dataframe\">\n",
       "  <thead>\n",
       "    <tr style=\"text-align: right;\">\n",
       "      <th></th>\n",
       "      <th>order_id</th>\n",
       "      <th>quantity</th>\n",
       "      <th>item_name</th>\n",
       "      <th>choice_description</th>\n",
       "      <th>item_price</th>\n",
       "    </tr>\n",
       "  </thead>\n",
       "  <tbody>\n",
       "    <tr>\n",
       "      <th>0</th>\n",
       "      <td>1</td>\n",
       "      <td>1</td>\n",
       "      <td>Chips and Fresh Tomato Salsa</td>\n",
       "      <td>NaN</td>\n",
       "      <td>$2.39</td>\n",
       "    </tr>\n",
       "    <tr>\n",
       "      <th>1</th>\n",
       "      <td>1</td>\n",
       "      <td>1</td>\n",
       "      <td>Izze</td>\n",
       "      <td>[Clementine]</td>\n",
       "      <td>$3.39</td>\n",
       "    </tr>\n",
       "    <tr>\n",
       "      <th>2</th>\n",
       "      <td>1</td>\n",
       "      <td>1</td>\n",
       "      <td>Nantucket Nectar</td>\n",
       "      <td>[Apple]</td>\n",
       "      <td>$3.39</td>\n",
       "    </tr>\n",
       "    <tr>\n",
       "      <th>3</th>\n",
       "      <td>1</td>\n",
       "      <td>1</td>\n",
       "      <td>Chips and Tomatillo-Green Chili Salsa</td>\n",
       "      <td>NaN</td>\n",
       "      <td>$2.39</td>\n",
       "    </tr>\n",
       "    <tr>\n",
       "      <th>4</th>\n",
       "      <td>2</td>\n",
       "      <td>2</td>\n",
       "      <td>Chicken Bowl</td>\n",
       "      <td>[Tomatillo-Red Chili Salsa (Hot), [Black Beans...</td>\n",
       "      <td>$16.98</td>\n",
       "    </tr>\n",
       "    <tr>\n",
       "      <th>5</th>\n",
       "      <td>3</td>\n",
       "      <td>1</td>\n",
       "      <td>Chicken Bowl</td>\n",
       "      <td>[Fresh Tomato Salsa (Mild), [Rice, Cheese, Sou...</td>\n",
       "      <td>$10.98</td>\n",
       "    </tr>\n",
       "    <tr>\n",
       "      <th>6</th>\n",
       "      <td>3</td>\n",
       "      <td>1</td>\n",
       "      <td>Side of Chips</td>\n",
       "      <td>NaN</td>\n",
       "      <td>$1.69</td>\n",
       "    </tr>\n",
       "    <tr>\n",
       "      <th>7</th>\n",
       "      <td>4</td>\n",
       "      <td>1</td>\n",
       "      <td>Steak Burrito</td>\n",
       "      <td>[Tomatillo Red Chili Salsa, [Fajita Vegetables...</td>\n",
       "      <td>$11.75</td>\n",
       "    </tr>\n",
       "    <tr>\n",
       "      <th>8</th>\n",
       "      <td>4</td>\n",
       "      <td>1</td>\n",
       "      <td>Steak Soft Tacos</td>\n",
       "      <td>[Tomatillo Green Chili Salsa, [Pinto Beans, Ch...</td>\n",
       "      <td>$9.25</td>\n",
       "    </tr>\n",
       "    <tr>\n",
       "      <th>9</th>\n",
       "      <td>5</td>\n",
       "      <td>1</td>\n",
       "      <td>Steak Burrito</td>\n",
       "      <td>[Fresh Tomato Salsa, [Rice, Black Beans, Pinto...</td>\n",
       "      <td>$9.25</td>\n",
       "    </tr>\n",
       "  </tbody>\n",
       "</table>\n",
       "</div>"
      ],
      "text/plain": [
       "   order_id  quantity                              item_name  \\\n",
       "0         1         1           Chips and Fresh Tomato Salsa   \n",
       "1         1         1                                   Izze   \n",
       "2         1         1                       Nantucket Nectar   \n",
       "3         1         1  Chips and Tomatillo-Green Chili Salsa   \n",
       "4         2         2                           Chicken Bowl   \n",
       "5         3         1                           Chicken Bowl   \n",
       "6         3         1                          Side of Chips   \n",
       "7         4         1                          Steak Burrito   \n",
       "8         4         1                       Steak Soft Tacos   \n",
       "9         5         1                          Steak Burrito   \n",
       "\n",
       "                                  choice_description item_price  \n",
       "0                                                NaN     $2.39   \n",
       "1                                       [Clementine]     $3.39   \n",
       "2                                            [Apple]     $3.39   \n",
       "3                                                NaN     $2.39   \n",
       "4  [Tomatillo-Red Chili Salsa (Hot), [Black Beans...    $16.98   \n",
       "5  [Fresh Tomato Salsa (Mild), [Rice, Cheese, Sou...    $10.98   \n",
       "6                                                NaN     $1.69   \n",
       "7  [Tomatillo Red Chili Salsa, [Fajita Vegetables...    $11.75   \n",
       "8  [Tomatillo Green Chili Salsa, [Pinto Beans, Ch...     $9.25   \n",
       "9  [Fresh Tomato Salsa, [Rice, Black Beans, Pinto...     $9.25   "
      ]
     },
     "execution_count": 12,
     "metadata": {},
     "output_type": "execute_result"
    }
   ],
   "source": [
    "import pandas as pd\n",
    "import numpy as np\n",
    "chipo = pd.read_csv('data/chipotle.tsv', sep='\\t')\n",
    "chipo.head(10)"
   ]
  },
  {
   "cell_type": "code",
   "execution_count": 13,
   "metadata": {
    "scrolled": true
   },
   "outputs": [],
   "source": [
    "# В колонку item_price запишем цену за одну единицу товара\n",
    "# item_price = item_price / quantity\n",
    "chipo['item_price'] = chipo['item_price'].apply(lambda price: price[1:]).astype('float')\n",
    "chipo['item_price'] = chipo['item_price']/chipo['quantity']"
   ]
  },
  {
   "cell_type": "code",
   "execution_count": 14,
   "metadata": {},
   "outputs": [
    {
     "name": "stdout",
     "output_type": "stream",
     "text": [
      "<class 'pandas.core.frame.DataFrame'>\n",
      "RangeIndex: 4622 entries, 0 to 4621\n",
      "Data columns (total 5 columns):\n",
      "order_id              4622 non-null int64\n",
      "quantity              4622 non-null int64\n",
      "item_name             4622 non-null object\n",
      "choice_description    3376 non-null object\n",
      "item_price            4622 non-null float64\n",
      "dtypes: float64(1), int64(2), object(2)\n",
      "memory usage: 180.6+ KB\n"
     ]
    }
   ],
   "source": [
    "chipo.info()"
   ]
  },
  {
   "cell_type": "code",
   "execution_count": 15,
   "metadata": {},
   "outputs": [
    {
     "name": "stdout",
     "output_type": "stream",
     "text": [
      "(1871, 3)\n"
     ]
    }
   ],
   "source": [
    "# Таблица с названием и ценой продуктов\n",
    "# Уникальность продукта определяется названием и описанием\n",
    "menu_columns = ['item_name', 'choice_description', 'item_price']\n",
    "chipo_menu = chipo.drop_duplicates(['item_name', 'choice_description'])[menu_columns]\n",
    "print(chipo_menu.shape)"
   ]
  },
  {
   "cell_type": "markdown",
   "metadata": {},
   "source": [
    "Как много продуктов стоят более чем $10.00?"
   ]
  },
  {
   "cell_type": "code",
   "execution_count": 16,
   "metadata": {},
   "outputs": [
    {
     "data": {
      "text/plain": [
       "707"
      ]
     },
     "execution_count": 16,
     "metadata": {},
     "output_type": "execute_result"
    }
   ],
   "source": [
    "len(chipo_menu[chipo_menu['item_price'] > 10])"
   ]
  },
  {
   "cell_type": "markdown",
   "metadata": {},
   "source": [
    "Какова цена каждого предмета? Напечатать столбцы item_name и item_price"
   ]
  },
  {
   "cell_type": "code",
   "execution_count": 17,
   "metadata": {},
   "outputs": [
    {
     "data": {
      "text/html": [
       "<div>\n",
       "<style scoped>\n",
       "    .dataframe tbody tr th:only-of-type {\n",
       "        vertical-align: middle;\n",
       "    }\n",
       "\n",
       "    .dataframe tbody tr th {\n",
       "        vertical-align: top;\n",
       "    }\n",
       "\n",
       "    .dataframe thead th {\n",
       "        text-align: right;\n",
       "    }\n",
       "</style>\n",
       "<table border=\"1\" class=\"dataframe\">\n",
       "  <thead>\n",
       "    <tr style=\"text-align: right;\">\n",
       "      <th></th>\n",
       "      <th>item_name</th>\n",
       "      <th>choice_description</th>\n",
       "      <th>item_price</th>\n",
       "    </tr>\n",
       "  </thead>\n",
       "  <tbody>\n",
       "    <tr>\n",
       "      <th>0</th>\n",
       "      <td>Chips and Fresh Tomato Salsa</td>\n",
       "      <td>NaN</td>\n",
       "      <td>2.39</td>\n",
       "    </tr>\n",
       "    <tr>\n",
       "      <th>1</th>\n",
       "      <td>Izze</td>\n",
       "      <td>[Clementine]</td>\n",
       "      <td>3.39</td>\n",
       "    </tr>\n",
       "    <tr>\n",
       "      <th>2</th>\n",
       "      <td>Nantucket Nectar</td>\n",
       "      <td>[Apple]</td>\n",
       "      <td>3.39</td>\n",
       "    </tr>\n",
       "    <tr>\n",
       "      <th>3</th>\n",
       "      <td>Chips and Tomatillo-Green Chili Salsa</td>\n",
       "      <td>NaN</td>\n",
       "      <td>2.39</td>\n",
       "    </tr>\n",
       "    <tr>\n",
       "      <th>4</th>\n",
       "      <td>Chicken Bowl</td>\n",
       "      <td>[Tomatillo-Red Chili Salsa (Hot), [Black Beans...</td>\n",
       "      <td>8.49</td>\n",
       "    </tr>\n",
       "    <tr>\n",
       "      <th>5</th>\n",
       "      <td>Chicken Bowl</td>\n",
       "      <td>[Fresh Tomato Salsa (Mild), [Rice, Cheese, Sou...</td>\n",
       "      <td>10.98</td>\n",
       "    </tr>\n",
       "    <tr>\n",
       "      <th>6</th>\n",
       "      <td>Side of Chips</td>\n",
       "      <td>NaN</td>\n",
       "      <td>1.69</td>\n",
       "    </tr>\n",
       "    <tr>\n",
       "      <th>7</th>\n",
       "      <td>Steak Burrito</td>\n",
       "      <td>[Tomatillo Red Chili Salsa, [Fajita Vegetables...</td>\n",
       "      <td>11.75</td>\n",
       "    </tr>\n",
       "    <tr>\n",
       "      <th>8</th>\n",
       "      <td>Steak Soft Tacos</td>\n",
       "      <td>[Tomatillo Green Chili Salsa, [Pinto Beans, Ch...</td>\n",
       "      <td>9.25</td>\n",
       "    </tr>\n",
       "    <tr>\n",
       "      <th>9</th>\n",
       "      <td>Steak Burrito</td>\n",
       "      <td>[Fresh Tomato Salsa, [Rice, Black Beans, Pinto...</td>\n",
       "      <td>9.25</td>\n",
       "    </tr>\n",
       "  </tbody>\n",
       "</table>\n",
       "</div>"
      ],
      "text/plain": [
       "                               item_name  \\\n",
       "0           Chips and Fresh Tomato Salsa   \n",
       "1                                   Izze   \n",
       "2                       Nantucket Nectar   \n",
       "3  Chips and Tomatillo-Green Chili Salsa   \n",
       "4                           Chicken Bowl   \n",
       "5                           Chicken Bowl   \n",
       "6                          Side of Chips   \n",
       "7                          Steak Burrito   \n",
       "8                       Steak Soft Tacos   \n",
       "9                          Steak Burrito   \n",
       "\n",
       "                                  choice_description  item_price  \n",
       "0                                                NaN        2.39  \n",
       "1                                       [Clementine]        3.39  \n",
       "2                                            [Apple]        3.39  \n",
       "3                                                NaN        2.39  \n",
       "4  [Tomatillo-Red Chili Salsa (Hot), [Black Beans...        8.49  \n",
       "5  [Fresh Tomato Salsa (Mild), [Rice, Cheese, Sou...       10.98  \n",
       "6                                                NaN        1.69  \n",
       "7  [Tomatillo Red Chili Salsa, [Fajita Vegetables...       11.75  \n",
       "8  [Tomatillo Green Chili Salsa, [Pinto Beans, Ch...        9.25  \n",
       "9  [Fresh Tomato Salsa, [Rice, Black Beans, Pinto...        9.25  "
      ]
     },
     "execution_count": 17,
     "metadata": {},
     "output_type": "execute_result"
    }
   ],
   "source": [
    "chipo_menu.head(10)"
   ]
  },
  {
   "cell_type": "markdown",
   "metadata": {},
   "source": [
    "Отсортировать по имени предмета"
   ]
  },
  {
   "cell_type": "code",
   "execution_count": 18,
   "metadata": {},
   "outputs": [
    {
     "data": {
      "text/html": [
       "<div>\n",
       "<style scoped>\n",
       "    .dataframe tbody tr th:only-of-type {\n",
       "        vertical-align: middle;\n",
       "    }\n",
       "\n",
       "    .dataframe tbody tr th {\n",
       "        vertical-align: top;\n",
       "    }\n",
       "\n",
       "    .dataframe thead th {\n",
       "        text-align: right;\n",
       "    }\n",
       "</style>\n",
       "<table border=\"1\" class=\"dataframe\">\n",
       "  <thead>\n",
       "    <tr style=\"text-align: right;\">\n",
       "      <th></th>\n",
       "      <th>item_name</th>\n",
       "      <th>choice_description</th>\n",
       "      <th>item_price</th>\n",
       "    </tr>\n",
       "  </thead>\n",
       "  <tbody>\n",
       "    <tr>\n",
       "      <th>341</th>\n",
       "      <td>6 Pack Soft Drink</td>\n",
       "      <td>[Diet Coke]</td>\n",
       "      <td>6.49</td>\n",
       "    </tr>\n",
       "    <tr>\n",
       "      <th>298</th>\n",
       "      <td>6 Pack Soft Drink</td>\n",
       "      <td>[Sprite]</td>\n",
       "      <td>6.49</td>\n",
       "    </tr>\n",
       "    <tr>\n",
       "      <th>357</th>\n",
       "      <td>6 Pack Soft Drink</td>\n",
       "      <td>[Coke]</td>\n",
       "      <td>6.49</td>\n",
       "    </tr>\n",
       "    <tr>\n",
       "      <th>721</th>\n",
       "      <td>6 Pack Soft Drink</td>\n",
       "      <td>[Nestea]</td>\n",
       "      <td>6.49</td>\n",
       "    </tr>\n",
       "    <tr>\n",
       "      <th>3141</th>\n",
       "      <td>6 Pack Soft Drink</td>\n",
       "      <td>[Lemonade]</td>\n",
       "      <td>6.49</td>\n",
       "    </tr>\n",
       "    <tr>\n",
       "      <th>127</th>\n",
       "      <td>Barbacoa Bowl</td>\n",
       "      <td>[Tomatillo Red Chili Salsa, [Rice, Pinto Beans...</td>\n",
       "      <td>9.25</td>\n",
       "    </tr>\n",
       "    <tr>\n",
       "      <th>1264</th>\n",
       "      <td>Barbacoa Bowl</td>\n",
       "      <td>[Tomatillo Red Chili Salsa, [Rice, Black Beans...</td>\n",
       "      <td>9.25</td>\n",
       "    </tr>\n",
       "    <tr>\n",
       "      <th>3376</th>\n",
       "      <td>Barbacoa Bowl</td>\n",
       "      <td>[Fresh Tomato Salsa, [Rice, Black Beans, Cheese]]</td>\n",
       "      <td>9.25</td>\n",
       "    </tr>\n",
       "    <tr>\n",
       "      <th>3017</th>\n",
       "      <td>Barbacoa Bowl</td>\n",
       "      <td>[Fresh Tomato Salsa, [Fajita Vegetables, Rice,...</td>\n",
       "      <td>11.75</td>\n",
       "    </tr>\n",
       "    <tr>\n",
       "      <th>2073</th>\n",
       "      <td>Barbacoa Bowl</td>\n",
       "      <td>[Tomatillo Green Chili Salsa, [Fajita Vegetabl...</td>\n",
       "      <td>11.75</td>\n",
       "    </tr>\n",
       "  </tbody>\n",
       "</table>\n",
       "</div>"
      ],
      "text/plain": [
       "              item_name                                 choice_description  \\\n",
       "341   6 Pack Soft Drink                                        [Diet Coke]   \n",
       "298   6 Pack Soft Drink                                           [Sprite]   \n",
       "357   6 Pack Soft Drink                                             [Coke]   \n",
       "721   6 Pack Soft Drink                                           [Nestea]   \n",
       "3141  6 Pack Soft Drink                                         [Lemonade]   \n",
       "127       Barbacoa Bowl  [Tomatillo Red Chili Salsa, [Rice, Pinto Beans...   \n",
       "1264      Barbacoa Bowl  [Tomatillo Red Chili Salsa, [Rice, Black Beans...   \n",
       "3376      Barbacoa Bowl  [Fresh Tomato Salsa, [Rice, Black Beans, Cheese]]   \n",
       "3017      Barbacoa Bowl  [Fresh Tomato Salsa, [Fajita Vegetables, Rice,...   \n",
       "2073      Barbacoa Bowl  [Tomatillo Green Chili Salsa, [Fajita Vegetabl...   \n",
       "\n",
       "      item_price  \n",
       "341         6.49  \n",
       "298         6.49  \n",
       "357         6.49  \n",
       "721         6.49  \n",
       "3141        6.49  \n",
       "127         9.25  \n",
       "1264        9.25  \n",
       "3376        9.25  \n",
       "3017       11.75  \n",
       "2073       11.75  "
      ]
     },
     "execution_count": 18,
     "metadata": {},
     "output_type": "execute_result"
    }
   ],
   "source": [
    "chipo_menu = chipo_menu.sort_values(['item_name'])\n",
    "chipo_menu.head(10)"
   ]
  },
  {
   "cell_type": "markdown",
   "metadata": {},
   "source": [
    "Сколько было заказано самого дорогого предмета?"
   ]
  },
  {
   "cell_type": "code",
   "execution_count": 8,
   "metadata": {
    "scrolled": true
   },
   "outputs": [
    {
     "data": {
      "text/plain": [
       "11.89"
      ]
     },
     "execution_count": 8,
     "metadata": {},
     "output_type": "execute_result"
    }
   ],
   "source": [
    "# Так как разных предметов с самой высокой ценой несколько, \n",
    "# то посчитаем, сколько было заказано самых дорогих предметов за эту цену\n",
    "top_price = chipo_menu.sort_values('item_price', ascending=False)['item_price'].values[0]\n",
    "top_price"
   ]
  },
  {
   "cell_type": "code",
   "execution_count": 20,
   "metadata": {},
   "outputs": [
    {
     "data": {
      "text/plain": [
       "30"
      ]
     },
     "execution_count": 20,
     "metadata": {},
     "output_type": "execute_result"
    }
   ],
   "source": [
    "# Ответ\n",
    "chipo[chipo['item_price'] == top_price]['quantity'].sum()"
   ]
  },
  {
   "cell_type": "markdown",
   "metadata": {},
   "source": [
    "Сколько раз был заказан предмет \"Veggie Salad Bowl\"?"
   ]
  },
  {
   "cell_type": "code",
   "execution_count": 21,
   "metadata": {
    "scrolled": true
   },
   "outputs": [
    {
     "data": {
      "text/plain": [
       "18"
      ]
     },
     "execution_count": 21,
     "metadata": {},
     "output_type": "execute_result"
    }
   ],
   "source": [
    "# 1-ый способ\n",
    "chipo.groupby(by='item_name')['quantity'].agg(np.sum)['Veggie Salad Bowl']"
   ]
  },
  {
   "cell_type": "code",
   "execution_count": 22,
   "metadata": {},
   "outputs": [
    {
     "data": {
      "text/plain": [
       "18"
      ]
     },
     "execution_count": 22,
     "metadata": {},
     "output_type": "execute_result"
    }
   ],
   "source": [
    "# 2-ой способ\n",
    "chipo[chipo['item_name'] == 'Veggie Salad Bowl']['quantity'].sum()"
   ]
  },
  {
   "cell_type": "markdown",
   "metadata": {},
   "source": [
    "Сколько раз люди заказали более чем 1 предмет \"Canned Soda\"?"
   ]
  },
  {
   "cell_type": "code",
   "execution_count": 23,
   "metadata": {
    "scrolled": true
   },
   "outputs": [
    {
     "data": {
      "text/plain": [
       "20"
      ]
     },
     "execution_count": 23,
     "metadata": {},
     "output_type": "execute_result"
    }
   ],
   "source": [
    "filter_ = (chipo['item_name'] == 'Canned Soda') & (chipo['quantity'] > 1)\n",
    "chipo[filter_].shape[0]"
   ]
  }
 ],
 "metadata": {
  "kernelspec": {
   "display_name": "Python 3",
   "language": "python",
   "name": "python3"
  },
  "language_info": {
   "codemirror_mode": {
    "name": "ipython",
    "version": 3
   },
   "file_extension": ".py",
   "mimetype": "text/x-python",
   "name": "python",
   "nbconvert_exporter": "python",
   "pygments_lexer": "ipython3",
   "version": "3.6.3"
  }
 },
 "nbformat": 4,
 "nbformat_minor": 1
}
