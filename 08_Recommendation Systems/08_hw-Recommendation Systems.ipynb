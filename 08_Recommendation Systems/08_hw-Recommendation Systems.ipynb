{
 "cells": [
  {
   "cell_type": "markdown",
   "metadata": {},
   "source": [
    "## Работа с датасетом MovieLens"
   ]
  },
  {
   "cell_type": "code",
   "execution_count": 313,
   "metadata": {},
   "outputs": [],
   "source": [
    "import numpy as np\n",
    "import pandas as pd\n",
    "\n",
    "import matplotlib\n",
    "import matplotlib.pyplot as plt\n",
    "import seaborn as sns\n",
    "%matplotlib inline"
   ]
  },
  {
   "cell_type": "markdown",
   "metadata": {},
   "source": [
    "### Данные"
   ]
  },
  {
   "cell_type": "raw",
   "metadata": {},
   "source": [
    "RATINGS FILE DESCRIPTION\n",
    "================================================================================\n",
    "\n",
    "All ratings are contained in the file \"ratings.dat\" and are in the\n",
    "following format:\n",
    "\n",
    "UserID::MovieID::Rating::Timestamp\n",
    "\n",
    "- UserIDs range between 1 and 6040 \n",
    "- MovieIDs range between 1 and 3952\n",
    "- Ratings are made on a 5-star scale (whole-star ratings only)\n",
    "- Timestamp is represented in seconds since the epoch as returned by time(2)\n",
    "- Each user has at least 20 ratings"
   ]
  },
  {
   "cell_type": "code",
   "execution_count": 314,
   "metadata": {},
   "outputs": [
    {
     "data": {
      "text/html": [
       "<div>\n",
       "<style scoped>\n",
       "    .dataframe tbody tr th:only-of-type {\n",
       "        vertical-align: middle;\n",
       "    }\n",
       "\n",
       "    .dataframe tbody tr th {\n",
       "        vertical-align: top;\n",
       "    }\n",
       "\n",
       "    .dataframe thead th {\n",
       "        text-align: right;\n",
       "    }\n",
       "</style>\n",
       "<table border=\"1\" class=\"dataframe\">\n",
       "  <thead>\n",
       "    <tr style=\"text-align: right;\">\n",
       "      <th></th>\n",
       "      <th>userId</th>\n",
       "      <th>movieId</th>\n",
       "      <th>rating</th>\n",
       "      <th>timestamp</th>\n",
       "    </tr>\n",
       "  </thead>\n",
       "  <tbody>\n",
       "    <tr>\n",
       "      <th>0</th>\n",
       "      <td>1</td>\n",
       "      <td>1193</td>\n",
       "      <td>5</td>\n",
       "      <td>978300760</td>\n",
       "    </tr>\n",
       "    <tr>\n",
       "      <th>1</th>\n",
       "      <td>1</td>\n",
       "      <td>661</td>\n",
       "      <td>3</td>\n",
       "      <td>978302109</td>\n",
       "    </tr>\n",
       "    <tr>\n",
       "      <th>2</th>\n",
       "      <td>1</td>\n",
       "      <td>914</td>\n",
       "      <td>3</td>\n",
       "      <td>978301968</td>\n",
       "    </tr>\n",
       "    <tr>\n",
       "      <th>3</th>\n",
       "      <td>1</td>\n",
       "      <td>3408</td>\n",
       "      <td>4</td>\n",
       "      <td>978300275</td>\n",
       "    </tr>\n",
       "    <tr>\n",
       "      <th>4</th>\n",
       "      <td>1</td>\n",
       "      <td>2355</td>\n",
       "      <td>5</td>\n",
       "      <td>978824291</td>\n",
       "    </tr>\n",
       "  </tbody>\n",
       "</table>\n",
       "</div>"
      ],
      "text/plain": [
       "   userId  movieId  rating  timestamp\n",
       "0       1     1193       5  978300760\n",
       "1       1      661       3  978302109\n",
       "2       1      914       3  978301968\n",
       "3       1     3408       4  978300275\n",
       "4       1     2355       5  978824291"
      ]
     },
     "execution_count": 314,
     "metadata": {},
     "output_type": "execute_result"
    }
   ],
   "source": [
    "ratings_data = pd.read_csv('data/ml-1m/ratings.dat', sep='::', engine='python', \\\n",
    "                          names=['userId', 'movieId', 'rating', 'timestamp'])\n",
    "\n",
    "ratings_data.head()"
   ]
  },
  {
   "cell_type": "code",
   "execution_count": 315,
   "metadata": {},
   "outputs": [
    {
     "name": "stdout",
     "output_type": "stream",
     "text": [
      "<class 'pandas.core.frame.DataFrame'>\n",
      "RangeIndex: 1000209 entries, 0 to 1000208\n",
      "Data columns (total 4 columns):\n",
      "userId       1000209 non-null int64\n",
      "movieId      1000209 non-null int64\n",
      "rating       1000209 non-null int64\n",
      "timestamp    1000209 non-null int64\n",
      "dtypes: int64(4)\n",
      "memory usage: 30.5 MB\n"
     ]
    }
   ],
   "source": [
    "ratings_data.info()"
   ]
  },
  {
   "cell_type": "raw",
   "metadata": {},
   "source": [
    "USERS FILE DESCRIPTION\n",
    "================================================================================\n",
    "\n",
    "User information is in the file \"users.dat\" and is in the following\n",
    "format:\n",
    "\n",
    "UserID::Gender::Age::Occupation::Zip-code\n",
    "\n",
    "All demographic information is provided voluntarily by the users and is\n",
    "not checked for accuracy.  Only users who have provided some demographic\n",
    "information are included in this data set.\n",
    "\n",
    "- Gender is denoted by a \"M\" for male and \"F\" for female\n",
    "- Age is chosen from the following ranges:\n",
    "- Occupation is chosen from the following choices:"
   ]
  },
  {
   "cell_type": "code",
   "execution_count": 316,
   "metadata": {},
   "outputs": [
    {
     "data": {
      "text/html": [
       "<div>\n",
       "<style scoped>\n",
       "    .dataframe tbody tr th:only-of-type {\n",
       "        vertical-align: middle;\n",
       "    }\n",
       "\n",
       "    .dataframe tbody tr th {\n",
       "        vertical-align: top;\n",
       "    }\n",
       "\n",
       "    .dataframe thead th {\n",
       "        text-align: right;\n",
       "    }\n",
       "</style>\n",
       "<table border=\"1\" class=\"dataframe\">\n",
       "  <thead>\n",
       "    <tr style=\"text-align: right;\">\n",
       "      <th></th>\n",
       "      <th>userId</th>\n",
       "      <th>gender</th>\n",
       "      <th>age</th>\n",
       "      <th>occupation</th>\n",
       "      <th>zip-code</th>\n",
       "    </tr>\n",
       "  </thead>\n",
       "  <tbody>\n",
       "    <tr>\n",
       "      <th>0</th>\n",
       "      <td>1</td>\n",
       "      <td>F</td>\n",
       "      <td>1</td>\n",
       "      <td>10</td>\n",
       "      <td>48067</td>\n",
       "    </tr>\n",
       "    <tr>\n",
       "      <th>1</th>\n",
       "      <td>2</td>\n",
       "      <td>M</td>\n",
       "      <td>56</td>\n",
       "      <td>16</td>\n",
       "      <td>70072</td>\n",
       "    </tr>\n",
       "    <tr>\n",
       "      <th>2</th>\n",
       "      <td>3</td>\n",
       "      <td>M</td>\n",
       "      <td>25</td>\n",
       "      <td>15</td>\n",
       "      <td>55117</td>\n",
       "    </tr>\n",
       "    <tr>\n",
       "      <th>3</th>\n",
       "      <td>4</td>\n",
       "      <td>M</td>\n",
       "      <td>45</td>\n",
       "      <td>7</td>\n",
       "      <td>02460</td>\n",
       "    </tr>\n",
       "    <tr>\n",
       "      <th>4</th>\n",
       "      <td>5</td>\n",
       "      <td>M</td>\n",
       "      <td>25</td>\n",
       "      <td>20</td>\n",
       "      <td>55455</td>\n",
       "    </tr>\n",
       "  </tbody>\n",
       "</table>\n",
       "</div>"
      ],
      "text/plain": [
       "   userId gender  age  occupation zip-code\n",
       "0       1      F    1          10    48067\n",
       "1       2      M   56          16    70072\n",
       "2       3      M   25          15    55117\n",
       "3       4      M   45           7    02460\n",
       "4       5      M   25          20    55455"
      ]
     },
     "execution_count": 316,
     "metadata": {},
     "output_type": "execute_result"
    }
   ],
   "source": [
    "users_data = pd.read_csv('data/ml-1m/users.dat', sep='::', engine='python', \\\n",
    "                        names=['userId', 'gender', 'age', 'occupation', 'zip-code'])\n",
    "\n",
    "users_data.head()"
   ]
  },
  {
   "cell_type": "code",
   "execution_count": 317,
   "metadata": {},
   "outputs": [
    {
     "name": "stdout",
     "output_type": "stream",
     "text": [
      "<class 'pandas.core.frame.DataFrame'>\n",
      "RangeIndex: 6040 entries, 0 to 6039\n",
      "Data columns (total 5 columns):\n",
      "userId        6040 non-null int64\n",
      "gender        6040 non-null object\n",
      "age           6040 non-null int64\n",
      "occupation    6040 non-null int64\n",
      "zip-code      6040 non-null object\n",
      "dtypes: int64(3), object(2)\n",
      "memory usage: 236.0+ KB\n"
     ]
    }
   ],
   "source": [
    "users_data.info()"
   ]
  },
  {
   "cell_type": "raw",
   "metadata": {},
   "source": [
    "MOVIES FILE DESCRIPTION\n",
    "================================================================================\n",
    "\n",
    "Movie information is in the file \"movies.dat\" and is in the following\n",
    "format:\n",
    "\n",
    "MovieID::Title::Genres\n",
    "\n",
    "- Titles are identical to titles provided by the IMDB (including\n",
    "year of release)\n",
    "- Genres are pipe-separated and are selected from the following genres:\n",
    "- Some MovieIDs do not correspond to a movie due to accidental duplicate\n",
    "entries and/or test entries\n",
    "- Movies are mostly entered by hand, so errors and inconsistencies may exist"
   ]
  },
  {
   "cell_type": "code",
   "execution_count": 318,
   "metadata": {},
   "outputs": [
    {
     "data": {
      "text/html": [
       "<div>\n",
       "<style scoped>\n",
       "    .dataframe tbody tr th:only-of-type {\n",
       "        vertical-align: middle;\n",
       "    }\n",
       "\n",
       "    .dataframe tbody tr th {\n",
       "        vertical-align: top;\n",
       "    }\n",
       "\n",
       "    .dataframe thead th {\n",
       "        text-align: right;\n",
       "    }\n",
       "</style>\n",
       "<table border=\"1\" class=\"dataframe\">\n",
       "  <thead>\n",
       "    <tr style=\"text-align: right;\">\n",
       "      <th></th>\n",
       "      <th>movieId</th>\n",
       "      <th>title</th>\n",
       "      <th>genres</th>\n",
       "    </tr>\n",
       "  </thead>\n",
       "  <tbody>\n",
       "    <tr>\n",
       "      <th>0</th>\n",
       "      <td>1</td>\n",
       "      <td>Toy Story (1995)</td>\n",
       "      <td>Animation|Children's|Comedy</td>\n",
       "    </tr>\n",
       "    <tr>\n",
       "      <th>1</th>\n",
       "      <td>2</td>\n",
       "      <td>Jumanji (1995)</td>\n",
       "      <td>Adventure|Children's|Fantasy</td>\n",
       "    </tr>\n",
       "    <tr>\n",
       "      <th>2</th>\n",
       "      <td>3</td>\n",
       "      <td>Grumpier Old Men (1995)</td>\n",
       "      <td>Comedy|Romance</td>\n",
       "    </tr>\n",
       "    <tr>\n",
       "      <th>3</th>\n",
       "      <td>4</td>\n",
       "      <td>Waiting to Exhale (1995)</td>\n",
       "      <td>Comedy|Drama</td>\n",
       "    </tr>\n",
       "    <tr>\n",
       "      <th>4</th>\n",
       "      <td>5</td>\n",
       "      <td>Father of the Bride Part II (1995)</td>\n",
       "      <td>Comedy</td>\n",
       "    </tr>\n",
       "  </tbody>\n",
       "</table>\n",
       "</div>"
      ],
      "text/plain": [
       "   movieId                               title                        genres\n",
       "0        1                    Toy Story (1995)   Animation|Children's|Comedy\n",
       "1        2                      Jumanji (1995)  Adventure|Children's|Fantasy\n",
       "2        3             Grumpier Old Men (1995)                Comedy|Romance\n",
       "3        4            Waiting to Exhale (1995)                  Comedy|Drama\n",
       "4        5  Father of the Bride Part II (1995)                        Comedy"
      ]
     },
     "execution_count": 318,
     "metadata": {},
     "output_type": "execute_result"
    }
   ],
   "source": [
    "movies_data = pd.read_csv('data/ml-1m/movies.dat', sep='::', engine='python', \\\n",
    "                         names=['movieId', 'title', 'genres'])\n",
    "\n",
    "movies_data.head()"
   ]
  },
  {
   "cell_type": "code",
   "execution_count": 319,
   "metadata": {},
   "outputs": [
    {
     "name": "stdout",
     "output_type": "stream",
     "text": [
      "<class 'pandas.core.frame.DataFrame'>\n",
      "RangeIndex: 3883 entries, 0 to 3882\n",
      "Data columns (total 3 columns):\n",
      "movieId    3883 non-null int64\n",
      "title      3883 non-null object\n",
      "genres     3883 non-null object\n",
      "dtypes: int64(1), object(2)\n",
      "memory usage: 91.1+ KB\n"
     ]
    }
   ],
   "source": [
    "movies_data.info()"
   ]
  },
  {
   "cell_type": "code",
   "execution_count": 320,
   "metadata": {},
   "outputs": [],
   "source": [
    "# объединение всех данных в одну таблицу\n",
    "data = pd.merge(ratings_data, users_data, on='userId')\n",
    "data = pd.merge(data, movies_data, on='movieId')"
   ]
  },
  {
   "cell_type": "code",
   "execution_count": 321,
   "metadata": {},
   "outputs": [
    {
     "data": {
      "text/html": [
       "<div>\n",
       "<style scoped>\n",
       "    .dataframe tbody tr th:only-of-type {\n",
       "        vertical-align: middle;\n",
       "    }\n",
       "\n",
       "    .dataframe tbody tr th {\n",
       "        vertical-align: top;\n",
       "    }\n",
       "\n",
       "    .dataframe thead th {\n",
       "        text-align: right;\n",
       "    }\n",
       "</style>\n",
       "<table border=\"1\" class=\"dataframe\">\n",
       "  <thead>\n",
       "    <tr style=\"text-align: right;\">\n",
       "      <th></th>\n",
       "      <th>userId</th>\n",
       "      <th>movieId</th>\n",
       "      <th>rating</th>\n",
       "      <th>timestamp</th>\n",
       "      <th>gender</th>\n",
       "      <th>age</th>\n",
       "      <th>occupation</th>\n",
       "      <th>zip-code</th>\n",
       "      <th>title</th>\n",
       "      <th>genres</th>\n",
       "    </tr>\n",
       "  </thead>\n",
       "  <tbody>\n",
       "    <tr>\n",
       "      <th>0</th>\n",
       "      <td>1</td>\n",
       "      <td>1193</td>\n",
       "      <td>5</td>\n",
       "      <td>978300760</td>\n",
       "      <td>F</td>\n",
       "      <td>1</td>\n",
       "      <td>10</td>\n",
       "      <td>48067</td>\n",
       "      <td>One Flew Over the Cuckoo's Nest (1975)</td>\n",
       "      <td>Drama</td>\n",
       "    </tr>\n",
       "    <tr>\n",
       "      <th>1</th>\n",
       "      <td>2</td>\n",
       "      <td>1193</td>\n",
       "      <td>5</td>\n",
       "      <td>978298413</td>\n",
       "      <td>M</td>\n",
       "      <td>56</td>\n",
       "      <td>16</td>\n",
       "      <td>70072</td>\n",
       "      <td>One Flew Over the Cuckoo's Nest (1975)</td>\n",
       "      <td>Drama</td>\n",
       "    </tr>\n",
       "    <tr>\n",
       "      <th>2</th>\n",
       "      <td>12</td>\n",
       "      <td>1193</td>\n",
       "      <td>4</td>\n",
       "      <td>978220179</td>\n",
       "      <td>M</td>\n",
       "      <td>25</td>\n",
       "      <td>12</td>\n",
       "      <td>32793</td>\n",
       "      <td>One Flew Over the Cuckoo's Nest (1975)</td>\n",
       "      <td>Drama</td>\n",
       "    </tr>\n",
       "    <tr>\n",
       "      <th>3</th>\n",
       "      <td>15</td>\n",
       "      <td>1193</td>\n",
       "      <td>4</td>\n",
       "      <td>978199279</td>\n",
       "      <td>M</td>\n",
       "      <td>25</td>\n",
       "      <td>7</td>\n",
       "      <td>22903</td>\n",
       "      <td>One Flew Over the Cuckoo's Nest (1975)</td>\n",
       "      <td>Drama</td>\n",
       "    </tr>\n",
       "    <tr>\n",
       "      <th>4</th>\n",
       "      <td>17</td>\n",
       "      <td>1193</td>\n",
       "      <td>5</td>\n",
       "      <td>978158471</td>\n",
       "      <td>M</td>\n",
       "      <td>50</td>\n",
       "      <td>1</td>\n",
       "      <td>95350</td>\n",
       "      <td>One Flew Over the Cuckoo's Nest (1975)</td>\n",
       "      <td>Drama</td>\n",
       "    </tr>\n",
       "  </tbody>\n",
       "</table>\n",
       "</div>"
      ],
      "text/plain": [
       "   userId  movieId  rating  timestamp gender  age  occupation zip-code  \\\n",
       "0       1     1193       5  978300760      F    1          10    48067   \n",
       "1       2     1193       5  978298413      M   56          16    70072   \n",
       "2      12     1193       4  978220179      M   25          12    32793   \n",
       "3      15     1193       4  978199279      M   25           7    22903   \n",
       "4      17     1193       5  978158471      M   50           1    95350   \n",
       "\n",
       "                                    title genres  \n",
       "0  One Flew Over the Cuckoo's Nest (1975)  Drama  \n",
       "1  One Flew Over the Cuckoo's Nest (1975)  Drama  \n",
       "2  One Flew Over the Cuckoo's Nest (1975)  Drama  \n",
       "3  One Flew Over the Cuckoo's Nest (1975)  Drama  \n",
       "4  One Flew Over the Cuckoo's Nest (1975)  Drama  "
      ]
     },
     "execution_count": 321,
     "metadata": {},
     "output_type": "execute_result"
    }
   ],
   "source": [
    "data.head()"
   ]
  },
  {
   "cell_type": "markdown",
   "metadata": {},
   "source": [
    "### EDA"
   ]
  },
  {
   "cell_type": "markdown",
   "metadata": {},
   "source": [
    "#### 1. Оценить количество фильмов, пользователей и оценок"
   ]
  },
  {
   "cell_type": "code",
   "execution_count": 10,
   "metadata": {},
   "outputs": [
    {
     "name": "stdout",
     "output_type": "stream",
     "text": [
      "Количество оценок: 1000209\n",
      "Количество фильмов: 3883\n",
      "Количество пользователей: 6040\n"
     ]
    }
   ],
   "source": [
    "print('Количество оценок:', ratings_data.shape[0])\n",
    "print('Количество фильмов:', movies_data.shape[0])\n",
    "print('Количество пользователей:', users_data.shape[0])"
   ]
  },
  {
   "cell_type": "markdown",
   "metadata": {},
   "source": [
    "#### 2. Оценить распределения (предлагается построить распределения количества оценок по фильмам и пользователям и увидеть т.н. \"длинные хвосты\" в распределениях)"
   ]
  },
  {
   "cell_type": "code",
   "execution_count": 322,
   "metadata": {
    "scrolled": true
   },
   "outputs": [
    {
     "data": {
      "text/html": [
       "<div>\n",
       "<style scoped>\n",
       "    .dataframe tbody tr th:only-of-type {\n",
       "        vertical-align: middle;\n",
       "    }\n",
       "\n",
       "    .dataframe tbody tr th {\n",
       "        vertical-align: top;\n",
       "    }\n",
       "\n",
       "    .dataframe thead th {\n",
       "        text-align: right;\n",
       "    }\n",
       "</style>\n",
       "<table border=\"1\" class=\"dataframe\">\n",
       "  <thead>\n",
       "    <tr style=\"text-align: right;\">\n",
       "      <th></th>\n",
       "      <th>movieId</th>\n",
       "      <th>title</th>\n",
       "      <th>count</th>\n",
       "    </tr>\n",
       "  </thead>\n",
       "  <tbody>\n",
       "    <tr>\n",
       "      <th>2651</th>\n",
       "      <td>2858</td>\n",
       "      <td>American Beauty (1999)</td>\n",
       "      <td>3428</td>\n",
       "    </tr>\n",
       "    <tr>\n",
       "      <th>253</th>\n",
       "      <td>260</td>\n",
       "      <td>Star Wars: Episode IV - A New Hope (1977)</td>\n",
       "      <td>2991</td>\n",
       "    </tr>\n",
       "    <tr>\n",
       "      <th>1106</th>\n",
       "      <td>1196</td>\n",
       "      <td>Star Wars: Episode V - The Empire Strikes Back (1980)</td>\n",
       "      <td>2990</td>\n",
       "    </tr>\n",
       "    <tr>\n",
       "      <th>1120</th>\n",
       "      <td>1210</td>\n",
       "      <td>Star Wars: Episode VI - Return of the Jedi (1983)</td>\n",
       "      <td>2883</td>\n",
       "    </tr>\n",
       "    <tr>\n",
       "      <th>466</th>\n",
       "      <td>480</td>\n",
       "      <td>Jurassic Park (1993)</td>\n",
       "      <td>2672</td>\n",
       "    </tr>\n",
       "  </tbody>\n",
       "</table>\n",
       "</div>"
      ],
      "text/plain": [
       "      movieId                                                  title  count\n",
       "2651     2858                                 American Beauty (1999)   3428\n",
       "253       260              Star Wars: Episode IV - A New Hope (1977)   2991\n",
       "1106     1196  Star Wars: Episode V - The Empire Strikes Back (1980)   2990\n",
       "1120     1210      Star Wars: Episode VI - Return of the Jedi (1983)   2883\n",
       "466       480                                   Jurassic Park (1993)   2672"
      ]
     },
     "execution_count": 322,
     "metadata": {},
     "output_type": "execute_result"
    }
   ],
   "source": [
    "most_rated_movies = data.groupby(by=['movieId', 'title']).size().reset_index()\n",
    "most_rated_movies.columns = ['movieId', 'title', 'count']\n",
    "most_rated_movies.sort_values(by='count', ascending=False, inplace=True)\n",
    "most_rated_movies.head()"
   ]
  },
  {
   "cell_type": "code",
   "execution_count": 324,
   "metadata": {},
   "outputs": [
    {
     "data": {
      "image/png": "[encoded data removed]",
      "text/plain": [
       "<Figure size 864x432 with 1 Axes>"
      ]
     },
     "metadata": {
      "needs_background": "light"
     },
     "output_type": "display_data"
    }
   ],
   "source": [
    "fig, ax = plt.subplots(figsize=(12,6))\n",
    "sns.distplot(most_rated_movies['count'], color=\"b\", kde=False)\n",
    "ax.set_title('Распределение количества оценок по фильмам');"
   ]
  },
  {
   "cell_type": "code",
   "execution_count": 325,
   "metadata": {},
   "outputs": [
    {
     "data": {
      "text/html": [
       "<div>\n",
       "<style scoped>\n",
       "    .dataframe tbody tr th:only-of-type {\n",
       "        vertical-align: middle;\n",
       "    }\n",
       "\n",
       "    .dataframe tbody tr th {\n",
       "        vertical-align: top;\n",
       "    }\n",
       "\n",
       "    .dataframe thead th {\n",
       "        text-align: right;\n",
       "    }\n",
       "</style>\n",
       "<table border=\"1\" class=\"dataframe\">\n",
       "  <thead>\n",
       "    <tr style=\"text-align: right;\">\n",
       "      <th></th>\n",
       "      <th>userId</th>\n",
       "      <th>count</th>\n",
       "    </tr>\n",
       "  </thead>\n",
       "  <tbody>\n",
       "    <tr>\n",
       "      <th>4168</th>\n",
       "      <td>4169</td>\n",
       "      <td>2314</td>\n",
       "    </tr>\n",
       "    <tr>\n",
       "      <th>1679</th>\n",
       "      <td>1680</td>\n",
       "      <td>1850</td>\n",
       "    </tr>\n",
       "    <tr>\n",
       "      <th>4276</th>\n",
       "      <td>4277</td>\n",
       "      <td>1743</td>\n",
       "    </tr>\n",
       "    <tr>\n",
       "      <th>1940</th>\n",
       "      <td>1941</td>\n",
       "      <td>1595</td>\n",
       "    </tr>\n",
       "    <tr>\n",
       "      <th>1180</th>\n",
       "      <td>1181</td>\n",
       "      <td>1521</td>\n",
       "    </tr>\n",
       "  </tbody>\n",
       "</table>\n",
       "</div>"
      ],
      "text/plain": [
       "      userId  count\n",
       "4168    4169   2314\n",
       "1679    1680   1850\n",
       "4276    4277   1743\n",
       "1940    1941   1595\n",
       "1180    1181   1521"
      ]
     },
     "execution_count": 325,
     "metadata": {},
     "output_type": "execute_result"
    }
   ],
   "source": [
    "most_rated_users = data.groupby(by=['userId']).size().reset_index()\n",
    "most_rated_users.columns = ['userId', 'count']\n",
    "most_rated_users.sort_values(by='count', ascending=False, inplace=True)\n",
    "most_rated_users.head(5)"
   ]
  },
  {
   "cell_type": "code",
   "execution_count": 326,
   "metadata": {},
   "outputs": [
    {
     "data": {
      "image/png": "[encoded data removed]",
      "text/plain": [
       "<Figure size 864x432 with 1 Axes>"
      ]
     },
     "metadata": {
      "needs_background": "light"
     },
     "output_type": "display_data"
    }
   ],
   "source": [
    "fig, ax = plt.subplots(figsize=(12,6))\n",
    "sns.distplot(most_rated_users['count'], color=\"r\", kde=False)\n",
    "ax.set_title('Распределение количества оценок по пользователям');"
   ]
  },
  {
   "cell_type": "markdown",
   "metadata": {},
   "source": [
    "Как и ожидали, у распределений длинные хвосты. Немного фильмов имеют большое количество оценок и чаще всего пользователи оценивают небольшое число фильмов. "
   ]
  },
  {
   "cell_type": "markdown",
   "metadata": {},
   "source": [
    "#### 3. Оценить средние оценки по фильмам и по пользователям"
   ]
  },
  {
   "cell_type": "code",
   "execution_count": 16,
   "metadata": {},
   "outputs": [
    {
     "data": {
      "text/html": [
       "<div>\n",
       "<style scoped>\n",
       "    .dataframe tbody tr th:only-of-type {\n",
       "        vertical-align: middle;\n",
       "    }\n",
       "\n",
       "    .dataframe tbody tr th {\n",
       "        vertical-align: top;\n",
       "    }\n",
       "\n",
       "    .dataframe thead th {\n",
       "        text-align: right;\n",
       "    }\n",
       "</style>\n",
       "<table border=\"1\" class=\"dataframe\">\n",
       "  <thead>\n",
       "    <tr style=\"text-align: right;\">\n",
       "      <th></th>\n",
       "      <th>movieId</th>\n",
       "      <th>title</th>\n",
       "      <th>rating</th>\n",
       "    </tr>\n",
       "  </thead>\n",
       "  <tbody>\n",
       "    <tr>\n",
       "      <th>0</th>\n",
       "      <td>1</td>\n",
       "      <td>Toy Story (1995)</td>\n",
       "      <td>4.146846</td>\n",
       "    </tr>\n",
       "    <tr>\n",
       "      <th>1</th>\n",
       "      <td>2</td>\n",
       "      <td>Jumanji (1995)</td>\n",
       "      <td>3.201141</td>\n",
       "    </tr>\n",
       "    <tr>\n",
       "      <th>2</th>\n",
       "      <td>3</td>\n",
       "      <td>Grumpier Old Men (1995)</td>\n",
       "      <td>3.016736</td>\n",
       "    </tr>\n",
       "    <tr>\n",
       "      <th>3</th>\n",
       "      <td>4</td>\n",
       "      <td>Waiting to Exhale (1995)</td>\n",
       "      <td>2.729412</td>\n",
       "    </tr>\n",
       "    <tr>\n",
       "      <th>4</th>\n",
       "      <td>5</td>\n",
       "      <td>Father of the Bride Part II (1995)</td>\n",
       "      <td>3.006757</td>\n",
       "    </tr>\n",
       "  </tbody>\n",
       "</table>\n",
       "</div>"
      ],
      "text/plain": [
       "   movieId                               title    rating\n",
       "0        1                    Toy Story (1995)  4.146846\n",
       "1        2                      Jumanji (1995)  3.201141\n",
       "2        3             Grumpier Old Men (1995)  3.016736\n",
       "3        4            Waiting to Exhale (1995)  2.729412\n",
       "4        5  Father of the Bride Part II (1995)  3.006757"
      ]
     },
     "execution_count": 16,
     "metadata": {},
     "output_type": "execute_result"
    }
   ],
   "source": [
    "mean_rating_movies = data.groupby(by=['movieId', 'title'])['rating'].mean().reset_index()\n",
    "mean_rating_movies.columns = ['movieId', 'title', 'rating']\n",
    "mean_rating_movies.head(5)"
   ]
  },
  {
   "cell_type": "code",
   "execution_count": 17,
   "metadata": {},
   "outputs": [
    {
     "data": {
      "image/png": "[encoded data removed]",
      "text/plain": [
       "<Figure size 720x432 with 2 Axes>"
      ]
     },
     "metadata": {
      "needs_background": "light"
     },
     "output_type": "display_data"
    }
   ],
   "source": [
    "fig, (ax_box, ax_hist) = plt.subplots(2, sharex=True, figsize=(10, 6), \\\n",
    "                                      gridspec_kw={\"height_ratios\": (.15, .85)})\n",
    " \n",
    "sns.boxplot(mean_rating_movies['rating'], ax=ax_box)\n",
    "sns.distplot(mean_rating_movies['rating'], ax=ax_hist)\n",
    " \n",
    "ax_box.set(xlabel='');\n",
    "ax_box.set_title('Распределение средних оценок по фильмам');"
   ]
  },
  {
   "cell_type": "markdown",
   "metadata": {},
   "source": [
    "Судя по графику, медиана распределения средних рейтингов фильмов где-то на 3.3. Есть какое увеличение числа фильмов с оценкой ниже 3. Также есть выбросы. Наверное, это какие-то очень плохие картины. "
   ]
  },
  {
   "cell_type": "code",
   "execution_count": 36,
   "metadata": {},
   "outputs": [
    {
     "data": {
      "text/html": [
       "<div>\n",
       "<style scoped>\n",
       "    .dataframe tbody tr th:only-of-type {\n",
       "        vertical-align: middle;\n",
       "    }\n",
       "\n",
       "    .dataframe tbody tr th {\n",
       "        vertical-align: top;\n",
       "    }\n",
       "\n",
       "    .dataframe thead th {\n",
       "        text-align: right;\n",
       "    }\n",
       "</style>\n",
       "<table border=\"1\" class=\"dataframe\">\n",
       "  <thead>\n",
       "    <tr style=\"text-align: right;\">\n",
       "      <th></th>\n",
       "      <th>userId</th>\n",
       "      <th>rating</th>\n",
       "    </tr>\n",
       "  </thead>\n",
       "  <tbody>\n",
       "    <tr>\n",
       "      <th>0</th>\n",
       "      <td>1</td>\n",
       "      <td>4.188679</td>\n",
       "    </tr>\n",
       "    <tr>\n",
       "      <th>1</th>\n",
       "      <td>2</td>\n",
       "      <td>3.713178</td>\n",
       "    </tr>\n",
       "    <tr>\n",
       "      <th>2</th>\n",
       "      <td>3</td>\n",
       "      <td>3.901961</td>\n",
       "    </tr>\n",
       "    <tr>\n",
       "      <th>3</th>\n",
       "      <td>4</td>\n",
       "      <td>4.190476</td>\n",
       "    </tr>\n",
       "    <tr>\n",
       "      <th>4</th>\n",
       "      <td>5</td>\n",
       "      <td>3.146465</td>\n",
       "    </tr>\n",
       "  </tbody>\n",
       "</table>\n",
       "</div>"
      ],
      "text/plain": [
       "   userId    rating\n",
       "0       1  4.188679\n",
       "1       2  3.713178\n",
       "2       3  3.901961\n",
       "3       4  4.190476\n",
       "4       5  3.146465"
      ]
     },
     "execution_count": 36,
     "metadata": {},
     "output_type": "execute_result"
    }
   ],
   "source": [
    "mean_rating_users = data.groupby(by=['userId'])['rating'].mean().reset_index()\n",
    "mean_rating_users.columns = ['userId', 'rating']\n",
    "mean_rating_users.head(5)"
   ]
  },
  {
   "cell_type": "code",
   "execution_count": 38,
   "metadata": {},
   "outputs": [
    {
     "data": {
      "image/png": "[encoded data removed]",
      "text/plain": [
       "<Figure size 720x432 with 2 Axes>"
      ]
     },
     "metadata": {
      "needs_background": "light"
     },
     "output_type": "display_data"
    }
   ],
   "source": [
    "fig, (ax_box, ax_hist) = plt.subplots(2, sharex=True, figsize=(10, 6), \\\n",
    "                                      gridspec_kw={\"height_ratios\": (.15, .85)})\n",
    " \n",
    "sns.boxplot(mean_rating_users['rating'], ax=ax_box)\n",
    "sns.distplot(mean_rating_users['rating'], ax=ax_hist)\n",
    " \n",
    "ax_box.set(xlabel='');\n",
    "ax_box.set_title('Распределение средних оценок по пользователям');"
   ]
  },
  {
   "cell_type": "markdown",
   "metadata": {},
   "source": [
    "Здесь распределение очень похоже на нормальное. Вероятно, пользователи обычно ставят оценки от 3.5 до 4. Также очень много людей сильно занижающих оценки. "
   ]
  },
  {
   "cell_type": "markdown",
   "metadata": {},
   "source": [
    "#### 4. Выбрать критерий, показывающий, что фильм нравится всем, или не нравится никому, и вывести топ фильмов из этих списков. Знаете ли вы эти фильмы, согласны ли с оценками?"
   ]
  },
  {
   "cell_type": "markdown",
   "metadata": {},
   "source": [
    "Я взяла формулу с сайта кинопоиска для расчета топ-250. В этой формуле учитывается минимальное количество голосов, необходимое для подсчета рейтинга. Таким образом, в рейтинг не попадут фильмы, например, с одной хорошей/плохой оценкой. "
   ]
  },
  {
   "cell_type": "markdown",
   "metadata": {},
   "source": [
    "$$Rating = \\frac {V}{V+M} \\cdot R + \\frac{M}{V + M} \\cdot C$$\n",
    "\n",
    "**V** - количество голосов за фильм\n",
    "\n",
    "**M** - порог голосов, необходимый для участия в рейтинге\n",
    "\n",
    "**R** - среднее арифметическое всех голосов за фильм\n",
    "\n",
    "**C** - среднее значение рейтинга всех фильмов"
   ]
  },
  {
   "cell_type": "code",
   "execution_count": 20,
   "metadata": {},
   "outputs": [],
   "source": [
    "def rating_formula(V, R, M, C):\n",
    "    return (V / (V + M) * R) + (M / (V + M) * C)"
   ]
  },
  {
   "cell_type": "code",
   "execution_count": 21,
   "metadata": {},
   "outputs": [
    {
     "data": {
      "text/plain": [
       "3.581564453029317"
      ]
     },
     "execution_count": 21,
     "metadata": {},
     "output_type": "execute_result"
    }
   ],
   "source": [
    "# среднее значение рейтинга всех фильмов\n",
    "C = ratings_data['rating'].mean()\n",
    "C"
   ]
  },
  {
   "cell_type": "code",
   "execution_count": 327,
   "metadata": {},
   "outputs": [],
   "source": [
    "# порог голосов, необходимый для участия в рейтинге\n",
    "M = 30"
   ]
  },
  {
   "cell_type": "code",
   "execution_count": 328,
   "metadata": {},
   "outputs": [],
   "source": [
    "movies_rating = pd.merge(most_rated_movies, mean_rating_movies, on=['movieId', 'title'])\n",
    "movies_rating = movies_rating[['movieId', 'title', 'count', 'rating']]\n",
    "movies_rating = movies_rating[movies_rating['count'] > M]"
   ]
  },
  {
   "cell_type": "code",
   "execution_count": 329,
   "metadata": {},
   "outputs": [],
   "source": [
    "movies_rating['rating_formula'] = rating_formula(V=movies_rating['count'], \n",
    "                                                 R=movies_rating['rating'], \n",
    "                                                 M=M, C=C)\n",
    "movies_rating.sort_values(by='rating_formula', ascending=False, inplace=True)"
   ]
  },
  {
   "cell_type": "markdown",
   "metadata": {},
   "source": [
    "Фильмы, которые нравятся всем: "
   ]
  },
  {
   "cell_type": "code",
   "execution_count": 330,
   "metadata": {
    "scrolled": true
   },
   "outputs": [
    {
     "data": {
      "text/html": [
       "<div>\n",
       "<style scoped>\n",
       "    .dataframe tbody tr th:only-of-type {\n",
       "        vertical-align: middle;\n",
       "    }\n",
       "\n",
       "    .dataframe tbody tr th {\n",
       "        vertical-align: top;\n",
       "    }\n",
       "\n",
       "    .dataframe thead th {\n",
       "        text-align: right;\n",
       "    }\n",
       "</style>\n",
       "<table border=\"1\" class=\"dataframe\">\n",
       "  <thead>\n",
       "    <tr style=\"text-align: right;\">\n",
       "      <th></th>\n",
       "      <th>movieId</th>\n",
       "      <th>title</th>\n",
       "      <th>count</th>\n",
       "      <th>rating</th>\n",
       "      <th>rating_formula</th>\n",
       "    </tr>\n",
       "  </thead>\n",
       "  <tbody>\n",
       "    <tr>\n",
       "      <th>23</th>\n",
       "      <td>318</td>\n",
       "      <td>Shawshank Redemption, The (1994)</td>\n",
       "      <td>2227</td>\n",
       "      <td>4.554558</td>\n",
       "      <td>4.541625</td>\n",
       "    </tr>\n",
       "    <tr>\n",
       "      <th>470</th>\n",
       "      <td>2019</td>\n",
       "      <td>Seven Samurai (The Magnificent Seven) (Shichinin no samurai) (1954)</td>\n",
       "      <td>628</td>\n",
       "      <td>4.560510</td>\n",
       "      <td>4.515877</td>\n",
       "    </tr>\n",
       "    <tr>\n",
       "      <th>24</th>\n",
       "      <td>858</td>\n",
       "      <td>Godfather, The (1972)</td>\n",
       "      <td>2223</td>\n",
       "      <td>4.524966</td>\n",
       "      <td>4.512404</td>\n",
       "    </tr>\n",
       "    <tr>\n",
       "      <th>38</th>\n",
       "      <td>50</td>\n",
       "      <td>Usual Suspects, The (1995)</td>\n",
       "      <td>1783</td>\n",
       "      <td>4.517106</td>\n",
       "      <td>4.501625</td>\n",
       "    </tr>\n",
       "    <tr>\n",
       "      <th>17</th>\n",
       "      <td>527</td>\n",
       "      <td>Schindler's List (1993)</td>\n",
       "      <td>2304</td>\n",
       "      <td>4.510417</td>\n",
       "      <td>4.498478</td>\n",
       "    </tr>\n",
       "    <tr>\n",
       "      <th>443</th>\n",
       "      <td>745</td>\n",
       "      <td>Close Shave, A (1995)</td>\n",
       "      <td>657</td>\n",
       "      <td>4.520548</td>\n",
       "      <td>4.479544</td>\n",
       "    </tr>\n",
       "    <tr>\n",
       "      <th>269</th>\n",
       "      <td>1148</td>\n",
       "      <td>Wrong Trousers, The (1993)</td>\n",
       "      <td>882</td>\n",
       "      <td>4.507937</td>\n",
       "      <td>4.477464</td>\n",
       "    </tr>\n",
       "    <tr>\n",
       "      <th>11</th>\n",
       "      <td>1198</td>\n",
       "      <td>Raiders of the Lost Ark (1981)</td>\n",
       "      <td>2514</td>\n",
       "      <td>4.477725</td>\n",
       "      <td>4.467157</td>\n",
       "    </tr>\n",
       "    <tr>\n",
       "      <th>186</th>\n",
       "      <td>904</td>\n",
       "      <td>Rear Window (1954)</td>\n",
       "      <td>1050</td>\n",
       "      <td>4.476190</td>\n",
       "      <td>4.451340</td>\n",
       "    </tr>\n",
       "    <tr>\n",
       "      <th>1</th>\n",
       "      <td>260</td>\n",
       "      <td>Star Wars: Episode IV - A New Hope (1977)</td>\n",
       "      <td>2991</td>\n",
       "      <td>4.453694</td>\n",
       "      <td>4.445034</td>\n",
       "    </tr>\n",
       "  </tbody>\n",
       "</table>\n",
       "</div>"
      ],
      "text/plain": [
       "     movieId  \\\n",
       "23       318   \n",
       "470     2019   \n",
       "24       858   \n",
       "38        50   \n",
       "17       527   \n",
       "443      745   \n",
       "269     1148   \n",
       "11      1198   \n",
       "186      904   \n",
       "1        260   \n",
       "\n",
       "                                                                   title  \\\n",
       "23                                      Shawshank Redemption, The (1994)   \n",
       "470  Seven Samurai (The Magnificent Seven) (Shichinin no samurai) (1954)   \n",
       "24                                                 Godfather, The (1972)   \n",
       "38                                            Usual Suspects, The (1995)   \n",
       "17                                               Schindler's List (1993)   \n",
       "443                                                Close Shave, A (1995)   \n",
       "269                                           Wrong Trousers, The (1993)   \n",
       "11                                        Raiders of the Lost Ark (1981)   \n",
       "186                                                   Rear Window (1954)   \n",
       "1                              Star Wars: Episode IV - A New Hope (1977)   \n",
       "\n",
       "     count    rating  rating_formula  \n",
       "23    2227  4.554558        4.541625  \n",
       "470    628  4.560510        4.515877  \n",
       "24    2223  4.524966        4.512404  \n",
       "38    1783  4.517106        4.501625  \n",
       "17    2304  4.510417        4.498478  \n",
       "443    657  4.520548        4.479544  \n",
       "269    882  4.507937        4.477464  \n",
       "11    2514  4.477725        4.467157  \n",
       "186   1050  4.476190        4.451340  \n",
       "1     2991  4.453694        4.445034  "
      ]
     },
     "execution_count": 330,
     "metadata": {},
     "output_type": "execute_result"
    }
   ],
   "source": [
    "movies_rating.head(10)"
   ]
  },
  {
   "cell_type": "markdown",
   "metadata": {},
   "source": [
    "Фильмы, которые не нравятся никому:"
   ]
  },
  {
   "cell_type": "code",
   "execution_count": 332,
   "metadata": {},
   "outputs": [
    {
     "data": {
      "text/html": [
       "<div>\n",
       "<style scoped>\n",
       "    .dataframe tbody tr th:only-of-type {\n",
       "        vertical-align: middle;\n",
       "    }\n",
       "\n",
       "    .dataframe tbody tr th {\n",
       "        vertical-align: top;\n",
       "    }\n",
       "\n",
       "    .dataframe thead th {\n",
       "        text-align: right;\n",
       "    }\n",
       "</style>\n",
       "<table border=\"1\" class=\"dataframe\">\n",
       "  <thead>\n",
       "    <tr style=\"text-align: right;\">\n",
       "      <th></th>\n",
       "      <th>movieId</th>\n",
       "      <th>title</th>\n",
       "      <th>count</th>\n",
       "      <th>rating</th>\n",
       "      <th>rating_formula</th>\n",
       "    </tr>\n",
       "  </thead>\n",
       "  <tbody>\n",
       "    <tr>\n",
       "      <th>1529</th>\n",
       "      <td>3268</td>\n",
       "      <td>Stop! Or My Mom Will Shoot (1992)</td>\n",
       "      <td>179</td>\n",
       "      <td>1.782123</td>\n",
       "      <td>2.040416</td>\n",
       "    </tr>\n",
       "    <tr>\n",
       "      <th>967</th>\n",
       "      <td>2643</td>\n",
       "      <td>Superman IV: The Quest for Peace (1987)</td>\n",
       "      <td>332</td>\n",
       "      <td>1.888554</td>\n",
       "      <td>2.028859</td>\n",
       "    </tr>\n",
       "    <tr>\n",
       "      <th>2019</th>\n",
       "      <td>2799</td>\n",
       "      <td>Problem Child 2 (1991)</td>\n",
       "      <td>99</td>\n",
       "      <td>1.555556</td>\n",
       "      <td>2.026720</td>\n",
       "    </tr>\n",
       "    <tr>\n",
       "      <th>1847</th>\n",
       "      <td>2817</td>\n",
       "      <td>Aces: Iron Eagle III (1992)</td>\n",
       "      <td>125</td>\n",
       "      <td>1.640000</td>\n",
       "      <td>2.015787</td>\n",
       "    </tr>\n",
       "    <tr>\n",
       "      <th>928</th>\n",
       "      <td>546</td>\n",
       "      <td>Super Mario Bros. (1993)</td>\n",
       "      <td>350</td>\n",
       "      <td>1.874286</td>\n",
       "      <td>2.009071</td>\n",
       "    </tr>\n",
       "    <tr>\n",
       "      <th>874</th>\n",
       "      <td>1556</td>\n",
       "      <td>Speed 2: Cruise Control (1997)</td>\n",
       "      <td>367</td>\n",
       "      <td>1.871935</td>\n",
       "      <td>2.001126</td>\n",
       "    </tr>\n",
       "    <tr>\n",
       "      <th>1611</th>\n",
       "      <td>2555</td>\n",
       "      <td>Baby Geniuses (1999)</td>\n",
       "      <td>164</td>\n",
       "      <td>1.701220</td>\n",
       "      <td>1.991995</td>\n",
       "    </tr>\n",
       "    <tr>\n",
       "      <th>1684</th>\n",
       "      <td>2383</td>\n",
       "      <td>Police Academy 6: City Under Siege (1989)</td>\n",
       "      <td>149</td>\n",
       "      <td>1.657718</td>\n",
       "      <td>1.980150</td>\n",
       "    </tr>\n",
       "    <tr>\n",
       "      <th>1876</th>\n",
       "      <td>810</td>\n",
       "      <td>Kazaam (1996)</td>\n",
       "      <td>120</td>\n",
       "      <td>1.466667</td>\n",
       "      <td>1.889646</td>\n",
       "    </tr>\n",
       "    <tr>\n",
       "      <th>951</th>\n",
       "      <td>3593</td>\n",
       "      <td>Battlefield Earth (2000)</td>\n",
       "      <td>342</td>\n",
       "      <td>1.611111</td>\n",
       "      <td>1.770019</td>\n",
       "    </tr>\n",
       "  </tbody>\n",
       "</table>\n",
       "</div>"
      ],
      "text/plain": [
       "      movieId                                      title  count    rating  \\\n",
       "1529     3268          Stop! Or My Mom Will Shoot (1992)    179  1.782123   \n",
       "967      2643    Superman IV: The Quest for Peace (1987)    332  1.888554   \n",
       "2019     2799                     Problem Child 2 (1991)     99  1.555556   \n",
       "1847     2817                Aces: Iron Eagle III (1992)    125  1.640000   \n",
       "928       546                   Super Mario Bros. (1993)    350  1.874286   \n",
       "874      1556             Speed 2: Cruise Control (1997)    367  1.871935   \n",
       "1611     2555                       Baby Geniuses (1999)    164  1.701220   \n",
       "1684     2383  Police Academy 6: City Under Siege (1989)    149  1.657718   \n",
       "1876      810                              Kazaam (1996)    120  1.466667   \n",
       "951      3593                   Battlefield Earth (2000)    342  1.611111   \n",
       "\n",
       "      rating_formula  \n",
       "1529        2.040416  \n",
       "967         2.028859  \n",
       "2019        2.026720  \n",
       "1847        2.015787  \n",
       "928         2.009071  \n",
       "874         2.001126  \n",
       "1611        1.991995  \n",
       "1684        1.980150  \n",
       "1876        1.889646  \n",
       "951         1.770019  "
      ]
     },
     "execution_count": 332,
     "metadata": {},
     "output_type": "execute_result"
    }
   ],
   "source": [
    "movies_rating.tail(10)"
   ]
  },
  {
   "cell_type": "markdown",
   "metadata": {},
   "source": [
    "#### 5. Выбрать лучшие фильмы"
   ]
  },
  {
   "cell_type": "markdown",
   "metadata": {},
   "source": [
    "см. пункт выше"
   ]
  },
  {
   "cell_type": "markdown",
   "metadata": {},
   "source": [
    "#### 6. Посмотреть на смещение оценок, увидеть сколько пользователей занижают оценки и завышают оценки."
   ]
  },
  {
   "cell_type": "markdown",
   "metadata": {},
   "source": [
    "У нас есть таблица с распределением средних оценок по пользователям. Можно посмотреть, сколько человек находятся за пределами плюс минус 0.5 от среднего этого распределения. "
   ]
  },
  {
   "cell_type": "code",
   "execution_count": 337,
   "metadata": {},
   "outputs": [
    {
     "data": {
      "text/html": [
       "<div>\n",
       "<style scoped>\n",
       "    .dataframe tbody tr th:only-of-type {\n",
       "        vertical-align: middle;\n",
       "    }\n",
       "\n",
       "    .dataframe tbody tr th {\n",
       "        vertical-align: top;\n",
       "    }\n",
       "\n",
       "    .dataframe thead th {\n",
       "        text-align: right;\n",
       "    }\n",
       "</style>\n",
       "<table border=\"1\" class=\"dataframe\">\n",
       "  <thead>\n",
       "    <tr style=\"text-align: right;\">\n",
       "      <th></th>\n",
       "      <th>userId</th>\n",
       "      <th>rating</th>\n",
       "    </tr>\n",
       "  </thead>\n",
       "  <tbody>\n",
       "    <tr>\n",
       "      <th>0</th>\n",
       "      <td>1</td>\n",
       "      <td>4.188679</td>\n",
       "    </tr>\n",
       "    <tr>\n",
       "      <th>1</th>\n",
       "      <td>2</td>\n",
       "      <td>3.713178</td>\n",
       "    </tr>\n",
       "    <tr>\n",
       "      <th>2</th>\n",
       "      <td>3</td>\n",
       "      <td>3.901961</td>\n",
       "    </tr>\n",
       "    <tr>\n",
       "      <th>3</th>\n",
       "      <td>4</td>\n",
       "      <td>4.190476</td>\n",
       "    </tr>\n",
       "    <tr>\n",
       "      <th>4</th>\n",
       "      <td>5</td>\n",
       "      <td>3.146465</td>\n",
       "    </tr>\n",
       "  </tbody>\n",
       "</table>\n",
       "</div>"
      ],
      "text/plain": [
       "   userId    rating\n",
       "0       1  4.188679\n",
       "1       2  3.713178\n",
       "2       3  3.901961\n",
       "3       4  4.190476\n",
       "4       5  3.146465"
      ]
     },
     "execution_count": 337,
     "metadata": {},
     "output_type": "execute_result"
    }
   ],
   "source": [
    "mean_rating_users.head()"
   ]
  },
  {
   "cell_type": "code",
   "execution_count": 338,
   "metadata": {},
   "outputs": [
    {
     "data": {
      "text/plain": [
       "3.702704866999724"
      ]
     },
     "execution_count": 338,
     "metadata": {},
     "output_type": "execute_result"
    }
   ],
   "source": [
    "mean_ = mean_rating_users['rating'].mean()\n",
    "mean_"
   ]
  },
  {
   "cell_type": "code",
   "execution_count": 344,
   "metadata": {},
   "outputs": [
    {
     "name": "stdout",
     "output_type": "stream",
     "text": [
      "Нижняя граница интервала: 3.202704866999724\n",
      "Верхняя граница интервала: 4.202704866999724\n"
     ]
    }
   ],
   "source": [
    "low_value = mean_ - 0.5\n",
    "up_value = mean_ + 0.5\n",
    "\n",
    "print('Нижняя граница интервала:', low_value)\n",
    "print('Верхняя граница интервала:', up_value)"
   ]
  },
  {
   "cell_type": "code",
   "execution_count": 345,
   "metadata": {},
   "outputs": [
    {
     "name": "stdout",
     "output_type": "stream",
     "text": [
      "Процент занижающих оценки: 12.036423841059603 %\n"
     ]
    }
   ],
   "source": [
    "print('Процент занижающих оценки: {} %'.\\\n",
    "      format(len(mean_rating_users[mean_rating_users.rating < low_value])/len(mean_rating_users)*100))"
   ]
  },
  {
   "cell_type": "code",
   "execution_count": 346,
   "metadata": {},
   "outputs": [
    {
     "name": "stdout",
     "output_type": "stream",
     "text": [
      "Процент завышающих оценки: 10.645695364238412 %\n"
     ]
    }
   ],
   "source": [
    "print('Процент завышающих оценки: {} %'.\\\n",
    "      format(len(mean_rating_users[mean_rating_users.rating > up_value])/len(mean_rating_users)*100))"
   ]
  },
  {
   "cell_type": "markdown",
   "metadata": {},
   "source": [
    "#### 7. Построить рекомендательную систему с помощью библиотеки surprise (или другой, по желанию). Применить подбор параметров модели на сетке, оценить качество полученной модели по выбранной вами метрике. "
   ]
  },
  {
   "cell_type": "code",
   "execution_count": 68,
   "metadata": {},
   "outputs": [],
   "source": [
    "from surprise import SVD\n",
    "from surprise import Dataset\n",
    "from surprise.model_selection import cross_validate, GridSearchCV\n",
    "from surprise import Reader, Dataset"
   ]
  },
  {
   "cell_type": "code",
   "execution_count": 73,
   "metadata": {},
   "outputs": [],
   "source": [
    "df = data[['userId', 'movieId', 'rating']]"
   ]
  },
  {
   "cell_type": "code",
   "execution_count": 78,
   "metadata": {},
   "outputs": [],
   "source": [
    "reader = Reader(rating_scale=(1, 5))\n",
    "\n",
    "data_surprise = Dataset.load_from_df(df, reader)"
   ]
  },
  {
   "cell_type": "code",
   "execution_count": 82,
   "metadata": {},
   "outputs": [
    {
     "name": "stdout",
     "output_type": "stream",
     "text": [
      "CPU times: user 1h 6min 25s, sys: 34.8 s, total: 1h 7min\n",
      "Wall time: 1h 49min 32s\n"
     ]
    }
   ],
   "source": [
    "%%time\n",
    "param_grid = {\n",
    "    'lr_all': [0.005, 0.05],\n",
    "    'reg_all': [0.02, 0.002],\n",
    "    'n_factors': [5, 10, 100, 250],\n",
    "    'n_epochs': [5, 10, 100]\n",
    "}\n",
    "\n",
    "gs = GridSearchCV(SVD, param_grid, measures=['rmse'], cv=3, n_jobs=-1)\n",
    "gs.fit(data_surprise)"
   ]
  },
  {
   "cell_type": "code",
   "execution_count": 83,
   "metadata": {},
   "outputs": [
    {
     "name": "stdout",
     "output_type": "stream",
     "text": [
      "0.868811260453826\n"
     ]
    }
   ],
   "source": [
    "print(gs.best_score['rmse'])"
   ]
  },
  {
   "cell_type": "code",
   "execution_count": 84,
   "metadata": {},
   "outputs": [
    {
     "data": {
      "text/plain": [
       "{'lr_all': 0.005, 'reg_all': 0.02, 'n_factors': 5, 'n_epochs': 100}"
      ]
     },
     "execution_count": 84,
     "metadata": {},
     "output_type": "execute_result"
    }
   ],
   "source": [
    "gs.best_params['rmse']"
   ]
  },
  {
   "cell_type": "code",
   "execution_count": 85,
   "metadata": {},
   "outputs": [],
   "source": [
    "model = gs.best_estimator['rmse']"
   ]
  },
  {
   "cell_type": "code",
   "execution_count": 87,
   "metadata": {},
   "outputs": [
    {
     "data": {
      "text/plain": [
       "<surprise.prediction_algorithms.matrix_factorization.SVD at 0x7fc5b81e11d0>"
      ]
     },
     "execution_count": 87,
     "metadata": {},
     "output_type": "execute_result"
    }
   ],
   "source": [
    "model.fit(data_surprise.build_full_trainset())"
   ]
  },
  {
   "cell_type": "markdown",
   "metadata": {},
   "source": [
    "#### 8. Получить рекомендации для нового пользователя, совпадают ли они с лучшими фильмами?"
   ]
  },
  {
   "cell_type": "code",
   "execution_count": 273,
   "metadata": {},
   "outputs": [],
   "source": [
    "NEW_USER_ID = 9999"
   ]
  },
  {
   "cell_type": "code",
   "execution_count": 274,
   "metadata": {},
   "outputs": [
    {
     "data": {
      "text/plain": [
       "False"
      ]
     },
     "execution_count": 274,
     "metadata": {},
     "output_type": "execute_result"
    }
   ],
   "source": [
    "NEW_USER_ID in users_data['userId'].values"
   ]
  },
  {
   "cell_type": "code",
   "execution_count": 275,
   "metadata": {},
   "outputs": [],
   "source": [
    "def get_recommendations(model, movies_data, user_id, user_ratings):\n",
    "    recommends = {}\n",
    "\n",
    "    for movie_id in movies_data['movieId'].values:\n",
    "        rating = model.predict(user_id, movie_id).est\n",
    "        recommends[movie_id] = rating\n",
    "        \n",
    "    recommends = sorted(recommends.items(), key=lambda x:x[1], reverse=True)\n",
    "    recommends = pd.DataFrame({'movieId': [r[0] for r in recommends], \\\n",
    "                           'rating': [r[1] for r in recommends]})\n",
    "    recommends = pd.merge(recommends, movies_data, on='movieId')\n",
    "    \n",
    "    # удалить из рекомендаций просмотренные фильмы\n",
    "    drop_movies = list(user_ratings.keys())\n",
    "    for movieId in drop_movies:\n",
    "        recommends.drop(recommends[recommends['movieId'] == movieId].index, inplace=True)\n",
    "        \n",
    "    return recommends"
   ]
  },
  {
   "cell_type": "markdown",
   "metadata": {},
   "source": [
    "Рекомендации без оценок от нового пользователя: "
   ]
  },
  {
   "cell_type": "code",
   "execution_count": 276,
   "metadata": {},
   "outputs": [
    {
     "data": {
      "text/html": [
       "<div>\n",
       "<style scoped>\n",
       "    .dataframe tbody tr th:only-of-type {\n",
       "        vertical-align: middle;\n",
       "    }\n",
       "\n",
       "    .dataframe tbody tr th {\n",
       "        vertical-align: top;\n",
       "    }\n",
       "\n",
       "    .dataframe thead th {\n",
       "        text-align: right;\n",
       "    }\n",
       "</style>\n",
       "<table border=\"1\" class=\"dataframe\">\n",
       "  <thead>\n",
       "    <tr style=\"text-align: right;\">\n",
       "      <th></th>\n",
       "      <th>movieId</th>\n",
       "      <th>rating</th>\n",
       "      <th>title</th>\n",
       "      <th>genres</th>\n",
       "    </tr>\n",
       "  </thead>\n",
       "  <tbody>\n",
       "    <tr>\n",
       "      <th>0</th>\n",
       "      <td>53</td>\n",
       "      <td>4.605116</td>\n",
       "      <td>Lamerica (1994)</td>\n",
       "      <td>Drama</td>\n",
       "    </tr>\n",
       "    <tr>\n",
       "      <th>1</th>\n",
       "      <td>2503</td>\n",
       "      <td>4.601622</td>\n",
       "      <td>Apple, The (Sib) (1998)</td>\n",
       "      <td>Drama</td>\n",
       "    </tr>\n",
       "    <tr>\n",
       "      <th>2</th>\n",
       "      <td>2905</td>\n",
       "      <td>4.598855</td>\n",
       "      <td>Sanjuro (1962)</td>\n",
       "      <td>Action|Adventure</td>\n",
       "    </tr>\n",
       "    <tr>\n",
       "      <th>3</th>\n",
       "      <td>3382</td>\n",
       "      <td>4.574343</td>\n",
       "      <td>Song of Freedom (1936)</td>\n",
       "      <td>Drama</td>\n",
       "    </tr>\n",
       "    <tr>\n",
       "      <th>4</th>\n",
       "      <td>318</td>\n",
       "      <td>4.553291</td>\n",
       "      <td>Shawshank Redemption, The (1994)</td>\n",
       "      <td>Drama</td>\n",
       "    </tr>\n",
       "    <tr>\n",
       "      <th>5</th>\n",
       "      <td>3245</td>\n",
       "      <td>4.500892</td>\n",
       "      <td>I Am Cuba (Soy Cuba/Ya Kuba) (1964)</td>\n",
       "      <td>Drama</td>\n",
       "    </tr>\n",
       "    <tr>\n",
       "      <th>6</th>\n",
       "      <td>50</td>\n",
       "      <td>4.467360</td>\n",
       "      <td>Usual Suspects, The (1995)</td>\n",
       "      <td>Crime|Thriller</td>\n",
       "    </tr>\n",
       "    <tr>\n",
       "      <th>7</th>\n",
       "      <td>787</td>\n",
       "      <td>4.443642</td>\n",
       "      <td>Gate of Heavenly Peace, The (1995)</td>\n",
       "      <td>Documentary</td>\n",
       "    </tr>\n",
       "    <tr>\n",
       "      <th>8</th>\n",
       "      <td>3338</td>\n",
       "      <td>4.440090</td>\n",
       "      <td>For All Mankind (1989)</td>\n",
       "      <td>Documentary</td>\n",
       "    </tr>\n",
       "    <tr>\n",
       "      <th>9</th>\n",
       "      <td>2019</td>\n",
       "      <td>4.418471</td>\n",
       "      <td>Seven Samurai (The Magnificent Seven) (Shichinin no samurai) (1954)</td>\n",
       "      <td>Action|Drama</td>\n",
       "    </tr>\n",
       "  </tbody>\n",
       "</table>\n",
       "</div>"
      ],
      "text/plain": [
       "   movieId    rating  \\\n",
       "0       53  4.605116   \n",
       "1     2503  4.601622   \n",
       "2     2905  4.598855   \n",
       "3     3382  4.574343   \n",
       "4      318  4.553291   \n",
       "5     3245  4.500892   \n",
       "6       50  4.467360   \n",
       "7      787  4.443642   \n",
       "8     3338  4.440090   \n",
       "9     2019  4.418471   \n",
       "\n",
       "                                                                 title  \\\n",
       "0                                                      Lamerica (1994)   \n",
       "1                                              Apple, The (Sib) (1998)   \n",
       "2                                                       Sanjuro (1962)   \n",
       "3                                               Song of Freedom (1936)   \n",
       "4                                     Shawshank Redemption, The (1994)   \n",
       "5                                  I Am Cuba (Soy Cuba/Ya Kuba) (1964)   \n",
       "6                                           Usual Suspects, The (1995)   \n",
       "7                                   Gate of Heavenly Peace, The (1995)   \n",
       "8                                               For All Mankind (1989)   \n",
       "9  Seven Samurai (The Magnificent Seven) (Shichinin no samurai) (1954)   \n",
       "\n",
       "             genres  \n",
       "0             Drama  \n",
       "1             Drama  \n",
       "2  Action|Adventure  \n",
       "3             Drama  \n",
       "4             Drama  \n",
       "5             Drama  \n",
       "6    Crime|Thriller  \n",
       "7       Documentary  \n",
       "8       Documentary  \n",
       "9      Action|Drama  "
      ]
     },
     "execution_count": 276,
     "metadata": {},
     "output_type": "execute_result"
    }
   ],
   "source": [
    "recommends = get_recommendations(model, movies_data, NEW_USER_ID, {})\n",
    "recommends.head(10)"
   ]
  },
  {
   "cell_type": "markdown",
   "metadata": {},
   "source": [
    "Лучшие фильмы по формуле:"
   ]
  },
  {
   "cell_type": "code",
   "execution_count": 277,
   "metadata": {},
   "outputs": [
    {
     "data": {
      "text/html": [
       "<div>\n",
       "<style scoped>\n",
       "    .dataframe tbody tr th:only-of-type {\n",
       "        vertical-align: middle;\n",
       "    }\n",
       "\n",
       "    .dataframe tbody tr th {\n",
       "        vertical-align: top;\n",
       "    }\n",
       "\n",
       "    .dataframe thead th {\n",
       "        text-align: right;\n",
       "    }\n",
       "</style>\n",
       "<table border=\"1\" class=\"dataframe\">\n",
       "  <thead>\n",
       "    <tr style=\"text-align: right;\">\n",
       "      <th></th>\n",
       "      <th>movieId</th>\n",
       "      <th>title</th>\n",
       "      <th>count</th>\n",
       "      <th>rating</th>\n",
       "      <th>rating_formula</th>\n",
       "    </tr>\n",
       "  </thead>\n",
       "  <tbody>\n",
       "    <tr>\n",
       "      <th>23</th>\n",
       "      <td>318</td>\n",
       "      <td>Shawshank Redemption, The (1994)</td>\n",
       "      <td>2227</td>\n",
       "      <td>4.554558</td>\n",
       "      <td>4.540350</td>\n",
       "    </tr>\n",
       "    <tr>\n",
       "      <th>470</th>\n",
       "      <td>2019</td>\n",
       "      <td>Seven Samurai (The Magnificent Seven) (Shichinin no samurai) (1954)</td>\n",
       "      <td>628</td>\n",
       "      <td>4.560510</td>\n",
       "      <td>4.511636</td>\n",
       "    </tr>\n",
       "    <tr>\n",
       "      <th>24</th>\n",
       "      <td>858</td>\n",
       "      <td>Godfather, The (1972)</td>\n",
       "      <td>2223</td>\n",
       "      <td>4.524966</td>\n",
       "      <td>4.511167</td>\n",
       "    </tr>\n",
       "    <tr>\n",
       "      <th>38</th>\n",
       "      <td>50</td>\n",
       "      <td>Usual Suspects, The (1995)</td>\n",
       "      <td>1783</td>\n",
       "      <td>4.517106</td>\n",
       "      <td>4.500106</td>\n",
       "    </tr>\n",
       "    <tr>\n",
       "      <th>17</th>\n",
       "      <td>527</td>\n",
       "      <td>Schindler's List (1993)</td>\n",
       "      <td>2304</td>\n",
       "      <td>4.510417</td>\n",
       "      <td>4.497301</td>\n",
       "    </tr>\n",
       "    <tr>\n",
       "      <th>443</th>\n",
       "      <td>745</td>\n",
       "      <td>Close Shave, A (1995)</td>\n",
       "      <td>657</td>\n",
       "      <td>4.520548</td>\n",
       "      <td>4.475640</td>\n",
       "    </tr>\n",
       "    <tr>\n",
       "      <th>269</th>\n",
       "      <td>1148</td>\n",
       "      <td>Wrong Trousers, The (1993)</td>\n",
       "      <td>882</td>\n",
       "      <td>4.507937</td>\n",
       "      <td>4.474526</td>\n",
       "    </tr>\n",
       "    <tr>\n",
       "      <th>11</th>\n",
       "      <td>1198</td>\n",
       "      <td>Raiders of the Lost Ark (1981)</td>\n",
       "      <td>2514</td>\n",
       "      <td>4.477725</td>\n",
       "      <td>4.466114</td>\n",
       "    </tr>\n",
       "    <tr>\n",
       "      <th>186</th>\n",
       "      <td>904</td>\n",
       "      <td>Rear Window (1954)</td>\n",
       "      <td>1050</td>\n",
       "      <td>4.476190</td>\n",
       "      <td>4.448930</td>\n",
       "    </tr>\n",
       "    <tr>\n",
       "      <th>1</th>\n",
       "      <td>260</td>\n",
       "      <td>Star Wars: Episode IV - A New Hope (1977)</td>\n",
       "      <td>2991</td>\n",
       "      <td>4.453694</td>\n",
       "      <td>4.444177</td>\n",
       "    </tr>\n",
       "  </tbody>\n",
       "</table>\n",
       "</div>"
      ],
      "text/plain": [
       "     movieId  \\\n",
       "23       318   \n",
       "470     2019   \n",
       "24       858   \n",
       "38        50   \n",
       "17       527   \n",
       "443      745   \n",
       "269     1148   \n",
       "11      1198   \n",
       "186      904   \n",
       "1        260   \n",
       "\n",
       "                                                                   title  \\\n",
       "23                                      Shawshank Redemption, The (1994)   \n",
       "470  Seven Samurai (The Magnificent Seven) (Shichinin no samurai) (1954)   \n",
       "24                                                 Godfather, The (1972)   \n",
       "38                                            Usual Suspects, The (1995)   \n",
       "17                                               Schindler's List (1993)   \n",
       "443                                                Close Shave, A (1995)   \n",
       "269                                           Wrong Trousers, The (1993)   \n",
       "11                                        Raiders of the Lost Ark (1981)   \n",
       "186                                                   Rear Window (1954)   \n",
       "1                              Star Wars: Episode IV - A New Hope (1977)   \n",
       "\n",
       "     count    rating  rating_formula  \n",
       "23    2227  4.554558        4.540350  \n",
       "470    628  4.560510        4.511636  \n",
       "24    2223  4.524966        4.511167  \n",
       "38    1783  4.517106        4.500106  \n",
       "17    2304  4.510417        4.497301  \n",
       "443    657  4.520548        4.475640  \n",
       "269    882  4.507937        4.474526  \n",
       "11    2514  4.477725        4.466114  \n",
       "186   1050  4.476190        4.448930  \n",
       "1     2991  4.453694        4.444177  "
      ]
     },
     "execution_count": 277,
     "metadata": {},
     "output_type": "execute_result"
    }
   ],
   "source": [
    "movies_rating.head(10)"
   ]
  },
  {
   "cell_type": "code",
   "execution_count": 278,
   "metadata": {},
   "outputs": [
    {
     "data": {
      "text/plain": [
       "{50, 318, 2019}"
      ]
     },
     "execution_count": 278,
     "metadata": {},
     "output_type": "execute_result"
    }
   ],
   "source": [
    "set.intersection(set(movies_rating.head(10)['movieId'].values), \\\n",
    "                 set(recommends.head(10)['movieId'].values))"
   ]
  },
  {
   "cell_type": "markdown",
   "metadata": {},
   "source": [
    "Как видим, перечений немного - 3 довольно известных фильма. Мне кажется, что на \"холодном старте\" лучше выглядят фильмы, рейтинг которых посчитан по формуле."
   ]
  },
  {
   "cell_type": "markdown",
   "metadata": {},
   "source": [
    "#### 9. Поставьте оценку какому-нибудь фильму (который вы знаете и можете поставить оценку) и получите рекомендации, насколько они качественные по вашим ощущениям? Сделайте это для фильма с негативной оценкой и для фильма с позитивной оценкой."
   ]
  },
  {
   "cell_type": "markdown",
   "metadata": {},
   "source": [
    "Добавим нового пользователя в таблицу: "
   ]
  },
  {
   "cell_type": "code",
   "execution_count": 279,
   "metadata": {},
   "outputs": [],
   "source": [
    "new_user = pd.DataFrame([[NEW_USER_ID, 'F', 30, 12, 12345]],\n",
    "                        columns=['userId', 'gender', 'age', 'occupation', 'zip-code'])"
   ]
  },
  {
   "cell_type": "code",
   "execution_count": 280,
   "metadata": {},
   "outputs": [
    {
     "data": {
      "text/html": [
       "<div>\n",
       "<style scoped>\n",
       "    .dataframe tbody tr th:only-of-type {\n",
       "        vertical-align: middle;\n",
       "    }\n",
       "\n",
       "    .dataframe tbody tr th {\n",
       "        vertical-align: top;\n",
       "    }\n",
       "\n",
       "    .dataframe thead th {\n",
       "        text-align: right;\n",
       "    }\n",
       "</style>\n",
       "<table border=\"1\" class=\"dataframe\">\n",
       "  <thead>\n",
       "    <tr style=\"text-align: right;\">\n",
       "      <th></th>\n",
       "      <th>userId</th>\n",
       "      <th>gender</th>\n",
       "      <th>age</th>\n",
       "      <th>occupation</th>\n",
       "      <th>zip-code</th>\n",
       "    </tr>\n",
       "  </thead>\n",
       "  <tbody>\n",
       "    <tr>\n",
       "      <th>6039</th>\n",
       "      <td>6040</td>\n",
       "      <td>M</td>\n",
       "      <td>25</td>\n",
       "      <td>6</td>\n",
       "      <td>11106</td>\n",
       "    </tr>\n",
       "    <tr>\n",
       "      <th>6040</th>\n",
       "      <td>9999</td>\n",
       "      <td>F</td>\n",
       "      <td>30</td>\n",
       "      <td>12</td>\n",
       "      <td>12345</td>\n",
       "    </tr>\n",
       "  </tbody>\n",
       "</table>\n",
       "</div>"
      ],
      "text/plain": [
       "      userId gender  age  occupation zip-code\n",
       "6039    6040      M   25           6    11106\n",
       "6040    9999      F   30          12    12345"
      ]
     },
     "execution_count": 280,
     "metadata": {},
     "output_type": "execute_result"
    }
   ],
   "source": [
    "users_data = users_data.append(new_user, ignore_index=True)\n",
    "users_data.tail(2)"
   ]
  },
  {
   "cell_type": "markdown",
   "metadata": {},
   "source": [
    "Сделаем 1 хорошую оценку и 1 плохую: "
   ]
  },
  {
   "cell_type": "code",
   "execution_count": 281,
   "metadata": {},
   "outputs": [],
   "source": [
    "# 356: Forrest Gump (1994) -- 5\n",
    "# 1921: Pi (1998) -- 3\n",
    "new_user_ratings = {356: 5, 1921: 3}"
   ]
  },
  {
   "cell_type": "code",
   "execution_count": 282,
   "metadata": {},
   "outputs": [],
   "source": [
    "def add_ratings(ratings_data, userId, ratings):\n",
    "    for movieId, rating in ratings.items():\n",
    "        ratings_data = ratings_data.append({'userId': userId, 'movieId': movieId, \\\n",
    "                                            'rating': rating, 'timestamp': 956715569}, ignore_index=True)\n",
    "        \n",
    "    return ratings_data"
   ]
  },
  {
   "cell_type": "code",
   "execution_count": 283,
   "metadata": {},
   "outputs": [
    {
     "data": {
      "text/html": [
       "<div>\n",
       "<style scoped>\n",
       "    .dataframe tbody tr th:only-of-type {\n",
       "        vertical-align: middle;\n",
       "    }\n",
       "\n",
       "    .dataframe tbody tr th {\n",
       "        vertical-align: top;\n",
       "    }\n",
       "\n",
       "    .dataframe thead th {\n",
       "        text-align: right;\n",
       "    }\n",
       "</style>\n",
       "<table border=\"1\" class=\"dataframe\">\n",
       "  <thead>\n",
       "    <tr style=\"text-align: right;\">\n",
       "      <th></th>\n",
       "      <th>userId</th>\n",
       "      <th>movieId</th>\n",
       "      <th>rating</th>\n",
       "      <th>timestamp</th>\n",
       "    </tr>\n",
       "  </thead>\n",
       "  <tbody>\n",
       "    <tr>\n",
       "      <th>1000206</th>\n",
       "      <td>6040</td>\n",
       "      <td>562</td>\n",
       "      <td>5</td>\n",
       "      <td>956704746</td>\n",
       "    </tr>\n",
       "    <tr>\n",
       "      <th>1000207</th>\n",
       "      <td>6040</td>\n",
       "      <td>1096</td>\n",
       "      <td>4</td>\n",
       "      <td>956715648</td>\n",
       "    </tr>\n",
       "    <tr>\n",
       "      <th>1000208</th>\n",
       "      <td>6040</td>\n",
       "      <td>1097</td>\n",
       "      <td>4</td>\n",
       "      <td>956715569</td>\n",
       "    </tr>\n",
       "  </tbody>\n",
       "</table>\n",
       "</div>"
      ],
      "text/plain": [
       "         userId  movieId  rating  timestamp\n",
       "1000206    6040      562       5  956704746\n",
       "1000207    6040     1096       4  956715648\n",
       "1000208    6040     1097       4  956715569"
      ]
     },
     "execution_count": 283,
     "metadata": {},
     "output_type": "execute_result"
    }
   ],
   "source": [
    "ratings_data.tail(3)"
   ]
  },
  {
   "cell_type": "code",
   "execution_count": 284,
   "metadata": {},
   "outputs": [
    {
     "data": {
      "text/html": [
       "<div>\n",
       "<style scoped>\n",
       "    .dataframe tbody tr th:only-of-type {\n",
       "        vertical-align: middle;\n",
       "    }\n",
       "\n",
       "    .dataframe tbody tr th {\n",
       "        vertical-align: top;\n",
       "    }\n",
       "\n",
       "    .dataframe thead th {\n",
       "        text-align: right;\n",
       "    }\n",
       "</style>\n",
       "<table border=\"1\" class=\"dataframe\">\n",
       "  <thead>\n",
       "    <tr style=\"text-align: right;\">\n",
       "      <th></th>\n",
       "      <th>userId</th>\n",
       "      <th>movieId</th>\n",
       "      <th>rating</th>\n",
       "      <th>timestamp</th>\n",
       "    </tr>\n",
       "  </thead>\n",
       "  <tbody>\n",
       "    <tr>\n",
       "      <th>1000208</th>\n",
       "      <td>6040</td>\n",
       "      <td>1097</td>\n",
       "      <td>4</td>\n",
       "      <td>956715569</td>\n",
       "    </tr>\n",
       "    <tr>\n",
       "      <th>1000209</th>\n",
       "      <td>9999</td>\n",
       "      <td>356</td>\n",
       "      <td>5</td>\n",
       "      <td>956715569</td>\n",
       "    </tr>\n",
       "    <tr>\n",
       "      <th>1000210</th>\n",
       "      <td>9999</td>\n",
       "      <td>1921</td>\n",
       "      <td>3</td>\n",
       "      <td>956715569</td>\n",
       "    </tr>\n",
       "  </tbody>\n",
       "</table>\n",
       "</div>"
      ],
      "text/plain": [
       "         userId  movieId  rating  timestamp\n",
       "1000208    6040     1097       4  956715569\n",
       "1000209    9999      356       5  956715569\n",
       "1000210    9999     1921       3  956715569"
      ]
     },
     "execution_count": 284,
     "metadata": {},
     "output_type": "execute_result"
    }
   ],
   "source": [
    "ratings_data = add_ratings(ratings_data, NEW_USER_ID, new_user_ratings)\n",
    "ratings_data.tail(3)"
   ]
  },
  {
   "cell_type": "code",
   "execution_count": 285,
   "metadata": {},
   "outputs": [],
   "source": [
    "data = pd.merge(ratings_data, users_data, on='userId')\n",
    "data = pd.merge(data, movies_data, on='movieId')"
   ]
  },
  {
   "cell_type": "code",
   "execution_count": 286,
   "metadata": {},
   "outputs": [
    {
     "data": {
      "text/html": [
       "<div>\n",
       "<style scoped>\n",
       "    .dataframe tbody tr th:only-of-type {\n",
       "        vertical-align: middle;\n",
       "    }\n",
       "\n",
       "    .dataframe tbody tr th {\n",
       "        vertical-align: top;\n",
       "    }\n",
       "\n",
       "    .dataframe thead th {\n",
       "        text-align: right;\n",
       "    }\n",
       "</style>\n",
       "<table border=\"1\" class=\"dataframe\">\n",
       "  <thead>\n",
       "    <tr style=\"text-align: right;\">\n",
       "      <th></th>\n",
       "      <th>userId</th>\n",
       "      <th>movieId</th>\n",
       "      <th>rating</th>\n",
       "      <th>timestamp</th>\n",
       "      <th>gender</th>\n",
       "      <th>age</th>\n",
       "      <th>occupation</th>\n",
       "      <th>zip-code</th>\n",
       "      <th>title</th>\n",
       "      <th>genres</th>\n",
       "    </tr>\n",
       "  </thead>\n",
       "  <tbody>\n",
       "    <tr>\n",
       "      <th>180020</th>\n",
       "      <td>9999</td>\n",
       "      <td>356</td>\n",
       "      <td>5</td>\n",
       "      <td>956715569</td>\n",
       "      <td>F</td>\n",
       "      <td>30</td>\n",
       "      <td>12</td>\n",
       "      <td>12345</td>\n",
       "      <td>Forrest Gump (1994)</td>\n",
       "      <td>Comedy|Romance|War</td>\n",
       "    </tr>\n",
       "    <tr>\n",
       "      <th>271086</th>\n",
       "      <td>9999</td>\n",
       "      <td>1921</td>\n",
       "      <td>3</td>\n",
       "      <td>956715569</td>\n",
       "      <td>F</td>\n",
       "      <td>30</td>\n",
       "      <td>12</td>\n",
       "      <td>12345</td>\n",
       "      <td>Pi (1998)</td>\n",
       "      <td>Sci-Fi|Thriller</td>\n",
       "    </tr>\n",
       "  </tbody>\n",
       "</table>\n",
       "</div>"
      ],
      "text/plain": [
       "        userId  movieId  rating  timestamp gender  age  occupation zip-code  \\\n",
       "180020    9999      356       5  956715569      F   30          12    12345   \n",
       "271086    9999     1921       3  956715569      F   30          12    12345   \n",
       "\n",
       "                      title              genres  \n",
       "180020  Forrest Gump (1994)  Comedy|Romance|War  \n",
       "271086            Pi (1998)     Sci-Fi|Thriller  "
      ]
     },
     "execution_count": 286,
     "metadata": {},
     "output_type": "execute_result"
    }
   ],
   "source": [
    "data[data.userId == NEW_USER_ID]"
   ]
  },
  {
   "cell_type": "markdown",
   "metadata": {},
   "source": [
    "Пересчет модели с новыми данными: "
   ]
  },
  {
   "cell_type": "code",
   "execution_count": 287,
   "metadata": {},
   "outputs": [],
   "source": [
    "df = data[['userId', 'movieId', 'rating']]\n",
    "\n",
    "reader = Reader(rating_scale=(1, 5))\n",
    "data_surprise = Dataset.load_from_df(df, reader)"
   ]
  },
  {
   "cell_type": "code",
   "execution_count": 288,
   "metadata": {},
   "outputs": [
    {
     "name": "stdout",
     "output_type": "stream",
     "text": [
      "CPU times: user 1min 48s, sys: 101 ms, total: 1min 49s\n",
      "Wall time: 1min 49s\n"
     ]
    }
   ],
   "source": [
    "%%time\n",
    "new_model = SVD(**gs.best_params['rmse'])\n",
    "trainset = data_surprise.build_full_trainset()\n",
    "new_model.fit(trainset)"
   ]
  },
  {
   "cell_type": "code",
   "execution_count": 290,
   "metadata": {},
   "outputs": [
    {
     "data": {
      "text/html": [
       "<div>\n",
       "<style scoped>\n",
       "    .dataframe tbody tr th:only-of-type {\n",
       "        vertical-align: middle;\n",
       "    }\n",
       "\n",
       "    .dataframe tbody tr th {\n",
       "        vertical-align: top;\n",
       "    }\n",
       "\n",
       "    .dataframe thead th {\n",
       "        text-align: right;\n",
       "    }\n",
       "</style>\n",
       "<table border=\"1\" class=\"dataframe\">\n",
       "  <thead>\n",
       "    <tr style=\"text-align: right;\">\n",
       "      <th></th>\n",
       "      <th>movieId</th>\n",
       "      <th>rating</th>\n",
       "      <th>title</th>\n",
       "      <th>genres</th>\n",
       "    </tr>\n",
       "  </thead>\n",
       "  <tbody>\n",
       "    <tr>\n",
       "      <th>0</th>\n",
       "      <td>318</td>\n",
       "      <td>4.890817</td>\n",
       "      <td>Shawshank Redemption, The (1994)</td>\n",
       "      <td>Drama</td>\n",
       "    </tr>\n",
       "    <tr>\n",
       "      <th>1</th>\n",
       "      <td>2762</td>\n",
       "      <td>4.744239</td>\n",
       "      <td>Sixth Sense, The (1999)</td>\n",
       "      <td>Thriller</td>\n",
       "    </tr>\n",
       "    <tr>\n",
       "      <th>2</th>\n",
       "      <td>527</td>\n",
       "      <td>4.708529</td>\n",
       "      <td>Schindler's List (1993)</td>\n",
       "      <td>Drama|War</td>\n",
       "    </tr>\n",
       "    <tr>\n",
       "      <th>3</th>\n",
       "      <td>1198</td>\n",
       "      <td>4.696609</td>\n",
       "      <td>Raiders of the Lost Ark (1981)</td>\n",
       "      <td>Action|Adventure</td>\n",
       "    </tr>\n",
       "    <tr>\n",
       "      <th>4</th>\n",
       "      <td>2905</td>\n",
       "      <td>4.687569</td>\n",
       "      <td>Sanjuro (1962)</td>\n",
       "      <td>Action|Adventure</td>\n",
       "    </tr>\n",
       "    <tr>\n",
       "      <th>5</th>\n",
       "      <td>3382</td>\n",
       "      <td>4.669882</td>\n",
       "      <td>Song of Freedom (1936)</td>\n",
       "      <td>Drama</td>\n",
       "    </tr>\n",
       "    <tr>\n",
       "      <th>6</th>\n",
       "      <td>2503</td>\n",
       "      <td>4.648253</td>\n",
       "      <td>Apple, The (Sib) (1998)</td>\n",
       "      <td>Drama</td>\n",
       "    </tr>\n",
       "    <tr>\n",
       "      <th>7</th>\n",
       "      <td>953</td>\n",
       "      <td>4.641022</td>\n",
       "      <td>It's a Wonderful Life (1946)</td>\n",
       "      <td>Drama</td>\n",
       "    </tr>\n",
       "    <tr>\n",
       "      <th>8</th>\n",
       "      <td>2028</td>\n",
       "      <td>4.627912</td>\n",
       "      <td>Saving Private Ryan (1998)</td>\n",
       "      <td>Action|Drama|War</td>\n",
       "    </tr>\n",
       "    <tr>\n",
       "      <th>9</th>\n",
       "      <td>593</td>\n",
       "      <td>4.610003</td>\n",
       "      <td>Silence of the Lambs, The (1991)</td>\n",
       "      <td>Drama|Thriller</td>\n",
       "    </tr>\n",
       "    <tr>\n",
       "      <th>10</th>\n",
       "      <td>1262</td>\n",
       "      <td>4.605003</td>\n",
       "      <td>Great Escape, The (1963)</td>\n",
       "      <td>Adventure|War</td>\n",
       "    </tr>\n",
       "    <tr>\n",
       "      <th>11</th>\n",
       "      <td>260</td>\n",
       "      <td>4.591732</td>\n",
       "      <td>Star Wars: Episode IV - A New Hope (1977)</td>\n",
       "      <td>Action|Adventure|Fantasy|Sci-Fi</td>\n",
       "    </tr>\n",
       "    <tr>\n",
       "      <th>13</th>\n",
       "      <td>50</td>\n",
       "      <td>4.579400</td>\n",
       "      <td>Usual Suspects, The (1995)</td>\n",
       "      <td>Crime|Thriller</td>\n",
       "    </tr>\n",
       "    <tr>\n",
       "      <th>14</th>\n",
       "      <td>53</td>\n",
       "      <td>4.570097</td>\n",
       "      <td>Lamerica (1994)</td>\n",
       "      <td>Drama</td>\n",
       "    </tr>\n",
       "    <tr>\n",
       "      <th>15</th>\n",
       "      <td>1704</td>\n",
       "      <td>4.544345</td>\n",
       "      <td>Good Will Hunting (1997)</td>\n",
       "      <td>Drama</td>\n",
       "    </tr>\n",
       "  </tbody>\n",
       "</table>\n",
       "</div>"
      ],
      "text/plain": [
       "    movieId    rating                                      title  \\\n",
       "0       318  4.890817           Shawshank Redemption, The (1994)   \n",
       "1      2762  4.744239                    Sixth Sense, The (1999)   \n",
       "2       527  4.708529                    Schindler's List (1993)   \n",
       "3      1198  4.696609             Raiders of the Lost Ark (1981)   \n",
       "4      2905  4.687569                             Sanjuro (1962)   \n",
       "5      3382  4.669882                     Song of Freedom (1936)   \n",
       "6      2503  4.648253                    Apple, The (Sib) (1998)   \n",
       "7       953  4.641022               It's a Wonderful Life (1946)   \n",
       "8      2028  4.627912                 Saving Private Ryan (1998)   \n",
       "9       593  4.610003           Silence of the Lambs, The (1991)   \n",
       "10     1262  4.605003                   Great Escape, The (1963)   \n",
       "11      260  4.591732  Star Wars: Episode IV - A New Hope (1977)   \n",
       "13       50  4.579400                 Usual Suspects, The (1995)   \n",
       "14       53  4.570097                            Lamerica (1994)   \n",
       "15     1704  4.544345                   Good Will Hunting (1997)   \n",
       "\n",
       "                             genres  \n",
       "0                             Drama  \n",
       "1                          Thriller  \n",
       "2                         Drama|War  \n",
       "3                  Action|Adventure  \n",
       "4                  Action|Adventure  \n",
       "5                             Drama  \n",
       "6                             Drama  \n",
       "7                             Drama  \n",
       "8                  Action|Drama|War  \n",
       "9                    Drama|Thriller  \n",
       "10                    Adventure|War  \n",
       "11  Action|Adventure|Fantasy|Sci-Fi  \n",
       "13                   Crime|Thriller  \n",
       "14                            Drama  \n",
       "15                            Drama  "
      ]
     },
     "execution_count": 290,
     "metadata": {},
     "output_type": "execute_result"
    }
   ],
   "source": [
    "new_recommends = get_recommendations(new_model, movies_data, NEW_USER_ID, new_user_ratings)\n",
    "new_recommends.head(15)"
   ]
  },
  {
   "cell_type": "markdown",
   "metadata": {},
   "source": [
    "Такие рекомендации мне нравятся больше, чем те, которые модель выдавала по умолчанию."
   ]
  },
  {
   "cell_type": "markdown",
   "metadata": {},
   "source": [
    "#### 10. Добавляйте оценки и посмотрите, как изменяются рекомендации фильмов. Соответствуют ли они вашим предпочтениям? Есть ли недостатки у системы? Сколько нужно оценок для того, чтобы рекомендации стали релевантными? (в этом пункте добавляйте оценки в том числе из интересного вам жанра для пункта 11)"
   ]
  },
  {
   "cell_type": "markdown",
   "metadata": {},
   "source": [
    "В качестве интересного жанра я выбрала Thriller. Помимо фильмов других жанров, я добавила триллеры с разными оценками."
   ]
  },
  {
   "cell_type": "code",
   "execution_count": null,
   "metadata": {},
   "outputs": [],
   "source": [
    "# 1270: Back to the Future (1985)         -- 3\n",
    "# 589: Terminator 2: Judgment Day (1991)  -- 3\n",
    "# 608: Fargo (1996)                       -- 4\n",
    "# 2762: Sixth Sense, The (1999)           -- 4\n",
    "# 1240: Terminator, The (1984)            -- 4\n",
    "# 1721: Titanic (1997)                    -- 3\n",
    "# 648: Mission: Impossible (1996)         -- 3\n",
    "# 2959: Fight Club (1999)                 -- 4\n",
    "# 1961: Rain Man (1988)                   -- 5\n",
    "# 1219: Psycho (1960)                     -- 4\n",
    "# 1208: Apocalypse Now (1979)             -- 5\n",
    "# 47: Seven (Se7en) (1995)                -- 5\n",
    "# 1214: Alien (1979)                      -- 5\n",
    "# 1917: Armageddon (1998)                 -- 4"
   ]
  },
  {
   "cell_type": "code",
   "execution_count": 293,
   "metadata": {},
   "outputs": [],
   "source": [
    "new_user_ratings = {1270: 3, \n",
    "                    589: 3, \n",
    "                    608: 4, \n",
    "                    2762: 4, \n",
    "                    1240: 4, \n",
    "                    1721: 3, \n",
    "                    648: 3, \n",
    "                    2959: 4, \n",
    "                    1961: 5, \n",
    "                    1219: 4, \n",
    "                    1208: 5, \n",
    "                    47: 5, \n",
    "                    1214: 5, \n",
    "                    1917: 4}"
   ]
  },
  {
   "cell_type": "code",
   "execution_count": 294,
   "metadata": {},
   "outputs": [],
   "source": [
    "ratings_data = add_ratings(ratings_data, NEW_USER_ID, new_user_ratings)"
   ]
  },
  {
   "cell_type": "code",
   "execution_count": 295,
   "metadata": {},
   "outputs": [],
   "source": [
    "data = pd.merge(ratings_data, users_data, on='userId')\n",
    "data = pd.merge(data, movies_data, on='movieId')"
   ]
  },
  {
   "cell_type": "code",
   "execution_count": 296,
   "metadata": {},
   "outputs": [
    {
     "data": {
      "text/html": [
       "<div>\n",
       "<style scoped>\n",
       "    .dataframe tbody tr th:only-of-type {\n",
       "        vertical-align: middle;\n",
       "    }\n",
       "\n",
       "    .dataframe tbody tr th {\n",
       "        vertical-align: top;\n",
       "    }\n",
       "\n",
       "    .dataframe thead th {\n",
       "        text-align: right;\n",
       "    }\n",
       "</style>\n",
       "<table border=\"1\" class=\"dataframe\">\n",
       "  <thead>\n",
       "    <tr style=\"text-align: right;\">\n",
       "      <th></th>\n",
       "      <th>userId</th>\n",
       "      <th>movieId</th>\n",
       "      <th>rating</th>\n",
       "      <th>timestamp</th>\n",
       "      <th>gender</th>\n",
       "      <th>age</th>\n",
       "      <th>occupation</th>\n",
       "      <th>zip-code</th>\n",
       "      <th>title</th>\n",
       "      <th>genres</th>\n",
       "    </tr>\n",
       "  </thead>\n",
       "  <tbody>\n",
       "    <tr>\n",
       "      <th>25853</th>\n",
       "      <td>9999</td>\n",
       "      <td>1270</td>\n",
       "      <td>3</td>\n",
       "      <td>956715569</td>\n",
       "      <td>F</td>\n",
       "      <td>30</td>\n",
       "      <td>12</td>\n",
       "      <td>12345</td>\n",
       "      <td>Back to the Future (1985)</td>\n",
       "      <td>Comedy|Sci-Fi</td>\n",
       "    </tr>\n",
       "    <tr>\n",
       "      <th>32699</th>\n",
       "      <td>9999</td>\n",
       "      <td>1721</td>\n",
       "      <td>3</td>\n",
       "      <td>956715569</td>\n",
       "      <td>F</td>\n",
       "      <td>30</td>\n",
       "      <td>12</td>\n",
       "      <td>12345</td>\n",
       "      <td>Titanic (1997)</td>\n",
       "      <td>Drama|Romance</td>\n",
       "    </tr>\n",
       "    <tr>\n",
       "      <th>40377</th>\n",
       "      <td>9999</td>\n",
       "      <td>2762</td>\n",
       "      <td>4</td>\n",
       "      <td>956715569</td>\n",
       "      <td>F</td>\n",
       "      <td>30</td>\n",
       "      <td>12</td>\n",
       "      <td>12345</td>\n",
       "      <td>Sixth Sense, The (1999)</td>\n",
       "      <td>Thriller</td>\n",
       "    </tr>\n",
       "    <tr>\n",
       "      <th>45036</th>\n",
       "      <td>9999</td>\n",
       "      <td>1961</td>\n",
       "      <td>5</td>\n",
       "      <td>956715569</td>\n",
       "      <td>F</td>\n",
       "      <td>30</td>\n",
       "      <td>12</td>\n",
       "      <td>12345</td>\n",
       "      <td>Rain Man (1988)</td>\n",
       "      <td>Drama</td>\n",
       "    </tr>\n",
       "    <tr>\n",
       "      <th>59348</th>\n",
       "      <td>9999</td>\n",
       "      <td>608</td>\n",
       "      <td>4</td>\n",
       "      <td>956715569</td>\n",
       "      <td>F</td>\n",
       "      <td>30</td>\n",
       "      <td>12</td>\n",
       "      <td>12345</td>\n",
       "      <td>Fargo (1996)</td>\n",
       "      <td>Crime|Drama|Thriller</td>\n",
       "    </tr>\n",
       "    <tr>\n",
       "      <th>64576</th>\n",
       "      <td>9999</td>\n",
       "      <td>648</td>\n",
       "      <td>3</td>\n",
       "      <td>956715569</td>\n",
       "      <td>F</td>\n",
       "      <td>30</td>\n",
       "      <td>12</td>\n",
       "      <td>12345</td>\n",
       "      <td>Mission: Impossible (1996)</td>\n",
       "      <td>Action|Adventure|Mystery</td>\n",
       "    </tr>\n",
       "    <tr>\n",
       "      <th>104711</th>\n",
       "      <td>9999</td>\n",
       "      <td>589</td>\n",
       "      <td>3</td>\n",
       "      <td>956715569</td>\n",
       "      <td>F</td>\n",
       "      <td>30</td>\n",
       "      <td>12</td>\n",
       "      <td>12345</td>\n",
       "      <td>Terminator 2: Judgment Day (1991)</td>\n",
       "      <td>Action|Sci-Fi|Thriller</td>\n",
       "    </tr>\n",
       "    <tr>\n",
       "      <th>144112</th>\n",
       "      <td>9999</td>\n",
       "      <td>1917</td>\n",
       "      <td>4</td>\n",
       "      <td>956715569</td>\n",
       "      <td>F</td>\n",
       "      <td>30</td>\n",
       "      <td>12</td>\n",
       "      <td>12345</td>\n",
       "      <td>Armageddon (1998)</td>\n",
       "      <td>Action|Adventure|Sci-Fi|Thriller</td>\n",
       "    </tr>\n",
       "    <tr>\n",
       "      <th>180028</th>\n",
       "      <td>9999</td>\n",
       "      <td>356</td>\n",
       "      <td>5</td>\n",
       "      <td>956715569</td>\n",
       "      <td>F</td>\n",
       "      <td>30</td>\n",
       "      <td>12</td>\n",
       "      <td>12345</td>\n",
       "      <td>Forrest Gump (1994)</td>\n",
       "      <td>Comedy|Romance|War</td>\n",
       "    </tr>\n",
       "    <tr>\n",
       "      <th>215831</th>\n",
       "      <td>9999</td>\n",
       "      <td>1214</td>\n",
       "      <td>5</td>\n",
       "      <td>956715569</td>\n",
       "      <td>F</td>\n",
       "      <td>30</td>\n",
       "      <td>12</td>\n",
       "      <td>12345</td>\n",
       "      <td>Alien (1979)</td>\n",
       "      <td>Action|Horror|Sci-Fi|Thriller</td>\n",
       "    </tr>\n",
       "    <tr>\n",
       "      <th>226131</th>\n",
       "      <td>9999</td>\n",
       "      <td>1240</td>\n",
       "      <td>4</td>\n",
       "      <td>956715569</td>\n",
       "      <td>F</td>\n",
       "      <td>30</td>\n",
       "      <td>12</td>\n",
       "      <td>12345</td>\n",
       "      <td>Terminator, The (1984)</td>\n",
       "      <td>Action|Sci-Fi|Thriller</td>\n",
       "    </tr>\n",
       "    <tr>\n",
       "      <th>239653</th>\n",
       "      <td>9999</td>\n",
       "      <td>47</td>\n",
       "      <td>5</td>\n",
       "      <td>956715569</td>\n",
       "      <td>F</td>\n",
       "      <td>30</td>\n",
       "      <td>12</td>\n",
       "      <td>12345</td>\n",
       "      <td>Seven (Se7en) (1995)</td>\n",
       "      <td>Crime|Thriller</td>\n",
       "    </tr>\n",
       "    <tr>\n",
       "      <th>271097</th>\n",
       "      <td>9999</td>\n",
       "      <td>1921</td>\n",
       "      <td>3</td>\n",
       "      <td>956715569</td>\n",
       "      <td>F</td>\n",
       "      <td>30</td>\n",
       "      <td>12</td>\n",
       "      <td>12345</td>\n",
       "      <td>Pi (1998)</td>\n",
       "      <td>Sci-Fi|Thriller</td>\n",
       "    </tr>\n",
       "    <tr>\n",
       "      <th>285588</th>\n",
       "      <td>9999</td>\n",
       "      <td>2959</td>\n",
       "      <td>4</td>\n",
       "      <td>956715569</td>\n",
       "      <td>F</td>\n",
       "      <td>30</td>\n",
       "      <td>12</td>\n",
       "      <td>12345</td>\n",
       "      <td>Fight Club (1999)</td>\n",
       "      <td>Drama</td>\n",
       "    </tr>\n",
       "    <tr>\n",
       "      <th>705437</th>\n",
       "      <td>9999</td>\n",
       "      <td>1219</td>\n",
       "      <td>4</td>\n",
       "      <td>956715569</td>\n",
       "      <td>F</td>\n",
       "      <td>30</td>\n",
       "      <td>12</td>\n",
       "      <td>12345</td>\n",
       "      <td>Psycho (1960)</td>\n",
       "      <td>Horror|Thriller</td>\n",
       "    </tr>\n",
       "    <tr>\n",
       "      <th>801186</th>\n",
       "      <td>9999</td>\n",
       "      <td>1208</td>\n",
       "      <td>5</td>\n",
       "      <td>956715569</td>\n",
       "      <td>F</td>\n",
       "      <td>30</td>\n",
       "      <td>12</td>\n",
       "      <td>12345</td>\n",
       "      <td>Apocalypse Now (1979)</td>\n",
       "      <td>Drama|War</td>\n",
       "    </tr>\n",
       "  </tbody>\n",
       "</table>\n",
       "</div>"
      ],
      "text/plain": [
       "        userId  movieId  rating  timestamp gender  age  occupation zip-code  \\\n",
       "25853     9999     1270       3  956715569      F   30          12    12345   \n",
       "32699     9999     1721       3  956715569      F   30          12    12345   \n",
       "40377     9999     2762       4  956715569      F   30          12    12345   \n",
       "45036     9999     1961       5  956715569      F   30          12    12345   \n",
       "59348     9999      608       4  956715569      F   30          12    12345   \n",
       "64576     9999      648       3  956715569      F   30          12    12345   \n",
       "104711    9999      589       3  956715569      F   30          12    12345   \n",
       "144112    9999     1917       4  956715569      F   30          12    12345   \n",
       "180028    9999      356       5  956715569      F   30          12    12345   \n",
       "215831    9999     1214       5  956715569      F   30          12    12345   \n",
       "226131    9999     1240       4  956715569      F   30          12    12345   \n",
       "239653    9999       47       5  956715569      F   30          12    12345   \n",
       "271097    9999     1921       3  956715569      F   30          12    12345   \n",
       "285588    9999     2959       4  956715569      F   30          12    12345   \n",
       "705437    9999     1219       4  956715569      F   30          12    12345   \n",
       "801186    9999     1208       5  956715569      F   30          12    12345   \n",
       "\n",
       "                                    title                            genres  \n",
       "25853           Back to the Future (1985)                     Comedy|Sci-Fi  \n",
       "32699                      Titanic (1997)                     Drama|Romance  \n",
       "40377             Sixth Sense, The (1999)                          Thriller  \n",
       "45036                     Rain Man (1988)                             Drama  \n",
       "59348                        Fargo (1996)              Crime|Drama|Thriller  \n",
       "64576          Mission: Impossible (1996)          Action|Adventure|Mystery  \n",
       "104711  Terminator 2: Judgment Day (1991)            Action|Sci-Fi|Thriller  \n",
       "144112                  Armageddon (1998)  Action|Adventure|Sci-Fi|Thriller  \n",
       "180028                Forrest Gump (1994)                Comedy|Romance|War  \n",
       "215831                       Alien (1979)     Action|Horror|Sci-Fi|Thriller  \n",
       "226131             Terminator, The (1984)            Action|Sci-Fi|Thriller  \n",
       "239653               Seven (Se7en) (1995)                    Crime|Thriller  \n",
       "271097                          Pi (1998)                   Sci-Fi|Thriller  \n",
       "285588                  Fight Club (1999)                             Drama  \n",
       "705437                      Psycho (1960)                   Horror|Thriller  \n",
       "801186              Apocalypse Now (1979)                         Drama|War  "
      ]
     },
     "execution_count": 296,
     "metadata": {},
     "output_type": "execute_result"
    }
   ],
   "source": [
    "data[data.userId == NEW_USER_ID]"
   ]
  },
  {
   "cell_type": "code",
   "execution_count": 297,
   "metadata": {},
   "outputs": [],
   "source": [
    "df = data[['userId', 'movieId', 'rating']]\n",
    "\n",
    "reader = Reader(rating_scale=(1, 5))\n",
    "data_surprise = Dataset.load_from_df(df, reader)"
   ]
  },
  {
   "cell_type": "code",
   "execution_count": 298,
   "metadata": {},
   "outputs": [
    {
     "name": "stdout",
     "output_type": "stream",
     "text": [
      "CPU times: user 1min 48s, sys: 13.5 ms, total: 1min 48s\n",
      "Wall time: 1min 48s\n"
     ]
    }
   ],
   "source": [
    "%%time\n",
    "new_model = SVD(**gs.best_params['rmse'])\n",
    "trainset = data_surprise.build_full_trainset()\n",
    "new_model.fit(trainset)"
   ]
  },
  {
   "cell_type": "code",
   "execution_count": 300,
   "metadata": {},
   "outputs": [],
   "source": [
    "# с пред. пункта\n",
    "new_user_ratings.update({356: 5, 1921: 3})"
   ]
  },
  {
   "cell_type": "code",
   "execution_count": 302,
   "metadata": {},
   "outputs": [
    {
     "data": {
      "text/html": [
       "<div>\n",
       "<style scoped>\n",
       "    .dataframe tbody tr th:only-of-type {\n",
       "        vertical-align: middle;\n",
       "    }\n",
       "\n",
       "    .dataframe tbody tr th {\n",
       "        vertical-align: top;\n",
       "    }\n",
       "\n",
       "    .dataframe thead th {\n",
       "        text-align: right;\n",
       "    }\n",
       "</style>\n",
       "<table border=\"1\" class=\"dataframe\">\n",
       "  <thead>\n",
       "    <tr style=\"text-align: right;\">\n",
       "      <th></th>\n",
       "      <th>movieId</th>\n",
       "      <th>rating</th>\n",
       "      <th>title</th>\n",
       "      <th>genres</th>\n",
       "    </tr>\n",
       "  </thead>\n",
       "  <tbody>\n",
       "    <tr>\n",
       "      <th>0</th>\n",
       "      <td>53</td>\n",
       "      <td>4.743062</td>\n",
       "      <td>Lamerica (1994)</td>\n",
       "      <td>Drama</td>\n",
       "    </tr>\n",
       "    <tr>\n",
       "      <th>1</th>\n",
       "      <td>2503</td>\n",
       "      <td>4.741627</td>\n",
       "      <td>Apple, The (Sib) (1998)</td>\n",
       "      <td>Drama</td>\n",
       "    </tr>\n",
       "    <tr>\n",
       "      <th>2</th>\n",
       "      <td>593</td>\n",
       "      <td>4.649112</td>\n",
       "      <td>Silence of the Lambs, The (1991)</td>\n",
       "      <td>Drama|Thriller</td>\n",
       "    </tr>\n",
       "    <tr>\n",
       "      <th>3</th>\n",
       "      <td>318</td>\n",
       "      <td>4.640390</td>\n",
       "      <td>Shawshank Redemption, The (1994)</td>\n",
       "      <td>Drama</td>\n",
       "    </tr>\n",
       "    <tr>\n",
       "      <th>4</th>\n",
       "      <td>3245</td>\n",
       "      <td>4.579992</td>\n",
       "      <td>I Am Cuba (Soy Cuba/Ya Kuba) (1964)</td>\n",
       "      <td>Drama</td>\n",
       "    </tr>\n",
       "    <tr>\n",
       "      <th>5</th>\n",
       "      <td>858</td>\n",
       "      <td>4.578545</td>\n",
       "      <td>Godfather, The (1972)</td>\n",
       "      <td>Action|Crime|Drama</td>\n",
       "    </tr>\n",
       "    <tr>\n",
       "      <th>6</th>\n",
       "      <td>1263</td>\n",
       "      <td>4.573457</td>\n",
       "      <td>Deer Hunter, The (1978)</td>\n",
       "      <td>Drama|War</td>\n",
       "    </tr>\n",
       "    <tr>\n",
       "      <th>7</th>\n",
       "      <td>3222</td>\n",
       "      <td>4.544237</td>\n",
       "      <td>Carmen (1984)</td>\n",
       "      <td>Drama</td>\n",
       "    </tr>\n",
       "    <tr>\n",
       "      <th>8</th>\n",
       "      <td>787</td>\n",
       "      <td>4.523597</td>\n",
       "      <td>Gate of Heavenly Peace, The (1995)</td>\n",
       "      <td>Documentary</td>\n",
       "    </tr>\n",
       "    <tr>\n",
       "      <th>9</th>\n",
       "      <td>557</td>\n",
       "      <td>4.518807</td>\n",
       "      <td>Mamma Roma (1962)</td>\n",
       "      <td>Drama</td>\n",
       "    </tr>\n",
       "    <tr>\n",
       "      <th>10</th>\n",
       "      <td>2329</td>\n",
       "      <td>4.517946</td>\n",
       "      <td>American History X (1998)</td>\n",
       "      <td>Drama</td>\n",
       "    </tr>\n",
       "    <tr>\n",
       "      <th>11</th>\n",
       "      <td>1193</td>\n",
       "      <td>4.511586</td>\n",
       "      <td>One Flew Over the Cuckoo's Nest (1975)</td>\n",
       "      <td>Drama</td>\n",
       "    </tr>\n",
       "    <tr>\n",
       "      <th>13</th>\n",
       "      <td>50</td>\n",
       "      <td>4.494851</td>\n",
       "      <td>Usual Suspects, The (1995)</td>\n",
       "      <td>Crime|Thriller</td>\n",
       "    </tr>\n",
       "    <tr>\n",
       "      <th>14</th>\n",
       "      <td>678</td>\n",
       "      <td>4.488540</td>\n",
       "      <td>Some Folks Call It a Sling Blade (1993)</td>\n",
       "      <td>Drama|Thriller</td>\n",
       "    </tr>\n",
       "    <tr>\n",
       "      <th>15</th>\n",
       "      <td>527</td>\n",
       "      <td>4.481955</td>\n",
       "      <td>Schindler's List (1993)</td>\n",
       "      <td>Drama|War</td>\n",
       "    </tr>\n",
       "  </tbody>\n",
       "</table>\n",
       "</div>"
      ],
      "text/plain": [
       "    movieId    rating                                    title  \\\n",
       "0        53  4.743062                          Lamerica (1994)   \n",
       "1      2503  4.741627                  Apple, The (Sib) (1998)   \n",
       "2       593  4.649112         Silence of the Lambs, The (1991)   \n",
       "3       318  4.640390         Shawshank Redemption, The (1994)   \n",
       "4      3245  4.579992      I Am Cuba (Soy Cuba/Ya Kuba) (1964)   \n",
       "5       858  4.578545                    Godfather, The (1972)   \n",
       "6      1263  4.573457                  Deer Hunter, The (1978)   \n",
       "7      3222  4.544237                            Carmen (1984)   \n",
       "8       787  4.523597       Gate of Heavenly Peace, The (1995)   \n",
       "9       557  4.518807                        Mamma Roma (1962)   \n",
       "10     2329  4.517946                American History X (1998)   \n",
       "11     1193  4.511586   One Flew Over the Cuckoo's Nest (1975)   \n",
       "13       50  4.494851               Usual Suspects, The (1995)   \n",
       "14      678  4.488540  Some Folks Call It a Sling Blade (1993)   \n",
       "15      527  4.481955                  Schindler's List (1993)   \n",
       "\n",
       "                genres  \n",
       "0                Drama  \n",
       "1                Drama  \n",
       "2       Drama|Thriller  \n",
       "3                Drama  \n",
       "4                Drama  \n",
       "5   Action|Crime|Drama  \n",
       "6            Drama|War  \n",
       "7                Drama  \n",
       "8          Documentary  \n",
       "9                Drama  \n",
       "10               Drama  \n",
       "11               Drama  \n",
       "13      Crime|Thriller  \n",
       "14      Drama|Thriller  \n",
       "15           Drama|War  "
      ]
     },
     "execution_count": 302,
     "metadata": {},
     "output_type": "execute_result"
    }
   ],
   "source": [
    "new_recommends = get_recommendations(new_model, movies_data, NEW_USER_ID, new_user_ratings)\n",
    "new_recommends.head(15)"
   ]
  },
  {
   "cell_type": "markdown",
   "metadata": {},
   "source": [
    "В рекомендацих появилось почему-то много драм. Модель не учла мой интерес к различным триллерам. Может быть далеко не всегда хорошие оценки этих триллеров влияют на рекомендации этой модели. "
   ]
  },
  {
   "cell_type": "markdown",
   "metadata": {},
   "source": [
    "#### 11. Построить рекомендательную систему по подвыборке - выбрать интересный вам жанр. Изменились ли рекомендации? Стали лучше\\хуже?"
   ]
  },
  {
   "cell_type": "code",
   "execution_count": 303,
   "metadata": {},
   "outputs": [],
   "source": [
    "movies_data_thriller = movies_data[movies_data['genres'].str.contains('Thriller')]"
   ]
  },
  {
   "cell_type": "code",
   "execution_count": 304,
   "metadata": {},
   "outputs": [
    {
     "data": {
      "text/html": [
       "<div>\n",
       "<style scoped>\n",
       "    .dataframe tbody tr th:only-of-type {\n",
       "        vertical-align: middle;\n",
       "    }\n",
       "\n",
       "    .dataframe tbody tr th {\n",
       "        vertical-align: top;\n",
       "    }\n",
       "\n",
       "    .dataframe thead th {\n",
       "        text-align: right;\n",
       "    }\n",
       "</style>\n",
       "<table border=\"1\" class=\"dataframe\">\n",
       "  <thead>\n",
       "    <tr style=\"text-align: right;\">\n",
       "      <th></th>\n",
       "      <th>movieId</th>\n",
       "      <th>title</th>\n",
       "      <th>genres</th>\n",
       "    </tr>\n",
       "  </thead>\n",
       "  <tbody>\n",
       "    <tr>\n",
       "      <th>5</th>\n",
       "      <td>6</td>\n",
       "      <td>Heat (1995)</td>\n",
       "      <td>Action|Crime|Thriller</td>\n",
       "    </tr>\n",
       "    <tr>\n",
       "      <th>9</th>\n",
       "      <td>10</td>\n",
       "      <td>GoldenEye (1995)</td>\n",
       "      <td>Action|Adventure|Thriller</td>\n",
       "    </tr>\n",
       "    <tr>\n",
       "      <th>15</th>\n",
       "      <td>16</td>\n",
       "      <td>Casino (1995)</td>\n",
       "      <td>Drama|Thriller</td>\n",
       "    </tr>\n",
       "    <tr>\n",
       "      <th>17</th>\n",
       "      <td>18</td>\n",
       "      <td>Four Rooms (1995)</td>\n",
       "      <td>Thriller</td>\n",
       "    </tr>\n",
       "    <tr>\n",
       "      <th>21</th>\n",
       "      <td>22</td>\n",
       "      <td>Copycat (1995)</td>\n",
       "      <td>Crime|Drama|Thriller</td>\n",
       "    </tr>\n",
       "  </tbody>\n",
       "</table>\n",
       "</div>"
      ],
      "text/plain": [
       "    movieId              title                     genres\n",
       "5         6        Heat (1995)      Action|Crime|Thriller\n",
       "9        10   GoldenEye (1995)  Action|Adventure|Thriller\n",
       "15       16      Casino (1995)             Drama|Thriller\n",
       "17       18  Four Rooms (1995)                   Thriller\n",
       "21       22     Copycat (1995)       Crime|Drama|Thriller"
      ]
     },
     "execution_count": 304,
     "metadata": {},
     "output_type": "execute_result"
    }
   ],
   "source": [
    "movies_data_thriller.head()"
   ]
  },
  {
   "cell_type": "code",
   "execution_count": 305,
   "metadata": {},
   "outputs": [
    {
     "data": {
      "text/html": [
       "<div>\n",
       "<style scoped>\n",
       "    .dataframe tbody tr th:only-of-type {\n",
       "        vertical-align: middle;\n",
       "    }\n",
       "\n",
       "    .dataframe tbody tr th {\n",
       "        vertical-align: top;\n",
       "    }\n",
       "\n",
       "    .dataframe thead th {\n",
       "        text-align: right;\n",
       "    }\n",
       "</style>\n",
       "<table border=\"1\" class=\"dataframe\">\n",
       "  <thead>\n",
       "    <tr style=\"text-align: right;\">\n",
       "      <th></th>\n",
       "      <th>userId</th>\n",
       "      <th>movieId</th>\n",
       "      <th>rating</th>\n",
       "      <th>timestamp</th>\n",
       "      <th>gender</th>\n",
       "      <th>age</th>\n",
       "      <th>occupation</th>\n",
       "      <th>zip-code</th>\n",
       "      <th>title</th>\n",
       "      <th>genres</th>\n",
       "    </tr>\n",
       "  </thead>\n",
       "  <tbody>\n",
       "    <tr>\n",
       "      <th>0</th>\n",
       "      <td>1</td>\n",
       "      <td>1193</td>\n",
       "      <td>5</td>\n",
       "      <td>978300760</td>\n",
       "      <td>F</td>\n",
       "      <td>1</td>\n",
       "      <td>10</td>\n",
       "      <td>48067</td>\n",
       "      <td>One Flew Over the Cuckoo's Nest (1975)</td>\n",
       "      <td>Drama</td>\n",
       "    </tr>\n",
       "    <tr>\n",
       "      <th>1</th>\n",
       "      <td>2</td>\n",
       "      <td>1193</td>\n",
       "      <td>5</td>\n",
       "      <td>978298413</td>\n",
       "      <td>M</td>\n",
       "      <td>56</td>\n",
       "      <td>16</td>\n",
       "      <td>70072</td>\n",
       "      <td>One Flew Over the Cuckoo's Nest (1975)</td>\n",
       "      <td>Drama</td>\n",
       "    </tr>\n",
       "    <tr>\n",
       "      <th>2</th>\n",
       "      <td>12</td>\n",
       "      <td>1193</td>\n",
       "      <td>4</td>\n",
       "      <td>978220179</td>\n",
       "      <td>M</td>\n",
       "      <td>25</td>\n",
       "      <td>12</td>\n",
       "      <td>32793</td>\n",
       "      <td>One Flew Over the Cuckoo's Nest (1975)</td>\n",
       "      <td>Drama</td>\n",
       "    </tr>\n",
       "    <tr>\n",
       "      <th>3</th>\n",
       "      <td>15</td>\n",
       "      <td>1193</td>\n",
       "      <td>4</td>\n",
       "      <td>978199279</td>\n",
       "      <td>M</td>\n",
       "      <td>25</td>\n",
       "      <td>7</td>\n",
       "      <td>22903</td>\n",
       "      <td>One Flew Over the Cuckoo's Nest (1975)</td>\n",
       "      <td>Drama</td>\n",
       "    </tr>\n",
       "    <tr>\n",
       "      <th>4</th>\n",
       "      <td>17</td>\n",
       "      <td>1193</td>\n",
       "      <td>5</td>\n",
       "      <td>978158471</td>\n",
       "      <td>M</td>\n",
       "      <td>50</td>\n",
       "      <td>1</td>\n",
       "      <td>95350</td>\n",
       "      <td>One Flew Over the Cuckoo's Nest (1975)</td>\n",
       "      <td>Drama</td>\n",
       "    </tr>\n",
       "  </tbody>\n",
       "</table>\n",
       "</div>"
      ],
      "text/plain": [
       "   userId  movieId  rating  timestamp gender  age  occupation zip-code  \\\n",
       "0       1     1193       5  978300760      F    1          10    48067   \n",
       "1       2     1193       5  978298413      M   56          16    70072   \n",
       "2      12     1193       4  978220179      M   25          12    32793   \n",
       "3      15     1193       4  978199279      M   25           7    22903   \n",
       "4      17     1193       5  978158471      M   50           1    95350   \n",
       "\n",
       "                                    title genres  \n",
       "0  One Flew Over the Cuckoo's Nest (1975)  Drama  \n",
       "1  One Flew Over the Cuckoo's Nest (1975)  Drama  \n",
       "2  One Flew Over the Cuckoo's Nest (1975)  Drama  \n",
       "3  One Flew Over the Cuckoo's Nest (1975)  Drama  \n",
       "4  One Flew Over the Cuckoo's Nest (1975)  Drama  "
      ]
     },
     "execution_count": 305,
     "metadata": {},
     "output_type": "execute_result"
    }
   ],
   "source": [
    "data.head()"
   ]
  },
  {
   "cell_type": "code",
   "execution_count": 307,
   "metadata": {},
   "outputs": [
    {
     "data": {
      "text/plain": [
       "(189689, 10)"
      ]
     },
     "execution_count": 307,
     "metadata": {},
     "output_type": "execute_result"
    }
   ],
   "source": [
    "data_thriller = data[data.movieId.isin(movies_data_thriller['movieId'].values)]\n",
    "data_thriller.shape"
   ]
  },
  {
   "cell_type": "code",
   "execution_count": 309,
   "metadata": {},
   "outputs": [
    {
     "data": {
      "text/html": [
       "<div>\n",
       "<style scoped>\n",
       "    .dataframe tbody tr th:only-of-type {\n",
       "        vertical-align: middle;\n",
       "    }\n",
       "\n",
       "    .dataframe tbody tr th {\n",
       "        vertical-align: top;\n",
       "    }\n",
       "\n",
       "    .dataframe thead th {\n",
       "        text-align: right;\n",
       "    }\n",
       "</style>\n",
       "<table border=\"1\" class=\"dataframe\">\n",
       "  <thead>\n",
       "    <tr style=\"text-align: right;\">\n",
       "      <th></th>\n",
       "      <th>userId</th>\n",
       "      <th>movieId</th>\n",
       "      <th>rating</th>\n",
       "      <th>timestamp</th>\n",
       "      <th>gender</th>\n",
       "      <th>age</th>\n",
       "      <th>occupation</th>\n",
       "      <th>zip-code</th>\n",
       "      <th>title</th>\n",
       "      <th>genres</th>\n",
       "    </tr>\n",
       "  </thead>\n",
       "  <tbody>\n",
       "    <tr>\n",
       "      <th>40377</th>\n",
       "      <td>9999</td>\n",
       "      <td>2762</td>\n",
       "      <td>4</td>\n",
       "      <td>956715569</td>\n",
       "      <td>F</td>\n",
       "      <td>30</td>\n",
       "      <td>12</td>\n",
       "      <td>12345</td>\n",
       "      <td>Sixth Sense, The (1999)</td>\n",
       "      <td>Thriller</td>\n",
       "    </tr>\n",
       "    <tr>\n",
       "      <th>59348</th>\n",
       "      <td>9999</td>\n",
       "      <td>608</td>\n",
       "      <td>4</td>\n",
       "      <td>956715569</td>\n",
       "      <td>F</td>\n",
       "      <td>30</td>\n",
       "      <td>12</td>\n",
       "      <td>12345</td>\n",
       "      <td>Fargo (1996)</td>\n",
       "      <td>Crime|Drama|Thriller</td>\n",
       "    </tr>\n",
       "    <tr>\n",
       "      <th>104711</th>\n",
       "      <td>9999</td>\n",
       "      <td>589</td>\n",
       "      <td>3</td>\n",
       "      <td>956715569</td>\n",
       "      <td>F</td>\n",
       "      <td>30</td>\n",
       "      <td>12</td>\n",
       "      <td>12345</td>\n",
       "      <td>Terminator 2: Judgment Day (1991)</td>\n",
       "      <td>Action|Sci-Fi|Thriller</td>\n",
       "    </tr>\n",
       "    <tr>\n",
       "      <th>144112</th>\n",
       "      <td>9999</td>\n",
       "      <td>1917</td>\n",
       "      <td>4</td>\n",
       "      <td>956715569</td>\n",
       "      <td>F</td>\n",
       "      <td>30</td>\n",
       "      <td>12</td>\n",
       "      <td>12345</td>\n",
       "      <td>Armageddon (1998)</td>\n",
       "      <td>Action|Adventure|Sci-Fi|Thriller</td>\n",
       "    </tr>\n",
       "    <tr>\n",
       "      <th>215831</th>\n",
       "      <td>9999</td>\n",
       "      <td>1214</td>\n",
       "      <td>5</td>\n",
       "      <td>956715569</td>\n",
       "      <td>F</td>\n",
       "      <td>30</td>\n",
       "      <td>12</td>\n",
       "      <td>12345</td>\n",
       "      <td>Alien (1979)</td>\n",
       "      <td>Action|Horror|Sci-Fi|Thriller</td>\n",
       "    </tr>\n",
       "    <tr>\n",
       "      <th>226131</th>\n",
       "      <td>9999</td>\n",
       "      <td>1240</td>\n",
       "      <td>4</td>\n",
       "      <td>956715569</td>\n",
       "      <td>F</td>\n",
       "      <td>30</td>\n",
       "      <td>12</td>\n",
       "      <td>12345</td>\n",
       "      <td>Terminator, The (1984)</td>\n",
       "      <td>Action|Sci-Fi|Thriller</td>\n",
       "    </tr>\n",
       "    <tr>\n",
       "      <th>239653</th>\n",
       "      <td>9999</td>\n",
       "      <td>47</td>\n",
       "      <td>5</td>\n",
       "      <td>956715569</td>\n",
       "      <td>F</td>\n",
       "      <td>30</td>\n",
       "      <td>12</td>\n",
       "      <td>12345</td>\n",
       "      <td>Seven (Se7en) (1995)</td>\n",
       "      <td>Crime|Thriller</td>\n",
       "    </tr>\n",
       "    <tr>\n",
       "      <th>271097</th>\n",
       "      <td>9999</td>\n",
       "      <td>1921</td>\n",
       "      <td>3</td>\n",
       "      <td>956715569</td>\n",
       "      <td>F</td>\n",
       "      <td>30</td>\n",
       "      <td>12</td>\n",
       "      <td>12345</td>\n",
       "      <td>Pi (1998)</td>\n",
       "      <td>Sci-Fi|Thriller</td>\n",
       "    </tr>\n",
       "    <tr>\n",
       "      <th>705437</th>\n",
       "      <td>9999</td>\n",
       "      <td>1219</td>\n",
       "      <td>4</td>\n",
       "      <td>956715569</td>\n",
       "      <td>F</td>\n",
       "      <td>30</td>\n",
       "      <td>12</td>\n",
       "      <td>12345</td>\n",
       "      <td>Psycho (1960)</td>\n",
       "      <td>Horror|Thriller</td>\n",
       "    </tr>\n",
       "  </tbody>\n",
       "</table>\n",
       "</div>"
      ],
      "text/plain": [
       "        userId  movieId  rating  timestamp gender  age  occupation zip-code  \\\n",
       "40377     9999     2762       4  956715569      F   30          12    12345   \n",
       "59348     9999      608       4  956715569      F   30          12    12345   \n",
       "104711    9999      589       3  956715569      F   30          12    12345   \n",
       "144112    9999     1917       4  956715569      F   30          12    12345   \n",
       "215831    9999     1214       5  956715569      F   30          12    12345   \n",
       "226131    9999     1240       4  956715569      F   30          12    12345   \n",
       "239653    9999       47       5  956715569      F   30          12    12345   \n",
       "271097    9999     1921       3  956715569      F   30          12    12345   \n",
       "705437    9999     1219       4  956715569      F   30          12    12345   \n",
       "\n",
       "                                    title                            genres  \n",
       "40377             Sixth Sense, The (1999)                          Thriller  \n",
       "59348                        Fargo (1996)              Crime|Drama|Thriller  \n",
       "104711  Terminator 2: Judgment Day (1991)            Action|Sci-Fi|Thriller  \n",
       "144112                  Armageddon (1998)  Action|Adventure|Sci-Fi|Thriller  \n",
       "215831                       Alien (1979)     Action|Horror|Sci-Fi|Thriller  \n",
       "226131             Terminator, The (1984)            Action|Sci-Fi|Thriller  \n",
       "239653               Seven (Se7en) (1995)                    Crime|Thriller  \n",
       "271097                          Pi (1998)                   Sci-Fi|Thriller  \n",
       "705437                      Psycho (1960)                   Horror|Thriller  "
      ]
     },
     "execution_count": 309,
     "metadata": {},
     "output_type": "execute_result"
    }
   ],
   "source": [
    "data_thriller[data_thriller.userId == NEW_USER_ID]"
   ]
  },
  {
   "cell_type": "code",
   "execution_count": 310,
   "metadata": {},
   "outputs": [],
   "source": [
    "df = data_thriller[['userId', 'movieId', 'rating']]\n",
    "\n",
    "reader = Reader(rating_scale=(1, 5))\n",
    "data_surprise = Dataset.load_from_df(df, reader)"
   ]
  },
  {
   "cell_type": "code",
   "execution_count": 311,
   "metadata": {},
   "outputs": [
    {
     "name": "stdout",
     "output_type": "stream",
     "text": [
      "CPU times: user 20.3 s, sys: 20.2 ms, total: 20.3 s\n",
      "Wall time: 20.3 s\n"
     ]
    }
   ],
   "source": [
    "%%time\n",
    "new_model = SVD(**gs.best_params['rmse'])\n",
    "trainset = data_surprise.build_full_trainset()\n",
    "new_model.fit(trainset)"
   ]
  },
  {
   "cell_type": "code",
   "execution_count": 312,
   "metadata": {},
   "outputs": [
    {
     "data": {
      "text/html": [
       "<div>\n",
       "<style scoped>\n",
       "    .dataframe tbody tr th:only-of-type {\n",
       "        vertical-align: middle;\n",
       "    }\n",
       "\n",
       "    .dataframe tbody tr th {\n",
       "        vertical-align: top;\n",
       "    }\n",
       "\n",
       "    .dataframe thead th {\n",
       "        text-align: right;\n",
       "    }\n",
       "</style>\n",
       "<table border=\"1\" class=\"dataframe\">\n",
       "  <thead>\n",
       "    <tr style=\"text-align: right;\">\n",
       "      <th></th>\n",
       "      <th>movieId</th>\n",
       "      <th>rating</th>\n",
       "      <th>title</th>\n",
       "      <th>genres</th>\n",
       "    </tr>\n",
       "  </thead>\n",
       "  <tbody>\n",
       "    <tr>\n",
       "      <th>0</th>\n",
       "      <td>745</td>\n",
       "      <td>4.537979</td>\n",
       "      <td>Close Shave, A (1995)</td>\n",
       "      <td>Animation|Comedy|Thriller</td>\n",
       "    </tr>\n",
       "    <tr>\n",
       "      <th>2</th>\n",
       "      <td>3147</td>\n",
       "      <td>4.530248</td>\n",
       "      <td>Green Mile, The (1999)</td>\n",
       "      <td>Drama|Thriller</td>\n",
       "    </tr>\n",
       "    <tr>\n",
       "      <th>3</th>\n",
       "      <td>904</td>\n",
       "      <td>4.465335</td>\n",
       "      <td>Rear Window (1954)</td>\n",
       "      <td>Mystery|Thriller</td>\n",
       "    </tr>\n",
       "    <tr>\n",
       "      <th>4</th>\n",
       "      <td>593</td>\n",
       "      <td>4.427932</td>\n",
       "      <td>Silence of the Lambs, The (1991)</td>\n",
       "      <td>Drama|Thriller</td>\n",
       "    </tr>\n",
       "    <tr>\n",
       "      <th>5</th>\n",
       "      <td>50</td>\n",
       "      <td>4.355493</td>\n",
       "      <td>Usual Suspects, The (1995)</td>\n",
       "      <td>Crime|Thriller</td>\n",
       "    </tr>\n",
       "    <tr>\n",
       "      <th>6</th>\n",
       "      <td>1269</td>\n",
       "      <td>4.342439</td>\n",
       "      <td>Arsenic and Old Lace (1944)</td>\n",
       "      <td>Comedy|Mystery|Thriller</td>\n",
       "    </tr>\n",
       "    <tr>\n",
       "      <th>7</th>\n",
       "      <td>1212</td>\n",
       "      <td>4.313266</td>\n",
       "      <td>Third Man, The (1949)</td>\n",
       "      <td>Mystery|Thriller</td>\n",
       "    </tr>\n",
       "    <tr>\n",
       "      <th>8</th>\n",
       "      <td>908</td>\n",
       "      <td>4.299836</td>\n",
       "      <td>North by Northwest (1959)</td>\n",
       "      <td>Drama|Thriller</td>\n",
       "    </tr>\n",
       "    <tr>\n",
       "      <th>9</th>\n",
       "      <td>930</td>\n",
       "      <td>4.282549</td>\n",
       "      <td>Notorious (1946)</td>\n",
       "      <td>Film-Noir|Romance|Thriller</td>\n",
       "    </tr>\n",
       "    <tr>\n",
       "      <th>10</th>\n",
       "      <td>1674</td>\n",
       "      <td>4.239309</td>\n",
       "      <td>Witness (1985)</td>\n",
       "      <td>Drama|Romance|Thriller</td>\n",
       "    </tr>\n",
       "    <tr>\n",
       "      <th>11</th>\n",
       "      <td>1610</td>\n",
       "      <td>4.236204</td>\n",
       "      <td>Hunt for Red October, The (1990)</td>\n",
       "      <td>Action|Thriller</td>\n",
       "    </tr>\n",
       "    <tr>\n",
       "      <th>12</th>\n",
       "      <td>906</td>\n",
       "      <td>4.230371</td>\n",
       "      <td>Gaslight (1944)</td>\n",
       "      <td>Mystery|Thriller</td>\n",
       "    </tr>\n",
       "    <tr>\n",
       "      <th>13</th>\n",
       "      <td>3849</td>\n",
       "      <td>4.210706</td>\n",
       "      <td>Spiral Staircase, The (1946)</td>\n",
       "      <td>Thriller</td>\n",
       "    </tr>\n",
       "    <tr>\n",
       "      <th>14</th>\n",
       "      <td>3634</td>\n",
       "      <td>4.206883</td>\n",
       "      <td>Seven Days in May (1964)</td>\n",
       "      <td>Thriller</td>\n",
       "    </tr>\n",
       "    <tr>\n",
       "      <th>15</th>\n",
       "      <td>924</td>\n",
       "      <td>4.197419</td>\n",
       "      <td>2001: A Space Odyssey (1968)</td>\n",
       "      <td>Drama|Mystery|Sci-Fi|Thriller</td>\n",
       "    </tr>\n",
       "  </tbody>\n",
       "</table>\n",
       "</div>"
      ],
      "text/plain": [
       "    movieId    rating                             title  \\\n",
       "0       745  4.537979             Close Shave, A (1995)   \n",
       "2      3147  4.530248            Green Mile, The (1999)   \n",
       "3       904  4.465335                Rear Window (1954)   \n",
       "4       593  4.427932  Silence of the Lambs, The (1991)   \n",
       "5        50  4.355493        Usual Suspects, The (1995)   \n",
       "6      1269  4.342439       Arsenic and Old Lace (1944)   \n",
       "7      1212  4.313266             Third Man, The (1949)   \n",
       "8       908  4.299836         North by Northwest (1959)   \n",
       "9       930  4.282549                  Notorious (1946)   \n",
       "10     1674  4.239309                    Witness (1985)   \n",
       "11     1610  4.236204  Hunt for Red October, The (1990)   \n",
       "12      906  4.230371                   Gaslight (1944)   \n",
       "13     3849  4.210706      Spiral Staircase, The (1946)   \n",
       "14     3634  4.206883          Seven Days in May (1964)   \n",
       "15      924  4.197419      2001: A Space Odyssey (1968)   \n",
       "\n",
       "                           genres  \n",
       "0       Animation|Comedy|Thriller  \n",
       "2                  Drama|Thriller  \n",
       "3                Mystery|Thriller  \n",
       "4                  Drama|Thriller  \n",
       "5                  Crime|Thriller  \n",
       "6         Comedy|Mystery|Thriller  \n",
       "7                Mystery|Thriller  \n",
       "8                  Drama|Thriller  \n",
       "9      Film-Noir|Romance|Thriller  \n",
       "10         Drama|Romance|Thriller  \n",
       "11                Action|Thriller  \n",
       "12               Mystery|Thriller  \n",
       "13                       Thriller  \n",
       "14                       Thriller  \n",
       "15  Drama|Mystery|Sci-Fi|Thriller  "
      ]
     },
     "execution_count": 312,
     "metadata": {},
     "output_type": "execute_result"
    }
   ],
   "source": [
    "new_recommends = get_recommendations(new_model, movies_data, NEW_USER_ID, new_user_ratings)\n",
    "new_recommends.head(15)"
   ]
  },
  {
   "cell_type": "markdown",
   "metadata": {},
   "source": [
    "Список рекомендаций, конечно, изменился. Фильмов, которые мне нравятся стало больше. Однако многие из непросмотренных я скорее всего никогда не посмотрю, так как они очень давно вышли. То есть рекомендации были бы намного точнее, если бы модель учитывала год выхода фильма, актеров, перечение жанров и т.д. Возможно, была бы полезной информация о пользователях: пол, возраст, текст отзывов (при наличии)."
   ]
  }
 ],
 "metadata": {
  "kernelspec": {
   "display_name": "Python 3",
   "language": "python",
   "name": "python3"
  },
  "varInspector": {
   "cols": {
    "lenName": 16,
    "lenType": 16,
    "lenVar": 40
   },
   "kernels_config": {
    "python": {
     "delete_cmd_postfix": "",
     "delete_cmd_prefix": "del ",
     "library": "var_list.py",
     "varRefreshCmd": "print(var_dic_list())"
    },
    "r": {
     "delete_cmd_postfix": ") ",
     "delete_cmd_prefix": "rm(",
     "library": "var_list.r",
     "varRefreshCmd": "cat(var_dic_list()) "
    }
   },
   "types_to_exclude": [
    "module",
    "function",
    "builtin_function_or_method",
    "instance",
    "_Feature"
   ],
   "window_display": false
  }
 },
 "nbformat": 4,
 "nbformat_minor": 2
}
